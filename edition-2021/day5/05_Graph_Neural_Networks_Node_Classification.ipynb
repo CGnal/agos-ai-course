{
  "nbformat": 4,
  "nbformat_minor": 0,
  "metadata": {
    "kernelspec": {
      "display_name": "python3",
      "language": "python",
      "name": "python3"
    },
    "language_info": {
      "codemirror_mode": {
        "name": "ipython",
        "version": 3
      },
      "file_extension": ".py",
      "mimetype": "text/x-python",
      "name": "python",
      "nbconvert_exporter": "python",
      "pygments_lexer": "ipython3",
      "version": "3.6.9"
    },
    "colab": {
      "name": "05_Graph_Neural_Networks_Node_Classification.ipynb",
      "provenance": []
    }
  },
  "cells": [
    {
      "cell_type": "markdown",
      "metadata": {
        "id": "id-mrYUVxUd2"
      },
      "source": [
        "<a href=\"https://colab.research.google.com/github/CGnal/agos-ai-course/blob/day5/day5/05_Graph_Neural_Networks_Node_Classification.ipynb\" target=\"_parent\"><img src=\"https://colab.research.google.com/assets/colab-badge.svg\" alt=\"Open In Colab\\\"/></a>"
      ]
    },
    {
      "cell_type": "code",
      "metadata": {
        "colab": {
          "base_uri": "https://localhost:8080/"
        },
        "id": "c-YgHDoAvMKt",
        "outputId": "7d8a9e8b-8a8a-46ea-d099-b6180284c36c"
      },
      "source": [
        "!pip install \\\n",
        "    ipywidgets==7.6.5 \\\n",
        "    networkx==2.4 \\\n",
        "    matplotlib==3.2.2 \\\n",
        "    scikit-learn==0.24.0 \\\n",
        "    pandas==1.1.3 \\\n",
        "    numpy==1.19.2 \\\n",
        "    tensorflow==2.4.1 \\\n",
        "    stellargraph==1.2.1 "
      ],
      "execution_count": 1,
      "outputs": [
        {
          "output_type": "stream",
          "name": "stdout",
          "text": [
            "Requirement already satisfied: ipywidgets==7.6.5 in /usr/local/lib/python3.7/dist-packages (7.6.5)\n",
            "Requirement already satisfied: networkx==2.4 in /usr/local/lib/python3.7/dist-packages (2.4)\n",
            "Requirement already satisfied: matplotlib==3.2.2 in /usr/local/lib/python3.7/dist-packages (3.2.2)\n",
            "Requirement already satisfied: scikit-learn==0.24.0 in /usr/local/lib/python3.7/dist-packages (0.24.0)\n",
            "Requirement already satisfied: pandas==1.1.3 in /usr/local/lib/python3.7/dist-packages (1.1.3)\n",
            "Requirement already satisfied: numpy==1.19.2 in /usr/local/lib/python3.7/dist-packages (1.19.2)\n",
            "Requirement already satisfied: tensorflow==2.4.1 in /usr/local/lib/python3.7/dist-packages (2.4.1)\n",
            "Requirement already satisfied: stellargraph==1.2.1 in /usr/local/lib/python3.7/dist-packages (1.2.1)\n",
            "Requirement already satisfied: jupyterlab-widgets>=1.0.0 in /usr/local/lib/python3.7/dist-packages (from ipywidgets==7.6.5) (1.0.2)\n",
            "Requirement already satisfied: ipython-genutils~=0.2.0 in /usr/local/lib/python3.7/dist-packages (from ipywidgets==7.6.5) (0.2.0)\n",
            "Requirement already satisfied: widgetsnbextension~=3.5.0 in /usr/local/lib/python3.7/dist-packages (from ipywidgets==7.6.5) (3.5.2)\n",
            "Requirement already satisfied: traitlets>=4.3.1 in /usr/local/lib/python3.7/dist-packages (from ipywidgets==7.6.5) (5.1.1)\n",
            "Requirement already satisfied: nbformat>=4.2.0 in /usr/local/lib/python3.7/dist-packages (from ipywidgets==7.6.5) (5.1.3)\n",
            "Requirement already satisfied: ipython>=4.0.0 in /usr/local/lib/python3.7/dist-packages (from ipywidgets==7.6.5) (5.5.0)\n",
            "Requirement already satisfied: ipykernel>=4.5.1 in /usr/local/lib/python3.7/dist-packages (from ipywidgets==7.6.5) (4.10.1)\n",
            "Requirement already satisfied: decorator>=4.3.0 in /usr/local/lib/python3.7/dist-packages (from networkx==2.4) (4.4.2)\n",
            "Requirement already satisfied: python-dateutil>=2.1 in /usr/local/lib/python3.7/dist-packages (from matplotlib==3.2.2) (2.8.2)\n",
            "Requirement already satisfied: cycler>=0.10 in /usr/local/lib/python3.7/dist-packages (from matplotlib==3.2.2) (0.11.0)\n",
            "Requirement already satisfied: kiwisolver>=1.0.1 in /usr/local/lib/python3.7/dist-packages (from matplotlib==3.2.2) (1.3.2)\n",
            "Requirement already satisfied: pyparsing!=2.0.4,!=2.1.2,!=2.1.6,>=2.0.1 in /usr/local/lib/python3.7/dist-packages (from matplotlib==3.2.2) (3.0.6)\n",
            "Requirement already satisfied: scipy>=0.19.1 in /usr/local/lib/python3.7/dist-packages (from scikit-learn==0.24.0) (1.4.1)\n",
            "Requirement already satisfied: joblib>=0.11 in /usr/local/lib/python3.7/dist-packages (from scikit-learn==0.24.0) (1.1.0)\n",
            "Requirement already satisfied: threadpoolctl>=2.0.0 in /usr/local/lib/python3.7/dist-packages (from scikit-learn==0.24.0) (3.0.0)\n",
            "Requirement already satisfied: pytz>=2017.2 in /usr/local/lib/python3.7/dist-packages (from pandas==1.1.3) (2018.9)\n",
            "Requirement already satisfied: wrapt~=1.12.1 in /usr/local/lib/python3.7/dist-packages (from tensorflow==2.4.1) (1.12.1)\n",
            "Requirement already satisfied: h5py~=2.10.0 in /usr/local/lib/python3.7/dist-packages (from tensorflow==2.4.1) (2.10.0)\n",
            "Requirement already satisfied: keras-preprocessing~=1.1.2 in /usr/local/lib/python3.7/dist-packages (from tensorflow==2.4.1) (1.1.2)\n",
            "Requirement already satisfied: opt-einsum~=3.3.0 in /usr/local/lib/python3.7/dist-packages (from tensorflow==2.4.1) (3.3.0)\n",
            "Requirement already satisfied: typing-extensions~=3.7.4 in /usr/local/lib/python3.7/dist-packages (from tensorflow==2.4.1) (3.7.4.3)\n",
            "Requirement already satisfied: absl-py~=0.10 in /usr/local/lib/python3.7/dist-packages (from tensorflow==2.4.1) (0.12.0)\n",
            "Requirement already satisfied: tensorboard~=2.4 in /usr/local/lib/python3.7/dist-packages (from tensorflow==2.4.1) (2.7.0)\n",
            "Requirement already satisfied: protobuf>=3.9.2 in /usr/local/lib/python3.7/dist-packages (from tensorflow==2.4.1) (3.17.3)\n",
            "Requirement already satisfied: astunparse~=1.6.3 in /usr/local/lib/python3.7/dist-packages (from tensorflow==2.4.1) (1.6.3)\n",
            "Requirement already satisfied: six~=1.15.0 in /usr/local/lib/python3.7/dist-packages (from tensorflow==2.4.1) (1.15.0)\n",
            "Requirement already satisfied: termcolor~=1.1.0 in /usr/local/lib/python3.7/dist-packages (from tensorflow==2.4.1) (1.1.0)\n",
            "Requirement already satisfied: grpcio~=1.32.0 in /usr/local/lib/python3.7/dist-packages (from tensorflow==2.4.1) (1.32.0)\n",
            "Requirement already satisfied: tensorflow-estimator<2.5.0,>=2.4.0 in /usr/local/lib/python3.7/dist-packages (from tensorflow==2.4.1) (2.4.0)\n",
            "Requirement already satisfied: google-pasta~=0.2 in /usr/local/lib/python3.7/dist-packages (from tensorflow==2.4.1) (0.2.0)\n",
            "Requirement already satisfied: flatbuffers~=1.12.0 in /usr/local/lib/python3.7/dist-packages (from tensorflow==2.4.1) (1.12)\n",
            "Requirement already satisfied: gast==0.3.3 in /usr/local/lib/python3.7/dist-packages (from tensorflow==2.4.1) (0.3.3)\n",
            "Requirement already satisfied: wheel~=0.35 in /usr/local/lib/python3.7/dist-packages (from tensorflow==2.4.1) (0.37.0)\n",
            "Requirement already satisfied: gensim>=3.4.0 in /usr/local/lib/python3.7/dist-packages (from stellargraph==1.2.1) (3.6.0)\n",
            "Requirement already satisfied: smart-open>=1.2.1 in /usr/local/lib/python3.7/dist-packages (from gensim>=3.4.0->stellargraph==1.2.1) (5.2.1)\n",
            "Requirement already satisfied: jupyter-client in /usr/local/lib/python3.7/dist-packages (from ipykernel>=4.5.1->ipywidgets==7.6.5) (5.3.5)\n",
            "Requirement already satisfied: tornado>=4.0 in /usr/local/lib/python3.7/dist-packages (from ipykernel>=4.5.1->ipywidgets==7.6.5) (5.1.1)\n",
            "Requirement already satisfied: simplegeneric>0.8 in /usr/local/lib/python3.7/dist-packages (from ipython>=4.0.0->ipywidgets==7.6.5) (0.8.1)\n",
            "Requirement already satisfied: setuptools>=18.5 in /usr/local/lib/python3.7/dist-packages (from ipython>=4.0.0->ipywidgets==7.6.5) (57.4.0)\n",
            "Requirement already satisfied: pickleshare in /usr/local/lib/python3.7/dist-packages (from ipython>=4.0.0->ipywidgets==7.6.5) (0.7.5)\n",
            "Requirement already satisfied: pygments in /usr/local/lib/python3.7/dist-packages (from ipython>=4.0.0->ipywidgets==7.6.5) (2.6.1)\n",
            "Requirement already satisfied: pexpect in /usr/local/lib/python3.7/dist-packages (from ipython>=4.0.0->ipywidgets==7.6.5) (4.8.0)\n",
            "Requirement already satisfied: prompt-toolkit<2.0.0,>=1.0.4 in /usr/local/lib/python3.7/dist-packages (from ipython>=4.0.0->ipywidgets==7.6.5) (1.0.18)\n",
            "Requirement already satisfied: jupyter-core in /usr/local/lib/python3.7/dist-packages (from nbformat>=4.2.0->ipywidgets==7.6.5) (4.9.1)\n",
            "Requirement already satisfied: jsonschema!=2.5.0,>=2.4 in /usr/local/lib/python3.7/dist-packages (from nbformat>=4.2.0->ipywidgets==7.6.5) (2.6.0)\n",
            "Requirement already satisfied: wcwidth in /usr/local/lib/python3.7/dist-packages (from prompt-toolkit<2.0.0,>=1.0.4->ipython>=4.0.0->ipywidgets==7.6.5) (0.2.5)\n",
            "Requirement already satisfied: google-auth<3,>=1.6.3 in /usr/local/lib/python3.7/dist-packages (from tensorboard~=2.4->tensorflow==2.4.1) (1.35.0)\n",
            "Requirement already satisfied: tensorboard-plugin-wit>=1.6.0 in /usr/local/lib/python3.7/dist-packages (from tensorboard~=2.4->tensorflow==2.4.1) (1.8.0)\n",
            "Requirement already satisfied: werkzeug>=0.11.15 in /usr/local/lib/python3.7/dist-packages (from tensorboard~=2.4->tensorflow==2.4.1) (1.0.1)\n",
            "Requirement already satisfied: markdown>=2.6.8 in /usr/local/lib/python3.7/dist-packages (from tensorboard~=2.4->tensorflow==2.4.1) (3.3.6)\n",
            "Requirement already satisfied: google-auth-oauthlib<0.5,>=0.4.1 in /usr/local/lib/python3.7/dist-packages (from tensorboard~=2.4->tensorflow==2.4.1) (0.4.6)\n",
            "Requirement already satisfied: tensorboard-data-server<0.7.0,>=0.6.0 in /usr/local/lib/python3.7/dist-packages (from tensorboard~=2.4->tensorflow==2.4.1) (0.6.1)\n",
            "Requirement already satisfied: requests<3,>=2.21.0 in /usr/local/lib/python3.7/dist-packages (from tensorboard~=2.4->tensorflow==2.4.1) (2.23.0)\n",
            "Requirement already satisfied: cachetools<5.0,>=2.0.0 in /usr/local/lib/python3.7/dist-packages (from google-auth<3,>=1.6.3->tensorboard~=2.4->tensorflow==2.4.1) (4.2.4)\n",
            "Requirement already satisfied: rsa<5,>=3.1.4 in /usr/local/lib/python3.7/dist-packages (from google-auth<3,>=1.6.3->tensorboard~=2.4->tensorflow==2.4.1) (4.7.2)\n",
            "Requirement already satisfied: pyasn1-modules>=0.2.1 in /usr/local/lib/python3.7/dist-packages (from google-auth<3,>=1.6.3->tensorboard~=2.4->tensorflow==2.4.1) (0.2.8)\n",
            "Requirement already satisfied: requests-oauthlib>=0.7.0 in /usr/local/lib/python3.7/dist-packages (from google-auth-oauthlib<0.5,>=0.4.1->tensorboard~=2.4->tensorflow==2.4.1) (1.3.0)\n",
            "Requirement already satisfied: importlib-metadata>=4.4 in /usr/local/lib/python3.7/dist-packages (from markdown>=2.6.8->tensorboard~=2.4->tensorflow==2.4.1) (4.8.2)\n",
            "Requirement already satisfied: zipp>=0.5 in /usr/local/lib/python3.7/dist-packages (from importlib-metadata>=4.4->markdown>=2.6.8->tensorboard~=2.4->tensorflow==2.4.1) (3.6.0)\n",
            "Requirement already satisfied: pyasn1<0.5.0,>=0.4.6 in /usr/local/lib/python3.7/dist-packages (from pyasn1-modules>=0.2.1->google-auth<3,>=1.6.3->tensorboard~=2.4->tensorflow==2.4.1) (0.4.8)\n",
            "Requirement already satisfied: chardet<4,>=3.0.2 in /usr/local/lib/python3.7/dist-packages (from requests<3,>=2.21.0->tensorboard~=2.4->tensorflow==2.4.1) (3.0.4)\n",
            "Requirement already satisfied: certifi>=2017.4.17 in /usr/local/lib/python3.7/dist-packages (from requests<3,>=2.21.0->tensorboard~=2.4->tensorflow==2.4.1) (2021.10.8)\n",
            "Requirement already satisfied: idna<3,>=2.5 in /usr/local/lib/python3.7/dist-packages (from requests<3,>=2.21.0->tensorboard~=2.4->tensorflow==2.4.1) (2.10)\n",
            "Requirement already satisfied: urllib3!=1.25.0,!=1.25.1,<1.26,>=1.21.1 in /usr/local/lib/python3.7/dist-packages (from requests<3,>=2.21.0->tensorboard~=2.4->tensorflow==2.4.1) (1.24.3)\n",
            "Requirement already satisfied: oauthlib>=3.0.0 in /usr/local/lib/python3.7/dist-packages (from requests-oauthlib>=0.7.0->google-auth-oauthlib<0.5,>=0.4.1->tensorboard~=2.4->tensorflow==2.4.1) (3.1.1)\n",
            "Requirement already satisfied: notebook>=4.4.1 in /usr/local/lib/python3.7/dist-packages (from widgetsnbextension~=3.5.0->ipywidgets==7.6.5) (5.3.1)\n",
            "Requirement already satisfied: terminado>=0.8.1 in /usr/local/lib/python3.7/dist-packages (from notebook>=4.4.1->widgetsnbextension~=3.5.0->ipywidgets==7.6.5) (0.12.1)\n",
            "Requirement already satisfied: nbconvert in /usr/local/lib/python3.7/dist-packages (from notebook>=4.4.1->widgetsnbextension~=3.5.0->ipywidgets==7.6.5) (5.6.1)\n",
            "Requirement already satisfied: Send2Trash in /usr/local/lib/python3.7/dist-packages (from notebook>=4.4.1->widgetsnbextension~=3.5.0->ipywidgets==7.6.5) (1.8.0)\n",
            "Requirement already satisfied: jinja2 in /usr/local/lib/python3.7/dist-packages (from notebook>=4.4.1->widgetsnbextension~=3.5.0->ipywidgets==7.6.5) (2.11.3)\n",
            "Requirement already satisfied: pyzmq>=13 in /usr/local/lib/python3.7/dist-packages (from jupyter-client->ipykernel>=4.5.1->ipywidgets==7.6.5) (22.3.0)\n",
            "Requirement already satisfied: ptyprocess in /usr/local/lib/python3.7/dist-packages (from terminado>=0.8.1->notebook>=4.4.1->widgetsnbextension~=3.5.0->ipywidgets==7.6.5) (0.7.0)\n",
            "Requirement already satisfied: MarkupSafe>=0.23 in /usr/local/lib/python3.7/dist-packages (from jinja2->notebook>=4.4.1->widgetsnbextension~=3.5.0->ipywidgets==7.6.5) (2.0.1)\n",
            "Requirement already satisfied: testpath in /usr/local/lib/python3.7/dist-packages (from nbconvert->notebook>=4.4.1->widgetsnbextension~=3.5.0->ipywidgets==7.6.5) (0.5.0)\n",
            "Requirement already satisfied: bleach in /usr/local/lib/python3.7/dist-packages (from nbconvert->notebook>=4.4.1->widgetsnbextension~=3.5.0->ipywidgets==7.6.5) (4.1.0)\n",
            "Requirement already satisfied: pandocfilters>=1.4.1 in /usr/local/lib/python3.7/dist-packages (from nbconvert->notebook>=4.4.1->widgetsnbextension~=3.5.0->ipywidgets==7.6.5) (1.5.0)\n",
            "Requirement already satisfied: entrypoints>=0.2.2 in /usr/local/lib/python3.7/dist-packages (from nbconvert->notebook>=4.4.1->widgetsnbextension~=3.5.0->ipywidgets==7.6.5) (0.3)\n",
            "Requirement already satisfied: defusedxml in /usr/local/lib/python3.7/dist-packages (from nbconvert->notebook>=4.4.1->widgetsnbextension~=3.5.0->ipywidgets==7.6.5) (0.7.1)\n",
            "Requirement already satisfied: mistune<2,>=0.8.1 in /usr/local/lib/python3.7/dist-packages (from nbconvert->notebook>=4.4.1->widgetsnbextension~=3.5.0->ipywidgets==7.6.5) (0.8.4)\n",
            "Requirement already satisfied: webencodings in /usr/local/lib/python3.7/dist-packages (from bleach->nbconvert->notebook>=4.4.1->widgetsnbextension~=3.5.0->ipywidgets==7.6.5) (0.5.1)\n",
            "Requirement already satisfied: packaging in /usr/local/lib/python3.7/dist-packages (from bleach->nbconvert->notebook>=4.4.1->widgetsnbextension~=3.5.0->ipywidgets==7.6.5) (21.3)\n"
          ]
        }
      ]
    },
    {
      "cell_type": "markdown",
      "metadata": {
        "id": "l9wXXQRwqimu"
      },
      "source": [
        "# Node classification with GraphSAGE"
      ]
    },
    {
      "cell_type": "markdown",
      "metadata": {
        "id": "K5odbfeKqim0"
      },
      "source": [
        "Import stellargraph:"
      ]
    },
    {
      "cell_type": "code",
      "metadata": {
        "id": "JMhWH0TFqim2"
      },
      "source": [
        "import networkx as nx\n",
        "import pandas as pd\n",
        "import os\n",
        "\n",
        "import stellargraph as sg\n",
        "from stellargraph.mapper import GraphSAGENodeGenerator\n",
        "from stellargraph.layer import GraphSAGE\n",
        "\n",
        "from tensorflow.keras import layers, optimizers, losses, metrics, Model\n",
        "from sklearn import preprocessing, feature_extraction, model_selection\n",
        "from stellargraph import datasets\n",
        "from IPython.display import display, HTML\n",
        "import matplotlib.pyplot as plt\n",
        "%matplotlib inline"
      ],
      "execution_count": 2,
      "outputs": []
    },
    {
      "cell_type": "markdown",
      "metadata": {
        "id": "mBRrbBzQqim3"
      },
      "source": [
        "## Loading the CORA network"
      ]
    },
    {
      "cell_type": "markdown",
      "metadata": {
        "tags": [
          "DataLoadingLinks"
        ],
        "id": "mHE79rjKqim3"
      },
      "source": [
        "(See [the \"Loading from Pandas\" demo](../basics/loading-pandas.ipynb) for details on how data can be loaded.)"
      ]
    },
    {
      "cell_type": "code",
      "metadata": {
        "tags": [
          "DataLoading"
        ],
        "id": "s34ICtGxqim4",
        "colab": {
          "base_uri": "https://localhost:8080/",
          "height": 51
        },
        "outputId": "0cbe292c-63f7-4d7c-9af2-5ea30d50c9e8"
      },
      "source": [
        "dataset = datasets.Cora()\n",
        "display(HTML(dataset.description))\n",
        "G, node_subjects = dataset.load()"
      ],
      "execution_count": 3,
      "outputs": [
        {
          "output_type": "display_data",
          "data": {
            "text/html": [
              "The Cora dataset consists of 2708 scientific publications classified into one of seven classes. The citation network consists of 5429 links. Each publication in the dataset is described by a 0/1-valued word vector indicating the absence/presence of the corresponding word from the dictionary. The dictionary consists of 1433 unique words."
            ],
            "text/plain": [
              "<IPython.core.display.HTML object>"
            ]
          },
          "metadata": {}
        }
      ]
    },
    {
      "cell_type": "code",
      "metadata": {
        "id": "FHl9-xelqim6",
        "colab": {
          "base_uri": "https://localhost:8080/"
        },
        "outputId": "86c9773b-ff4c-4e9d-e864-9e2cbe94beef"
      },
      "source": [
        "print(G.info())"
      ],
      "execution_count": 4,
      "outputs": [
        {
          "output_type": "stream",
          "name": "stdout",
          "text": [
            "StellarGraph: Undirected multigraph\n",
            " Nodes: 2708, Edges: 5429\n",
            "\n",
            " Node types:\n",
            "  paper: [2708]\n",
            "    Features: float32 vector, length 1433\n",
            "    Edge types: paper-cites->paper\n",
            "\n",
            " Edge types:\n",
            "    paper-cites->paper: [5429]\n",
            "        Weights: all 1 (default)\n",
            "        Features: none\n"
          ]
        }
      ]
    },
    {
      "cell_type": "markdown",
      "metadata": {
        "id": "_OCditlQqim6"
      },
      "source": [
        "We aim to train a graph-ML model that will predict the \"subject\" attribute on the nodes. These subjects are one of 7 categories:"
      ]
    },
    {
      "cell_type": "code",
      "metadata": {
        "id": "OypbWNdmqim7",
        "colab": {
          "base_uri": "https://localhost:8080/"
        },
        "outputId": "176106ff-3ee1-4401-921b-90b98ba0cf46"
      },
      "source": [
        "set(node_subjects)"
      ],
      "execution_count": 5,
      "outputs": [
        {
          "output_type": "execute_result",
          "data": {
            "text/plain": [
              "{'Case_Based',\n",
              " 'Genetic_Algorithms',\n",
              " 'Neural_Networks',\n",
              " 'Probabilistic_Methods',\n",
              " 'Reinforcement_Learning',\n",
              " 'Rule_Learning',\n",
              " 'Theory'}"
            ]
          },
          "metadata": {},
          "execution_count": 5
        }
      ]
    },
    {
      "cell_type": "markdown",
      "metadata": {
        "id": "HzaZMRmvqim7"
      },
      "source": [
        "### Splitting the data"
      ]
    },
    {
      "cell_type": "markdown",
      "metadata": {
        "id": "iAVgTqljqim7"
      },
      "source": [
        "For machine learning we want to take a subset of the nodes for training, and use the rest for testing. We'll use scikit-learn again to do this"
      ]
    },
    {
      "cell_type": "code",
      "metadata": {
        "id": "xFCam1uCqim8"
      },
      "source": [
        "train_subjects, test_subjects = model_selection.train_test_split(\n",
        "    node_subjects, train_size=0.1, test_size=None, stratify=node_subjects\n",
        ")"
      ],
      "execution_count": 6,
      "outputs": []
    },
    {
      "cell_type": "markdown",
      "metadata": {
        "id": "GVHXr6LQqim8"
      },
      "source": [
        "Note using stratified sampling gives the following counts:"
      ]
    },
    {
      "cell_type": "code",
      "metadata": {
        "id": "bU_CgOBFqim8",
        "colab": {
          "base_uri": "https://localhost:8080/"
        },
        "outputId": "7eebf822-a9b1-4aac-93a7-1728aa407336"
      },
      "source": [
        "from collections import Counter\n",
        "\n",
        "Counter(train_subjects)"
      ],
      "execution_count": 7,
      "outputs": [
        {
          "output_type": "execute_result",
          "data": {
            "text/plain": [
              "Counter({'Case_Based': 30,\n",
              "         'Genetic_Algorithms': 42,\n",
              "         'Neural_Networks': 81,\n",
              "         'Probabilistic_Methods': 42,\n",
              "         'Reinforcement_Learning': 22,\n",
              "         'Rule_Learning': 18,\n",
              "         'Theory': 35})"
            ]
          },
          "metadata": {},
          "execution_count": 7
        }
      ]
    },
    {
      "cell_type": "markdown",
      "metadata": {
        "id": "xdBeXOrPqim8"
      },
      "source": [
        "The training set has class imbalance that might need to be compensated, e.g., via using a weighted cross-entropy loss in model training, with class weights inversely proportional to class support. However, we will ignore the class imbalance in this example, for simplicity."
      ]
    },
    {
      "cell_type": "markdown",
      "metadata": {
        "id": "3iThYJbcqim9"
      },
      "source": [
        "### Converting to numeric arrays"
      ]
    },
    {
      "cell_type": "markdown",
      "metadata": {
        "id": "I_KeVK8cqim9"
      },
      "source": [
        "For our categorical target, we will use one-hot vectors that will be fed into a soft-max Keras layer during training. To do this conversion ..."
      ]
    },
    {
      "cell_type": "code",
      "metadata": {
        "id": "fo4i5STlqim9"
      },
      "source": [
        "target_encoding = preprocessing.LabelBinarizer()\n",
        "\n",
        "train_targets = target_encoding.fit_transform(train_subjects)\n",
        "test_targets = target_encoding.transform(test_subjects)"
      ],
      "execution_count": 8,
      "outputs": []
    },
    {
      "cell_type": "markdown",
      "metadata": {
        "id": "sIsIVFFEqim-"
      },
      "source": [
        "We now do the same for the node attributes we want to use to predict the subject. These are the feature vectors that the Keras model will use as input. The CORA dataset contains attributes 'w_x' that correspond to words found in that publication. If a word occurs more than once in a publication the relevant attribute will be set to one, otherwise it will be zero."
      ]
    },
    {
      "cell_type": "markdown",
      "metadata": {
        "id": "L0lHn9s4qim-"
      },
      "source": [
        "## Creating the GraphSAGE model in Keras"
      ]
    },
    {
      "cell_type": "markdown",
      "metadata": {
        "id": "EWvk4KQBqim-"
      },
      "source": [
        "To feed data from the graph to the Keras model we need a data generator that feeds data from the graph to the model. The generators are specialized to the model and the learning task so we choose the `GraphSAGENodeGenerator` as we are predicting node attributes with a GraphSAGE model.\n",
        "\n",
        "We need two other parameters, the `batch_size` to use for training and the number of nodes to sample at each level of the model. Here we choose a two-level model with 10 nodes sampled in the first layer, and 5 in the second."
      ]
    },
    {
      "cell_type": "code",
      "metadata": {
        "id": "b08Abne9qim-"
      },
      "source": [
        "batch_size = 50\n",
        "num_samples = [10, 5]"
      ],
      "execution_count": 9,
      "outputs": []
    },
    {
      "cell_type": "markdown",
      "metadata": {
        "id": "-yb5UR-Wqim_"
      },
      "source": [
        "A `GraphSAGENodeGenerator` object is required to send the node features in sampled subgraphs to Keras"
      ]
    },
    {
      "cell_type": "code",
      "metadata": {
        "id": "phQEN5ziqim_"
      },
      "source": [
        "generator = GraphSAGENodeGenerator(G, batch_size, num_samples)"
      ],
      "execution_count": 10,
      "outputs": []
    },
    {
      "cell_type": "markdown",
      "metadata": {
        "id": "lEJdQijbqim_"
      },
      "source": [
        "Using the `generator.flow()` method, we can create iterators over nodes that should be used to train, validate, or evaluate the model. For training we use only the training nodes returned from our splitter and the target values. The `shuffle=True` argument is given to the `flow` method to improve training."
      ]
    },
    {
      "cell_type": "code",
      "metadata": {
        "id": "INvpYz8iqim_"
      },
      "source": [
        "train_gen = generator.flow(train_subjects.index, train_targets, shuffle=True)"
      ],
      "execution_count": 11,
      "outputs": []
    },
    {
      "cell_type": "markdown",
      "metadata": {
        "id": "8tdqJb7aqim_"
      },
      "source": [
        "Now we can specify our machine learning model, we need a few more parameters for this:\n",
        "\n",
        " * the `layer_sizes` is a list of hidden feature sizes of each layer in the model. In this example we use 32-dimensional hidden node features at each layer.\n",
        " * The `bias` and `dropout` are internal parameters of the model. "
      ]
    },
    {
      "cell_type": "code",
      "metadata": {
        "id": "GXC4Lgmmqim_"
      },
      "source": [
        "graphsage_model = GraphSAGE(\n",
        "    layer_sizes=[32, 32], generator=generator, bias=True, dropout=0.5,\n",
        ")"
      ],
      "execution_count": 12,
      "outputs": []
    },
    {
      "cell_type": "markdown",
      "metadata": {
        "id": "1JfUAwPyqinA"
      },
      "source": [
        "Now we create a model to predict the 7 categories using Keras softmax layers."
      ]
    },
    {
      "cell_type": "code",
      "metadata": {
        "id": "DaMo262XqinA"
      },
      "source": [
        "x_inp, x_out = graphsage_model.in_out_tensors()\n",
        "prediction = layers.Dense(units=train_targets.shape[1], activation=\"softmax\")(x_out)"
      ],
      "execution_count": 13,
      "outputs": []
    },
    {
      "cell_type": "code",
      "metadata": {
        "colab": {
          "base_uri": "https://localhost:8080/"
        },
        "id": "H0LBJK0MzfC1",
        "outputId": "bde80b56-3e1e-4bfd-d61e-decbb70ab10e"
      },
      "source": [
        "x_inp"
      ],
      "execution_count": 29,
      "outputs": [
        {
          "output_type": "execute_result",
          "data": {
            "text/plain": [
              "[<KerasTensor: shape=(None, 1, 1433) dtype=float32 (created by layer 'input_1')>,\n",
              " <KerasTensor: shape=(None, 10, 1433) dtype=float32 (created by layer 'input_2')>,\n",
              " <KerasTensor: shape=(None, 50, 1433) dtype=float32 (created by layer 'input_3')>]"
            ]
          },
          "metadata": {},
          "execution_count": 29
        }
      ]
    },
    {
      "cell_type": "code",
      "metadata": {
        "colab": {
          "base_uri": "https://localhost:8080/"
        },
        "id": "GD16GqY-zqjh",
        "outputId": "dc6f1185-d111-4841-aa01-10ee431c10b2"
      },
      "source": [
        "x_out"
      ],
      "execution_count": 30,
      "outputs": [
        {
          "output_type": "execute_result",
          "data": {
            "text/plain": [
              "<KerasTensor: shape=(None, 32) dtype=float32 (created by layer 'lambda')>"
            ]
          },
          "metadata": {},
          "execution_count": 30
        }
      ]
    },
    {
      "cell_type": "code",
      "metadata": {
        "colab": {
          "base_uri": "https://localhost:8080/"
        },
        "id": "1a7I1_JfzwrC",
        "outputId": "86e13980-376a-426e-e700-e85a0fa90317"
      },
      "source": [
        "prediction"
      ],
      "execution_count": 31,
      "outputs": [
        {
          "output_type": "execute_result",
          "data": {
            "text/plain": [
              "<KerasTensor: shape=(None, 7) dtype=float32 (created by layer 'dense')>"
            ]
          },
          "metadata": {},
          "execution_count": 31
        }
      ]
    },
    {
      "cell_type": "markdown",
      "metadata": {
        "id": "RGG_YkNwqinA"
      },
      "source": [
        "### Training the model"
      ]
    },
    {
      "cell_type": "markdown",
      "metadata": {
        "id": "LXLXYNFJqinA"
      },
      "source": [
        "Now let's create the actual Keras model with the graph inputs `x_inp` provided by the `graph_model` and outputs being the predictions from the softmax layer"
      ]
    },
    {
      "cell_type": "code",
      "metadata": {
        "id": "9xkzhACZqinA"
      },
      "source": [
        "model = Model(inputs=x_inp, outputs=prediction)\n",
        "model.compile(\n",
        "    optimizer=optimizers.Adam(lr=0.005),\n",
        "    loss=losses.categorical_crossentropy,\n",
        "    metrics=[\"acc\"],\n",
        ")"
      ],
      "execution_count": 14,
      "outputs": []
    },
    {
      "cell_type": "markdown",
      "metadata": {
        "id": "BBTd9VGRqinB"
      },
      "source": [
        "Train the model, keeping track of its loss and accuracy on the training set, and its generalisation performance on the test set (we need to create another generator over the test data for this)"
      ]
    },
    {
      "cell_type": "code",
      "metadata": {
        "id": "puSmYv5HqinB"
      },
      "source": [
        "test_gen = generator.flow(test_subjects.index, test_targets)"
      ],
      "execution_count": 15,
      "outputs": []
    },
    {
      "cell_type": "code",
      "metadata": {
        "id": "7L1y0nLjqinB",
        "colab": {
          "base_uri": "https://localhost:8080/"
        },
        "outputId": "ba51e07e-ddae-4015-89a8-e2a08e211a18"
      },
      "source": [
        "history = model.fit(\n",
        "    train_gen, epochs=20, validation_data=test_gen, verbose=2, shuffle=False\n",
        ")"
      ],
      "execution_count": 16,
      "outputs": [
        {
          "output_type": "stream",
          "name": "stdout",
          "text": [
            "Epoch 1/20\n",
            "6/6 - 4s - loss: 1.9044 - acc: 0.2222 - val_loss: 1.7299 - val_acc: 0.3126\n",
            "Epoch 2/20\n",
            "6/6 - 2s - loss: 1.6736 - acc: 0.3963 - val_loss: 1.5881 - val_acc: 0.4594\n",
            "Epoch 3/20\n",
            "6/6 - 2s - loss: 1.5382 - acc: 0.6296 - val_loss: 1.4311 - val_acc: 0.7002\n",
            "Epoch 4/20\n",
            "6/6 - 2s - loss: 1.3692 - acc: 0.8111 - val_loss: 1.3071 - val_acc: 0.7617\n",
            "Epoch 5/20\n",
            "6/6 - 2s - loss: 1.2333 - acc: 0.8667 - val_loss: 1.1973 - val_acc: 0.7920\n",
            "Epoch 6/20\n",
            "6/6 - 2s - loss: 1.1157 - acc: 0.8889 - val_loss: 1.1034 - val_acc: 0.8031\n",
            "Epoch 7/20\n",
            "6/6 - 2s - loss: 0.9950 - acc: 0.9222 - val_loss: 1.0275 - val_acc: 0.8023\n",
            "Epoch 8/20\n",
            "6/6 - 2s - loss: 0.8876 - acc: 0.9481 - val_loss: 0.9613 - val_acc: 0.8224\n",
            "Epoch 9/20\n",
            "6/6 - 2s - loss: 0.7949 - acc: 0.9630 - val_loss: 0.8991 - val_acc: 0.8228\n",
            "Epoch 10/20\n",
            "6/6 - 2s - loss: 0.7276 - acc: 0.9593 - val_loss: 0.8517 - val_acc: 0.8257\n",
            "Epoch 11/20\n",
            "6/6 - 2s - loss: 0.6535 - acc: 0.9593 - val_loss: 0.8158 - val_acc: 0.8257\n",
            "Epoch 12/20\n",
            "6/6 - 2s - loss: 0.5774 - acc: 0.9815 - val_loss: 0.7883 - val_acc: 0.8257\n",
            "Epoch 13/20\n",
            "6/6 - 2s - loss: 0.5470 - acc: 0.9741 - val_loss: 0.7465 - val_acc: 0.8331\n",
            "Epoch 14/20\n",
            "6/6 - 2s - loss: 0.4953 - acc: 0.9741 - val_loss: 0.7291 - val_acc: 0.8294\n",
            "Epoch 15/20\n",
            "6/6 - 2s - loss: 0.4490 - acc: 0.9593 - val_loss: 0.7186 - val_acc: 0.8253\n",
            "Epoch 16/20\n",
            "6/6 - 2s - loss: 0.3947 - acc: 0.9778 - val_loss: 0.7052 - val_acc: 0.8212\n",
            "Epoch 17/20\n",
            "6/6 - 2s - loss: 0.3614 - acc: 0.9852 - val_loss: 0.6823 - val_acc: 0.8244\n",
            "Epoch 18/20\n",
            "6/6 - 2s - loss: 0.3363 - acc: 0.9889 - val_loss: 0.6667 - val_acc: 0.8310\n",
            "Epoch 19/20\n",
            "6/6 - 2s - loss: 0.3146 - acc: 0.9889 - val_loss: 0.6681 - val_acc: 0.8253\n",
            "Epoch 20/20\n",
            "6/6 - 2s - loss: 0.2837 - acc: 0.9963 - val_loss: 0.6478 - val_acc: 0.8290\n"
          ]
        }
      ]
    },
    {
      "cell_type": "code",
      "metadata": {
        "id": "V5u_-7k5qinB",
        "colab": {
          "base_uri": "https://localhost:8080/",
          "height": 585
        },
        "outputId": "e0d942ca-1a98-4f07-8c98-83f4f851372c"
      },
      "source": [
        "sg.utils.plot_history(history)"
      ],
      "execution_count": 17,
      "outputs": [
        {
          "output_type": "display_data",
          "data": {
            "image/png": "[encoded data removed]",
            "text/plain": [
              "<Figure size 504x576 with 2 Axes>"
            ]
          },
          "metadata": {
            "needs_background": "light"
          }
        }
      ]
    },
    {
      "cell_type": "markdown",
      "metadata": {
        "id": "n0UwNGuSqinC"
      },
      "source": [
        "Now we have trained the model we can evaluate on the test set."
      ]
    },
    {
      "cell_type": "code",
      "metadata": {
        "id": "Gq2cKxH5qinC",
        "colab": {
          "base_uri": "https://localhost:8080/"
        },
        "outputId": "5aa22ee6-1e11-4fff-d8c3-202c0c8c7c70"
      },
      "source": [
        "test_metrics = model.evaluate(test_gen)\n",
        "print(\"\\nTest Set Metrics:\")\n",
        "for name, val in zip(model.metrics_names, test_metrics):\n",
        "    print(\"\\t{}: {:0.4f}\".format(name, val))"
      ],
      "execution_count": 18,
      "outputs": [
        {
          "output_type": "stream",
          "name": "stdout",
          "text": [
            "49/49 [==============================] - 2s 41ms/step - loss: 0.6529 - acc: 0.8261\n",
            "\n",
            "Test Set Metrics:\n",
            "\tloss: 0.6529\n",
            "\tacc: 0.8261\n"
          ]
        }
      ]
    },
    {
      "cell_type": "markdown",
      "metadata": {
        "id": "fp3laUycqinC"
      },
      "source": [
        "### Making predictions with the model"
      ]
    },
    {
      "cell_type": "markdown",
      "metadata": {
        "id": "I6xy5fnAqinC"
      },
      "source": [
        "Now let's get the predictions themselves for all nodes using another node iterator:"
      ]
    },
    {
      "cell_type": "code",
      "metadata": {
        "id": "8KaWsjIgqinC"
      },
      "source": [
        "all_nodes = node_subjects.index\n",
        "all_mapper = generator.flow(all_nodes)\n",
        "all_predictions = model.predict(all_mapper)"
      ],
      "execution_count": 19,
      "outputs": []
    },
    {
      "cell_type": "markdown",
      "metadata": {
        "id": "hNJBIwvgqinC"
      },
      "source": [
        "These predictions will be the output of the softmax layer, so to get final categories we'll use the `inverse_transform` method of our target attribute specification to turn these values back to the original categories"
      ]
    },
    {
      "cell_type": "code",
      "metadata": {
        "id": "IoxIx7DuqinC"
      },
      "source": [
        "node_predictions = target_encoding.inverse_transform(all_predictions)"
      ],
      "execution_count": 20,
      "outputs": []
    },
    {
      "cell_type": "markdown",
      "metadata": {
        "id": "ko2YdVGkqinD"
      },
      "source": [
        "Let's have a look at a few:"
      ]
    },
    {
      "cell_type": "code",
      "metadata": {
        "id": "ajS1BZDiqinD",
        "colab": {
          "base_uri": "https://localhost:8080/",
          "height": 362
        },
        "outputId": "04d8a1d6-3a34-4112-9711-eaf6d611853d"
      },
      "source": [
        "df = pd.DataFrame({\"Predicted\": node_predictions, \"True\": node_subjects})\n",
        "df.head(10)"
      ],
      "execution_count": 21,
      "outputs": [
        {
          "output_type": "execute_result",
          "data": {
            "text/html": [
              "<div>\n",
              "<style scoped>\n",
              "    .dataframe tbody tr th:only-of-type {\n",
              "        vertical-align: middle;\n",
              "    }\n",
              "\n",
              "    .dataframe tbody tr th {\n",
              "        vertical-align: top;\n",
              "    }\n",
              "\n",
              "    .dataframe thead th {\n",
              "        text-align: right;\n",
              "    }\n",
              "</style>\n",
              "<table border=\"1\" class=\"dataframe\">\n",
              "  <thead>\n",
              "    <tr style=\"text-align: right;\">\n",
              "      <th></th>\n",
              "      <th>Predicted</th>\n",
              "      <th>True</th>\n",
              "    </tr>\n",
              "  </thead>\n",
              "  <tbody>\n",
              "    <tr>\n",
              "      <th>31336</th>\n",
              "      <td>Neural_Networks</td>\n",
              "      <td>Neural_Networks</td>\n",
              "    </tr>\n",
              "    <tr>\n",
              "      <th>1061127</th>\n",
              "      <td>Rule_Learning</td>\n",
              "      <td>Rule_Learning</td>\n",
              "    </tr>\n",
              "    <tr>\n",
              "      <th>1106406</th>\n",
              "      <td>Reinforcement_Learning</td>\n",
              "      <td>Reinforcement_Learning</td>\n",
              "    </tr>\n",
              "    <tr>\n",
              "      <th>13195</th>\n",
              "      <td>Reinforcement_Learning</td>\n",
              "      <td>Reinforcement_Learning</td>\n",
              "    </tr>\n",
              "    <tr>\n",
              "      <th>37879</th>\n",
              "      <td>Probabilistic_Methods</td>\n",
              "      <td>Probabilistic_Methods</td>\n",
              "    </tr>\n",
              "    <tr>\n",
              "      <th>1126012</th>\n",
              "      <td>Probabilistic_Methods</td>\n",
              "      <td>Probabilistic_Methods</td>\n",
              "    </tr>\n",
              "    <tr>\n",
              "      <th>1107140</th>\n",
              "      <td>Reinforcement_Learning</td>\n",
              "      <td>Theory</td>\n",
              "    </tr>\n",
              "    <tr>\n",
              "      <th>1102850</th>\n",
              "      <td>Neural_Networks</td>\n",
              "      <td>Neural_Networks</td>\n",
              "    </tr>\n",
              "    <tr>\n",
              "      <th>31349</th>\n",
              "      <td>Neural_Networks</td>\n",
              "      <td>Neural_Networks</td>\n",
              "    </tr>\n",
              "    <tr>\n",
              "      <th>1106418</th>\n",
              "      <td>Theory</td>\n",
              "      <td>Theory</td>\n",
              "    </tr>\n",
              "  </tbody>\n",
              "</table>\n",
              "</div>"
            ],
            "text/plain": [
              "                      Predicted                    True\n",
              "31336           Neural_Networks         Neural_Networks\n",
              "1061127           Rule_Learning           Rule_Learning\n",
              "1106406  Reinforcement_Learning  Reinforcement_Learning\n",
              "13195    Reinforcement_Learning  Reinforcement_Learning\n",
              "37879     Probabilistic_Methods   Probabilistic_Methods\n",
              "1126012   Probabilistic_Methods   Probabilistic_Methods\n",
              "1107140  Reinforcement_Learning                  Theory\n",
              "1102850         Neural_Networks         Neural_Networks\n",
              "31349           Neural_Networks         Neural_Networks\n",
              "1106418                  Theory                  Theory"
            ]
          },
          "metadata": {},
          "execution_count": 21
        }
      ]
    },
    {
      "cell_type": "markdown",
      "metadata": {
        "id": "RPy85tVPqinE"
      },
      "source": [
        "## Node embeddings\n",
        "Evaluate node embeddings as activations of the output of GraphSAGE layer stack, and visualise them, coloring nodes by their subject label.\n",
        "\n",
        "The GraphSAGE embeddings are the output of the GraphSAGE layers, namely the `x_out` variable. Let's create a new model with the same inputs as we used previously `x_inp` but now the output is the embeddings rather than the predicted class. Additionally note that the weights trained previously are kept in the new model."
      ]
    },
    {
      "cell_type": "code",
      "metadata": {
        "id": "XNNkTezJqinE"
      },
      "source": [
        "embedding_model = Model(inputs=x_inp, outputs=x_out)"
      ],
      "execution_count": 22,
      "outputs": []
    },
    {
      "cell_type": "code",
      "metadata": {
        "id": "78x6mdexqinE",
        "colab": {
          "base_uri": "https://localhost:8080/"
        },
        "outputId": "5eb7289a-2c14-47ae-f8e5-8e5331ed7385"
      },
      "source": [
        "emb = embedding_model.predict(all_mapper)\n",
        "emb.shape"
      ],
      "execution_count": 23,
      "outputs": [
        {
          "output_type": "execute_result",
          "data": {
            "text/plain": [
              "(2708, 32)"
            ]
          },
          "metadata": {},
          "execution_count": 23
        }
      ]
    },
    {
      "cell_type": "markdown",
      "metadata": {
        "id": "2ZKlHjWPqinF"
      },
      "source": [
        "Project the embeddings to 2d using either TSNE or PCA transform, and visualise, coloring nodes by their subject label"
      ]
    },
    {
      "cell_type": "code",
      "metadata": {
        "id": "-BApY6qGqinF"
      },
      "source": [
        "from sklearn.decomposition import PCA\n",
        "from sklearn.manifold import TSNE\n",
        "import pandas as pd\n",
        "import numpy as np"
      ],
      "execution_count": 24,
      "outputs": []
    },
    {
      "cell_type": "code",
      "metadata": {
        "id": "wzyHDk5VqinF"
      },
      "source": [
        "X = emb\n",
        "y = np.argmax(target_encoding.transform(node_subjects), axis=1)"
      ],
      "execution_count": 25,
      "outputs": []
    },
    {
      "cell_type": "code",
      "metadata": {
        "id": "TawCYdF2qinF"
      },
      "source": [
        "if X.shape[1] > 2:\n",
        "    transform = TSNE  # PCA\n",
        "\n",
        "    trans = transform(n_components=2)\n",
        "    emb_transformed = pd.DataFrame(trans.fit_transform(X), index=node_subjects.index)\n",
        "    emb_transformed[\"label\"] = y\n",
        "else:\n",
        "    emb_transformed = pd.DataFrame(X, index=node_subjects.index)\n",
        "    emb_transformed = emb_transformed.rename(columns={\"0\": 0, \"1\": 1})\n",
        "    emb_transformed[\"label\"] = y"
      ],
      "execution_count": 26,
      "outputs": []
    },
    {
      "cell_type": "code",
      "metadata": {
        "id": "hMwSBXRfqinF",
        "colab": {
          "base_uri": "https://localhost:8080/",
          "height": 462
        },
        "outputId": "c3b8a382-4d8d-4d8f-eddb-3c0e6d6460c9"
      },
      "source": [
        "alpha = 0.7\n",
        "\n",
        "fig, ax = plt.subplots(figsize=(7, 7))\n",
        "ax.scatter(\n",
        "    emb_transformed[0],\n",
        "    emb_transformed[1],\n",
        "    c=emb_transformed[\"label\"].astype(\"category\"),\n",
        "    cmap=\"jet\",\n",
        "    alpha=alpha,\n",
        ")\n",
        "ax.set(aspect=\"equal\", xlabel=\"$X_1$\", ylabel=\"$X_2$\")\n",
        "plt.title(\n",
        "    \"{} visualization of GraphSAGE embeddings for cora dataset\".format(transform.__name__)\n",
        ")\n",
        "plt.show()"
      ],
      "execution_count": 28,
      "outputs": [
        {
          "output_type": "display_data",
          "data": {
            "image/png": "[encoded data removed]",
            "text/plain": [
              "<Figure size 504x504 with 1 Axes>"
            ]
          },
          "metadata": {
            "needs_background": "light"
          }
        }
      ]
    }
  ]
}
