{
  "nbformat": 4,
  "nbformat_minor": 0,
  "metadata": {
    "kernelspec": {
      "display_name": "python3",
      "language": "python",
      "name": "python3"
    },
    "language_info": {
      "codemirror_mode": {
        "name": "ipython",
        "version": 3
      },
      "file_extension": ".py",
      "mimetype": "text/x-python",
      "name": "python",
      "nbconvert_exporter": "python",
      "pygments_lexer": "ipython3",
      "version": "3.8.6"
    },
    "colab": {
      "name": "02_LabelPropagation_LabelSpreading.ipynb",
      "provenance": []
    }
  },
  "cells": [
    {
      "cell_type": "markdown",
      "metadata": {
        "id": "id-mrYUVxUd2"
      },
      "source": [
        "<a href=\"https://colab.research.google.com/github/CGnal/agos-ai-course/blob/day5/day5/02_LabelPropagation_LabelSpreading.ipynb\" target=\"_parent\"><img src=\"https://colab.research.google.com/assets/colab-badge.svg\" alt=\"Open In Colab\\\"/></a>"
      ]
    },
    {
      "cell_type": "code",
      "metadata": {
        "id": "WkYPz-IO5JRf",
        "outputId": "5bc8f0f6-98d0-46a4-d712-4c640be64cbe",
        "colab": {
          "base_uri": "https://localhost:8080/"
        }
      },
      "source": [
        "!pip install \\\n",
        "    networkx==2.4 \\\n",
        "    matplotlib==3.2.2 \\\n",
        "    scikit-learn==0.24.0 \\\n",
        "    pandas==1.1.3 \\\n",
        "    numpy==1.19.2 "
      ],
      "execution_count": 1,
      "outputs": [
        {
          "output_type": "stream",
          "name": "stdout",
          "text": [
            "Requirement already satisfied: networkx==2.4 in /usr/local/lib/python3.7/dist-packages (2.4)\n",
            "Requirement already satisfied: matplotlib==3.2.2 in /usr/local/lib/python3.7/dist-packages (3.2.2)\n",
            "Requirement already satisfied: scikit-learn==0.24.0 in /usr/local/lib/python3.7/dist-packages (0.24.0)\n",
            "Requirement already satisfied: pandas==1.1.3 in /usr/local/lib/python3.7/dist-packages (1.1.3)\n",
            "Requirement already satisfied: numpy==1.19.2 in /usr/local/lib/python3.7/dist-packages (1.19.2)\n",
            "Requirement already satisfied: decorator>=4.3.0 in /usr/local/lib/python3.7/dist-packages (from networkx==2.4) (4.4.2)\n",
            "Requirement already satisfied: python-dateutil>=2.1 in /usr/local/lib/python3.7/dist-packages (from matplotlib==3.2.2) (2.8.2)\n",
            "Requirement already satisfied: kiwisolver>=1.0.1 in /usr/local/lib/python3.7/dist-packages (from matplotlib==3.2.2) (1.3.2)\n",
            "Requirement already satisfied: cycler>=0.10 in /usr/local/lib/python3.7/dist-packages (from matplotlib==3.2.2) (0.11.0)\n",
            "Requirement already satisfied: pyparsing!=2.0.4,!=2.1.2,!=2.1.6,>=2.0.1 in /usr/local/lib/python3.7/dist-packages (from matplotlib==3.2.2) (3.0.6)\n",
            "Requirement already satisfied: joblib>=0.11 in /usr/local/lib/python3.7/dist-packages (from scikit-learn==0.24.0) (1.1.0)\n",
            "Requirement already satisfied: scipy>=0.19.1 in /usr/local/lib/python3.7/dist-packages (from scikit-learn==0.24.0) (1.4.1)\n",
            "Requirement already satisfied: threadpoolctl>=2.0.0 in /usr/local/lib/python3.7/dist-packages (from scikit-learn==0.24.0) (3.0.0)\n",
            "Requirement already satisfied: pytz>=2017.2 in /usr/local/lib/python3.7/dist-packages (from pandas==1.1.3) (2018.9)\n",
            "Requirement already satisfied: six>=1.5 in /usr/local/lib/python3.7/dist-packages (from python-dateutil>=2.1->matplotlib==3.2.2) (1.15.0)\n"
          ]
        }
      ]
    },
    {
      "cell_type": "markdown",
      "metadata": {
        "id": "PZ7p7Tkz5FEm"
      },
      "source": [
        "# Utility graph plot matrix"
      ]
    },
    {
      "cell_type": "code",
      "metadata": {
        "id": "MRf_7Rkc5FEn"
      },
      "source": [
        "import matplotlib.pyplot as plt\n",
        "\n",
        "def draw_graph(G, node_names={}, nodes_label=[], node_size=900):\n",
        "    pos_nodes = nx.spring_layout(G)\n",
        "    \n",
        "    col = {0:\"steelblue\",1:\"red\",2:\"green\"}\n",
        "    \n",
        "    colors = [col[x] for x in nodes_label]\n",
        "    \n",
        "    nx.draw(G, pos_nodes, with_labels=True, node_color=colors, node_size=node_size, edge_color='gray', \n",
        "            arrowsize=30)\n",
        "    \n",
        "    \n",
        "    \n",
        "    pos_attrs = {}\n",
        "    for node, coords in pos_nodes.items():\n",
        "        pos_attrs[node] = (coords[0], coords[1] + 0.08)\n",
        "        \n",
        "    \n",
        "    plt.axis('off')\n",
        "    axis = plt.gca()\n",
        "    axis.set_xlim([1.2*x for x in axis.get_xlim()])\n",
        "    axis.set_ylim([1.2*y for y in axis.get_ylim()])\n",
        "    plt.show()"
      ],
      "execution_count": 2,
      "outputs": []
    },
    {
      "cell_type": "markdown",
      "metadata": {
        "id": "h80EoAuK5FEt"
      },
      "source": [
        "# Label propagation"
      ]
    },
    {
      "cell_type": "code",
      "metadata": {
        "id": "k52LZAUC5FEt",
        "outputId": "de909a7d-d013-451c-d5ec-fe6b51de875f",
        "colab": {
          "base_uri": "https://localhost:8080/",
          "height": 318
        }
      },
      "source": [
        "import networkx as nx\n",
        "\n",
        "G = nx.barbell_graph(m1=3, m2=2)\n",
        "nodes_label = [0 for x in range(len(G.nodes()))]\n",
        "nodes_label[0] = 1\n",
        "nodes_label[6] = 2\n",
        "draw_graph(G, nodes_label=nodes_label, node_size=1200)"
      ],
      "execution_count": 3,
      "outputs": [
        {
          "output_type": "display_data",
          "data": {
            "image/png": "[encoded data removed]",
            "text/plain": [
              "<Figure size 432x288 with 1 Axes>"
            ]
          },
          "metadata": {}
        }
      ]
    },
    {
      "cell_type": "markdown",
      "metadata": {
        "id": "DvVUnQI05FEu"
      },
      "source": [
        "## Degree matrix"
      ]
    },
    {
      "cell_type": "code",
      "metadata": {
        "id": "ZVXmPRMN5FEv",
        "outputId": "3d504059-8266-408e-d0b8-a4130936c35e",
        "colab": {
          "base_uri": "https://localhost:8080/"
        }
      },
      "source": [
        "import numpy as np\n",
        "from numpy.linalg import inv\n",
        "\n",
        "D = [G.degree(n) for n in G.nodes()]\n",
        "D = np.diag(D)\n",
        "D"
      ],
      "execution_count": 4,
      "outputs": [
        {
          "output_type": "execute_result",
          "data": {
            "text/plain": [
              "array([[2, 0, 0, 0, 0, 0, 0, 0],\n",
              "       [0, 2, 0, 0, 0, 0, 0, 0],\n",
              "       [0, 0, 3, 0, 0, 0, 0, 0],\n",
              "       [0, 0, 0, 2, 0, 0, 0, 0],\n",
              "       [0, 0, 0, 0, 2, 0, 0, 0],\n",
              "       [0, 0, 0, 0, 0, 3, 0, 0],\n",
              "       [0, 0, 0, 0, 0, 0, 2, 0],\n",
              "       [0, 0, 0, 0, 0, 0, 0, 2]])"
            ]
          },
          "metadata": {},
          "execution_count": 4
        }
      ]
    },
    {
      "cell_type": "markdown",
      "metadata": {
        "id": "LOcZ_VrB5FEw"
      },
      "source": [
        "## Proximity matrix"
      ]
    },
    {
      "cell_type": "code",
      "metadata": {
        "id": "5Y2zefiU5FEw",
        "outputId": "9a45f6af-206c-4a6b-aafa-33feb57bb444",
        "colab": {
          "base_uri": "https://localhost:8080/"
        }
      },
      "source": [
        "A = inv(D)*nx.to_numpy_matrix(G)\n",
        "A"
      ],
      "execution_count": 5,
      "outputs": [
        {
          "output_type": "execute_result",
          "data": {
            "text/plain": [
              "matrix([[0.        , 0.5       , 0.5       , 0.        , 0.        ,\n",
              "         0.        , 0.        , 0.        ],\n",
              "        [0.5       , 0.        , 0.5       , 0.        , 0.        ,\n",
              "         0.        , 0.        , 0.        ],\n",
              "        [0.33333333, 0.33333333, 0.        , 0.33333333, 0.        ,\n",
              "         0.        , 0.        , 0.        ],\n",
              "        [0.        , 0.        , 0.5       , 0.        , 0.5       ,\n",
              "         0.        , 0.        , 0.        ],\n",
              "        [0.        , 0.        , 0.        , 0.5       , 0.        ,\n",
              "         0.5       , 0.        , 0.        ],\n",
              "        [0.        , 0.        , 0.        , 0.        , 0.33333333,\n",
              "         0.        , 0.33333333, 0.33333333],\n",
              "        [0.        , 0.        , 0.        , 0.        , 0.        ,\n",
              "         0.5       , 0.        , 0.5       ],\n",
              "        [0.        , 0.        , 0.        , 0.        , 0.        ,\n",
              "         0.5       , 0.5       , 0.        ]])"
            ]
          },
          "metadata": {},
          "execution_count": 5
        }
      ]
    },
    {
      "cell_type": "markdown",
      "metadata": {
        "id": "1n5qnrpq5FEx"
      },
      "source": [
        "## Label propagation implemenation"
      ]
    },
    {
      "cell_type": "code",
      "metadata": {
        "id": "UE_9HKd95FEy"
      },
      "source": [
        "import numpy as np\n",
        "import networkx as nx\n",
        "from numpy.linalg import inv\n",
        "from abc import ABCMeta, abstractmethod\n",
        "from sklearn.base import BaseEstimator, ClassifierMixin\n",
        "from sklearn.utils.multiclass import check_classification_targets\n",
        "from sklearn.utils.validation import check_is_fitted, _deprecate_positional_args\n",
        "\n",
        "class GraphLabelPropagation(ClassifierMixin, BaseEstimator, metaclass=ABCMeta):\n",
        "    \"\"\"Graph label propagation module.\n",
        "    Parameters\n",
        "    ----------\n",
        "    max_iter : int, default=30\n",
        "        Change maximum number of iterations allowed.\n",
        "    tol : float, default=1e-3\n",
        "        Convergence tolerance: threshold to consider the system at steady\n",
        "        state.\n",
        "    \"\"\"\n",
        "\n",
        "    @_deprecate_positional_args\n",
        "    def __init__(self, max_iter=30, tol=1e-3):\n",
        "\n",
        "        self.max_iter = max_iter\n",
        "        self.tol = tol\n",
        "\n",
        "    def predict(self, X):\n",
        "        \"\"\"Performs inductive inference across the model.\n",
        "        Parameters\n",
        "        ----------\n",
        "        X : A networkx array.\n",
        "            The data matrix.\n",
        "        Returns\n",
        "        -------\n",
        "        y : ndarray of shape (n_samples,)\n",
        "            Predictions for input data.\n",
        "        \"\"\"\n",
        "        probas = self.predict_proba(X)\n",
        "        return self.classes_[np.argmax(probas, axis=1)].ravel()\n",
        "\n",
        "    def predict_proba(self, X):\n",
        "        \"\"\"Predict probability for each possible outcome.\n",
        "        Compute the probability estimates for each single node in X\n",
        "        and each possible outcome seen during training (categorical\n",
        "        distribution).\n",
        "        Parameters\n",
        "        ----------\n",
        "        X : A networkx array.\n",
        "        Returns\n",
        "        -------\n",
        "        probabilities : ndarray of shape (n_samples, n_classes)\n",
        "            Normalized probability distributions across\n",
        "            class labels.\n",
        "        \"\"\"\n",
        "        check_is_fitted(self)\n",
        "        \n",
        "        return self.label_distributions_\n",
        "    \n",
        "    def _validate_data(self, X, y):\n",
        "        if not isinstance(X, nx.Graph):\n",
        "            raise ValueError(\"Input should be a networkX graph\")\n",
        "        if not len(y) == len(X.nodes()):\n",
        "            raise ValueError(\"Label data input shape should be equal to the number of nodes in the graph\")\n",
        "        return X, y\n",
        "    \n",
        "    @staticmethod\n",
        "    def build_label(x,classes):\n",
        "        tmp = np.zeros((classes))\n",
        "        tmp[x] = 1\n",
        "        return tmp\n",
        "    \n",
        "    def fit(self, X, y):\n",
        "        \"\"\"Fit a semi-supervised label propagation model based\n",
        "        on the input graph G and corresponding label matrix y with a dedicated marker value for\n",
        "        unlabeled samples.\n",
        "        Parameters\n",
        "        ----------\n",
        "        X : A networkX array.\n",
        "        y : array-like of shape (n_samples,)\n",
        "            `n_labeled_samples` (unlabeled points are marked as -1)\n",
        "            All unlabeled samples will be transductively assigned labels.\n",
        "        Returns\n",
        "        -------\n",
        "        self : object\n",
        "        \"\"\"\n",
        "        X, y = self._validate_data(X, y)\n",
        "        self.X_ = X\n",
        "        check_classification_targets(y)\n",
        "\n",
        "        D = [X.degree(n) for n in X.nodes()]\n",
        "        D = np.diag(D)\n",
        "        \n",
        "        # label construction\n",
        "        # construct a categorical distribution for classification only\n",
        "        unlabeled_index = np.where(y==-1)[0]\n",
        "        labeled_index = np.where(y!=-1)[0]\n",
        "        unique_classes = np.unique(y[labeled_index])\n",
        "        \n",
        "        self.classes_ = unique_classes\n",
        "        \n",
        "        Y0 = np.array([self.build_label(y[x], len(unique_classes)) \n",
        "                                 if x in labeled_index else np.zeros(len(unique_classes)) for x in range(len(y))])\n",
        "        \n",
        "        A = inv(D)*nx.to_numpy_matrix(G)\n",
        "        Y_prev = Y0\n",
        "        it = 0\n",
        "        c_tool = 10\n",
        "        \n",
        "        while it < self.max_iter & c_tool > self.tol:\n",
        "            Y = A*Y_prev\n",
        "            #force labeled nodes\n",
        "            Y[labeled_index] = Y0[labeled_index]\n",
        "            \n",
        "            it +=1\n",
        "            c_tol = np.sum(np.abs(Y-Y_prev))\n",
        "            \n",
        "            Y_prev = Y\n",
        "            \n",
        "        self.label_distributions_ = Y\n",
        "        return self"
      ],
      "execution_count": 6,
      "outputs": []
    },
    {
      "cell_type": "markdown",
      "metadata": {
        "id": "lBUM1Hw-5FEz"
      },
      "source": [
        "## Label propagation execution"
      ]
    },
    {
      "cell_type": "code",
      "metadata": {
        "id": "McGIKMsR5FEz",
        "outputId": "32465395-fdfa-49fd-ce73-5b584416e9c6",
        "colab": {
          "base_uri": "https://localhost:8080/",
          "height": 457
        }
      },
      "source": [
        "glp = GraphLabelPropagation()\n",
        "y = np.array([-1 for x in range(len(G.nodes()))])\n",
        "y[0] = 1\n",
        "y[6] = 0\n",
        "glp.fit(G,y)\n",
        "tmp = glp.predict(G)\n",
        "print(glp.predict_proba(G))\n",
        "\n",
        "draw_graph(G, nodes_label=tmp+1, node_size=1200)"
      ],
      "execution_count": 7,
      "outputs": [
        {
          "output_type": "stream",
          "name": "stdout",
          "text": [
            "[[0.         1.        ]\n",
            " [0.05338542 0.90006109]\n",
            " [0.11845743 0.8081115 ]\n",
            " [0.31951678 0.553297  ]\n",
            " [0.553297   0.31951678]\n",
            " [0.8081115  0.11845743]\n",
            " [1.         0.        ]\n",
            " [0.90006109 0.05338542]]\n"
          ]
        },
        {
          "output_type": "display_data",
          "data": {
            "image/png": "[encoded data removed]",
            "text/plain": [
              "<Figure size 432x288 with 1 Axes>"
            ]
          },
          "metadata": {}
        }
      ]
    },
    {
      "cell_type": "markdown",
      "metadata": {
        "id": "97P9ZegD5FE0"
      },
      "source": [
        "# Label spreading"
      ]
    },
    {
      "cell_type": "code",
      "metadata": {
        "id": "HJ4Xz8iE5FE0",
        "outputId": "c23e1b12-1bd3-4ec2-a2b9-c8b671fcd7e7",
        "colab": {
          "base_uri": "https://localhost:8080/",
          "height": 318
        }
      },
      "source": [
        "import networkx as nx\n",
        "\n",
        "G = nx.barbell_graph(m1=3, m2=2)\n",
        "nodes_label = [0 for x in range(len(G.nodes()))]\n",
        "nodes_label[0] = 1\n",
        "nodes_label[6] = 2\n",
        "draw_graph(G, nodes_label=nodes_label, node_size=1200)"
      ],
      "execution_count": 8,
      "outputs": [
        {
          "output_type": "display_data",
          "data": {
            "image/png": "[encoded data removed]",
            "text/plain": [
              "<Figure size 432x288 with 1 Axes>"
            ]
          },
          "metadata": {}
        }
      ]
    },
    {
      "cell_type": "markdown",
      "metadata": {
        "id": "fvsxdPVF5FE1"
      },
      "source": [
        "## Degree matrix"
      ]
    },
    {
      "cell_type": "code",
      "metadata": {
        "id": "kHXJyzbx5FE1",
        "outputId": "4925d554-8180-4207-ac5c-b75b0f3dba41",
        "colab": {
          "base_uri": "https://localhost:8080/"
        }
      },
      "source": [
        "import numpy as np\n",
        "from numpy.linalg import inv\n",
        "\n",
        "D = [G.degree(n) for n in G.nodes()]\n",
        "D = np.diag(D)\n",
        "D"
      ],
      "execution_count": 9,
      "outputs": [
        {
          "output_type": "execute_result",
          "data": {
            "text/plain": [
              "array([[2, 0, 0, 0, 0, 0, 0, 0],\n",
              "       [0, 2, 0, 0, 0, 0, 0, 0],\n",
              "       [0, 0, 3, 0, 0, 0, 0, 0],\n",
              "       [0, 0, 0, 2, 0, 0, 0, 0],\n",
              "       [0, 0, 0, 0, 2, 0, 0, 0],\n",
              "       [0, 0, 0, 0, 0, 3, 0, 0],\n",
              "       [0, 0, 0, 0, 0, 0, 2, 0],\n",
              "       [0, 0, 0, 0, 0, 0, 0, 2]])"
            ]
          },
          "metadata": {},
          "execution_count": 9
        }
      ]
    },
    {
      "cell_type": "markdown",
      "metadata": {
        "id": "NO6UuyDy5FE1"
      },
      "source": [
        "## Normalized graph Laplacian matrix"
      ]
    },
    {
      "cell_type": "code",
      "metadata": {
        "id": "ZVSyPD9T5FE2",
        "outputId": "ccc3b50e-e21f-421f-b99b-ca93d7283357",
        "colab": {
          "base_uri": "https://localhost:8080/"
        }
      },
      "source": [
        "from scipy.linalg import fractional_matrix_power\n",
        "D_inv = fractional_matrix_power(D, -0.5)\n",
        "L = D_inv*nx.to_numpy_matrix(G)*D_inv\n",
        "L"
      ],
      "execution_count": 10,
      "outputs": [
        {
          "output_type": "execute_result",
          "data": {
            "text/plain": [
              "matrix([[0.        , 0.5       , 0.40824829, 0.        , 0.        ,\n",
              "         0.        , 0.        , 0.        ],\n",
              "        [0.5       , 0.        , 0.40824829, 0.        , 0.        ,\n",
              "         0.        , 0.        , 0.        ],\n",
              "        [0.40824829, 0.40824829, 0.        , 0.40824829, 0.        ,\n",
              "         0.        , 0.        , 0.        ],\n",
              "        [0.        , 0.        , 0.40824829, 0.        , 0.5       ,\n",
              "         0.        , 0.        , 0.        ],\n",
              "        [0.        , 0.        , 0.        , 0.5       , 0.        ,\n",
              "         0.40824829, 0.        , 0.        ],\n",
              "        [0.        , 0.        , 0.        , 0.        , 0.40824829,\n",
              "         0.        , 0.40824829, 0.40824829],\n",
              "        [0.        , 0.        , 0.        , 0.        , 0.        ,\n",
              "         0.40824829, 0.        , 0.5       ],\n",
              "        [0.        , 0.        , 0.        , 0.        , 0.        ,\n",
              "         0.40824829, 0.5       , 0.        ]])"
            ]
          },
          "metadata": {},
          "execution_count": 10
        }
      ]
    },
    {
      "cell_type": "markdown",
      "metadata": {
        "id": "Z3hXIkBu5FE2"
      },
      "source": [
        "## Label spreading implementation"
      ]
    },
    {
      "cell_type": "code",
      "metadata": {
        "id": "8gsOzlYv5FE2"
      },
      "source": [
        "import numpy as np\n",
        "import networkx as nx\n",
        "from sklearn.preprocessing import normalize\n",
        "from scipy.linalg import fractional_matrix_power\n",
        "from sklearn.utils.multiclass import check_classification_targets\n",
        "\n",
        "class GraphLabelSpreading(GraphLabelPropagation):\n",
        "    \"\"\"Graph label propagation module.\n",
        "    Parameters\n",
        "    ----------\n",
        "    max_iter : int, default=30\n",
        "        Change maximum number of iterations allowed.\n",
        "    tol : float, default=1e-3\n",
        "        Convergence tolerance: threshold to consider the system at steady\n",
        "        state.\n",
        "    \"\"\"\n",
        "\n",
        "    @_deprecate_positional_args\n",
        "    def __init__(self, max_iter=30, tol=1e-3, alpha=0.6):\n",
        "\n",
        "        self.alpha = alpha\n",
        "        super().__init__(max_iter, tol)\n",
        "    \n",
        "    def fit(self, X, y):\n",
        "        \"\"\"Fit a semi-supervised label propagation model based\n",
        "        on the input graph G and corresponding label matrix y with a dedicated marker value for\n",
        "        unlabeled samples.\n",
        "        Parameters\n",
        "        ----------\n",
        "        X : A networkX array.\n",
        "        y : array-like of shape (n_samples,)\n",
        "            `n_labeled_samples` (unlabeled points are marked as -1)\n",
        "            All unlabeled samples will be transductively assigned labels.\n",
        "        Returns\n",
        "        -------\n",
        "        self : object\n",
        "        \"\"\"\n",
        "        X, y = self._validate_data(X, y)\n",
        "        self.X_ = X\n",
        "        check_classification_targets(y)\n",
        "\n",
        "        D = [X.degree(n) for n in X.nodes()]\n",
        "        D = np.diag(D)\n",
        "        D_inv = np.matrix(fractional_matrix_power(D,-0.5))\n",
        "        L = D_inv*nx.to_numpy_matrix(G)*D_inv\n",
        "        \n",
        "        # label construction\n",
        "        # construct a categorical distribution for classification only\n",
        "        unlabeled_index = np.where(y==-1)[0]\n",
        "        labeled_index = np.where(y!=-1)[0]\n",
        "        unique_classes = np.unique(y[labeled_index])\n",
        "        \n",
        "        self.classes_ = unique_classes\n",
        "        \n",
        "        Y0 = np.array([self.build_label(y[x], len(unique_classes)) \n",
        "                                 if x in labeled_index else np.zeros(len(unique_classes)) for x in range(len(y))])\n",
        "        \n",
        "        Y_prev = Y0\n",
        "        it = 0\n",
        "        c_tool = 10\n",
        "        \n",
        "        while it < self.max_iter & c_tool > self.tol:\n",
        "            Y = self.alpha*(L*Y_prev)+((1-self.alpha)*Y0)\n",
        "\n",
        "            it +=1\n",
        "            c_tol = np.sum(np.abs(Y-Y_prev))\n",
        "            Y_prev = Y\n",
        "        self.label_distributions_ = Y\n",
        "        return self"
      ],
      "execution_count": 11,
      "outputs": []
    },
    {
      "cell_type": "markdown",
      "metadata": {
        "id": "o6OjCmED5FE3"
      },
      "source": [
        "# Label Spreading"
      ]
    },
    {
      "cell_type": "code",
      "metadata": {
        "id": "qdg-MPgR5FE3",
        "outputId": "f4907516-6a70-47cb-eaf4-6f03601f5048",
        "colab": {
          "base_uri": "https://localhost:8080/",
          "height": 457
        }
      },
      "source": [
        "gls = GraphLabelSpreading(max_iter=1000)\n",
        "y = np.array([-1 for x in range(len(G.nodes()))])\n",
        "y[0] = 1\n",
        "y[6] = 0\n",
        "gls.fit(G,y)\n",
        "tmp = gls.predict(G)\n",
        "print(gls.predict_proba(G))\n",
        "draw_graph(G, nodes_label=tmp+1, node_size=1200)"
      ],
      "execution_count": 12,
      "outputs": [
        {
          "output_type": "stream",
          "name": "stdout",
          "text": [
            "[[0.00148824 0.50403871]\n",
            " [0.00148824 0.19630098]\n",
            " [0.00471728 0.18369265]\n",
            " [0.01591722 0.05001252]\n",
            " [0.05001252 0.01591722]\n",
            " [0.18369265 0.00471728]\n",
            " [0.50403871 0.00148824]\n",
            " [0.19630098 0.00148824]]\n"
          ]
        },
        {
          "output_type": "display_data",
          "data": {
            "image/png": "[encoded data removed]",
            "text/plain": [
              "<Figure size 432x288 with 1 Axes>"
            ]
          },
          "metadata": {}
        }
      ]
    },
    {
      "cell_type": "markdown",
      "metadata": {
        "id": "Vo2P1kCy5FE3"
      },
      "source": [
        "### Graph with noise"
      ]
    },
    {
      "cell_type": "code",
      "metadata": {
        "id": "67PBj1Kw5FE3"
      },
      "source": [
        "G = nx.Graph()\n",
        "nodes = {k:k for k in range(9)}\n",
        "G.add_nodes_from(nodes.keys())\n",
        "G.add_edges_from([(0,1),(1,2),(0,2),(2,3),(3,4),(4,5),(5,6),(6,7),(7,5), (6,8), (7,8), (4,7)])"
      ],
      "execution_count": 13,
      "outputs": []
    },
    {
      "cell_type": "code",
      "metadata": {
        "id": "IOLjBXzZ5FE4"
      },
      "source": [
        "nodes_label={0:1, 6: 1, 5: 2, 7: 2, 4: 2, 3: 2, 1: 1, 2: 1}"
      ],
      "execution_count": 14,
      "outputs": []
    },
    {
      "cell_type": "code",
      "metadata": {
        "id": "FA_v-JU35FE4"
      },
      "source": [
        "y = np.array([nodes_label.get(k, 0)-1 for k in G.nodes()])"
      ],
      "execution_count": 15,
      "outputs": []
    },
    {
      "cell_type": "code",
      "metadata": {
        "id": "bEAVSsrn5FE4",
        "outputId": "9970e5f1-49e0-47b1-c87a-ea99ab70d2d7",
        "colab": {
          "base_uri": "https://localhost:8080/",
          "height": 318
        }
      },
      "source": [
        "draw_graph(G, nodes_label=y+1, node_size=1200)"
      ],
      "execution_count": 16,
      "outputs": [
        {
          "output_type": "display_data",
          "data": {
            "image/png": "[encoded data removed]",
            "text/plain": [
              "<Figure size 432x288 with 1 Axes>"
            ]
          },
          "metadata": {}
        }
      ]
    },
    {
      "cell_type": "code",
      "metadata": {
        "id": "ZDX91zWf5FE4",
        "outputId": "ce45cf69-7d92-4842-dac0-981e608b4436",
        "colab": {
          "base_uri": "https://localhost:8080/",
          "height": 475
        }
      },
      "source": [
        "glp = GraphLabelPropagation()\n",
        "glp.fit(G,y)\n",
        "tmp = glp.predict(G)\n",
        "print(glp.predict_proba(G))\n",
        "\n",
        "draw_graph(G, nodes_label=tmp+1, node_size=1200)"
      ],
      "execution_count": 17,
      "outputs": [
        {
          "output_type": "stream",
          "name": "stdout",
          "text": [
            "[[1.  0. ]\n",
            " [1.  0. ]\n",
            " [1.  0. ]\n",
            " [0.  1. ]\n",
            " [0.  1. ]\n",
            " [0.  1. ]\n",
            " [1.  0. ]\n",
            " [0.  1. ]\n",
            " [0.5 0.5]]\n"
          ]
        },
        {
          "output_type": "display_data",
          "data": {
            "image/png": "[encoded data removed]",
            "text/plain": [
              "<Figure size 432x288 with 1 Axes>"
            ]
          },
          "metadata": {}
        }
      ]
    },
    {
      "cell_type": "code",
      "metadata": {
        "id": "XuLt1LRd5FE5",
        "outputId": "bab5475d-886b-4900-de59-4cbb45c0451c",
        "colab": {
          "base_uri": "https://localhost:8080/",
          "height": 475
        }
      },
      "source": [
        "gls = GraphLabelSpreading(max_iter=1000)\n",
        "gls.fit(G,y)\n",
        "tmp = gls.predict(G)\n",
        "print(gls.predict_proba(G))\n",
        "draw_graph(G, nodes_label=tmp+1, node_size=1200)"
      ],
      "execution_count": 18,
      "outputs": [
        {
          "output_type": "stream",
          "name": "stdout",
          "text": [
            "[[0.88466714 0.06782187]\n",
            " [0.88466714 0.06782187]\n",
            " [0.89467414 0.1938239 ]\n",
            " [0.24841307 0.65741369]\n",
            " [0.12032001 0.85570479]\n",
            " [0.15218036 0.78160672]\n",
            " [0.49777087 0.35799046]\n",
            " [0.16654466 0.80041533]\n",
            " [0.15707937 0.25756699]]\n"
          ]
        },
        {
          "output_type": "display_data",
          "data": {
            "image/png": "[encoded data removed]",
            "text/plain": [
              "<Figure size 432x288 with 1 Axes>"
            ]
          },
          "metadata": {}
        }
      ]
    },
    {
      "cell_type": "code",
      "metadata": {
        "id": "y31ITohi5FE5"
      },
      "source": [
        ""
      ],
      "execution_count": null,
      "outputs": []
    }
  ]
}
