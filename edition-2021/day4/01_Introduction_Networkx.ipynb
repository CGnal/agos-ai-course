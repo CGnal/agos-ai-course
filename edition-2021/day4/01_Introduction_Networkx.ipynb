{
 "cells": [
  {
   "cell_type": "markdown",
   "metadata": {
    "colab_type": "text",
    "id": "view-in-github"
   },
   "source": [
    "<a href=\"https://colab.research.google.com/github/CGnal/agos-ai-course/blob/day4/day4/01_Introduction_Networkx.ipynb\" target=\"_parent\"><img src=\"https://colab.research.google.com/assets/colab-badge.svg\" alt=\"Open In Colab\"/></a>"
   ]
  },
  {
   "cell_type": "code",
   "execution_count": null,
   "metadata": {},
   "outputs": [],
   "source": [
    "!pip install networkx==2.5 \n",
    "!pip install matplotlib==3.2.2 \n",
    "!pip install pandas==1.1.3 \n",
    "!pip install scipy==1.6.2 "
   ]
  },
  {
   "cell_type": "markdown",
   "metadata": {},
   "source": [
    "## Plot Graphs"
   ]
  },
  {
   "cell_type": "code",
   "execution_count": 1,
   "metadata": {},
   "outputs": [],
   "source": [
    "def draw_graph(G, pos_nodes, node_names={}, node_size=50, plot_weight=False):\n",
    "    nx.draw(G, pos_nodes, with_labels=False, node_size=node_size, edge_color='gray', arrowsize=30)\n",
    "    \n",
    "    pos_attrs = {}\n",
    "    for node, coords in pos_nodes.items():\n",
    "        pos_attrs[node] = (coords[0], coords[1] + 0.08)\n",
    "        \n",
    "    nx.draw_networkx_labels(G, pos_attrs, font_family='serif', font_size=20)\n",
    "    \n",
    "    \n",
    "    if plot_weight:\n",
    "        pos_attrs = {}\n",
    "        for node, coords in pos_nodes.items():\n",
    "            pos_attrs[node] = (coords[0], coords[1] + 0.08)\n",
    "        \n",
    "        nx.draw_networkx_labels(G, pos_attrs, font_family='serif', font_size=20)\n",
    "        edge_labels=dict([((a,b,),d[\"weight\"]) for a,b,d in G.edges(data=True)])\n",
    "        nx.draw_networkx_edge_labels(G, pos_nodes, edge_labels=edge_labels)\n",
    "    \n",
    "    plt.axis('off')\n",
    "    axis = plt.gca()\n",
    "    axis.set_xlim([1.2*x for x in axis.get_xlim()])\n",
    "    axis.set_ylim([1.2*y for y in axis.get_ylim()])"
   ]
  },
  {
   "cell_type": "markdown",
   "metadata": {},
   "source": [
    "## Undirected Graph"
   ]
  },
  {
   "cell_type": "code",
   "execution_count": 2,
   "metadata": {},
   "outputs": [],
   "source": [
    "%matplotlib inline"
   ]
  },
  {
   "cell_type": "code",
   "execution_count": 3,
   "metadata": {},
   "outputs": [
    {
     "data": {
      "image/png": "[encoded data removed]",
      "text/plain": [
       "<Figure size 432x288 with 1 Axes>"
      ]
     },
     "metadata": {},
     "output_type": "display_data"
    }
   ],
   "source": [
    "import numpy as np\n",
    "import pandas as pd\n",
    "import networkx as nx\n",
    "import matplotlib.pyplot as plt\n",
    "\n",
    "G = nx.Graph()\n",
    "V = {'Dublin', 'Paris', 'Milan', 'Rome'}\n",
    "E = [('Milan','Dublin'), ('Milan','Paris'), ('Paris','Dublin'), ('Milan','Rome')]\n",
    "G.add_nodes_from(V)\n",
    "G.add_edges_from(E)\n",
    "draw_graph(G, pos_nodes=nx.shell_layout(G), node_size=500)"
   ]
  },
  {
   "cell_type": "code",
   "execution_count": 4,
   "metadata": {},
   "outputs": [
    {
     "name": "stdout",
     "output_type": "stream",
     "text": [
      "V = ['Milan', 'Rome', 'Dublin', 'Paris']\n",
      "E = [('Milan', 'Dublin'), ('Milan', 'Paris'), ('Milan', 'Rome'), ('Dublin', 'Paris')]\n"
     ]
    }
   ],
   "source": [
    "print(f\"V = {G.nodes}\")\n",
    "print(f\"E = {G.edges}\")"
   ]
  },
  {
   "cell_type": "code",
   "execution_count": 5,
   "metadata": {},
   "outputs": [
    {
     "data": {
      "text/plain": [
       "{3: 'Milan', 1: 'Rome', 2: 'Paris'}"
      ]
     },
     "execution_count": 5,
     "metadata": {},
     "output_type": "execute_result"
    }
   ],
   "source": [
    "{G.degree(v): v for v in G.nodes}"
   ]
  },
  {
   "cell_type": "code",
   "execution_count": 6,
   "metadata": {},
   "outputs": [
    {
     "name": "stdout",
     "output_type": "stream",
     "text": [
      "Milan: ['Dublin', 'Paris', 'Rome']\n",
      "Rome: ['Milan']\n",
      "Dublin: ['Milan', 'Paris']\n",
      "Paris: ['Milan', 'Dublin']\n"
     ]
    }
   ],
   "source": [
    "for v in G.nodes:\n",
    "    print(f\"{v}: {list(G.neighbors(v))}\")"
   ]
  },
  {
   "cell_type": "code",
   "execution_count": 7,
   "metadata": {},
   "outputs": [
    {
     "name": "stdout",
     "output_type": "stream",
     "text": [
      "Neighbors for nodes: {'Milan': ['Dublin', 'Paris', 'Rome'], 'Rome': ['Milan'], 'Dublin': ['Milan', 'Paris'], 'Paris': ['Milan', 'Dublin']}\n"
     ]
    }
   ],
   "source": [
    "print(f\"Neighbors for nodes: { {v: list(G.neighbors(v)) for v in G.nodes} }\")"
   ]
  },
  {
   "cell_type": "code",
   "execution_count": 8,
   "metadata": {
    "scrolled": true
   },
   "outputs": [
    {
     "name": "stdout",
     "output_type": "stream",
     "text": [
      "Graph Order: 4\n",
      "Graph Size: 4\n",
      "Degree for nodes: {'Milan': 3, 'Rome': 1, 'Dublin': 2, 'Paris': 2}\n",
      "Neighbors for nodes: {'Milan': ['Dublin', 'Paris', 'Rome'], 'Rome': ['Milan'], 'Dublin': ['Milan', 'Paris'], 'Paris': ['Milan', 'Dublin']}\n"
     ]
    }
   ],
   "source": [
    "print(f\"Graph Order: {G.number_of_nodes()}\")\n",
    "print(f\"Graph Size: {G.number_of_edges()}\")\n",
    "print(f\"Degree for nodes: { {v: G.degree(v) for v in G.nodes} }\")\n",
    "print(f\"Neighbors for nodes: { {v: list(G.neighbors(v)) for v in G.nodes} }\")"
   ]
  },
  {
   "cell_type": "code",
   "execution_count": 9,
   "metadata": {},
   "outputs": [
    {
     "name": "stdout",
     "output_type": "stream",
     "text": [
      "Nodes: ['Milan', 'Rome', 'Dublin', 'Paris']\n",
      "Edges: [('Milan', 'Dublin'), ('Milan', 'Paris'), ('Milan', 'Rome'), ('Dublin', 'Paris')]\n"
     ]
    }
   ],
   "source": [
    "ego_graph_milan = nx.ego_graph(G, \"Milan\")\n",
    "print(f\"Nodes: {ego_graph_milan.nodes}\")\n",
    "print(f\"Edges: {ego_graph_milan.edges}\")"
   ]
  },
  {
   "cell_type": "code",
   "execution_count": 10,
   "metadata": {},
   "outputs": [
    {
     "name": "stdout",
     "output_type": "stream",
     "text": [
      "V = ['Milan', 'Rome', 'Dublin', 'Paris', 'Madrid', 'London']\n",
      "E = [('Milan', 'Dublin'), ('Milan', 'Paris'), ('Milan', 'Rome'), ('Rome', 'London'), ('Dublin', 'Paris'), ('Paris', 'Madrid')]\n"
     ]
    }
   ],
   "source": [
    "new_nodes = {'London', 'Madrid'}\n",
    "new_edges = [('London','Rome'), ('Madrid','Paris')]\n",
    "G.add_nodes_from(new_nodes)\n",
    "G.add_edges_from(new_edges)\n",
    "print(f\"V = {G.nodes}\")\n",
    "print(f\"E = {G.edges}\")"
   ]
  },
  {
   "cell_type": "code",
   "execution_count": 11,
   "metadata": {},
   "outputs": [
    {
     "name": "stdout",
     "output_type": "stream",
     "text": [
      "V = ['Milan', 'Rome', 'Dublin', 'Paris']\n",
      "E = [('Milan', 'Dublin'), ('Milan', 'Paris'), ('Milan', 'Rome'), ('Dublin', 'Paris')]\n"
     ]
    }
   ],
   "source": [
    "node_remove = {'London', 'Madrid'}\n",
    "G.remove_nodes_from(node_remove)\n",
    "print(f\"V = {G.nodes}\")\n",
    "print(f\"E = {G.edges}\")"
   ]
  },
  {
   "cell_type": "code",
   "execution_count": 12,
   "metadata": {},
   "outputs": [
    {
     "name": "stdout",
     "output_type": "stream",
     "text": [
      "V = ['Milan', 'Rome', 'Dublin', 'Paris']\n",
      "E = [('Milan', 'Rome'), ('Dublin', 'Paris')]\n"
     ]
    }
   ],
   "source": [
    "node_edges = [('Milan','Dublin'), ('Milan','Paris')]\n",
    "G.remove_edges_from(node_edges)\n",
    "print(f\"V = {G.nodes}\")\n",
    "print(f\"E = {G.edges}\")"
   ]
  },
  {
   "cell_type": "code",
   "execution_count": 13,
   "metadata": {},
   "outputs": [
    {
     "name": "stdout",
     "output_type": "stream",
     "text": [
      "[('Milan', 'Rome', {}), ('Dublin', 'Paris', {})]\n"
     ]
    }
   ],
   "source": [
    "print(nx.to_edgelist(G))"
   ]
  },
  {
   "cell_type": "code",
   "execution_count": 14,
   "metadata": {},
   "outputs": [
    {
     "name": "stdout",
     "output_type": "stream",
     "text": [
      "        Milan  Rome  Dublin  Paris\n",
      "Milan     0.0   1.0     0.0    0.0\n",
      "Rome      1.0   0.0     0.0    0.0\n",
      "Dublin    0.0   0.0     0.0    1.0\n",
      "Paris     0.0   0.0     1.0    0.0\n"
     ]
    }
   ],
   "source": [
    "print(nx.to_pandas_adjacency(G))"
   ]
  },
  {
   "cell_type": "markdown",
   "metadata": {},
   "source": [
    "## Directed Graph"
   ]
  },
  {
   "cell_type": "code",
   "execution_count": 15,
   "metadata": {},
   "outputs": [
    {
     "name": "stdout",
     "output_type": "stream",
     "text": [
      "  source  target\n",
      "0  Milan  Dublin\n",
      "1  Milan    Rome\n",
      "2  Paris   Milan\n",
      "3  Paris  Dublin\n",
      "        Milan  Rome  Dublin  Paris\n",
      "Milan     0.0   1.0     1.0    0.0\n",
      "Rome      0.0   0.0     0.0    0.0\n",
      "Dublin    0.0   0.0     0.0    0.0\n",
      "Paris     1.0   0.0     1.0    0.0\n"
     ]
    }
   ],
   "source": [
    "import networkx as nx\n",
    "G = nx.DiGraph()\n",
    "V = {'Dublin', 'Paris', 'Milan', 'Rome'}\n",
    "E = [('Milan','Dublin'), ('Paris','Milan'), ('Paris','Dublin'), ('Milan','Rome')]\n",
    "G.add_nodes_from(V)\n",
    "G.add_edges_from(E)\n",
    "print(nx.to_pandas_edgelist(G))\n",
    "print(nx.to_pandas_adjacency(G))"
   ]
  },
  {
   "cell_type": "code",
   "execution_count": 16,
   "metadata": {},
   "outputs": [
    {
     "name": "stdout",
     "output_type": "stream",
     "text": [
      "Indegree for nodes: {'Milan': 1, 'Rome': 1, 'Dublin': 2, 'Paris': 0}\n",
      "Outegree for nodes: {'Milan': 2, 'Rome': 0, 'Dublin': 0, 'Paris': 2}\n"
     ]
    }
   ],
   "source": [
    "print(f\"Indegree for nodes: { {v: G.in_degree(v) for v in G.nodes} }\")\n",
    "print(f\"Outegree for nodes: { {v: G.out_degree(v) for v in G.nodes} }\")"
   ]
  },
  {
   "cell_type": "code",
   "execution_count": 17,
   "metadata": {},
   "outputs": [
    {
     "data": {
      "image/png": "[encoded data removed]",
      "text/plain": [
       "<Figure size 432x288 with 1 Axes>"
      ]
     },
     "metadata": {},
     "output_type": "display_data"
    }
   ],
   "source": [
    "draw_graph(G, pos_nodes=nx.shell_layout(G), node_size=500)"
   ]
  },
  {
   "cell_type": "markdown",
   "metadata": {},
   "source": [
    "## Weighted Directed Graph"
   ]
  },
  {
   "cell_type": "code",
   "execution_count": 18,
   "metadata": {},
   "outputs": [
    {
     "name": "stdout",
     "output_type": "stream",
     "text": [
      "  source  target  weight\n",
      "0  Milan    Rome       5\n",
      "1  Milan  Dublin      19\n",
      "2  Paris  Dublin      11\n",
      "3  Paris   Milan       8\n",
      "        Milan  Rome  Dublin  Paris\n",
      "Milan     0.0   5.0    19.0    0.0\n",
      "Rome      0.0   0.0     0.0    0.0\n",
      "Dublin    0.0   0.0     0.0    0.0\n",
      "Paris     8.0   0.0    11.0    0.0\n"
     ]
    },
    {
     "data": {
      "image/png": "[encoded data removed]",
      "text/plain": [
       "<Figure size 432x288 with 1 Axes>"
      ]
     },
     "metadata": {},
     "output_type": "display_data"
    }
   ],
   "source": [
    "import networkx as nx\n",
    "G = nx.MultiDiGraph()\n",
    "V = {'Paris', 'Dublin','Milan', 'Rome'}\n",
    "E = [ ('Paris','Dublin', 11), ('Paris','Milan', 8),\n",
    "     ('Milan','Rome', 5),('Milan','Dublin', 19)]\n",
    "G.add_nodes_from(V)\n",
    "G.add_weighted_edges_from(E)\n",
    "draw_graph(G, pos_nodes=nx.shell_layout(G), node_size=500, plot_weight=True)\n",
    "print(nx.to_pandas_edgelist(G))\n",
    "print(nx.to_pandas_adjacency(G))"
   ]
  },
  {
   "cell_type": "markdown",
   "metadata": {},
   "source": [
    "## Bipartite Graph"
   ]
  },
  {
   "cell_type": "code",
   "execution_count": 19,
   "metadata": {},
   "outputs": [],
   "source": [
    "n_nodes = 10\n",
    "n_edges = 12\n",
    "bottom_nodes = [ith for ith in range(n_nodes) if ith % 2 ==0]\n",
    "top_nodes = [ith for ith in range(n_nodes) if ith % 2 ==1]\n",
    "iter_edges = zip(\n",
    "    np.random.choice(bottom_nodes, n_edges),  \n",
    "    np.random.choice(top_nodes, n_edges))\n",
    "edges = pd.DataFrame([\n",
    "    {\"source\": a, \"target\": b} for a, b in iter_edges])\n",
    "B = nx.Graph()\n",
    "B.add_nodes_from(bottom_nodes, bipartite=0)\n",
    "B.add_nodes_from(top_nodes, bipartite=1)\n",
    "B.add_edges_from([tuple(x) for x in edges.values])"
   ]
  },
  {
   "cell_type": "code",
   "execution_count": 20,
   "metadata": {},
   "outputs": [
    {
     "data": {
      "image/png": "[encoded data removed]",
      "text/plain": [
       "<Figure size 432x288 with 1 Axes>"
      ]
     },
     "metadata": {
      "needs_background": "light"
     },
     "output_type": "display_data"
    }
   ],
   "source": [
    "from networkx.drawing.layout import bipartite_layout\n",
    "pos = bipartite_layout(B, bottom_nodes)\n",
    "nx.draw_networkx(B, pos=pos)"
   ]
  },
  {
   "cell_type": "markdown",
   "metadata": {},
   "source": [
    "## Multi Graph"
   ]
  },
  {
   "cell_type": "code",
   "execution_count": 21,
   "metadata": {},
   "outputs": [
    {
     "data": {
      "image/png": "[encoded data removed]",
      "text/plain": [
       "<Figure size 432x288 with 1 Axes>"
      ]
     },
     "metadata": {},
     "output_type": "display_data"
    }
   ],
   "source": [
    "import networkx as nx\n",
    "directed_multi_graph = nx.MultiDiGraph()\n",
    "V = {'Dublin', 'Paris', 'Milan', 'Rome'}\n",
    "E = [('Milan','Dublin'), ('Milan','Dublin'), ('Paris','Milan'), ('Paris','Dublin'), ('Milan','Rome'), ('Milan','Rome')]\n",
    "directed_multi_graph.add_nodes_from(V)\n",
    "directed_multi_graph.add_edges_from(E)\n",
    "\n",
    "draw_graph(G, pos_nodes=nx.shell_layout(G), node_size=500)"
   ]
  },
  {
   "cell_type": "code",
   "execution_count": null,
   "metadata": {},
   "outputs": [],
   "source": []
  }
 ],
 "metadata": {
  "kernelspec": {
   "display_name": "Python 3",
   "language": "python",
   "name": "python3"
  },
  "language_info": {
   "codemirror_mode": {
    "name": "ipython",
    "version": 3
   },
   "file_extension": ".py",
   "mimetype": "text/x-python",
   "name": "python",
   "nbconvert_exporter": "python",
   "pygments_lexer": "ipython3",
   "version": "3.6.5"
  }
 },
 "nbformat": 4,
 "nbformat_minor": 4
}
