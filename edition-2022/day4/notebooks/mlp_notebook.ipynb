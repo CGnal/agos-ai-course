{
 "cells": [
  {
   "cell_type": "markdown",
   "metadata": {
    "id": "gHseRI7Grvke"
   },
   "source": [
    "[![Open In Colab](https://colab.research.google.com/assets/colab-badge.svg)](https://colab.research.google.com/drive/1k1EBVhEPUrpAFw9wGcrTlb6pXPOHde7o)"
   ]
  },
  {
   "cell_type": "markdown",
   "metadata": {
    "id": "ZTy9he_QklVq"
   },
   "source": [
    "\n",
    "# Install tensorflow"
   ]
  },
  {
   "cell_type": "markdown",
   "metadata": {
    "colab": {
     "base_uri": "https://localhost:8080/"
    },
    "executionInfo": {
     "elapsed": 70568,
     "status": "ok",
     "timestamp": 1637257784418,
     "user": {
      "displayName": "Salvatore Aiola",
      "photoUrl": "https://lh3.googleusercontent.com/a/default-user=s64",
      "userId": "13082271597599627032"
     },
     "user_tz": -60
    },
    "id": "y1IND-y0kycA",
    "outputId": "4d630426-b832-4c4b-96a9-d57214e4effb"
   },
   "source": [
    "!pip install tensorflow==2.6.2"
   ]
  },
  {
   "cell_type": "code",
   "execution_count": 18,
   "metadata": {},
   "outputs": [
    {
     "name": "stdout",
     "output_type": "stream",
     "text": [
      "Requirement already satisfied: pydot in /Users/gioiaboschi/venvs/myenv/lib/python3.7/site-packages (1.4.2)\r\n",
      "Requirement already satisfied: pyparsing>=2.1.4 in /Users/gioiaboschi/venvs/myenv/lib/python3.7/site-packages (from pydot) (3.0.9)\r\n"
     ]
    }
   ],
   "source": [
    "!pip install pydot"
   ]
  },
  {
   "cell_type": "code",
   "execution_count": 19,
   "metadata": {
    "executionInfo": {
     "elapsed": 2335,
     "status": "ok",
     "timestamp": 1637257786729,
     "user": {
      "displayName": "Salvatore Aiola",
      "photoUrl": "https://lh3.googleusercontent.com/a/default-user=s64",
      "userId": "13082271597599627032"
     },
     "user_tz": -60
    },
    "id": "GzKrUb3soCDi"
   },
   "outputs": [],
   "source": [
    "import tensorflow as tf\n",
    "from tensorflow import keras\n",
    "from tensorflow.keras import layers\n",
    "from keras.utils.vis_utils import plot_model\n",
    "import matplotlib.pyplot as plt\n",
    "from datetime import datetime\n",
    "import numpy as np \n",
    "import pandas as pd "
   ]
  },
  {
   "cell_type": "code",
   "execution_count": 20,
   "metadata": {},
   "outputs": [
    {
     "data": {
      "text/plain": [
       "'2.9.1'"
      ]
     },
     "execution_count": 20,
     "metadata": {},
     "output_type": "execute_result"
    }
   ],
   "source": [
    "tf.__version__"
   ]
  },
  {
   "cell_type": "code",
   "execution_count": 21,
   "metadata": {
    "colab": {
     "base_uri": "https://localhost:8080/",
     "height": 35
    },
    "executionInfo": {
     "elapsed": 56,
     "status": "ok",
     "timestamp": 1637257786776,
     "user": {
      "displayName": "Salvatore Aiola",
      "photoUrl": "https://lh3.googleusercontent.com/a/default-user=s64",
      "userId": "13082271597599627032"
     },
     "user_tz": -60
    },
    "id": "dTIK4yTAoFG0",
    "outputId": "171af4a0-df65-48ab-a7b7-5cd13ae3e26a"
   },
   "outputs": [
    {
     "name": "stdout",
     "output_type": "stream",
     "text": [
      "The tensorboard extension is already loaded. To reload it, use:\n",
      "  %reload_ext tensorboard\n"
     ]
    },
    {
     "data": {
      "text/plain": [
       "'2.9.1'"
      ]
     },
     "execution_count": 21,
     "metadata": {},
     "output_type": "execute_result"
    }
   ],
   "source": [
    "%load_ext tensorboard\n",
    "import tensorboard\n",
    "tensorboard.__version__"
   ]
  },
  {
   "cell_type": "code",
   "execution_count": 22,
   "metadata": {
    "colab": {
     "base_uri": "https://localhost:8080/"
    },
    "executionInfo": {
     "elapsed": 13785,
     "status": "ok",
     "timestamp": 1637257800506,
     "user": {
      "displayName": "Salvatore Aiola",
      "photoUrl": "https://lh3.googleusercontent.com/a/default-user=s64",
      "userId": "13082271597599627032"
     },
     "user_tz": -60
    },
    "id": "eJHTVNDToHDW",
    "outputId": "9a5f3d9a-caa7-4ac8-c558-d25a3c351d93",
    "scrolled": true
   },
   "outputs": [
    {
     "name": "stdout",
     "output_type": "stream",
     "text": [
      "Collecting git+https://github.com/tensorflow/docs\n",
      "  Cloning https://github.com/tensorflow/docs to /private/var/folders/qk/0_srvgns7zscwh127pk191h00000gn/T/pip-req-build-h5z3n3_u\n",
      "  Running command git clone --filter=blob:none --quiet https://github.com/tensorflow/docs /private/var/folders/qk/0_srvgns7zscwh127pk191h00000gn/T/pip-req-build-h5z3n3_u\n",
      "  Resolved https://github.com/tensorflow/docs to commit 4f2b5dc48ce04d5be021d08d31b7f5c688501965\n",
      "  Preparing metadata (setup.py) ... \u001b[?25ldone\n",
      "\u001b[?25hRequirement already satisfied: astor in /Users/gioiaboschi/venvs/myenv/lib/python3.7/site-packages (from tensorflow-docs==0.0.0.dev0) (0.8.1)\n",
      "Requirement already satisfied: absl-py in /Users/gioiaboschi/venvs/myenv/lib/python3.7/site-packages (from tensorflow-docs==0.0.0.dev0) (1.2.0)\n",
      "Requirement already satisfied: jinja2 in /Users/gioiaboschi/venvs/myenv/lib/python3.7/site-packages (from tensorflow-docs==0.0.0.dev0) (3.1.2)\n",
      "Requirement already satisfied: nbformat in /Users/gioiaboschi/venvs/myenv/lib/python3.7/site-packages (from tensorflow-docs==0.0.0.dev0) (5.4.0)\n",
      "Requirement already satisfied: protobuf<3.20,>=3.12.0 in /Users/gioiaboschi/venvs/myenv/lib/python3.7/site-packages (from tensorflow-docs==0.0.0.dev0) (3.19.4)\n",
      "Requirement already satisfied: pyyaml in /Users/gioiaboschi/venvs/myenv/lib/python3.7/site-packages (from tensorflow-docs==0.0.0.dev0) (6.0)\n",
      "Requirement already satisfied: MarkupSafe>=2.0 in /Users/gioiaboschi/venvs/myenv/lib/python3.7/site-packages (from jinja2->tensorflow-docs==0.0.0.dev0) (2.1.1)\n",
      "Requirement already satisfied: jsonschema>=2.6 in /Users/gioiaboschi/venvs/myenv/lib/python3.7/site-packages (from nbformat->tensorflow-docs==0.0.0.dev0) (4.7.2)\n",
      "Requirement already satisfied: traitlets>=5.1 in /Users/gioiaboschi/venvs/myenv/lib/python3.7/site-packages (from nbformat->tensorflow-docs==0.0.0.dev0) (5.3.0)\n",
      "Requirement already satisfied: fastjsonschema in /Users/gioiaboschi/venvs/myenv/lib/python3.7/site-packages (from nbformat->tensorflow-docs==0.0.0.dev0) (2.16.1)\n",
      "Requirement already satisfied: jupyter-core in /Users/gioiaboschi/venvs/myenv/lib/python3.7/site-packages (from nbformat->tensorflow-docs==0.0.0.dev0) (4.11.1)\n",
      "Requirement already satisfied: pyrsistent!=0.17.0,!=0.17.1,!=0.17.2,>=0.14.0 in /Users/gioiaboschi/venvs/myenv/lib/python3.7/site-packages (from jsonschema>=2.6->nbformat->tensorflow-docs==0.0.0.dev0) (0.18.1)\n",
      "Requirement already satisfied: typing-extensions in /Users/gioiaboschi/venvs/myenv/lib/python3.7/site-packages (from jsonschema>=2.6->nbformat->tensorflow-docs==0.0.0.dev0) (4.1.1)\n",
      "Requirement already satisfied: attrs>=17.4.0 in /Users/gioiaboschi/venvs/myenv/lib/python3.7/site-packages (from jsonschema>=2.6->nbformat->tensorflow-docs==0.0.0.dev0) (21.4.0)\n",
      "Requirement already satisfied: importlib-metadata in /Users/gioiaboschi/venvs/myenv/lib/python3.7/site-packages (from jsonschema>=2.6->nbformat->tensorflow-docs==0.0.0.dev0) (4.12.0)\n",
      "Requirement already satisfied: importlib-resources>=1.4.0 in /Users/gioiaboschi/venvs/myenv/lib/python3.7/site-packages (from jsonschema>=2.6->nbformat->tensorflow-docs==0.0.0.dev0) (5.8.0)\n",
      "Requirement already satisfied: zipp>=3.1.0 in /Users/gioiaboschi/venvs/myenv/lib/python3.7/site-packages (from importlib-resources>=1.4.0->jsonschema>=2.6->nbformat->tensorflow-docs==0.0.0.dev0) (3.8.1)\n"
     ]
    }
   ],
   "source": [
    "!pip install git+https://github.com/tensorflow/docs\n",
    "\n",
    "import tensorflow_docs as tfdocs\n",
    "import tensorflow_docs.modeling\n",
    "import tensorflow_docs.plots"
   ]
  },
  {
   "cell_type": "markdown",
   "metadata": {
    "id": "EKKz-D_Ij2ZA"
   },
   "source": [
    "# Multi-Layer Fully Connected Networks\n",
    "\n",
    "1. Simply a stack of fully connected layers. \n",
    "2. Each fully connected layer is also called a Dense layer and is composed of multiple perceptron units.\n",
    "3. Each node in the image below is a perceptron\n",
    "\n",
    "\n",
    "![picture](https://drive.google.com/uc?id=1Eyg4RhUnkaEMsX-eTs6c2REZDPH-4tGS)\n"
   ]
  },
  {
   "cell_type": "markdown",
   "metadata": {
    "id": "koVNPt8lmWzd"
   },
   "source": [
    "## Create a simple feed forward neural network"
   ]
  },
  {
   "cell_type": "code",
   "execution_count": 23,
   "metadata": {
    "executionInfo": {
     "elapsed": 244,
     "status": "ok",
     "timestamp": 1637257800733,
     "user": {
      "displayName": "Salvatore Aiola",
      "photoUrl": "https://lh3.googleusercontent.com/a/default-user=s64",
      "userId": "13082271597599627032"
     },
     "user_tz": -60
    },
    "id": "xMp1Y-k3mgAP"
   },
   "outputs": [],
   "source": [
    "# Define Sequential model with 2 layers\n",
    "model = keras.Sequential(\n",
    "    [\n",
    "        layers.Dense(4, activation=\"relu\", name=\"layer1\", input_shape=(10, 3)),\n",
    "        layers.Dense(2, name=\"layer2\"),\n",
    "    ]\n",
    ")"
   ]
  },
  {
   "cell_type": "code",
   "execution_count": 24,
   "metadata": {
    "colab": {
     "base_uri": "https://localhost:8080/",
     "height": 312
    },
    "executionInfo": {
     "elapsed": 586,
     "status": "ok",
     "timestamp": 1637257801315,
     "user": {
      "displayName": "Salvatore Aiola",
      "photoUrl": "https://lh3.googleusercontent.com/a/default-user=s64",
      "userId": "13082271597599627032"
     },
     "user_tz": -60
    },
    "id": "FO4oibo93MuZ",
    "outputId": "e1acd41d-11da-4007-a309-f2c57cde01ae"
   },
   "outputs": [
    {
     "data": {
      "image/png": "[encoded data removed]",
      "text/plain": [
       "<IPython.core.display.Image object>"
      ]
     },
     "execution_count": 24,
     "metadata": {},
     "output_type": "execute_result"
    }
   ],
   "source": [
    "plot_model(model, show_shapes=True, show_layer_names=True)"
   ]
  },
  {
   "cell_type": "code",
   "execution_count": 25,
   "metadata": {
    "colab": {
     "base_uri": "https://localhost:8080/"
    },
    "executionInfo": {
     "elapsed": 29,
     "status": "ok",
     "timestamp": 1637257801316,
     "user": {
      "displayName": "Salvatore Aiola",
      "photoUrl": "https://lh3.googleusercontent.com/a/default-user=s64",
      "userId": "13082271597599627032"
     },
     "user_tz": -60
    },
    "id": "wDAiFpunpIVN",
    "outputId": "db89baaf-5e9a-4243-d0d5-e043c9619131"
   },
   "outputs": [
    {
     "name": "stdout",
     "output_type": "stream",
     "text": [
      "Model: \"sequential_1\"\n",
      "_________________________________________________________________\n",
      " Layer (type)                Output Shape              Param #   \n",
      "=================================================================\n",
      " layer1 (Dense)              (None, 10, 4)             16        \n",
      "                                                                 \n",
      " layer2 (Dense)              (None, 10, 2)             10        \n",
      "                                                                 \n",
      "=================================================================\n",
      "Total params: 26\n",
      "Trainable params: 26\n",
      "Non-trainable params: 0\n",
      "_________________________________________________________________\n"
     ]
    }
   ],
   "source": [
    "model.summary()"
   ]
  },
  {
   "cell_type": "code",
   "execution_count": 26,
   "metadata": {
    "executionInfo": {
     "elapsed": 24,
     "status": "ok",
     "timestamp": 1637257801317,
     "user": {
      "displayName": "Salvatore Aiola",
      "photoUrl": "https://lh3.googleusercontent.com/a/default-user=s64",
      "userId": "13082271597599627032"
     },
     "user_tz": -60
    },
    "id": "VgM413TXtguo"
   },
   "outputs": [],
   "source": [
    "# Call model on a test input\n",
    "x = tf.reshape(tf.random.uniform((10, 3)), (-1,10,3)) #10 samples 3 features \n",
    "y = model(x)"
   ]
  },
  {
   "cell_type": "markdown",
   "metadata": {
    "id": "68brdylCFjT9"
   },
   "source": [
    "## keras.Sequential and model object\n",
    "* `model`: model is core data structure of keras. It holds the stack of layers created for the model. \n",
    "\n",
    "* `keras.Sequential`: creates model object. Provides functions to fit the model and do predict on the model.\n"
   ]
  },
  {
   "cell_type": "markdown",
   "metadata": {
    "id": "PW7LkzF23vFF"
   },
   "source": [
    "# Sample problem : Fashion Mnist\n",
    "\n",
    "Train a neural network model to classify images of clothing, like sneakers and shirts.\n",
    "\n",
    "Here, 60,000 images are used to train the network and 10,000 images to evaluate how accurately the network learned to classify images. You can access the Fashion MNIST directly from TensorFlow. Import and load the Fashion MNIST data directly from TensorFlow:\n",
    "\n"
   ]
  },
  {
   "cell_type": "code",
   "execution_count": 27,
   "metadata": {
    "colab": {
     "base_uri": "https://localhost:8080/"
    },
    "executionInfo": {
     "elapsed": 537,
     "status": "ok",
     "timestamp": 1637257801836,
     "user": {
      "displayName": "Salvatore Aiola",
      "photoUrl": "https://lh3.googleusercontent.com/a/default-user=s64",
      "userId": "13082271597599627032"
     },
     "user_tz": -60
    },
    "id": "JNOCwULrqrNd",
    "outputId": "a39cfcd9-0dda-4fac-90f4-0e29bf361e87"
   },
   "outputs": [],
   "source": [
    "fashion_mnist = tf.keras.datasets.fashion_mnist\n",
    "\n",
    "(train_images, train_labels), (test_images, test_labels) = fashion_mnist.load_data()"
   ]
  },
  {
   "cell_type": "markdown",
   "metadata": {
    "id": "VHM1wi2Crfn0"
   },
   "source": [
    "Loading the dataset returns four NumPy arrays:\n",
    "\n",
    "* The `train_images` and `train_labels` arrays are the *training set*—the data the model uses to learn.\n",
    "* The model is tested against the *test set*, the `test_images`, and `test_labels` arrays.\n",
    "\n",
    "The images are 28x28 NumPy arrays, with pixel values ranging from 0 to 255. The *labels* are an array of integers, ranging from 0 to 9. These correspond to the *class* of clothing the image represents:\n",
    "\n",
    "<table>\n",
    "  <tr>\n",
    "    <th>Label</th>\n",
    "    <th>Class</th>\n",
    "  </tr>\n",
    "  <tr>\n",
    "    <td>0</td>\n",
    "    <td>T-shirt/top</td>\n",
    "  </tr>\n",
    "  <tr>\n",
    "    <td>1</td>\n",
    "    <td>Trouser</td>\n",
    "  </tr>\n",
    "    <tr>\n",
    "    <td>2</td>\n",
    "    <td>Pullover</td>\n",
    "  </tr>\n",
    "    <tr>\n",
    "    <td>3</td>\n",
    "    <td>Dress</td>\n",
    "  </tr>\n",
    "    <tr>\n",
    "    <td>4</td>\n",
    "    <td>Coat</td>\n",
    "  </tr>\n",
    "    <tr>\n",
    "    <td>5</td>\n",
    "    <td>Sandal</td>\n",
    "  </tr>\n",
    "    <tr>\n",
    "    <td>6</td>\n",
    "    <td>Shirt</td>\n",
    "  </tr>\n",
    "    <tr>\n",
    "    <td>7</td>\n",
    "    <td>Sneaker</td>\n",
    "  </tr>\n",
    "    <tr>\n",
    "    <td>8</td>\n",
    "    <td>Bag</td>\n",
    "  </tr>\n",
    "    <tr>\n",
    "    <td>9</td>\n",
    "    <td>Ankle boot</td>\n",
    "  </tr>\n",
    "</table>\n",
    "\n",
    "Each image is mapped to a single label. Since the *class names* are not included with the dataset, store them here to use later when plotting the images:"
   ]
  },
  {
   "cell_type": "code",
   "execution_count": 28,
   "metadata": {
    "executionInfo": {
     "elapsed": 21,
     "status": "ok",
     "timestamp": 1637257801837,
     "user": {
      "displayName": "Salvatore Aiola",
      "photoUrl": "https://lh3.googleusercontent.com/a/default-user=s64",
      "userId": "13082271597599627032"
     },
     "user_tz": -60
    },
    "id": "ufH0IY0irnGO"
   },
   "outputs": [],
   "source": [
    "class_names = ['T-shirt/top', 'Trouser', 'Pullover', 'Dress', 'Coat',\n",
    "               'Sandal', 'Shirt', 'Sneaker', 'Bag', 'Ankle boot']"
   ]
  },
  {
   "cell_type": "markdown",
   "metadata": {
    "id": "mb5d5XCZruG6"
   },
   "source": [
    "## Explore the data\n",
    "Image shape : 60,000 x 28 x 28\n",
    "\n",
    "Each image is represented as a 2 dimensional matrix of 28 x 28"
   ]
  },
  {
   "cell_type": "code",
   "execution_count": 29,
   "metadata": {
    "colab": {
     "base_uri": "https://localhost:8080/"
    },
    "executionInfo": {
     "elapsed": 20,
     "status": "ok",
     "timestamp": 1637257801837,
     "user": {
      "displayName": "Salvatore Aiola",
      "photoUrl": "https://lh3.googleusercontent.com/a/default-user=s64",
      "userId": "13082271597599627032"
     },
     "user_tz": -60
    },
    "id": "XgG1w55JrwQn",
    "outputId": "4fdfb425-2722-4684-bf80-036c60fdd6f9"
   },
   "outputs": [
    {
     "data": {
      "text/plain": [
       "((60000, 28, 28), 60000)"
      ]
     },
     "execution_count": 29,
     "metadata": {},
     "output_type": "execute_result"
    }
   ],
   "source": [
    "train_images.shape,len(train_labels)"
   ]
  },
  {
   "cell_type": "code",
   "execution_count": 30,
   "metadata": {
    "colab": {
     "base_uri": "https://localhost:8080/"
    },
    "executionInfo": {
     "elapsed": 15,
     "status": "ok",
     "timestamp": 1637257801840,
     "user": {
      "displayName": "Salvatore Aiola",
      "photoUrl": "https://lh3.googleusercontent.com/a/default-user=s64",
      "userId": "13082271597599627032"
     },
     "user_tz": -60
    },
    "id": "Qkgk8WLAsHgS",
    "outputId": "57f124c8-aeaf-452a-851c-bc8e6e445277"
   },
   "outputs": [
    {
     "data": {
      "text/plain": [
       "((10000, 28, 28), 10000)"
      ]
     },
     "execution_count": 30,
     "metadata": {},
     "output_type": "execute_result"
    }
   ],
   "source": [
    "test_images.shape, len(test_labels)"
   ]
  },
  {
   "cell_type": "code",
   "execution_count": 31,
   "metadata": {
    "colab": {
     "base_uri": "https://localhost:8080/",
     "height": 265
    },
    "executionInfo": {
     "elapsed": 380,
     "status": "ok",
     "timestamp": 1637257802209,
     "user": {
      "displayName": "Salvatore Aiola",
      "photoUrl": "https://lh3.googleusercontent.com/a/default-user=s64",
      "userId": "13082271597599627032"
     },
     "user_tz": -60
    },
    "id": "uFiJ1fAMsdrj",
    "outputId": "8a4bc306-5c78-4af2-dc1d-7394e5fe3189"
   },
   "outputs": [
    {
     "data": {
      "image/png": "[encoded data removed]",
      "text/plain": [
       "<Figure size 432x288 with 2 Axes>"
      ]
     },
     "metadata": {
      "needs_background": "light"
     },
     "output_type": "display_data"
    }
   ],
   "source": [
    "plt.imshow(train_images[0], plt.cm.binary)\n",
    "plt.colorbar()\n",
    "plt.grid(False)\n",
    "plt.show()"
   ]
  },
  {
   "cell_type": "markdown",
   "metadata": {
    "id": "MsmP2X8lt3ZQ"
   },
   "source": [
    "## Preprocess images\n",
    "Normalize pixel values in the range [0, 1], i.e. divide by 255."
   ]
  },
  {
   "cell_type": "code",
   "execution_count": 32,
   "metadata": {
    "executionInfo": {
     "elapsed": 537,
     "status": "ok",
     "timestamp": 1637257802738,
     "user": {
      "displayName": "Salvatore Aiola",
      "photoUrl": "https://lh3.googleusercontent.com/a/default-user=s64",
      "userId": "13082271597599627032"
     },
     "user_tz": -60
    },
    "id": "8xDwuGDSt2iz"
   },
   "outputs": [],
   "source": [
    "# important to perform each processing step separately on train and test \n",
    "\n",
    "train_images = train_images / 255.0\n",
    "\n",
    "test_images = test_images / 255.0"
   ]
  },
  {
   "cell_type": "code",
   "execution_count": 33,
   "metadata": {
    "colab": {
     "base_uri": "https://localhost:8080/",
     "height": 541
    },
    "executionInfo": {
     "elapsed": 465,
     "status": "ok",
     "timestamp": 1637257803159,
     "user": {
      "displayName": "Salvatore Aiola",
      "photoUrl": "https://lh3.googleusercontent.com/a/default-user=s64",
      "userId": "13082271597599627032"
     },
     "user_tz": -60
    },
    "id": "5G2-rqN6uaSI",
    "outputId": "d4c82be6-5af4-4da2-ae91-5548cb132b54"
   },
   "outputs": [
    {
     "data": {
      "image/png": "[encoded data removed]",
      "text/plain": [
       "<Figure size 432x288 with 1 Axes>"
      ]
     },
     "metadata": {
      "needs_background": "light"
     },
     "output_type": "display_data"
    },
    {
     "data": {
      "image/png": "[encoded data removed]",
      "text/plain": [
       "<Figure size 432x288 with 1 Axes>"
      ]
     },
     "metadata": {
      "needs_background": "light"
     },
     "output_type": "display_data"
    }
   ],
   "source": [
    "plt.imshow(train_images[0], cmap=plt.cm.binary)\n",
    "plt.xlabel(class_names[train_labels[0]])\n",
    "plt.show()\n",
    "plt.imshow(train_images[1], cmap=plt.cm.binary)\n",
    "plt.xlabel(class_names[train_labels[1]])\n",
    "plt.show()"
   ]
  },
  {
   "cell_type": "markdown",
   "metadata": {
    "id": "KhAPvd5Hu4ug"
   },
   "source": [
    "## Build the model and pipeline using Sequential API\n",
    "\n",
    "## Setup layers\n",
    "\n",
    "Flatten -> Dense(128) -> Dense(10) \n",
    "\n",
    "Flatten : flatten images i.e. convert 28,28 to 28*28=784 vector\n",
    "\n",
    "Dense(250): Hidden layer with 250 units\n",
    "\n",
    "Dense(10): Dense layer with 10 outputs each corresponding to our class label"
   ]
  },
  {
   "cell_type": "code",
   "execution_count": 34,
   "metadata": {
    "executionInfo": {
     "elapsed": 12,
     "status": "ok",
     "timestamp": 1637257803160,
     "user": {
      "displayName": "Salvatore Aiola",
      "photoUrl": "https://lh3.googleusercontent.com/a/default-user=s64",
      "userId": "13082271597599627032"
     },
     "user_tz": -60
    },
    "id": "8tzrpQ0ku4ID"
   },
   "outputs": [],
   "source": [
    "model = tf.keras.Sequential([\n",
    "    tf.keras.layers.Flatten(input_shape=(28, 28)),\n",
    "    tf.keras.layers.Dense(250, activation='relu'),\n",
    "    tf.keras.layers.Dense(10, activation='softmax')\n",
    "])"
   ]
  },
  {
   "cell_type": "markdown",
   "metadata": {
    "id": "jeMpTjIWv70Z"
   },
   "source": [
    "## Compile the model\n",
    "\n",
    "Compiling the model means setting up the optimizer and loss function\n",
    "\n",
    "* **Loss function** —This measures how accurate the model is during training. You want to minimize this function to \"steer\" the model in the right direction.\n",
    "* **Optimizer** —This is how the model is updated based on the data it sees and its loss function.\n",
    "* **Metrics** —Used to monitor the training and testing steps. This example uses accuracy, the fraction of the images that are correctly classified."
   ]
  },
  {
   "cell_type": "code",
   "execution_count": 35,
   "metadata": {
    "colab": {
     "base_uri": "https://localhost:8080/"
    },
    "executionInfo": {
     "elapsed": 12,
     "status": "ok",
     "timestamp": 1637257803161,
     "user": {
      "displayName": "Salvatore Aiola",
      "photoUrl": "https://lh3.googleusercontent.com/a/default-user=s64",
      "userId": "13082271597599627032"
     },
     "user_tz": -60
    },
    "id": "SzxXzsOUwgPB",
    "outputId": "d7d5f12e-2ddc-4a7e-b358-7e2da78e1757"
   },
   "outputs": [
    {
     "name": "stdout",
     "output_type": "stream",
     "text": [
      "Model: \"sequential_2\"\n",
      "_________________________________________________________________\n",
      " Layer (type)                Output Shape              Param #   \n",
      "=================================================================\n",
      " flatten (Flatten)           (None, 784)               0         \n",
      "                                                                 \n",
      " dense (Dense)               (None, 250)               196250    \n",
      "                                                                 \n",
      " dense_1 (Dense)             (None, 10)                2510      \n",
      "                                                                 \n",
      "=================================================================\n",
      "Total params: 198,760\n",
      "Trainable params: 198,760\n",
      "Non-trainable params: 0\n",
      "_________________________________________________________________\n"
     ]
    }
   ],
   "source": [
    "model.compile(optimizer='adam',\n",
    "              loss=tf.keras.losses.SparseCategoricalCrossentropy(from_logits=False),\n",
    "              metrics=['accuracy'])\n",
    "model.summary()"
   ]
  },
  {
   "cell_type": "markdown",
   "metadata": {
    "id": "3lPdiH_Qx9ne"
   },
   "source": [
    "Categorical cross entropy : Use when class labels are one hot encoded\n",
    "\n",
    "Sparse categorical cross entropy : Use when class labels are integers"
   ]
  },
  {
   "cell_type": "markdown",
   "metadata": {
    "id": "6GFoFSPnzB8N"
   },
   "source": [
    "## Train the model\n",
    "Training the neural network model requires the following steps:\n",
    "\n",
    "1. Feed the training data to the model. In this example, the training data is in the train_images and train_labels arrays.\n",
    "2. The model learns to associate images and labels.\n",
    "3. You ask the model to make predictions about a test set—in this example, the test_images array.\n",
    "4. Verify that the predictions match the labels from the test_labels array."
   ]
  },
  {
   "cell_type": "code",
   "execution_count": 36,
   "metadata": {
    "colab": {
     "base_uri": "https://localhost:8080/"
    },
    "executionInfo": {
     "elapsed": 142262,
     "status": "ok",
     "timestamp": 1637257945415,
     "user": {
      "displayName": "Salvatore Aiola",
      "photoUrl": "https://lh3.googleusercontent.com/a/default-user=s64",
      "userId": "13082271597599627032"
     },
     "user_tz": -60
    },
    "id": "HrLm8lkdwlMG",
    "outputId": "b20537c9-a539-44b9-b156-1e47e8fc374a"
   },
   "outputs": [
    {
     "name": "stdout",
     "output_type": "stream",
     "text": [
      "Epoch 1/100\n",
      "48/48 [==============================] - 1s 13ms/step - loss: 0.8343 - accuracy: 0.7220 - val_loss: 0.5412 - val_accuracy: 0.8194\n",
      "Epoch 2/100\n",
      "48/48 [==============================] - 0s 9ms/step - loss: 0.4957 - accuracy: 0.8319 - val_loss: 0.4852 - val_accuracy: 0.8300\n",
      "Epoch 3/100\n",
      "48/48 [==============================] - 0s 8ms/step - loss: 0.4457 - accuracy: 0.8464 - val_loss: 0.4347 - val_accuracy: 0.8528\n",
      "Epoch 4/100\n",
      "48/48 [==============================] - 0s 8ms/step - loss: 0.4145 - accuracy: 0.8572 - val_loss: 0.4135 - val_accuracy: 0.8576\n",
      "Epoch 5/100\n",
      "48/48 [==============================] - 0s 8ms/step - loss: 0.3939 - accuracy: 0.8645 - val_loss: 0.4139 - val_accuracy: 0.8550\n",
      "Epoch 6/100\n",
      "48/48 [==============================] - 0s 8ms/step - loss: 0.3737 - accuracy: 0.8703 - val_loss: 0.3860 - val_accuracy: 0.8656\n",
      "Epoch 7/100\n",
      "48/48 [==============================] - 0s 8ms/step - loss: 0.3559 - accuracy: 0.8763 - val_loss: 0.3746 - val_accuracy: 0.8708\n",
      "Epoch 8/100\n",
      "48/48 [==============================] - 0s 8ms/step - loss: 0.3443 - accuracy: 0.8789 - val_loss: 0.3685 - val_accuracy: 0.8735\n",
      "Epoch 9/100\n",
      "48/48 [==============================] - 0s 8ms/step - loss: 0.3365 - accuracy: 0.8813 - val_loss: 0.3619 - val_accuracy: 0.8733\n",
      "Epoch 10/100\n",
      "48/48 [==============================] - 0s 9ms/step - loss: 0.3270 - accuracy: 0.8844 - val_loss: 0.3551 - val_accuracy: 0.8727\n",
      "Epoch 11/100\n",
      "48/48 [==============================] - 0s 8ms/step - loss: 0.3230 - accuracy: 0.8848 - val_loss: 0.3564 - val_accuracy: 0.8740\n",
      "Epoch 12/100\n",
      "48/48 [==============================] - 0s 8ms/step - loss: 0.3079 - accuracy: 0.8908 - val_loss: 0.3509 - val_accuracy: 0.8773\n",
      "Epoch 13/100\n",
      "48/48 [==============================] - 0s 8ms/step - loss: 0.2999 - accuracy: 0.8929 - val_loss: 0.3363 - val_accuracy: 0.8808\n",
      "Epoch 14/100\n",
      "48/48 [==============================] - 0s 8ms/step - loss: 0.2922 - accuracy: 0.8960 - val_loss: 0.3352 - val_accuracy: 0.8817\n",
      "Epoch 15/100\n",
      "48/48 [==============================] - 0s 8ms/step - loss: 0.2854 - accuracy: 0.8978 - val_loss: 0.3285 - val_accuracy: 0.8831\n",
      "Epoch 16/100\n",
      "48/48 [==============================] - 0s 10ms/step - loss: 0.2807 - accuracy: 0.8988 - val_loss: 0.3436 - val_accuracy: 0.8789\n",
      "Epoch 17/100\n",
      "48/48 [==============================] - 0s 8ms/step - loss: 0.2772 - accuracy: 0.9000 - val_loss: 0.3246 - val_accuracy: 0.8823\n",
      "Epoch 18/100\n",
      "48/48 [==============================] - 0s 8ms/step - loss: 0.2673 - accuracy: 0.9050 - val_loss: 0.3232 - val_accuracy: 0.8841\n",
      "Epoch 19/100\n",
      "48/48 [==============================] - 0s 9ms/step - loss: 0.2606 - accuracy: 0.9066 - val_loss: 0.3302 - val_accuracy: 0.8823\n",
      "Epoch 20/100\n",
      "48/48 [==============================] - 0s 9ms/step - loss: 0.2564 - accuracy: 0.9084 - val_loss: 0.3162 - val_accuracy: 0.8883\n",
      "Epoch 21/100\n",
      "48/48 [==============================] - 0s 8ms/step - loss: 0.2489 - accuracy: 0.9109 - val_loss: 0.3232 - val_accuracy: 0.8844\n",
      "Epoch 22/100\n",
      "48/48 [==============================] - 0s 8ms/step - loss: 0.2496 - accuracy: 0.9091 - val_loss: 0.3204 - val_accuracy: 0.8860\n",
      "Epoch 23/100\n",
      "48/48 [==============================] - 0s 8ms/step - loss: 0.2405 - accuracy: 0.9138 - val_loss: 0.3151 - val_accuracy: 0.8887\n",
      "Epoch 24/100\n",
      "48/48 [==============================] - 0s 8ms/step - loss: 0.2420 - accuracy: 0.9126 - val_loss: 0.3286 - val_accuracy: 0.8852\n",
      "Epoch 25/100\n",
      "48/48 [==============================] - 0s 8ms/step - loss: 0.2339 - accuracy: 0.9165 - val_loss: 0.3108 - val_accuracy: 0.8879\n",
      "Epoch 26/100\n",
      "48/48 [==============================] - 0s 7ms/step - loss: 0.2313 - accuracy: 0.9171 - val_loss: 0.3205 - val_accuracy: 0.8867\n",
      "Epoch 27/100\n",
      "48/48 [==============================] - 0s 7ms/step - loss: 0.2305 - accuracy: 0.9168 - val_loss: 0.3155 - val_accuracy: 0.8865\n",
      "Epoch 28/100\n",
      "48/48 [==============================] - 0s 8ms/step - loss: 0.2207 - accuracy: 0.9226 - val_loss: 0.3081 - val_accuracy: 0.8901\n",
      "Epoch 29/100\n",
      "48/48 [==============================] - 0s 8ms/step - loss: 0.2172 - accuracy: 0.9237 - val_loss: 0.3133 - val_accuracy: 0.8897\n",
      "Epoch 30/100\n",
      "48/48 [==============================] - 0s 7ms/step - loss: 0.2150 - accuracy: 0.9235 - val_loss: 0.3250 - val_accuracy: 0.8875\n",
      "Epoch 31/100\n",
      "48/48 [==============================] - 0s 7ms/step - loss: 0.2138 - accuracy: 0.9247 - val_loss: 0.3139 - val_accuracy: 0.8893\n",
      "Epoch 32/100\n",
      "48/48 [==============================] - 0s 7ms/step - loss: 0.2076 - accuracy: 0.9255 - val_loss: 0.3113 - val_accuracy: 0.8893\n",
      "Epoch 33/100\n",
      "48/48 [==============================] - 0s 8ms/step - loss: 0.2058 - accuracy: 0.9275 - val_loss: 0.3113 - val_accuracy: 0.8893\n",
      "Epoch 34/100\n",
      "48/48 [==============================] - 0s 7ms/step - loss: 0.2026 - accuracy: 0.9280 - val_loss: 0.3046 - val_accuracy: 0.8938\n",
      "Epoch 35/100\n",
      "48/48 [==============================] - 0s 7ms/step - loss: 0.1968 - accuracy: 0.9308 - val_loss: 0.3044 - val_accuracy: 0.8910\n",
      "Epoch 36/100\n",
      "48/48 [==============================] - 0s 7ms/step - loss: 0.1914 - accuracy: 0.9330 - val_loss: 0.3168 - val_accuracy: 0.8878\n",
      "Epoch 37/100\n",
      "48/48 [==============================] - 0s 7ms/step - loss: 0.1944 - accuracy: 0.9328 - val_loss: 0.3066 - val_accuracy: 0.8917\n",
      "Epoch 38/100\n",
      "48/48 [==============================] - 0s 7ms/step - loss: 0.1873 - accuracy: 0.9341 - val_loss: 0.3151 - val_accuracy: 0.8901\n",
      "Epoch 39/100\n",
      "48/48 [==============================] - 0s 7ms/step - loss: 0.1850 - accuracy: 0.9350 - val_loss: 0.3094 - val_accuracy: 0.8896\n",
      "Epoch 40/100\n",
      "48/48 [==============================] - 0s 7ms/step - loss: 0.1832 - accuracy: 0.9367 - val_loss: 0.3170 - val_accuracy: 0.8902\n",
      "Epoch 41/100\n",
      "48/48 [==============================] - 0s 7ms/step - loss: 0.1806 - accuracy: 0.9372 - val_loss: 0.3208 - val_accuracy: 0.8871\n",
      "Epoch 42/100\n",
      "48/48 [==============================] - 0s 8ms/step - loss: 0.1801 - accuracy: 0.9382 - val_loss: 0.3123 - val_accuracy: 0.8913\n",
      "Epoch 43/100\n",
      "48/48 [==============================] - 0s 7ms/step - loss: 0.1767 - accuracy: 0.9389 - val_loss: 0.3060 - val_accuracy: 0.8918\n",
      "Epoch 44/100\n",
      "48/48 [==============================] - 0s 7ms/step - loss: 0.1740 - accuracy: 0.9396 - val_loss: 0.3211 - val_accuracy: 0.8879\n",
      "Epoch 45/100\n",
      "48/48 [==============================] - 0s 7ms/step - loss: 0.1726 - accuracy: 0.9394 - val_loss: 0.3095 - val_accuracy: 0.8923\n",
      "Epoch 46/100\n",
      "48/48 [==============================] - 0s 8ms/step - loss: 0.1712 - accuracy: 0.9398 - val_loss: 0.3137 - val_accuracy: 0.8905\n",
      "Epoch 47/100\n",
      "48/48 [==============================] - 0s 7ms/step - loss: 0.1689 - accuracy: 0.9413 - val_loss: 0.3265 - val_accuracy: 0.8880\n",
      "Epoch 48/100\n",
      "48/48 [==============================] - 0s 7ms/step - loss: 0.1637 - accuracy: 0.9444 - val_loss: 0.3083 - val_accuracy: 0.8936\n",
      "Epoch 49/100\n",
      "48/48 [==============================] - 0s 7ms/step - loss: 0.1569 - accuracy: 0.9466 - val_loss: 0.3189 - val_accuracy: 0.8892\n",
      "Epoch 50/100\n",
      "48/48 [==============================] - 0s 7ms/step - loss: 0.1618 - accuracy: 0.9446 - val_loss: 0.3200 - val_accuracy: 0.8891\n",
      "Epoch 51/100\n",
      "48/48 [==============================] - 0s 7ms/step - loss: 0.1540 - accuracy: 0.9470 - val_loss: 0.3171 - val_accuracy: 0.8917\n",
      "Epoch 52/100\n",
      "48/48 [==============================] - 0s 7ms/step - loss: 0.1541 - accuracy: 0.9469 - val_loss: 0.3225 - val_accuracy: 0.8874\n",
      "Epoch 53/100\n",
      "48/48 [==============================] - 0s 9ms/step - loss: 0.1524 - accuracy: 0.9474 - val_loss: 0.3120 - val_accuracy: 0.8918\n",
      "Epoch 54/100\n",
      "48/48 [==============================] - 0s 7ms/step - loss: 0.1488 - accuracy: 0.9494 - val_loss: 0.3158 - val_accuracy: 0.8903\n",
      "Epoch 55/100\n",
      "48/48 [==============================] - 0s 7ms/step - loss: 0.1488 - accuracy: 0.9487 - val_loss: 0.3133 - val_accuracy: 0.8916\n",
      "Epoch 56/100\n",
      "48/48 [==============================] - 0s 9ms/step - loss: 0.1475 - accuracy: 0.9491 - val_loss: 0.3378 - val_accuracy: 0.8882\n",
      "Epoch 57/100\n",
      "48/48 [==============================] - 0s 7ms/step - loss: 0.1486 - accuracy: 0.9485 - val_loss: 0.3233 - val_accuracy: 0.8880\n",
      "Epoch 58/100\n",
      "48/48 [==============================] - 0s 8ms/step - loss: 0.1413 - accuracy: 0.9516 - val_loss: 0.3174 - val_accuracy: 0.8919\n"
     ]
    },
    {
     "name": "stdout",
     "output_type": "stream",
     "text": [
      "Epoch 59/100\n",
      "48/48 [==============================] - 0s 7ms/step - loss: 0.1398 - accuracy: 0.9526 - val_loss: 0.3148 - val_accuracy: 0.8935\n",
      "Epoch 60/100\n",
      "48/48 [==============================] - 0s 7ms/step - loss: 0.1379 - accuracy: 0.9529 - val_loss: 0.3228 - val_accuracy: 0.8908\n",
      "Epoch 61/100\n",
      "48/48 [==============================] - 0s 7ms/step - loss: 0.1345 - accuracy: 0.9555 - val_loss: 0.3410 - val_accuracy: 0.8877\n",
      "Epoch 62/100\n",
      "48/48 [==============================] - 0s 7ms/step - loss: 0.1364 - accuracy: 0.9550 - val_loss: 0.3193 - val_accuracy: 0.8946\n",
      "Epoch 63/100\n",
      "48/48 [==============================] - 0s 8ms/step - loss: 0.1303 - accuracy: 0.9562 - val_loss: 0.3294 - val_accuracy: 0.8891\n",
      "Epoch 64/100\n",
      "48/48 [==============================] - 0s 7ms/step - loss: 0.1280 - accuracy: 0.9575 - val_loss: 0.3283 - val_accuracy: 0.8913\n",
      "Epoch 65/100\n",
      "48/48 [==============================] - 0s 8ms/step - loss: 0.1275 - accuracy: 0.9566 - val_loss: 0.3216 - val_accuracy: 0.8919\n",
      "Epoch 66/100\n",
      "48/48 [==============================] - 0s 7ms/step - loss: 0.1255 - accuracy: 0.9580 - val_loss: 0.3246 - val_accuracy: 0.8933\n",
      "Epoch 67/100\n",
      "48/48 [==============================] - 0s 7ms/step - loss: 0.1209 - accuracy: 0.9602 - val_loss: 0.3210 - val_accuracy: 0.8924\n",
      "Epoch 68/100\n",
      "48/48 [==============================] - 0s 7ms/step - loss: 0.1207 - accuracy: 0.9601 - val_loss: 0.3305 - val_accuracy: 0.8918\n",
      "Epoch 69/100\n",
      "48/48 [==============================] - 0s 7ms/step - loss: 0.1208 - accuracy: 0.9604 - val_loss: 0.3277 - val_accuracy: 0.8943\n",
      "Epoch 70/100\n",
      "48/48 [==============================] - 0s 7ms/step - loss: 0.1168 - accuracy: 0.9620 - val_loss: 0.3499 - val_accuracy: 0.8880\n",
      "Epoch 71/100\n",
      "48/48 [==============================] - 0s 7ms/step - loss: 0.1200 - accuracy: 0.9597 - val_loss: 0.3289 - val_accuracy: 0.8927\n",
      "Epoch 72/100\n",
      "48/48 [==============================] - 0s 7ms/step - loss: 0.1147 - accuracy: 0.9626 - val_loss: 0.3297 - val_accuracy: 0.8934\n",
      "Epoch 73/100\n",
      "48/48 [==============================] - 0s 7ms/step - loss: 0.1144 - accuracy: 0.9626 - val_loss: 0.3289 - val_accuracy: 0.8940\n",
      "Epoch 74/100\n",
      "48/48 [==============================] - 0s 8ms/step - loss: 0.1094 - accuracy: 0.9646 - val_loss: 0.3360 - val_accuracy: 0.8907\n",
      "Epoch 75/100\n",
      "48/48 [==============================] - 0s 8ms/step - loss: 0.1129 - accuracy: 0.9626 - val_loss: 0.3364 - val_accuracy: 0.8918\n",
      "Epoch 76/100\n",
      "48/48 [==============================] - 0s 7ms/step - loss: 0.1142 - accuracy: 0.9614 - val_loss: 0.3374 - val_accuracy: 0.8935\n",
      "Epoch 77/100\n",
      "48/48 [==============================] - 0s 7ms/step - loss: 0.1087 - accuracy: 0.9637 - val_loss: 0.3383 - val_accuracy: 0.8930\n",
      "Epoch 78/100\n",
      "48/48 [==============================] - 0s 7ms/step - loss: 0.1054 - accuracy: 0.9661 - val_loss: 0.3432 - val_accuracy: 0.8925\n",
      "Epoch 79/100\n",
      "48/48 [==============================] - 0s 7ms/step - loss: 0.1034 - accuracy: 0.9673 - val_loss: 0.3353 - val_accuracy: 0.8949\n",
      "Epoch 80/100\n",
      "48/48 [==============================] - 0s 9ms/step - loss: 0.1024 - accuracy: 0.9668 - val_loss: 0.3456 - val_accuracy: 0.8919\n",
      "Epoch 81/100\n",
      "48/48 [==============================] - 0s 7ms/step - loss: 0.1028 - accuracy: 0.9665 - val_loss: 0.3443 - val_accuracy: 0.8927\n",
      "Epoch 82/100\n",
      "48/48 [==============================] - 0s 8ms/step - loss: 0.1003 - accuracy: 0.9676 - val_loss: 0.3463 - val_accuracy: 0.8924\n",
      "Epoch 83/100\n",
      "48/48 [==============================] - 0s 7ms/step - loss: 0.0989 - accuracy: 0.9688 - val_loss: 0.3417 - val_accuracy: 0.8939\n",
      "Epoch 84/100\n",
      "48/48 [==============================] - 0s 7ms/step - loss: 0.0975 - accuracy: 0.9686 - val_loss: 0.3561 - val_accuracy: 0.8914\n",
      "Epoch 85/100\n",
      "48/48 [==============================] - 0s 7ms/step - loss: 0.0956 - accuracy: 0.9697 - val_loss: 0.3472 - val_accuracy: 0.8922\n",
      "Epoch 86/100\n",
      "48/48 [==============================] - 0s 8ms/step - loss: 0.0934 - accuracy: 0.9708 - val_loss: 0.3490 - val_accuracy: 0.8925\n",
      "Epoch 87/100\n",
      "48/48 [==============================] - 0s 8ms/step - loss: 0.0924 - accuracy: 0.9707 - val_loss: 0.3579 - val_accuracy: 0.8906\n",
      "Epoch 88/100\n",
      "48/48 [==============================] - 0s 8ms/step - loss: 0.0899 - accuracy: 0.9720 - val_loss: 0.3523 - val_accuracy: 0.8951\n",
      "Epoch 89/100\n",
      "48/48 [==============================] - 0s 8ms/step - loss: 0.0906 - accuracy: 0.9712 - val_loss: 0.3573 - val_accuracy: 0.8918\n",
      "Epoch 90/100\n",
      "48/48 [==============================] - 0s 8ms/step - loss: 0.0947 - accuracy: 0.9694 - val_loss: 0.3537 - val_accuracy: 0.8929\n",
      "Epoch 91/100\n",
      "48/48 [==============================] - 0s 8ms/step - loss: 0.0881 - accuracy: 0.9723 - val_loss: 0.3522 - val_accuracy: 0.8930\n",
      "Epoch 92/100\n",
      "48/48 [==============================] - 0s 8ms/step - loss: 0.0838 - accuracy: 0.9741 - val_loss: 0.3539 - val_accuracy: 0.8928\n",
      "Epoch 93/100\n",
      "48/48 [==============================] - 0s 8ms/step - loss: 0.0839 - accuracy: 0.9745 - val_loss: 0.3625 - val_accuracy: 0.8916\n",
      "Epoch 94/100\n",
      "48/48 [==============================] - 0s 7ms/step - loss: 0.0822 - accuracy: 0.9752 - val_loss: 0.3575 - val_accuracy: 0.8941\n",
      "Epoch 95/100\n",
      "48/48 [==============================] - 0s 8ms/step - loss: 0.0808 - accuracy: 0.9755 - val_loss: 0.3636 - val_accuracy: 0.8928\n",
      "Epoch 96/100\n",
      "48/48 [==============================] - 0s 8ms/step - loss: 0.0817 - accuracy: 0.9757 - val_loss: 0.3636 - val_accuracy: 0.8919\n",
      "Epoch 97/100\n",
      "48/48 [==============================] - 0s 8ms/step - loss: 0.0791 - accuracy: 0.9765 - val_loss: 0.3615 - val_accuracy: 0.8939\n",
      "Epoch 98/100\n",
      "48/48 [==============================] - 0s 8ms/step - loss: 0.0788 - accuracy: 0.9763 - val_loss: 0.3618 - val_accuracy: 0.8945\n",
      "Epoch 99/100\n",
      "48/48 [==============================] - 0s 8ms/step - loss: 0.0803 - accuracy: 0.9758 - val_loss: 0.3703 - val_accuracy: 0.8922\n",
      "Epoch 100/100\n",
      "48/48 [==============================] - 0s 8ms/step - loss: 0.0802 - accuracy: 0.9742 - val_loss: 0.3751 - val_accuracy: 0.8925\n"
     ]
    }
   ],
   "source": [
    "# tensorboard settings to view plots\n",
    "logdir = \"logs/scalars/\" + datetime.now().strftime(\"%Y%m%d-%H%M%S\")\n",
    "tensorboard_callback = keras.callbacks.TensorBoard(log_dir=logdir)\n",
    "\n",
    "history = model.fit(\n",
    "    train_images, \n",
    "    train_labels, \n",
    "    epochs=100, \n",
    "    batch_size=1000, \n",
    "    shuffle=True, \n",
    "    callbacks=[tensorboard_callback], \n",
    "    validation_split=0.2\n",
    ")"
   ]
  },
  {
   "cell_type": "markdown",
   "metadata": {
    "id": "XVis46hYzW7o"
   },
   "source": [
    "## Evaluate the model on test set"
   ]
  },
  {
   "cell_type": "code",
   "execution_count": 37,
   "metadata": {
    "colab": {
     "base_uri": "https://localhost:8080/"
    },
    "executionInfo": {
     "elapsed": 606,
     "status": "ok",
     "timestamp": 1637257946001,
     "user": {
      "displayName": "Salvatore Aiola",
      "photoUrl": "https://lh3.googleusercontent.com/a/default-user=s64",
      "userId": "13082271597599627032"
     },
     "user_tz": -60
    },
    "id": "oAaA-zsEzpfB",
    "outputId": "c7f5a386-ad48-4c74-bda8-eafb950bc0be"
   },
   "outputs": [
    {
     "name": "stdout",
     "output_type": "stream",
     "text": [
      "313/313 - 0s - loss: 0.4030 - accuracy: 0.8861 - 499ms/epoch - 2ms/step\n",
      "\n",
      "Test accuracy: 0.8860999941825867\n"
     ]
    }
   ],
   "source": [
    "test_loss, test_acc = model.evaluate(test_images,  test_labels, verbose=2)\n",
    "\n",
    "print('\\nTest accuracy:', test_acc)"
   ]
  },
  {
   "cell_type": "markdown",
   "metadata": {
    "id": "SkchY1ZTfT0L"
   },
   "source": [
    "## Visual check\n",
    "\n",
    "Correct labels : blue \n",
    "\n",
    "Incorrect labels : red"
   ]
  },
  {
   "cell_type": "code",
   "execution_count": 38,
   "metadata": {
    "executionInfo": {
     "elapsed": 7,
     "status": "ok",
     "timestamp": 1637257946002,
     "user": {
      "displayName": "Salvatore Aiola",
      "photoUrl": "https://lh3.googleusercontent.com/a/default-user=s64",
      "userId": "13082271597599627032"
     },
     "user_tz": -60
    },
    "id": "2mBkmyUepUzH"
   },
   "outputs": [],
   "source": [
    "def plot_image(i, predictions_array, true_label, img):\n",
    "    true_label, img = true_label[i], img[i]\n",
    "    plt.grid(False)\n",
    "    plt.xticks([])\n",
    "    plt.yticks([])\n",
    "\n",
    "    plt.imshow(img, cmap=plt.cm.binary)\n",
    "\n",
    "    predicted_label = np.argmax(predictions_array)\n",
    "    if predicted_label == true_label:\n",
    "        color = 'blue'\n",
    "    else:\n",
    "        color = 'red'\n",
    "\n",
    "    plt.xlabel(\"{} {:2.0f}% ({})\".format(class_names[predicted_label],\n",
    "                                100*np.max(predictions_array),\n",
    "                                class_names[true_label]),\n",
    "                                color=color)\n",
    "\n",
    "def plot_value_array(i, predictions_array, true_label):\n",
    "    true_label = true_label[i]\n",
    "    plt.grid(False)\n",
    "    plt.xticks(range(10))\n",
    "    plt.yticks([])\n",
    "    thisplot = plt.bar(range(10), predictions_array, color=\"#777777\")\n",
    "    plt.ylim([0, 1])\n",
    "    predicted_label = np.argmax(predictions_array)\n",
    "\n",
    "    thisplot[predicted_label].set_color('red')\n",
    "    thisplot[true_label].set_color('blue')"
   ]
  },
  {
   "cell_type": "code",
   "execution_count": 39,
   "metadata": {
    "colab": {
     "base_uri": "https://localhost:8080/",
     "height": 729
    },
    "executionInfo": {
     "elapsed": 3127,
     "status": "ok",
     "timestamp": 1637257949123,
     "user": {
      "displayName": "Salvatore Aiola",
      "photoUrl": "https://lh3.googleusercontent.com/a/default-user=s64",
      "userId": "13082271597599627032"
     },
     "user_tz": -60
    },
    "id": "NGVMjCtrOrt5",
    "outputId": "0c71c93f-f1f7-44c1-c963-8d203830e324"
   },
   "outputs": [
    {
     "name": "stdout",
     "output_type": "stream",
     "text": [
      "313/313 [==============================] - 0s 1ms/step\n"
     ]
    },
    {
     "data": {
      "image/png": "[encoded data removed]",
      "text/plain": [
       "<Figure size 864x720 with 30 Axes>"
      ]
     },
     "metadata": {
      "needs_background": "light"
     },
     "output_type": "display_data"
    }
   ],
   "source": [
    "predictions = model.predict(test_images)\n",
    "\n",
    "# Plot the first X test images, their predicted labels, and the true labels.\n",
    "# Color correct predictions in blue and incorrect predictions in red.\n",
    "num_rows = 5\n",
    "num_cols = 3\n",
    "num_images = num_rows*num_cols\n",
    "plt.figure(figsize=(2*2*num_cols, 2*num_rows))\n",
    "for i in range(num_images):\n",
    "    plt.subplot(num_rows, 2*num_cols, 2*i+1)\n",
    "    plot_image(i, predictions[i], test_labels, test_images)\n",
    "    plt.subplot(num_rows, 2*num_cols, 2*i+2)\n",
    "    plot_value_array(i, predictions[i], test_labels)\n",
    "plt.tight_layout()\n",
    "plt.show()"
   ]
  },
  {
   "cell_type": "markdown",
   "metadata": {
    "id": "33y9ql42z_43"
   },
   "source": [
    "## Overfitting? \n",
    "\n",
    "As a neural network gets deeper the tendency to overfit increases. How to debug if our model is overfitting? \n",
    "\n",
    "\n",
    "Does the validation loss rise after some epochs? And if validation loss is higher than the training loss its perfectly fine, your model is still learning. Naturally you can't have validation loss to be less than your training loss (it does become very close to your training loss if the model is deep enough ). But if validation loss rises and your training loss keeps decreasing then you are overfitting. Use early stopping to tackle overfitting."
   ]
  },
  {
   "cell_type": "code",
   "execution_count": 40,
   "metadata": {
    "colab": {
     "base_uri": "https://localhost:8080/",
     "height": 279
    },
    "executionInfo": {
     "elapsed": 14,
     "status": "ok",
     "timestamp": 1637257949125,
     "user": {
      "displayName": "Salvatore Aiola",
      "photoUrl": "https://lh3.googleusercontent.com/a/default-user=s64",
      "userId": "13082271597599627032"
     },
     "user_tz": -60
    },
    "id": "oYx6G_0L8wce",
    "outputId": "5c4f98b1-8a3d-4783-de46-7a17494a7f50"
   },
   "outputs": [
    {
     "data": {
      "image/png": "[encoded data removed]",
      "text/plain": [
       "<Figure size 432x288 with 1 Axes>"
      ]
     },
     "metadata": {
      "needs_background": "light"
     },
     "output_type": "display_data"
    }
   ],
   "source": [
    "plotter = tfdocs.plots.HistoryPlotter(metric = 'loss', smoothing_std=10)\n",
    "\n",
    "plotter.plot({'hist': history})"
   ]
  },
  {
   "cell_type": "markdown",
   "metadata": {
    "id": "R39IIxJ11aDh"
   },
   "source": [
    "### Early stopping\n",
    "\n",
    "Stop training when validation loss does not improve any longer."
   ]
  },
  {
   "cell_type": "code",
   "execution_count": 41,
   "metadata": {
    "colab": {
     "base_uri": "https://localhost:8080/"
    },
    "executionInfo": {
     "elapsed": 42485,
     "status": "ok",
     "timestamp": 1637257991600,
     "user": {
      "displayName": "Salvatore Aiola",
      "photoUrl": "https://lh3.googleusercontent.com/a/default-user=s64",
      "userId": "13082271597599627032"
     },
     "user_tz": -60
    },
    "id": "eovyPXWhhSXj",
    "outputId": "99496bac-0e61-4a76-d567-d2a44892ccf2"
   },
   "outputs": [
    {
     "name": "stdout",
     "output_type": "stream",
     "text": [
      "Epoch 1/100\n",
      "48/48 [==============================] - 1s 10ms/step - loss: 0.7965 - accuracy: 0.7356 - val_loss: 0.5378 - val_accuracy: 0.8142\n",
      "Epoch 2/100\n",
      "48/48 [==============================] - 0s 8ms/step - loss: 0.4908 - accuracy: 0.8338 - val_loss: 0.4707 - val_accuracy: 0.8394\n",
      "Epoch 3/100\n",
      "48/48 [==============================] - 0s 8ms/step - loss: 0.4410 - accuracy: 0.8493 - val_loss: 0.4350 - val_accuracy: 0.8499\n",
      "Epoch 4/100\n",
      "48/48 [==============================] - 0s 8ms/step - loss: 0.4095 - accuracy: 0.8593 - val_loss: 0.4143 - val_accuracy: 0.8556\n",
      "Epoch 5/100\n",
      "48/48 [==============================] - 0s 8ms/step - loss: 0.3931 - accuracy: 0.8635 - val_loss: 0.4034 - val_accuracy: 0.8587\n",
      "Epoch 6/100\n",
      "48/48 [==============================] - 0s 8ms/step - loss: 0.3726 - accuracy: 0.8697 - val_loss: 0.3847 - val_accuracy: 0.8649\n",
      "Epoch 7/100\n",
      "48/48 [==============================] - 0s 8ms/step - loss: 0.3569 - accuracy: 0.8749 - val_loss: 0.3772 - val_accuracy: 0.8668\n",
      "Epoch 8/100\n",
      "48/48 [==============================] - 0s 8ms/step - loss: 0.3449 - accuracy: 0.8798 - val_loss: 0.3670 - val_accuracy: 0.8700\n",
      "Epoch 9/100\n",
      "48/48 [==============================] - 0s 8ms/step - loss: 0.3372 - accuracy: 0.8811 - val_loss: 0.3816 - val_accuracy: 0.8671\n",
      "Epoch 10/100\n",
      "48/48 [==============================] - 0s 8ms/step - loss: 0.3414 - accuracy: 0.8794 - val_loss: 0.3647 - val_accuracy: 0.8727\n",
      "Epoch 11/100\n",
      "48/48 [==============================] - 0s 8ms/step - loss: 0.3189 - accuracy: 0.8874 - val_loss: 0.3602 - val_accuracy: 0.8737\n",
      "Epoch 12/100\n",
      "48/48 [==============================] - 1s 11ms/step - loss: 0.3096 - accuracy: 0.8901 - val_loss: 0.3476 - val_accuracy: 0.8777\n",
      "Epoch 13/100\n",
      "48/48 [==============================] - 0s 8ms/step - loss: 0.3022 - accuracy: 0.8925 - val_loss: 0.3479 - val_accuracy: 0.8758\n",
      "Epoch 14/100\n",
      "48/48 [==============================] - 0s 8ms/step - loss: 0.2948 - accuracy: 0.8948 - val_loss: 0.3390 - val_accuracy: 0.8791\n",
      "Epoch 15/100\n",
      "48/48 [==============================] - 0s 8ms/step - loss: 0.2862 - accuracy: 0.8974 - val_loss: 0.3353 - val_accuracy: 0.8838\n",
      "Epoch 16/100\n",
      "48/48 [==============================] - 0s 8ms/step - loss: 0.2779 - accuracy: 0.9012 - val_loss: 0.3371 - val_accuracy: 0.8791\n",
      "Epoch 17/100\n",
      "48/48 [==============================] - 0s 9ms/step - loss: 0.2769 - accuracy: 0.9008 - val_loss: 0.3285 - val_accuracy: 0.8829\n",
      "Epoch 18/100\n",
      "48/48 [==============================] - 0s 9ms/step - loss: 0.2706 - accuracy: 0.9039 - val_loss: 0.3249 - val_accuracy: 0.8852\n",
      "Epoch 19/100\n",
      "48/48 [==============================] - 0s 8ms/step - loss: 0.2670 - accuracy: 0.9048 - val_loss: 0.3263 - val_accuracy: 0.8833\n",
      "Epoch 20/100\n",
      "48/48 [==============================] - 0s 8ms/step - loss: 0.2589 - accuracy: 0.9077 - val_loss: 0.3223 - val_accuracy: 0.8870\n",
      "Epoch 21/100\n",
      "48/48 [==============================] - 0s 8ms/step - loss: 0.2536 - accuracy: 0.9093 - val_loss: 0.3349 - val_accuracy: 0.8833\n",
      "Epoch 22/100\n",
      "48/48 [==============================] - 0s 9ms/step - loss: 0.2499 - accuracy: 0.9113 - val_loss: 0.3127 - val_accuracy: 0.8887\n",
      "Epoch 23/100\n",
      "48/48 [==============================] - 0s 8ms/step - loss: 0.2465 - accuracy: 0.9125 - val_loss: 0.3212 - val_accuracy: 0.8856\n",
      "Epoch 24/100\n",
      "48/48 [==============================] - 0s 8ms/step - loss: 0.2427 - accuracy: 0.9141 - val_loss: 0.3269 - val_accuracy: 0.8825\n",
      "Epoch 25/100\n",
      "48/48 [==============================] - 0s 8ms/step - loss: 0.2390 - accuracy: 0.9160 - val_loss: 0.3257 - val_accuracy: 0.8842\n",
      "Epoch 26/100\n",
      "48/48 [==============================] - 0s 9ms/step - loss: 0.2367 - accuracy: 0.9146 - val_loss: 0.3154 - val_accuracy: 0.8876\n",
      "Epoch 27/100\n",
      "48/48 [==============================] - 0s 8ms/step - loss: 0.2380 - accuracy: 0.9135 - val_loss: 0.3102 - val_accuracy: 0.8914\n",
      "Epoch 28/100\n",
      "48/48 [==============================] - 0s 8ms/step - loss: 0.2259 - accuracy: 0.9200 - val_loss: 0.3095 - val_accuracy: 0.8886\n",
      "Epoch 29/100\n",
      "48/48 [==============================] - 0s 9ms/step - loss: 0.2208 - accuracy: 0.9222 - val_loss: 0.3185 - val_accuracy: 0.8891\n",
      "Epoch 30/100\n",
      "48/48 [==============================] - 0s 8ms/step - loss: 0.2209 - accuracy: 0.9216 - val_loss: 0.3161 - val_accuracy: 0.8872\n",
      "Epoch 31/100\n",
      "48/48 [==============================] - 0s 8ms/step - loss: 0.2118 - accuracy: 0.9251 - val_loss: 0.3117 - val_accuracy: 0.8902\n",
      "Epoch 32/100\n",
      "48/48 [==============================] - 0s 9ms/step - loss: 0.2130 - accuracy: 0.9237 - val_loss: 0.3276 - val_accuracy: 0.8839\n",
      "Epoch 33/100\n",
      "48/48 [==============================] - 0s 9ms/step - loss: 0.2118 - accuracy: 0.9250 - val_loss: 0.3140 - val_accuracy: 0.8904\n",
      "Epoch 33: early stopping\n"
     ]
    }
   ],
   "source": [
    "model = tf.keras.Sequential([\n",
    "    tf.keras.layers.Flatten(input_shape=(28, 28)),\n",
    "    tf.keras.layers.Dense(250, activation='relu'),\n",
    "    tf.keras.layers.Dense(10, activation='softmax')\n",
    "])\n",
    "\n",
    "\n",
    "model.compile(optimizer='adam',\n",
    "              loss=tf.keras.losses.SparseCategoricalCrossentropy(from_logits=False),\n",
    "              metrics=['accuracy'])\n",
    "\n",
    "\n",
    "\n",
    "# tensorboard settings to view plots\n",
    "logdir = \"logs/scalars/\" + datetime.now().strftime(\"%Y%m%d-%H%M%S\")\n",
    "tensorboard_callback = keras.callbacks.TensorBoard(log_dir=logdir)\n",
    "\n",
    "# This callback will stop the training when there is no improvement in\n",
    "# the loss for 5 consecutive epochs\n",
    "earlystopping = keras.callbacks.EarlyStopping(monitor='val_loss', mode='min', \n",
    "                                              verbose=1, patience=5)\n",
    "\n",
    "history = model.fit(train_images, train_labels, batch_size=1000, \n",
    "          epochs=100, callbacks=[earlystopping, tensorboard_callback], validation_split=0.2)\n",
    "\n",
    "# train_images = 48k (20% for validation)"
   ]
  },
  {
   "cell_type": "code",
   "execution_count": 42,
   "metadata": {
    "colab": {
     "base_uri": "https://localhost:8080/",
     "height": 279
    },
    "executionInfo": {
     "elapsed": 25,
     "status": "ok",
     "timestamp": 1637257991601,
     "user": {
      "displayName": "Salvatore Aiola",
      "photoUrl": "https://lh3.googleusercontent.com/a/default-user=s64",
      "userId": "13082271597599627032"
     },
     "user_tz": -60
    },
    "id": "7BIraPc2iOLR",
    "outputId": "55679d70-b633-472b-97a6-328bb1bf7b17"
   },
   "outputs": [
    {
     "data": {
      "image/png": "[encoded data removed]",
      "text/plain": [
       "<Figure size 432x288 with 1 Axes>"
      ]
     },
     "metadata": {
      "needs_background": "light"
     },
     "output_type": "display_data"
    }
   ],
   "source": [
    "plotter = tfdocs.plots.HistoryPlotter(metric = 'loss', smoothing_std=10)\n",
    "\n",
    "plotter.plot({'hist': history})"
   ]
  },
  {
   "cell_type": "code",
   "execution_count": 43,
   "metadata": {
    "colab": {
     "base_uri": "https://localhost:8080/"
    },
    "executionInfo": {
     "elapsed": 1032,
     "status": "ok",
     "timestamp": 1637257992610,
     "user": {
      "displayName": "Salvatore Aiola",
      "photoUrl": "https://lh3.googleusercontent.com/a/default-user=s64",
      "userId": "13082271597599627032"
     },
     "user_tz": -60
    },
    "id": "wnJlDPZfjBM-",
    "outputId": "6cb45d2d-a0c4-4ffe-dcc3-14d77ec95954"
   },
   "outputs": [
    {
     "name": "stdout",
     "output_type": "stream",
     "text": [
      "313/313 - 1s - loss: 0.3370 - accuracy: 0.8837 - 510ms/epoch - 2ms/step\n",
      "\n",
      "Test accuracy: 0.8837000131607056\n"
     ]
    }
   ],
   "source": [
    "test_loss, test_acc = model.evaluate(test_images,  test_labels, verbose=2)\n",
    "\n",
    "print('\\nTest accuracy:', test_acc)"
   ]
  },
  {
   "cell_type": "markdown",
   "metadata": {
    "id": "MaF2WhV2D3jV"
   },
   "source": [
    "### Dropout"
   ]
  },
  {
   "cell_type": "code",
   "execution_count": 44,
   "metadata": {
    "colab": {
     "base_uri": "https://localhost:8080/"
    },
    "executionInfo": {
     "elapsed": 55609,
     "status": "ok",
     "timestamp": 1637258048214,
     "user": {
      "displayName": "Salvatore Aiola",
      "photoUrl": "https://lh3.googleusercontent.com/a/default-user=s64",
      "userId": "13082271597599627032"
     },
     "user_tz": -60
    },
    "id": "2ueUqI0yD2oM",
    "outputId": "a21ac541-2f21-4682-d476-b26c5162cf9e"
   },
   "outputs": [
    {
     "name": "stdout",
     "output_type": "stream",
     "text": [
      "Epoch 1/100\n",
      "48/48 [==============================] - 1s 12ms/step - loss: 0.8903 - accuracy: 0.6924 - val_loss: 0.5528 - val_accuracy: 0.8112\n",
      "Epoch 2/100\n",
      "48/48 [==============================] - 0s 10ms/step - loss: 0.5412 - accuracy: 0.8151 - val_loss: 0.4717 - val_accuracy: 0.8378\n",
      "Epoch 3/100\n",
      "48/48 [==============================] - 0s 9ms/step - loss: 0.4749 - accuracy: 0.8382 - val_loss: 0.4337 - val_accuracy: 0.8489\n",
      "Epoch 4/100\n",
      "48/48 [==============================] - 0s 10ms/step - loss: 0.4372 - accuracy: 0.8484 - val_loss: 0.4190 - val_accuracy: 0.8552\n",
      "Epoch 5/100\n",
      "48/48 [==============================] - 0s 9ms/step - loss: 0.4130 - accuracy: 0.8560 - val_loss: 0.3965 - val_accuracy: 0.8566\n",
      "Epoch 6/100\n",
      "48/48 [==============================] - 0s 10ms/step - loss: 0.3925 - accuracy: 0.8628 - val_loss: 0.3768 - val_accuracy: 0.8687\n",
      "Epoch 7/100\n",
      "48/48 [==============================] - 1s 11ms/step - loss: 0.3754 - accuracy: 0.8676 - val_loss: 0.3669 - val_accuracy: 0.8714\n",
      "Epoch 8/100\n",
      "48/48 [==============================] - 1s 11ms/step - loss: 0.3654 - accuracy: 0.8704 - val_loss: 0.3595 - val_accuracy: 0.8708\n",
      "Epoch 9/100\n",
      "48/48 [==============================] - 0s 10ms/step - loss: 0.3484 - accuracy: 0.8777 - val_loss: 0.3472 - val_accuracy: 0.8768\n",
      "Epoch 10/100\n",
      "48/48 [==============================] - 1s 11ms/step - loss: 0.3422 - accuracy: 0.8782 - val_loss: 0.3467 - val_accuracy: 0.8758\n",
      "Epoch 11/100\n",
      "48/48 [==============================] - 1s 11ms/step - loss: 0.3337 - accuracy: 0.8816 - val_loss: 0.3372 - val_accuracy: 0.8794\n",
      "Epoch 12/100\n",
      "48/48 [==============================] - 1s 11ms/step - loss: 0.3238 - accuracy: 0.8847 - val_loss: 0.3305 - val_accuracy: 0.8820\n",
      "Epoch 13/100\n",
      "48/48 [==============================] - 1s 12ms/step - loss: 0.3164 - accuracy: 0.8873 - val_loss: 0.3277 - val_accuracy: 0.8823\n",
      "Epoch 14/100\n",
      "48/48 [==============================] - 1s 12ms/step - loss: 0.3107 - accuracy: 0.8885 - val_loss: 0.3261 - val_accuracy: 0.8827\n",
      "Epoch 15/100\n",
      "48/48 [==============================] - 1s 12ms/step - loss: 0.3028 - accuracy: 0.8915 - val_loss: 0.3204 - val_accuracy: 0.8863\n",
      "Epoch 16/100\n",
      "48/48 [==============================] - 1s 10ms/step - loss: 0.2981 - accuracy: 0.8919 - val_loss: 0.3207 - val_accuracy: 0.8844\n",
      "Epoch 17/100\n",
      "48/48 [==============================] - 0s 10ms/step - loss: 0.2923 - accuracy: 0.8937 - val_loss: 0.3147 - val_accuracy: 0.8853\n",
      "Epoch 18/100\n",
      "48/48 [==============================] - 1s 11ms/step - loss: 0.2870 - accuracy: 0.8954 - val_loss: 0.3158 - val_accuracy: 0.8852\n",
      "Epoch 19/100\n",
      "48/48 [==============================] - 1s 10ms/step - loss: 0.2852 - accuracy: 0.8963 - val_loss: 0.3105 - val_accuracy: 0.8875\n",
      "Epoch 20/100\n",
      "48/48 [==============================] - 1s 10ms/step - loss: 0.2796 - accuracy: 0.8996 - val_loss: 0.3065 - val_accuracy: 0.8882\n",
      "Epoch 21/100\n",
      "48/48 [==============================] - 0s 10ms/step - loss: 0.2724 - accuracy: 0.9020 - val_loss: 0.3118 - val_accuracy: 0.8870\n",
      "Epoch 22/100\n",
      "48/48 [==============================] - 0s 10ms/step - loss: 0.2694 - accuracy: 0.9029 - val_loss: 0.3054 - val_accuracy: 0.8902\n",
      "Epoch 23/100\n",
      "48/48 [==============================] - 0s 9ms/step - loss: 0.2677 - accuracy: 0.9038 - val_loss: 0.3092 - val_accuracy: 0.8883\n",
      "Epoch 24/100\n",
      "48/48 [==============================] - 0s 10ms/step - loss: 0.2616 - accuracy: 0.9068 - val_loss: 0.3033 - val_accuracy: 0.8917\n",
      "Epoch 25/100\n",
      "48/48 [==============================] - 1s 10ms/step - loss: 0.2623 - accuracy: 0.9060 - val_loss: 0.3007 - val_accuracy: 0.8912\n",
      "Epoch 26/100\n",
      "48/48 [==============================] - 0s 9ms/step - loss: 0.2565 - accuracy: 0.9072 - val_loss: 0.3022 - val_accuracy: 0.8908\n",
      "Epoch 27/100\n",
      "48/48 [==============================] - 0s 9ms/step - loss: 0.2536 - accuracy: 0.9081 - val_loss: 0.3030 - val_accuracy: 0.8893\n",
      "Epoch 28/100\n",
      "48/48 [==============================] - 0s 9ms/step - loss: 0.2500 - accuracy: 0.9100 - val_loss: 0.3025 - val_accuracy: 0.8898\n",
      "Epoch 29/100\n",
      "48/48 [==============================] - 0s 10ms/step - loss: 0.2438 - accuracy: 0.9117 - val_loss: 0.2979 - val_accuracy: 0.8925\n",
      "Epoch 30/100\n",
      "48/48 [==============================] - 0s 9ms/step - loss: 0.2410 - accuracy: 0.9131 - val_loss: 0.2984 - val_accuracy: 0.8927\n",
      "Epoch 31/100\n",
      "48/48 [==============================] - 0s 9ms/step - loss: 0.2375 - accuracy: 0.9145 - val_loss: 0.2971 - val_accuracy: 0.8921\n",
      "Epoch 32/100\n",
      "48/48 [==============================] - 0s 9ms/step - loss: 0.2357 - accuracy: 0.9137 - val_loss: 0.2986 - val_accuracy: 0.8913\n",
      "Epoch 33/100\n",
      "48/48 [==============================] - 0s 10ms/step - loss: 0.2321 - accuracy: 0.9159 - val_loss: 0.2945 - val_accuracy: 0.8944\n",
      "Epoch 34/100\n",
      "48/48 [==============================] - 1s 10ms/step - loss: 0.2294 - accuracy: 0.9172 - val_loss: 0.2933 - val_accuracy: 0.8931\n",
      "Epoch 35/100\n",
      "48/48 [==============================] - 1s 10ms/step - loss: 0.2280 - accuracy: 0.9180 - val_loss: 0.2916 - val_accuracy: 0.8949\n",
      "Epoch 36/100\n",
      "48/48 [==============================] - 1s 11ms/step - loss: 0.2285 - accuracy: 0.9162 - val_loss: 0.2993 - val_accuracy: 0.8930\n",
      "Epoch 37/100\n",
      "48/48 [==============================] - 1s 12ms/step - loss: 0.2199 - accuracy: 0.9208 - val_loss: 0.2939 - val_accuracy: 0.8938\n",
      "Epoch 38/100\n",
      "48/48 [==============================] - 1s 11ms/step - loss: 0.2160 - accuracy: 0.9220 - val_loss: 0.2963 - val_accuracy: 0.8938\n",
      "Epoch 39/100\n",
      "48/48 [==============================] - 0s 10ms/step - loss: 0.2150 - accuracy: 0.9215 - val_loss: 0.2898 - val_accuracy: 0.8957\n",
      "Epoch 40/100\n",
      "48/48 [==============================] - 0s 10ms/step - loss: 0.2120 - accuracy: 0.9231 - val_loss: 0.2919 - val_accuracy: 0.8967\n",
      "Epoch 41/100\n",
      "48/48 [==============================] - 0s 10ms/step - loss: 0.2117 - accuracy: 0.9232 - val_loss: 0.2915 - val_accuracy: 0.8959\n",
      "Epoch 42/100\n",
      "48/48 [==============================] - 0s 9ms/step - loss: 0.2086 - accuracy: 0.9227 - val_loss: 0.2931 - val_accuracy: 0.8951\n",
      "Epoch 43/100\n",
      "48/48 [==============================] - 1s 11ms/step - loss: 0.2054 - accuracy: 0.9256 - val_loss: 0.2915 - val_accuracy: 0.8954\n",
      "Epoch 44/100\n",
      "48/48 [==============================] - 0s 8ms/step - loss: 0.2043 - accuracy: 0.9260 - val_loss: 0.2905 - val_accuracy: 0.8979\n",
      "Epoch 44: early stopping\n"
     ]
    }
   ],
   "source": [
    "model = tf.keras.Sequential([\n",
    "    tf.keras.layers.Flatten(input_shape=(28, 28)),\n",
    "    #tf.keras.layers.Dropout(0.1),\n",
    "    tf.keras.layers.Dense(250, activation='relu'),\n",
    "    tf.keras.layers.Dropout(0.3),\n",
    "    tf.keras.layers.Dense(10, activation='softmax')\n",
    "])\n",
    "\n",
    "model.compile(optimizer='adam',\n",
    "              loss=tf.keras.losses.SparseCategoricalCrossentropy(from_logits=False),\n",
    "              metrics=['accuracy'])\n",
    "\n",
    "\n",
    "\n",
    "# tensorboard settings to view plots\n",
    "logdir = \"logs/scalars/\" + datetime.now().strftime(\"%Y%m%d-%H%M%S\")\n",
    "tensorboard_callback = keras.callbacks.TensorBoard(log_dir=logdir)\n",
    "\n",
    "# This callback will stop the training when there is no improvement in\n",
    "# the loss for 5 consecutive epochs\n",
    "earlystopping = keras.callbacks.EarlyStopping(monitor='val_loss', mode='min', \n",
    "                                              verbose=1, patience=5)\n",
    "\n",
    "\n",
    "\n",
    "history = model.fit(train_images, train_labels, batch_size=1000, \n",
    "          epochs=100, callbacks=[earlystopping, tensorboard_callback], validation_split=0.2)\n",
    "\n",
    "# train_images = 48k (20% for validation)"
   ]
  },
  {
   "cell_type": "code",
   "execution_count": 45,
   "metadata": {
    "colab": {
     "base_uri": "https://localhost:8080/",
     "height": 279
    },
    "executionInfo": {
     "elapsed": 862,
     "status": "ok",
     "timestamp": 1637258483533,
     "user": {
      "displayName": "Salvatore Aiola",
      "photoUrl": "https://lh3.googleusercontent.com/a/default-user=s64",
      "userId": "13082271597599627032"
     },
     "user_tz": -60
    },
    "id": "zpcKN7wHCLnW",
    "outputId": "f97c79a3-df77-4b6f-9a06-c56c5353aebf"
   },
   "outputs": [
    {
     "data": {
      "image/png": "[encoded data removed]",
      "text/plain": [
       "<Figure size 432x288 with 1 Axes>"
      ]
     },
     "metadata": {
      "needs_background": "light"
     },
     "output_type": "display_data"
    }
   ],
   "source": [
    "plotter = tfdocs.plots.HistoryPlotter(metric = 'loss', smoothing_std=10)\n",
    "\n",
    "plotter.plot({'hist': history})"
   ]
  },
  {
   "cell_type": "code",
   "execution_count": 46,
   "metadata": {},
   "outputs": [
    {
     "name": "stdout",
     "output_type": "stream",
     "text": [
      "313/313 - 1s - loss: 0.3179 - accuracy: 0.8903 - 546ms/epoch - 2ms/step\n",
      "\n",
      "Test accuracy: 0.8902999758720398\n"
     ]
    }
   ],
   "source": [
    "test_loss, test_acc = model.evaluate(test_images,  test_labels, verbose=2)\n",
    "\n",
    "print('\\nTest accuracy:', test_acc)"
   ]
  }
 ],
 "metadata": {
  "colab": {
   "collapsed_sections": [
    "ZTy9he_QklVq",
    "EKKz-D_Ij2ZA",
    "koVNPt8lmWzd",
    "mb5d5XCZruG6",
    "MsmP2X8lt3ZQ",
    "KhAPvd5Hu4ug",
    "jeMpTjIWv70Z",
    "6GFoFSPnzB8N",
    "XVis46hYzW7o",
    "LrmPsPNFoQsS",
    "SkchY1ZTfT0L",
    "R39IIxJ11aDh",
    "MaF2WhV2D3jV",
    "_vr4jtSNE0Gv"
   ],
   "name": "2_2_mlp.ipynb",
   "provenance": [
    {
     "file_id": "1D-91UU6-LShAmawQrNr31ygoCtfhM4Hy",
     "timestamp": 1637232706044
    }
   ],
   "toc_visible": true
  },
  "kernelspec": {
   "display_name": "Python 3 (ipykernel)",
   "language": "python",
   "name": "python3"
  },
  "language_info": {
   "codemirror_mode": {
    "name": "ipython",
    "version": 3
   },
   "file_extension": ".py",
   "mimetype": "text/x-python",
   "name": "python",
   "nbconvert_exporter": "python",
   "pygments_lexer": "ipython3",
   "version": "3.7.15"
  }
 },
 "nbformat": 4,
 "nbformat_minor": 1
}
