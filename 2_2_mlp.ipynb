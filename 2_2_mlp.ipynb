{
  "nbformat": 4,
  "nbformat_minor": 0,
  "metadata": {
    "colab": {
      "name": "2_2_mlp.ipynb",
      "provenance": [],
      "collapsed_sections": [
        "ZTy9he_QklVq",
        "EKKz-D_Ij2ZA",
        "koVNPt8lmWzd",
        "mb5d5XCZruG6",
        "MsmP2X8lt3ZQ",
        "KhAPvd5Hu4ug",
        "jeMpTjIWv70Z",
        "6GFoFSPnzB8N",
        "XVis46hYzW7o",
        "LrmPsPNFoQsS",
        "SkchY1ZTfT0L",
        "R39IIxJ11aDh",
        "MaF2WhV2D3jV",
        "_vr4jtSNE0Gv"
      ],
      "toc_visible": true,
      "include_colab_link": true
    },
    "kernelspec": {
      "display_name": "Python 3 (ipykernel)",
      "language": "python",
      "name": "python3"
    },
    "language_info": {
      "codemirror_mode": {
        "name": "ipython",
        "version": 3
      },
      "file_extension": ".py",
      "mimetype": "text/x-python",
      "name": "python",
      "nbconvert_exporter": "python",
      "pygments_lexer": "ipython3",
      "version": "3.7.12"
    }
  },
  "cells": [
    {
      "cell_type": "markdown",
      "metadata": {
        "id": "view-in-github",
        "colab_type": "text"
      },
      "source": [
        "<a href=\"https://colab.research.google.com/github/CGnal/agos-ai-course/blob/master/2_2_mlp.ipynb\" target=\"_parent\"><img src=\"https://colab.research.google.com/assets/colab-badge.svg\" alt=\"Open In Colab\"/></a>"
      ]
    },
    {
      "cell_type": "markdown",
      "metadata": {
        "id": "gHseRI7Grvke"
      },
      "source": [
        "<a href=\"https://colab.research.google.com/github/CGnal/agos-ai-course/blob/master/2_2_mlp.ipynb\" target=\"_blank\">\n",
        "  <img src=\"https://colab.research.google.com/assets/colab-badge.svg\" alt=\"Open In Colab\"/>\n",
        "</a>"
      ]
    },
    {
      "cell_type": "markdown",
      "metadata": {
        "id": "ZTy9he_QklVq"
      },
      "source": [
        "# Install tensorflow"
      ]
    },
    {
      "cell_type": "code",
      "metadata": {
        "colab": {
          "base_uri": "https://localhost:8080/"
        },
        "id": "y1IND-y0kycA",
        "outputId": "a660287d-524b-4126-9cca-b38762d53dc7"
      },
      "source": [
        "!pip install tensorflow==2.6.2"
      ],
      "execution_count": 1,
      "outputs": [
        {
          "output_type": "stream",
          "name": "stdout",
          "text": [
            "Requirement already satisfied: tensorflow==2.6.2 in /usr/local/lib/python3.7/dist-packages (2.6.2)\n",
            "Requirement already satisfied: tensorflow-estimator<2.7,>=2.6.0 in /usr/local/lib/python3.7/dist-packages (from tensorflow==2.6.2) (2.6.0)\n",
            "Requirement already satisfied: termcolor~=1.1.0 in /usr/local/lib/python3.7/dist-packages (from tensorflow==2.6.2) (1.1.0)\n",
            "Requirement already satisfied: h5py~=3.1.0 in /usr/local/lib/python3.7/dist-packages (from tensorflow==2.6.2) (3.1.0)\n",
            "Requirement already satisfied: protobuf>=3.9.2 in /usr/local/lib/python3.7/dist-packages (from tensorflow==2.6.2) (3.17.3)\n",
            "Requirement already satisfied: astunparse~=1.6.3 in /usr/local/lib/python3.7/dist-packages (from tensorflow==2.6.2) (1.6.3)\n",
            "Requirement already satisfied: opt-einsum~=3.3.0 in /usr/local/lib/python3.7/dist-packages (from tensorflow==2.6.2) (3.3.0)\n",
            "Requirement already satisfied: tensorboard<2.7,>=2.6.0 in /usr/local/lib/python3.7/dist-packages (from tensorflow==2.6.2) (2.6.0)\n",
            "Requirement already satisfied: keras-preprocessing~=1.1.2 in /usr/local/lib/python3.7/dist-packages (from tensorflow==2.6.2) (1.1.2)\n",
            "Requirement already satisfied: flatbuffers~=1.12.0 in /usr/local/lib/python3.7/dist-packages (from tensorflow==2.6.2) (1.12)\n",
            "Requirement already satisfied: clang~=5.0 in /usr/local/lib/python3.7/dist-packages (from tensorflow==2.6.2) (5.0)\n",
            "Requirement already satisfied: wrapt~=1.12.1 in /usr/local/lib/python3.7/dist-packages (from tensorflow==2.6.2) (1.12.1)\n",
            "Requirement already satisfied: google-pasta~=0.2 in /usr/local/lib/python3.7/dist-packages (from tensorflow==2.6.2) (0.2.0)\n",
            "Requirement already satisfied: keras<2.7,>=2.6.0 in /usr/local/lib/python3.7/dist-packages (from tensorflow==2.6.2) (2.6.0)\n",
            "Requirement already satisfied: wheel~=0.35 in /usr/local/lib/python3.7/dist-packages (from tensorflow==2.6.2) (0.37.0)\n",
            "Requirement already satisfied: numpy~=1.19.2 in /usr/local/lib/python3.7/dist-packages (from tensorflow==2.6.2) (1.19.5)\n",
            "Requirement already satisfied: six~=1.15.0 in /usr/local/lib/python3.7/dist-packages (from tensorflow==2.6.2) (1.15.0)\n",
            "Requirement already satisfied: typing-extensions~=3.7.4 in /usr/local/lib/python3.7/dist-packages (from tensorflow==2.6.2) (3.7.4.3)\n",
            "Requirement already satisfied: absl-py~=0.10 in /usr/local/lib/python3.7/dist-packages (from tensorflow==2.6.2) (0.12.0)\n",
            "Requirement already satisfied: gast==0.4.0 in /usr/local/lib/python3.7/dist-packages (from tensorflow==2.6.2) (0.4.0)\n",
            "Requirement already satisfied: grpcio<2.0,>=1.37.0 in /usr/local/lib/python3.7/dist-packages (from tensorflow==2.6.2) (1.41.1)\n",
            "Requirement already satisfied: cached-property in /usr/local/lib/python3.7/dist-packages (from h5py~=3.1.0->tensorflow==2.6.2) (1.5.2)\n",
            "Requirement already satisfied: google-auth-oauthlib<0.5,>=0.4.1 in /usr/local/lib/python3.7/dist-packages (from tensorboard<2.7,>=2.6.0->tensorflow==2.6.2) (0.4.6)\n",
            "Requirement already satisfied: google-auth<2,>=1.6.3 in /usr/local/lib/python3.7/dist-packages (from tensorboard<2.7,>=2.6.0->tensorflow==2.6.2) (1.35.0)\n",
            "Requirement already satisfied: markdown>=2.6.8 in /usr/local/lib/python3.7/dist-packages (from tensorboard<2.7,>=2.6.0->tensorflow==2.6.2) (3.3.4)\n",
            "Requirement already satisfied: tensorboard-data-server<0.7.0,>=0.6.0 in /usr/local/lib/python3.7/dist-packages (from tensorboard<2.7,>=2.6.0->tensorflow==2.6.2) (0.6.1)\n",
            "Requirement already satisfied: tensorboard-plugin-wit>=1.6.0 in /usr/local/lib/python3.7/dist-packages (from tensorboard<2.7,>=2.6.0->tensorflow==2.6.2) (1.8.0)\n",
            "Requirement already satisfied: werkzeug>=0.11.15 in /usr/local/lib/python3.7/dist-packages (from tensorboard<2.7,>=2.6.0->tensorflow==2.6.2) (1.0.1)\n",
            "Requirement already satisfied: setuptools>=41.0.0 in /usr/local/lib/python3.7/dist-packages (from tensorboard<2.7,>=2.6.0->tensorflow==2.6.2) (57.4.0)\n",
            "Requirement already satisfied: requests<3,>=2.21.0 in /usr/local/lib/python3.7/dist-packages (from tensorboard<2.7,>=2.6.0->tensorflow==2.6.2) (2.23.0)\n",
            "Requirement already satisfied: pyasn1-modules>=0.2.1 in /usr/local/lib/python3.7/dist-packages (from google-auth<2,>=1.6.3->tensorboard<2.7,>=2.6.0->tensorflow==2.6.2) (0.2.8)\n",
            "Requirement already satisfied: rsa<5,>=3.1.4 in /usr/local/lib/python3.7/dist-packages (from google-auth<2,>=1.6.3->tensorboard<2.7,>=2.6.0->tensorflow==2.6.2) (4.7.2)\n",
            "Requirement already satisfied: cachetools<5.0,>=2.0.0 in /usr/local/lib/python3.7/dist-packages (from google-auth<2,>=1.6.3->tensorboard<2.7,>=2.6.0->tensorflow==2.6.2) (4.2.4)\n",
            "Requirement already satisfied: requests-oauthlib>=0.7.0 in /usr/local/lib/python3.7/dist-packages (from google-auth-oauthlib<0.5,>=0.4.1->tensorboard<2.7,>=2.6.0->tensorflow==2.6.2) (1.3.0)\n",
            "Requirement already satisfied: importlib-metadata in /usr/local/lib/python3.7/dist-packages (from markdown>=2.6.8->tensorboard<2.7,>=2.6.0->tensorflow==2.6.2) (4.8.2)\n",
            "Requirement already satisfied: pyasn1<0.5.0,>=0.4.6 in /usr/local/lib/python3.7/dist-packages (from pyasn1-modules>=0.2.1->google-auth<2,>=1.6.3->tensorboard<2.7,>=2.6.0->tensorflow==2.6.2) (0.4.8)\n",
            "Requirement already satisfied: idna<3,>=2.5 in /usr/local/lib/python3.7/dist-packages (from requests<3,>=2.21.0->tensorboard<2.7,>=2.6.0->tensorflow==2.6.2) (2.10)\n",
            "Requirement already satisfied: chardet<4,>=3.0.2 in /usr/local/lib/python3.7/dist-packages (from requests<3,>=2.21.0->tensorboard<2.7,>=2.6.0->tensorflow==2.6.2) (3.0.4)\n",
            "Requirement already satisfied: certifi>=2017.4.17 in /usr/local/lib/python3.7/dist-packages (from requests<3,>=2.21.0->tensorboard<2.7,>=2.6.0->tensorflow==2.6.2) (2021.10.8)\n",
            "Requirement already satisfied: urllib3!=1.25.0,!=1.25.1,<1.26,>=1.21.1 in /usr/local/lib/python3.7/dist-packages (from requests<3,>=2.21.0->tensorboard<2.7,>=2.6.0->tensorflow==2.6.2) (1.24.3)\n",
            "Requirement already satisfied: oauthlib>=3.0.0 in /usr/local/lib/python3.7/dist-packages (from requests-oauthlib>=0.7.0->google-auth-oauthlib<0.5,>=0.4.1->tensorboard<2.7,>=2.6.0->tensorflow==2.6.2) (3.1.1)\n",
            "Requirement already satisfied: zipp>=0.5 in /usr/local/lib/python3.7/dist-packages (from importlib-metadata->markdown>=2.6.8->tensorboard<2.7,>=2.6.0->tensorflow==2.6.2) (3.6.0)\n"
          ]
        }
      ]
    },
    {
      "cell_type": "code",
      "metadata": {
        "colab": {
          "base_uri": "https://localhost:8080/"
        },
        "id": "eJHTVNDToHDW",
        "outputId": "0662fd4e-e16a-4bc5-833c-2b567f4929d3"
      },
      "source": [
        "!pip install git+https://github.com/tensorflow/docs"
      ],
      "execution_count": 2,
      "outputs": [
        {
          "output_type": "stream",
          "name": "stdout",
          "text": [
            "Collecting git+https://github.com/tensorflow/docs\n",
            "  Cloning https://github.com/tensorflow/docs to /tmp/pip-req-build-raa59xhz\n",
            "  Running command git clone -q https://github.com/tensorflow/docs /tmp/pip-req-build-raa59xhz\n",
            "Requirement already satisfied: astor in /usr/local/lib/python3.7/dist-packages (from tensorflow-docs==0.0.0.dev0) (0.8.1)\n",
            "Requirement already satisfied: absl-py in /usr/local/lib/python3.7/dist-packages (from tensorflow-docs==0.0.0.dev0) (0.12.0)\n",
            "Requirement already satisfied: protobuf>=3.14 in /usr/local/lib/python3.7/dist-packages (from tensorflow-docs==0.0.0.dev0) (3.17.3)\n",
            "Requirement already satisfied: pyyaml in /usr/local/lib/python3.7/dist-packages (from tensorflow-docs==0.0.0.dev0) (3.13)\n",
            "Requirement already satisfied: six>=1.9 in /usr/local/lib/python3.7/dist-packages (from protobuf>=3.14->tensorflow-docs==0.0.0.dev0) (1.15.0)\n"
          ]
        }
      ]
    },
    {
      "cell_type": "markdown",
      "metadata": {
        "id": "1Hf8FvaERwCN"
      },
      "source": [
        "# Imports"
      ]
    },
    {
      "cell_type": "code",
      "metadata": {
        "ExecuteTime": {
          "end_time": "2021-11-18T18:15:36.880902Z",
          "start_time": "2021-11-18T18:15:32.571757Z"
        },
        "id": "GzKrUb3soCDi"
      },
      "source": [
        "import tensorflow as tf\n",
        "from tensorflow import keras\n",
        "from tensorflow.keras import layers\n",
        "from keras.utils.vis_utils import plot_model\n",
        "import numpy as np\n",
        "import matplotlib.pyplot as plt\n",
        "from datetime import datetime"
      ],
      "execution_count": 3,
      "outputs": []
    },
    {
      "cell_type": "code",
      "metadata": {
        "ExecuteTime": {
          "end_time": "2021-11-18T18:15:36.913675Z",
          "start_time": "2021-11-18T18:15:36.886211Z"
        },
        "colab": {
          "base_uri": "https://localhost:8080/",
          "height": 35
        },
        "id": "H3e4AVxroDdK",
        "outputId": "ed98b2e6-9975-4d36-df93-4d56a7b717af"
      },
      "source": [
        "tf.__version__"
      ],
      "execution_count": 4,
      "outputs": [
        {
          "output_type": "execute_result",
          "data": {
            "application/vnd.google.colaboratory.intrinsic+json": {
              "type": "string"
            },
            "text/plain": [
              "'2.6.2'"
            ]
          },
          "metadata": {},
          "execution_count": 4
        }
      ]
    },
    {
      "cell_type": "code",
      "metadata": {
        "ExecuteTime": {
          "end_time": "2021-11-18T18:15:36.950078Z",
          "start_time": "2021-11-18T18:15:36.926614Z"
        },
        "colab": {
          "base_uri": "https://localhost:8080/",
          "height": 35
        },
        "id": "dTIK4yTAoFG0",
        "outputId": "c80ef58e-a98d-4b2c-a648-0f396067019c"
      },
      "source": [
        "%load_ext tensorboard\n",
        "import tensorboard\n",
        "tensorboard.__version__"
      ],
      "execution_count": 5,
      "outputs": [
        {
          "output_type": "execute_result",
          "data": {
            "application/vnd.google.colaboratory.intrinsic+json": {
              "type": "string"
            },
            "text/plain": [
              "'2.6.0'"
            ]
          },
          "metadata": {},
          "execution_count": 5
        }
      ]
    },
    {
      "cell_type": "code",
      "metadata": {
        "ExecuteTime": {
          "end_time": "2021-11-18T18:15:37.975411Z",
          "start_time": "2021-11-18T18:15:36.961199Z"
        },
        "id": "BRM1bvbNRwCQ"
      },
      "source": [
        "import tensorflow_docs as tfdocs\n",
        "import tensorflow_docs.modeling\n",
        "import tensorflow_docs.plots"
      ],
      "execution_count": 6,
      "outputs": []
    },
    {
      "cell_type": "markdown",
      "metadata": {
        "id": "EKKz-D_Ij2ZA"
      },
      "source": [
        "# Multi-Layer Fully Connected Networks\n",
        "\n",
        "1. Simply a stack of fully connected layers. \n",
        "2. Each fully connected layer is also called a Dense layer and is composed of multiple perceptron units.\n",
        "3. Each node in the image below is a perceptron\n",
        "\n",
        "\n",
        "![picture](https://drive.google.com/uc?id=1Eyg4RhUnkaEMsX-eTs6c2REZDPH-4tGS)\n"
      ]
    },
    {
      "cell_type": "markdown",
      "metadata": {
        "id": "koVNPt8lmWzd"
      },
      "source": [
        "## Create a simple feed forward neural network"
      ]
    },
    {
      "cell_type": "code",
      "metadata": {
        "ExecuteTime": {
          "end_time": "2021-11-18T18:15:38.048469Z",
          "start_time": "2021-11-18T18:15:37.978059Z"
        },
        "id": "xMp1Y-k3mgAP"
      },
      "source": [
        "# Define Sequential model with 2 layers\n",
        "model = keras.Sequential(\n",
        "    [\n",
        "        layers.Dense(4, activation=\"relu\", name=\"layer1\", input_shape=(10, 3)),\n",
        "        layers.Dense(2, name=\"layer2\"),\n",
        "    ]\n",
        ")"
      ],
      "execution_count": 7,
      "outputs": []
    },
    {
      "cell_type": "code",
      "metadata": {
        "ExecuteTime": {
          "end_time": "2021-11-18T18:15:38.830930Z",
          "start_time": "2021-11-18T18:15:38.053010Z"
        },
        "colab": {
          "base_uri": "https://localhost:8080/",
          "height": 312
        },
        "id": "FO4oibo93MuZ",
        "outputId": "fafc35c1-2d4c-470f-dca1-53201a82524c"
      },
      "source": [
        "plot_model(model, show_shapes=True, show_layer_names=True)"
      ],
      "execution_count": 8,
      "outputs": [
        {
          "output_type": "execute_result",
          "data": {
            "image/png": "[encoded data removed]",
            "text/plain": [
              "<IPython.core.display.Image object>"
            ]
          },
          "metadata": {},
          "execution_count": 8
        }
      ]
    },
    {
      "cell_type": "code",
      "metadata": {
        "ExecuteTime": {
          "end_time": "2021-11-18T18:15:38.863424Z",
          "start_time": "2021-11-18T18:15:38.840124Z"
        },
        "colab": {
          "base_uri": "https://localhost:8080/"
        },
        "id": "wDAiFpunpIVN",
        "outputId": "3e4d22b3-e76f-4c4d-b114-6cd0ab2a958d"
      },
      "source": [
        "model.summary()"
      ],
      "execution_count": 9,
      "outputs": [
        {
          "output_type": "stream",
          "name": "stdout",
          "text": [
            "Model: \"sequential\"\n",
            "_________________________________________________________________\n",
            "Layer (type)                 Output Shape              Param #   \n",
            "=================================================================\n",
            "layer1 (Dense)               (None, 10, 4)             16        \n",
            "_________________________________________________________________\n",
            "layer2 (Dense)               (None, 10, 2)             10        \n",
            "=================================================================\n",
            "Total params: 26\n",
            "Trainable params: 26\n",
            "Non-trainable params: 0\n",
            "_________________________________________________________________\n"
          ]
        }
      ]
    },
    {
      "cell_type": "code",
      "metadata": {
        "ExecuteTime": {
          "end_time": "2021-11-18T18:15:38.900339Z",
          "start_time": "2021-11-18T18:15:38.873619Z"
        },
        "colab": {
          "base_uri": "https://localhost:8080/"
        },
        "id": "w7AFIKWh549S",
        "outputId": "5d6d36da-59de-44eb-a447-6ea7ad9528bf"
      },
      "source": [
        "model.weights"
      ],
      "execution_count": 10,
      "outputs": [
        {
          "output_type": "execute_result",
          "data": {
            "text/plain": [
              "[<tf.Variable 'layer1/kernel:0' shape=(3, 4) dtype=float32, numpy=\n",
              " array([[ 0.47886395, -0.3552636 ,  0.8476213 , -0.68822515],\n",
              "        [ 0.68359995,  0.19632435, -0.35305494,  0.17233646],\n",
              "        [-0.7714622 ,  0.01736617,  0.04174274, -0.11111444]],\n",
              "       dtype=float32)>,\n",
              " <tf.Variable 'layer1/bias:0' shape=(4,) dtype=float32, numpy=array([0., 0., 0., 0.], dtype=float32)>,\n",
              " <tf.Variable 'layer2/kernel:0' shape=(4, 2) dtype=float32, numpy=\n",
              " array([[-0.17009354,  0.03043699],\n",
              "        [ 0.40696406,  0.6147933 ],\n",
              "        [-0.668802  , -0.20915508],\n",
              "        [ 0.23159885,  0.23706222]], dtype=float32)>,\n",
              " <tf.Variable 'layer2/bias:0' shape=(2,) dtype=float32, numpy=array([0., 0.], dtype=float32)>]"
            ]
          },
          "metadata": {},
          "execution_count": 10
        }
      ]
    },
    {
      "cell_type": "code",
      "metadata": {
        "ExecuteTime": {
          "end_time": "2021-11-18T18:15:41.894144Z",
          "start_time": "2021-11-18T18:15:41.803639Z"
        },
        "id": "VgM413TXtguo"
      },
      "source": [
        "# Call model on a test input\n",
        "x = tf.random.uniform((10, 3)) #10 samples 3 features \n",
        "y = model(x)"
      ],
      "execution_count": 11,
      "outputs": []
    },
    {
      "cell_type": "code",
      "metadata": {
        "ExecuteTime": {
          "end_time": "2021-11-18T18:15:42.147618Z",
          "start_time": "2021-11-18T18:15:42.137821Z"
        },
        "colab": {
          "base_uri": "https://localhost:8080/"
        },
        "id": "5sLCvBc2tvxn",
        "outputId": "44ba5c16-f4a4-4630-e7bd-ee70b2dc4e3c"
      },
      "source": [
        "x"
      ],
      "execution_count": 12,
      "outputs": [
        {
          "output_type": "execute_result",
          "data": {
            "text/plain": [
              "<tf.Tensor: shape=(10, 3), dtype=float32, numpy=\n",
              "array([[0.07240963, 0.44069088, 0.8992747 ],\n",
              "       [0.55212605, 0.29388905, 0.94011605],\n",
              "       [0.46741533, 0.70978343, 0.20146036],\n",
              "       [0.9728737 , 0.40885532, 0.4580115 ],\n",
              "       [0.6064551 , 0.04729724, 0.42184818],\n",
              "       [0.57608366, 0.73255396, 0.03594005],\n",
              "       [0.49498415, 0.92366135, 0.37955034],\n",
              "       [0.13733733, 0.8144232 , 0.4617746 ],\n",
              "       [0.01910961, 0.83997846, 0.6995927 ],\n",
              "       [0.67592716, 0.6618178 , 0.27272415]], dtype=float32)>"
            ]
          },
          "metadata": {},
          "execution_count": 12
        }
      ]
    },
    {
      "cell_type": "code",
      "metadata": {
        "ExecuteTime": {
          "end_time": "2021-11-18T18:15:45.274538Z",
          "start_time": "2021-11-18T18:15:45.147749Z"
        },
        "colab": {
          "base_uri": "https://localhost:8080/"
        },
        "id": "SlBEBYSF5yHC",
        "outputId": "a5718681-9136-4dd1-f5a2-b28caa192ebe"
      },
      "source": [
        "y"
      ],
      "execution_count": 13,
      "outputs": [
        {
          "output_type": "execute_result",
          "data": {
            "text/plain": [
              "<tf.Tensor: shape=(10, 2), dtype=float32, numpy=\n",
              "array([[ 0.03109645,  0.04697685],\n",
              "       [-0.2698468 , -0.08438944],\n",
              "       [-0.19716768, -0.01536115],\n",
              "       [-0.53444093, -0.13435061],\n",
              "       [-0.34440285, -0.10770543],\n",
              "       [-0.28199175, -0.02555556],\n",
              "       [-0.16609605,  0.00208602],\n",
              "       [ 0.00318754,  0.08133809],\n",
              "       [ 0.07434522,  0.11877964],\n",
              "       [-0.33074158, -0.05612339]], dtype=float32)>"
            ]
          },
          "metadata": {},
          "execution_count": 13
        }
      ]
    },
    {
      "cell_type": "markdown",
      "metadata": {
        "id": "68brdylCFjT9"
      },
      "source": [
        "## keras.Sequential and model object\n",
        "* `model`: model is core data structure of keras. It holds the stack of layers created for the model. \n",
        "\n",
        "* `keras.Sequential`: creates model object. Provides functions to fit the model and do predict on the model.\n"
      ]
    },
    {
      "cell_type": "markdown",
      "metadata": {
        "id": "PW7LkzF23vFF"
      },
      "source": [
        "# Sample problem : Fashion Mnist\n",
        "\n",
        "Train a neural network model to classify images of clothing, like sneakers and shirts.\n",
        "\n",
        "Here, 60,000 images are used to train the network and 10,000 images to evaluate how accurately the network learned to classify images. You can access the Fashion MNIST directly from TensorFlow. Import and load the Fashion MNIST data directly from TensorFlow:\n",
        "\n"
      ]
    },
    {
      "cell_type": "code",
      "metadata": {
        "id": "JNOCwULrqrNd"
      },
      "source": [
        "fashion_mnist = tf.keras.datasets.fashion_mnist\n",
        "\n",
        "(train_images, train_labels), (test_images, test_labels) = fashion_mnist.load_data()\n"
      ],
      "execution_count": 14,
      "outputs": []
    },
    {
      "cell_type": "markdown",
      "metadata": {
        "id": "VHM1wi2Crfn0"
      },
      "source": [
        "Loading the dataset returns four NumPy arrays:\n",
        "\n",
        "* The `train_images` and `train_labels` arrays are the *training set*—the data the model uses to learn.\n",
        "* The model is tested against the *test set*, the `test_images`, and `test_labels` arrays.\n",
        "\n",
        "The images are 28x28 NumPy arrays, with pixel values ranging from 0 to 255. The *labels* are an array of integers, ranging from 0 to 9. These correspond to the *class* of clothing the image represents:\n",
        "\n",
        "<table>\n",
        "  <tr>\n",
        "    <th>Label</th>\n",
        "    <th>Class</th>\n",
        "  </tr>\n",
        "  <tr>\n",
        "    <td>0</td>\n",
        "    <td>T-shirt/top</td>\n",
        "  </tr>\n",
        "  <tr>\n",
        "    <td>1</td>\n",
        "    <td>Trouser</td>\n",
        "  </tr>\n",
        "    <tr>\n",
        "    <td>2</td>\n",
        "    <td>Pullover</td>\n",
        "  </tr>\n",
        "    <tr>\n",
        "    <td>3</td>\n",
        "    <td>Dress</td>\n",
        "  </tr>\n",
        "    <tr>\n",
        "    <td>4</td>\n",
        "    <td>Coat</td>\n",
        "  </tr>\n",
        "    <tr>\n",
        "    <td>5</td>\n",
        "    <td>Sandal</td>\n",
        "  </tr>\n",
        "    <tr>\n",
        "    <td>6</td>\n",
        "    <td>Shirt</td>\n",
        "  </tr>\n",
        "    <tr>\n",
        "    <td>7</td>\n",
        "    <td>Sneaker</td>\n",
        "  </tr>\n",
        "    <tr>\n",
        "    <td>8</td>\n",
        "    <td>Bag</td>\n",
        "  </tr>\n",
        "    <tr>\n",
        "    <td>9</td>\n",
        "    <td>Ankle boot</td>\n",
        "  </tr>\n",
        "</table>\n",
        "\n",
        "Each image is mapped to a single label. Since the *class names* are not included with the dataset, store them here to use later when plotting the images:"
      ]
    },
    {
      "cell_type": "code",
      "metadata": {
        "id": "ufH0IY0irnGO"
      },
      "source": [
        "class_names = ['T-shirt/top', 'Trouser', 'Pullover', 'Dress', 'Coat',\n",
        "               'Sandal', 'Shirt', 'Sneaker', 'Bag', 'Ankle boot']"
      ],
      "execution_count": 15,
      "outputs": []
    },
    {
      "cell_type": "markdown",
      "metadata": {
        "id": "mb5d5XCZruG6"
      },
      "source": [
        "## Explore the data\n",
        "Image shape : 60,000 x 28 x 28\n",
        "\n",
        "Each image is represented as a 2 dimensional matrix of 28 x 28"
      ]
    },
    {
      "cell_type": "code",
      "metadata": {
        "colab": {
          "base_uri": "https://localhost:8080/"
        },
        "id": "XgG1w55JrwQn",
        "outputId": "ad116095-8bc0-4bd6-8113-9eeb3c2c9709"
      },
      "source": [
        "train_images.shape,len(train_labels)\n"
      ],
      "execution_count": 16,
      "outputs": [
        {
          "output_type": "execute_result",
          "data": {
            "text/plain": [
              "((60000, 28, 28), 60000)"
            ]
          },
          "metadata": {},
          "execution_count": 16
        }
      ]
    },
    {
      "cell_type": "code",
      "metadata": {
        "colab": {
          "base_uri": "https://localhost:8080/"
        },
        "id": "yszF3KJBsDN-",
        "outputId": "a342f703-b27e-469a-dfd2-db26e5fd88ed"
      },
      "source": [
        "train_labels"
      ],
      "execution_count": 17,
      "outputs": [
        {
          "output_type": "execute_result",
          "data": {
            "text/plain": [
              "array([9, 0, 0, ..., 3, 0, 5], dtype=uint8)"
            ]
          },
          "metadata": {},
          "execution_count": 17
        }
      ]
    },
    {
      "cell_type": "code",
      "metadata": {
        "colab": {
          "base_uri": "https://localhost:8080/"
        },
        "id": "Qkgk8WLAsHgS",
        "outputId": "82025359-676e-41ea-f779-aeed5f32a42b"
      },
      "source": [
        "test_images.shape, len(test_labels)"
      ],
      "execution_count": 18,
      "outputs": [
        {
          "output_type": "execute_result",
          "data": {
            "text/plain": [
              "((10000, 28, 28), 10000)"
            ]
          },
          "metadata": {},
          "execution_count": 18
        }
      ]
    },
    {
      "cell_type": "code",
      "metadata": {
        "colab": {
          "base_uri": "https://localhost:8080/",
          "height": 265
        },
        "id": "uFiJ1fAMsdrj",
        "outputId": "df9b4cae-073c-4fe4-c107-4d678f88904a"
      },
      "source": [
        "plt.imshow(train_images[0], plt.cm.binary)\n",
        "plt.colorbar()\n",
        "plt.grid(False)\n",
        "plt.show()"
      ],
      "execution_count": 19,
      "outputs": [
        {
          "output_type": "display_data",
          "data": {
            "image/png": "[encoded data removed]",
            "text/plain": [
              "<Figure size 432x288 with 2 Axes>"
            ]
          },
          "metadata": {
            "needs_background": "light"
          }
        }
      ]
    },
    {
      "cell_type": "markdown",
      "metadata": {
        "id": "MsmP2X8lt3ZQ"
      },
      "source": [
        "## Preprocess images\n",
        "Normalize pixel values in the range [0, 1], i.e. divide by 255."
      ]
    },
    {
      "cell_type": "code",
      "metadata": {
        "id": "8xDwuGDSt2iz"
      },
      "source": [
        "# important to perform each processing step separately on train and test \n",
        "\n",
        "train_images = train_images / 255.0\n",
        "\n",
        "test_images = test_images / 255.0"
      ],
      "execution_count": 20,
      "outputs": []
    },
    {
      "cell_type": "code",
      "metadata": {
        "colab": {
          "base_uri": "https://localhost:8080/",
          "height": 541
        },
        "id": "5G2-rqN6uaSI",
        "outputId": "cb629881-c366-4480-fefe-2207eac3d8eb"
      },
      "source": [
        "plt.imshow(train_images[0], cmap=plt.cm.binary)\n",
        "plt.xlabel(class_names[train_labels[0]])\n",
        "plt.show()\n",
        "plt.imshow(train_images[1], cmap=plt.cm.binary)\n",
        "plt.xlabel(class_names[train_labels[1]])\n",
        "plt.show()\n"
      ],
      "execution_count": 21,
      "outputs": [
        {
          "output_type": "display_data",
          "data": {
            "image/png": "[encoded data removed]",
            "text/plain": [
              "<Figure size 432x288 with 1 Axes>"
            ]
          },
          "metadata": {
            "needs_background": "light"
          }
        },
        {
          "output_type": "display_data",
          "data": {
            "image/png": "[encoded data removed]",
            "text/plain": [
              "<Figure size 432x288 with 1 Axes>"
            ]
          },
          "metadata": {
            "needs_background": "light"
          }
        }
      ]
    },
    {
      "cell_type": "markdown",
      "metadata": {
        "id": "KhAPvd5Hu4ug"
      },
      "source": [
        "## Build the model and pipeline using Sequential API\n",
        "\n",
        "## Setup layers\n",
        "\n",
        "Flatten -> Dense(128) -> Dense(10) \n",
        "\n",
        "Flatten : flatten images i.e. convert 28,28 to 28*28=784 vector\n",
        "\n",
        "Dense(250): Hidden layer with 250 units\n",
        "\n",
        "Dense(10): Dense layer with 10 outputs each corresponding to our class label"
      ]
    },
    {
      "cell_type": "code",
      "metadata": {
        "id": "8tzrpQ0ku4ID"
      },
      "source": [
        "model = tf.keras.Sequential([\n",
        "    tf.keras.layers.Flatten(input_shape=(28, 28)),\n",
        "    tf.keras.layers.Dense(250, activation='relu'),\n",
        "    tf.keras.layers.Dense(10, activation='softmax')\n",
        "])"
      ],
      "execution_count": 22,
      "outputs": []
    },
    {
      "cell_type": "markdown",
      "metadata": {
        "id": "jeMpTjIWv70Z"
      },
      "source": [
        "## Compile the model\n",
        "\n",
        "Compiling the model means setting up the optimizer and loss function\n",
        "\n",
        "* **Loss function** —This measures how accurate the model is during training. You want to minimize this function to \"steer\" the model in the right direction.\n",
        "* **Optimizer** —This is how the model is updated based on the data it sees and its loss function.\n",
        "* **Metrics** —Used to monitor the training and testing steps. This example uses accuracy, the fraction of the images that are correctly classified."
      ]
    },
    {
      "cell_type": "code",
      "metadata": {
        "colab": {
          "base_uri": "https://localhost:8080/"
        },
        "id": "SzxXzsOUwgPB",
        "outputId": "3676fa31-1b8a-47ab-9c64-6e03a91d1d84"
      },
      "source": [
        "model.compile(optimizer='adam',\n",
        "              loss=tf.keras.losses.SparseCategoricalCrossentropy(from_logits=False),\n",
        "              metrics=['accuracy'])\n",
        "model.summary()"
      ],
      "execution_count": 23,
      "outputs": [
        {
          "output_type": "stream",
          "name": "stdout",
          "text": [
            "Model: \"sequential_1\"\n",
            "_________________________________________________________________\n",
            "Layer (type)                 Output Shape              Param #   \n",
            "=================================================================\n",
            "flatten (Flatten)            (None, 784)               0         \n",
            "_________________________________________________________________\n",
            "dense (Dense)                (None, 250)               196250    \n",
            "_________________________________________________________________\n",
            "dense_1 (Dense)              (None, 10)                2510      \n",
            "=================================================================\n",
            "Total params: 198,760\n",
            "Trainable params: 198,760\n",
            "Non-trainable params: 0\n",
            "_________________________________________________________________\n"
          ]
        }
      ]
    },
    {
      "cell_type": "markdown",
      "metadata": {
        "id": "3lPdiH_Qx9ne"
      },
      "source": [
        "Categorical cross entropy : Use when class labels are one hot encoded\n",
        "\n",
        "Sparse categorical cross entropy : Use when class labels are integers"
      ]
    },
    {
      "cell_type": "markdown",
      "metadata": {
        "id": "6GFoFSPnzB8N"
      },
      "source": [
        "## Train the model\n",
        "Training the neural network model requires the following steps:\n",
        "\n",
        "1. Feed the training data to the model. In this example, the training data is in the train_images and train_labels arrays.\n",
        "2. The model learns to associate images and labels.\n",
        "3. You ask the model to make predictions about a test set—in this example, the test_images array.\n",
        "4. Verify that the predictions match the labels from the test_labels array."
      ]
    },
    {
      "cell_type": "code",
      "metadata": {
        "colab": {
          "base_uri": "https://localhost:8080/"
        },
        "id": "HrLm8lkdwlMG",
        "outputId": "7cc6c97d-be8b-40e9-92e6-63007c85feea"
      },
      "source": [
        "# tensorboard settings to view plots\n",
        "logdir = \"logs/scalars/\" + datetime.now().strftime(\"%Y%m%d-%H%M%S\")\n",
        "tensorboard_callback = keras.callbacks.TensorBoard(log_dir=logdir)\n",
        "\n",
        "history = model.fit(train_images, train_labels, epochs=100, batch_size=1000, shuffle=True, callbacks=[tensorboard_callback], validation_split=0.2)"
      ],
      "execution_count": 24,
      "outputs": [
        {
          "output_type": "stream",
          "name": "stdout",
          "text": [
            "Epoch 1/100\n",
            "48/48 [==============================] - 2s 27ms/step - loss: 0.8369 - accuracy: 0.7225 - val_loss: 0.5448 - val_accuracy: 0.8151\n",
            "Epoch 2/100\n",
            "48/48 [==============================] - 1s 23ms/step - loss: 0.4970 - accuracy: 0.8326 - val_loss: 0.4725 - val_accuracy: 0.8376\n",
            "Epoch 3/100\n",
            "48/48 [==============================] - 1s 23ms/step - loss: 0.4416 - accuracy: 0.8496 - val_loss: 0.4299 - val_accuracy: 0.8522\n",
            "Epoch 4/100\n",
            "48/48 [==============================] - 1s 23ms/step - loss: 0.4100 - accuracy: 0.8586 - val_loss: 0.4141 - val_accuracy: 0.8567\n",
            "Epoch 5/100\n",
            "48/48 [==============================] - 1s 23ms/step - loss: 0.3911 - accuracy: 0.8648 - val_loss: 0.3988 - val_accuracy: 0.8614\n",
            "Epoch 6/100\n",
            "48/48 [==============================] - 1s 22ms/step - loss: 0.3752 - accuracy: 0.8704 - val_loss: 0.3860 - val_accuracy: 0.8648\n",
            "Epoch 7/100\n",
            "48/48 [==============================] - 1s 22ms/step - loss: 0.3534 - accuracy: 0.8772 - val_loss: 0.3747 - val_accuracy: 0.8688\n",
            "Epoch 8/100\n",
            "48/48 [==============================] - 1s 23ms/step - loss: 0.3463 - accuracy: 0.8789 - val_loss: 0.3737 - val_accuracy: 0.8674\n",
            "Epoch 9/100\n",
            "48/48 [==============================] - 1s 23ms/step - loss: 0.3370 - accuracy: 0.8817 - val_loss: 0.3639 - val_accuracy: 0.8736\n",
            "Epoch 10/100\n",
            "48/48 [==============================] - 1s 23ms/step - loss: 0.3275 - accuracy: 0.8847 - val_loss: 0.3588 - val_accuracy: 0.8734\n",
            "Epoch 11/100\n",
            "48/48 [==============================] - 1s 23ms/step - loss: 0.3183 - accuracy: 0.8887 - val_loss: 0.3524 - val_accuracy: 0.8720\n",
            "Epoch 12/100\n",
            "48/48 [==============================] - 1s 22ms/step - loss: 0.3096 - accuracy: 0.8908 - val_loss: 0.3594 - val_accuracy: 0.8700\n",
            "Epoch 13/100\n",
            "48/48 [==============================] - 1s 23ms/step - loss: 0.3022 - accuracy: 0.8929 - val_loss: 0.3449 - val_accuracy: 0.8779\n",
            "Epoch 14/100\n",
            "48/48 [==============================] - 1s 22ms/step - loss: 0.2945 - accuracy: 0.8953 - val_loss: 0.3584 - val_accuracy: 0.8696\n",
            "Epoch 15/100\n",
            "48/48 [==============================] - 1s 22ms/step - loss: 0.2857 - accuracy: 0.8993 - val_loss: 0.3342 - val_accuracy: 0.8819\n",
            "Epoch 16/100\n",
            "48/48 [==============================] - 1s 23ms/step - loss: 0.2825 - accuracy: 0.8996 - val_loss: 0.3268 - val_accuracy: 0.8830\n",
            "Epoch 17/100\n",
            "48/48 [==============================] - 1s 23ms/step - loss: 0.2755 - accuracy: 0.9020 - val_loss: 0.3311 - val_accuracy: 0.8817\n",
            "Epoch 18/100\n",
            "48/48 [==============================] - 1s 22ms/step - loss: 0.2700 - accuracy: 0.9044 - val_loss: 0.3225 - val_accuracy: 0.8858\n",
            "Epoch 19/100\n",
            "48/48 [==============================] - 1s 22ms/step - loss: 0.2671 - accuracy: 0.9047 - val_loss: 0.3227 - val_accuracy: 0.8857\n",
            "Epoch 20/100\n",
            "48/48 [==============================] - 1s 23ms/step - loss: 0.2620 - accuracy: 0.9054 - val_loss: 0.3245 - val_accuracy: 0.8843\n",
            "Epoch 21/100\n",
            "48/48 [==============================] - 1s 23ms/step - loss: 0.2567 - accuracy: 0.9085 - val_loss: 0.3177 - val_accuracy: 0.8867\n",
            "Epoch 22/100\n",
            "48/48 [==============================] - 1s 22ms/step - loss: 0.2518 - accuracy: 0.9107 - val_loss: 0.3162 - val_accuracy: 0.8863\n",
            "Epoch 23/100\n",
            "48/48 [==============================] - 1s 23ms/step - loss: 0.2532 - accuracy: 0.9088 - val_loss: 0.3304 - val_accuracy: 0.8823\n",
            "Epoch 24/100\n",
            "48/48 [==============================] - 1s 23ms/step - loss: 0.2417 - accuracy: 0.9140 - val_loss: 0.3162 - val_accuracy: 0.8876\n",
            "Epoch 25/100\n",
            "48/48 [==============================] - 1s 22ms/step - loss: 0.2408 - accuracy: 0.9139 - val_loss: 0.3269 - val_accuracy: 0.8844\n",
            "Epoch 26/100\n",
            "48/48 [==============================] - 1s 22ms/step - loss: 0.2332 - accuracy: 0.9176 - val_loss: 0.3118 - val_accuracy: 0.8873\n",
            "Epoch 27/100\n",
            "48/48 [==============================] - 1s 22ms/step - loss: 0.2325 - accuracy: 0.9171 - val_loss: 0.3185 - val_accuracy: 0.8873\n",
            "Epoch 28/100\n",
            "48/48 [==============================] - 1s 23ms/step - loss: 0.2252 - accuracy: 0.9214 - val_loss: 0.3076 - val_accuracy: 0.8894\n",
            "Epoch 29/100\n",
            "48/48 [==============================] - 1s 23ms/step - loss: 0.2213 - accuracy: 0.9225 - val_loss: 0.3066 - val_accuracy: 0.8917\n",
            "Epoch 30/100\n",
            "48/48 [==============================] - 1s 23ms/step - loss: 0.2243 - accuracy: 0.9192 - val_loss: 0.3086 - val_accuracy: 0.8903\n",
            "Epoch 31/100\n",
            "48/48 [==============================] - 1s 22ms/step - loss: 0.2179 - accuracy: 0.9222 - val_loss: 0.3038 - val_accuracy: 0.8919\n",
            "Epoch 32/100\n",
            "48/48 [==============================] - 1s 23ms/step - loss: 0.2129 - accuracy: 0.9250 - val_loss: 0.3145 - val_accuracy: 0.8896\n",
            "Epoch 33/100\n",
            "48/48 [==============================] - 1s 23ms/step - loss: 0.2130 - accuracy: 0.9248 - val_loss: 0.3113 - val_accuracy: 0.8889\n",
            "Epoch 34/100\n",
            "48/48 [==============================] - 1s 22ms/step - loss: 0.2054 - accuracy: 0.9279 - val_loss: 0.3135 - val_accuracy: 0.8878\n",
            "Epoch 35/100\n",
            "48/48 [==============================] - 1s 23ms/step - loss: 0.2018 - accuracy: 0.9283 - val_loss: 0.3059 - val_accuracy: 0.8912\n",
            "Epoch 36/100\n",
            "48/48 [==============================] - 1s 22ms/step - loss: 0.2020 - accuracy: 0.9285 - val_loss: 0.3117 - val_accuracy: 0.8903\n",
            "Epoch 37/100\n",
            "48/48 [==============================] - 1s 22ms/step - loss: 0.1959 - accuracy: 0.9305 - val_loss: 0.3077 - val_accuracy: 0.8912\n",
            "Epoch 38/100\n",
            "48/48 [==============================] - 1s 22ms/step - loss: 0.1942 - accuracy: 0.9318 - val_loss: 0.3017 - val_accuracy: 0.8928\n",
            "Epoch 39/100\n",
            "48/48 [==============================] - 1s 23ms/step - loss: 0.1898 - accuracy: 0.9333 - val_loss: 0.3111 - val_accuracy: 0.8906\n",
            "Epoch 40/100\n",
            "48/48 [==============================] - 1s 23ms/step - loss: 0.1909 - accuracy: 0.9326 - val_loss: 0.3095 - val_accuracy: 0.8908\n",
            "Epoch 41/100\n",
            "48/48 [==============================] - 1s 22ms/step - loss: 0.1867 - accuracy: 0.9335 - val_loss: 0.3013 - val_accuracy: 0.8935\n",
            "Epoch 42/100\n",
            "48/48 [==============================] - 1s 22ms/step - loss: 0.1854 - accuracy: 0.9348 - val_loss: 0.3230 - val_accuracy: 0.8889\n",
            "Epoch 43/100\n",
            "48/48 [==============================] - 1s 22ms/step - loss: 0.1815 - accuracy: 0.9366 - val_loss: 0.3023 - val_accuracy: 0.8963\n",
            "Epoch 44/100\n",
            "48/48 [==============================] - 1s 22ms/step - loss: 0.1751 - accuracy: 0.9391 - val_loss: 0.3078 - val_accuracy: 0.8952\n",
            "Epoch 45/100\n",
            "48/48 [==============================] - 1s 23ms/step - loss: 0.1830 - accuracy: 0.9344 - val_loss: 0.3100 - val_accuracy: 0.8925\n",
            "Epoch 46/100\n",
            "48/48 [==============================] - 1s 22ms/step - loss: 0.1728 - accuracy: 0.9395 - val_loss: 0.3051 - val_accuracy: 0.8963\n",
            "Epoch 47/100\n",
            "48/48 [==============================] - 1s 23ms/step - loss: 0.1680 - accuracy: 0.9411 - val_loss: 0.3068 - val_accuracy: 0.8943\n",
            "Epoch 48/100\n",
            "48/48 [==============================] - 1s 23ms/step - loss: 0.1669 - accuracy: 0.9415 - val_loss: 0.3049 - val_accuracy: 0.8953\n",
            "Epoch 49/100\n",
            "48/48 [==============================] - 1s 23ms/step - loss: 0.1661 - accuracy: 0.9419 - val_loss: 0.3110 - val_accuracy: 0.8938\n",
            "Epoch 50/100\n",
            "48/48 [==============================] - 1s 23ms/step - loss: 0.1630 - accuracy: 0.9438 - val_loss: 0.3131 - val_accuracy: 0.8929\n",
            "Epoch 51/100\n",
            "48/48 [==============================] - 1s 23ms/step - loss: 0.1610 - accuracy: 0.9446 - val_loss: 0.3085 - val_accuracy: 0.8958\n",
            "Epoch 52/100\n",
            "48/48 [==============================] - 1s 22ms/step - loss: 0.1574 - accuracy: 0.9467 - val_loss: 0.3067 - val_accuracy: 0.8932\n",
            "Epoch 53/100\n",
            "48/48 [==============================] - 1s 23ms/step - loss: 0.1549 - accuracy: 0.9460 - val_loss: 0.3066 - val_accuracy: 0.8973\n",
            "Epoch 54/100\n",
            "48/48 [==============================] - 1s 23ms/step - loss: 0.1568 - accuracy: 0.9452 - val_loss: 0.3114 - val_accuracy: 0.8940\n",
            "Epoch 55/100\n",
            "48/48 [==============================] - 1s 22ms/step - loss: 0.1498 - accuracy: 0.9486 - val_loss: 0.3102 - val_accuracy: 0.8961\n",
            "Epoch 56/100\n",
            "48/48 [==============================] - 1s 23ms/step - loss: 0.1469 - accuracy: 0.9494 - val_loss: 0.3101 - val_accuracy: 0.8953\n",
            "Epoch 57/100\n",
            "48/48 [==============================] - 1s 23ms/step - loss: 0.1494 - accuracy: 0.9486 - val_loss: 0.3137 - val_accuracy: 0.8947\n",
            "Epoch 58/100\n",
            "48/48 [==============================] - 1s 22ms/step - loss: 0.1513 - accuracy: 0.9475 - val_loss: 0.3084 - val_accuracy: 0.8967\n",
            "Epoch 59/100\n",
            "48/48 [==============================] - 1s 23ms/step - loss: 0.1406 - accuracy: 0.9521 - val_loss: 0.3179 - val_accuracy: 0.8953\n",
            "Epoch 60/100\n",
            "48/48 [==============================] - 1s 22ms/step - loss: 0.1379 - accuracy: 0.9533 - val_loss: 0.3194 - val_accuracy: 0.8930\n",
            "Epoch 61/100\n",
            "48/48 [==============================] - 1s 23ms/step - loss: 0.1388 - accuracy: 0.9522 - val_loss: 0.3250 - val_accuracy: 0.8937\n",
            "Epoch 62/100\n",
            "48/48 [==============================] - 1s 23ms/step - loss: 0.1389 - accuracy: 0.9523 - val_loss: 0.3156 - val_accuracy: 0.8952\n",
            "Epoch 63/100\n",
            "48/48 [==============================] - 1s 22ms/step - loss: 0.1359 - accuracy: 0.9541 - val_loss: 0.3246 - val_accuracy: 0.8928\n",
            "Epoch 64/100\n",
            "48/48 [==============================] - 1s 22ms/step - loss: 0.1369 - accuracy: 0.9525 - val_loss: 0.3200 - val_accuracy: 0.8969\n",
            "Epoch 65/100\n",
            "48/48 [==============================] - 1s 22ms/step - loss: 0.1298 - accuracy: 0.9559 - val_loss: 0.3232 - val_accuracy: 0.8938\n",
            "Epoch 66/100\n",
            "48/48 [==============================] - 1s 23ms/step - loss: 0.1290 - accuracy: 0.9569 - val_loss: 0.3284 - val_accuracy: 0.8938\n",
            "Epoch 67/100\n",
            "48/48 [==============================] - 1s 22ms/step - loss: 0.1272 - accuracy: 0.9572 - val_loss: 0.3221 - val_accuracy: 0.8951\n",
            "Epoch 68/100\n",
            "48/48 [==============================] - 1s 23ms/step - loss: 0.1273 - accuracy: 0.9571 - val_loss: 0.3196 - val_accuracy: 0.8953\n",
            "Epoch 69/100\n",
            "48/48 [==============================] - 1s 23ms/step - loss: 0.1209 - accuracy: 0.9600 - val_loss: 0.3224 - val_accuracy: 0.8932\n",
            "Epoch 70/100\n",
            "48/48 [==============================] - 1s 24ms/step - loss: 0.1229 - accuracy: 0.9579 - val_loss: 0.3330 - val_accuracy: 0.8943\n",
            "Epoch 71/100\n",
            "48/48 [==============================] - 1s 22ms/step - loss: 0.1196 - accuracy: 0.9592 - val_loss: 0.3317 - val_accuracy: 0.8935\n",
            "Epoch 72/100\n",
            "48/48 [==============================] - 1s 23ms/step - loss: 0.1221 - accuracy: 0.9588 - val_loss: 0.3281 - val_accuracy: 0.8954\n",
            "Epoch 73/100\n",
            "48/48 [==============================] - 1s 23ms/step - loss: 0.1188 - accuracy: 0.9594 - val_loss: 0.3336 - val_accuracy: 0.8919\n",
            "Epoch 74/100\n",
            "48/48 [==============================] - 1s 23ms/step - loss: 0.1182 - accuracy: 0.9609 - val_loss: 0.3362 - val_accuracy: 0.8949\n",
            "Epoch 75/100\n",
            "48/48 [==============================] - 1s 22ms/step - loss: 0.1118 - accuracy: 0.9632 - val_loss: 0.3442 - val_accuracy: 0.8918\n",
            "Epoch 76/100\n",
            "48/48 [==============================] - 1s 23ms/step - loss: 0.1107 - accuracy: 0.9636 - val_loss: 0.3426 - val_accuracy: 0.8917\n",
            "Epoch 77/100\n",
            "48/48 [==============================] - 1s 23ms/step - loss: 0.1089 - accuracy: 0.9645 - val_loss: 0.3363 - val_accuracy: 0.8937\n",
            "Epoch 78/100\n",
            "48/48 [==============================] - 1s 23ms/step - loss: 0.1061 - accuracy: 0.9649 - val_loss: 0.3352 - val_accuracy: 0.8921\n",
            "Epoch 79/100\n",
            "48/48 [==============================] - 1s 23ms/step - loss: 0.1104 - accuracy: 0.9630 - val_loss: 0.3344 - val_accuracy: 0.8950\n",
            "Epoch 80/100\n",
            "48/48 [==============================] - 1s 23ms/step - loss: 0.1045 - accuracy: 0.9663 - val_loss: 0.3388 - val_accuracy: 0.8931\n",
            "Epoch 81/100\n",
            "48/48 [==============================] - 1s 23ms/step - loss: 0.1056 - accuracy: 0.9651 - val_loss: 0.3466 - val_accuracy: 0.8898\n",
            "Epoch 82/100\n",
            "48/48 [==============================] - 1s 23ms/step - loss: 0.1026 - accuracy: 0.9666 - val_loss: 0.3409 - val_accuracy: 0.8932\n",
            "Epoch 83/100\n",
            "48/48 [==============================] - 1s 23ms/step - loss: 0.0989 - accuracy: 0.9679 - val_loss: 0.3416 - val_accuracy: 0.8941\n",
            "Epoch 84/100\n",
            "48/48 [==============================] - 1s 23ms/step - loss: 0.0992 - accuracy: 0.9682 - val_loss: 0.3409 - val_accuracy: 0.8956\n",
            "Epoch 85/100\n",
            "48/48 [==============================] - 1s 22ms/step - loss: 0.0981 - accuracy: 0.9685 - val_loss: 0.3499 - val_accuracy: 0.8940\n",
            "Epoch 86/100\n",
            "48/48 [==============================] - 1s 22ms/step - loss: 0.0988 - accuracy: 0.9681 - val_loss: 0.3386 - val_accuracy: 0.8952\n",
            "Epoch 87/100\n",
            "48/48 [==============================] - 1s 23ms/step - loss: 0.0955 - accuracy: 0.9695 - val_loss: 0.3531 - val_accuracy: 0.8928\n",
            "Epoch 88/100\n",
            "48/48 [==============================] - 1s 23ms/step - loss: 0.0973 - accuracy: 0.9689 - val_loss: 0.3472 - val_accuracy: 0.8935\n",
            "Epoch 89/100\n",
            "48/48 [==============================] - 1s 23ms/step - loss: 0.0892 - accuracy: 0.9725 - val_loss: 0.3475 - val_accuracy: 0.8946\n",
            "Epoch 90/100\n",
            "48/48 [==============================] - 1s 23ms/step - loss: 0.0894 - accuracy: 0.9728 - val_loss: 0.3452 - val_accuracy: 0.8938\n",
            "Epoch 91/100\n",
            "48/48 [==============================] - 1s 23ms/step - loss: 0.0880 - accuracy: 0.9729 - val_loss: 0.3477 - val_accuracy: 0.8947\n",
            "Epoch 92/100\n",
            "48/48 [==============================] - 1s 22ms/step - loss: 0.0943 - accuracy: 0.9688 - val_loss: 0.3559 - val_accuracy: 0.8941\n",
            "Epoch 93/100\n",
            "48/48 [==============================] - 1s 23ms/step - loss: 0.0867 - accuracy: 0.9728 - val_loss: 0.3547 - val_accuracy: 0.8926\n",
            "Epoch 94/100\n",
            "48/48 [==============================] - 1s 23ms/step - loss: 0.0868 - accuracy: 0.9726 - val_loss: 0.3573 - val_accuracy: 0.8954\n",
            "Epoch 95/100\n",
            "48/48 [==============================] - 1s 23ms/step - loss: 0.0897 - accuracy: 0.9703 - val_loss: 0.3542 - val_accuracy: 0.8933\n",
            "Epoch 96/100\n",
            "48/48 [==============================] - 1s 22ms/step - loss: 0.0833 - accuracy: 0.9743 - val_loss: 0.3758 - val_accuracy: 0.8911\n",
            "Epoch 97/100\n",
            "48/48 [==============================] - 1s 23ms/step - loss: 0.0874 - accuracy: 0.9724 - val_loss: 0.3644 - val_accuracy: 0.8921\n",
            "Epoch 98/100\n",
            "48/48 [==============================] - 1s 23ms/step - loss: 0.0838 - accuracy: 0.9739 - val_loss: 0.3771 - val_accuracy: 0.8912\n",
            "Epoch 99/100\n",
            "48/48 [==============================] - 1s 23ms/step - loss: 0.0857 - accuracy: 0.9718 - val_loss: 0.3715 - val_accuracy: 0.8936\n",
            "Epoch 100/100\n",
            "48/48 [==============================] - 1s 23ms/step - loss: 0.0778 - accuracy: 0.9763 - val_loss: 0.3584 - val_accuracy: 0.8963\n"
          ]
        }
      ]
    },
    {
      "cell_type": "markdown",
      "metadata": {
        "id": "XVis46hYzW7o"
      },
      "source": [
        "## Evaluate the model on test set"
      ]
    },
    {
      "cell_type": "code",
      "metadata": {
        "colab": {
          "base_uri": "https://localhost:8080/"
        },
        "id": "oAaA-zsEzpfB",
        "outputId": "71086166-8491-4256-a8bc-0a480541abc9"
      },
      "source": [
        "test_loss, test_acc = model.evaluate(test_images,  test_labels, verbose=2)\n",
        "\n",
        "print('\\nTest accuracy:', test_acc)"
      ],
      "execution_count": 25,
      "outputs": [
        {
          "output_type": "stream",
          "name": "stdout",
          "text": [
            "313/313 - 1s - loss: 0.3866 - accuracy: 0.8901\n",
            "\n",
            "Test accuracy: 0.8901000022888184\n"
          ]
        }
      ]
    },
    {
      "cell_type": "markdown",
      "metadata": {
        "id": "SkchY1ZTfT0L"
      },
      "source": [
        "## Visual check\n",
        "\n",
        "Correct labels : blue \n",
        "\n",
        "Incorrect labels : red"
      ]
    },
    {
      "cell_type": "code",
      "metadata": {
        "id": "2mBkmyUepUzH"
      },
      "source": [
        "def plot_image(i, predictions_array, true_label, img):\n",
        "  true_label, img = true_label[i], img[i]\n",
        "  plt.grid(False)\n",
        "  plt.xticks([])\n",
        "  plt.yticks([])\n",
        "\n",
        "  plt.imshow(img, cmap=plt.cm.binary)\n",
        "\n",
        "  predicted_label = np.argmax(predictions_array)\n",
        "  if predicted_label == true_label:\n",
        "    color = 'blue'\n",
        "  else:\n",
        "    color = 'red'\n",
        "\n",
        "  plt.xlabel(\"{} {:2.0f}% ({})\".format(class_names[predicted_label],\n",
        "                                100*np.max(predictions_array),\n",
        "                                class_names[true_label]),\n",
        "                                color=color)\n",
        "\n",
        "def plot_value_array(i, predictions_array, true_label):\n",
        "  true_label = true_label[i]\n",
        "  plt.grid(False)\n",
        "  plt.xticks(range(10))\n",
        "  plt.yticks([])\n",
        "  thisplot = plt.bar(range(10), predictions_array, color=\"#777777\")\n",
        "  plt.ylim([0, 1])\n",
        "  predicted_label = np.argmax(predictions_array)\n",
        "\n",
        "  thisplot[predicted_label].set_color('red')\n",
        "  thisplot[true_label].set_color('blue')"
      ],
      "execution_count": 26,
      "outputs": []
    },
    {
      "cell_type": "code",
      "metadata": {
        "colab": {
          "base_uri": "https://localhost:8080/",
          "height": 729
        },
        "id": "NGVMjCtrOrt5",
        "outputId": "b4e41ff2-8e9c-4a90-f98b-2fa343c2dec6"
      },
      "source": [
        "predictions = model.predict(test_images)\n",
        "# Plot the first X test images, their predicted labels, and the true labels.\n",
        "# Color correct predictions in blue and incorrect predictions in red.\n",
        "num_rows = 5\n",
        "num_cols = 3\n",
        "num_images = num_rows*num_cols\n",
        "plt.figure(figsize=(2*2*num_cols, 2*num_rows))\n",
        "for i in range(num_images):\n",
        "  plt.subplot(num_rows, 2*num_cols, 2*i+1)\n",
        "  plot_image(i, predictions[i], test_labels, test_images)\n",
        "  plt.subplot(num_rows, 2*num_cols, 2*i+2)\n",
        "  plot_value_array(i, predictions[i], test_labels)\n",
        "plt.tight_layout()\n",
        "plt.show()"
      ],
      "execution_count": 27,
      "outputs": [
        {
          "output_type": "display_data",
          "data": {
            "image/png": "[encoded data removed]",
            "text/plain": [
              "<Figure size 864x720 with 30 Axes>"
            ]
          },
          "metadata": {
            "needs_background": "light"
          }
        }
      ]
    },
    {
      "cell_type": "markdown",
      "metadata": {
        "id": "33y9ql42z_43"
      },
      "source": [
        "## Overfitting? \n",
        "\n",
        "As a neural network gets deeper the tendency to overfit increases. How to debug if our model is overfitting? \n",
        "\n",
        "\n",
        "Does the validation loss rise after some epochs? And if validation loss is higher than the training loss its perfectly fine, your model is still learning. Naturally you can't have validation loss to be less than your training loss (it does become very close to your training loss if the model is deep enough ). But if validation loss rises and your training loss keeps decreasing then you are overfitting. Use early stopping to tackle overfitting."
      ]
    },
    {
      "cell_type": "code",
      "metadata": {
        "colab": {
          "base_uri": "https://localhost:8080/",
          "height": 279
        },
        "id": "oYx6G_0L8wce",
        "outputId": "82434d88-9c60-43ec-e89c-e182fa39e6e4"
      },
      "source": [
        "plotter = tfdocs.plots.HistoryPlotter(metric = 'loss', smoothing_std=10)\n",
        "\n",
        "plotter.plot({'hist': history})"
      ],
      "execution_count": 28,
      "outputs": [
        {
          "output_type": "display_data",
          "data": {
            "image/png": "[encoded data removed]",
            "text/plain": [
              "<Figure size 432x288 with 1 Axes>"
            ]
          },
          "metadata": {
            "needs_background": "light"
          }
        }
      ]
    },
    {
      "cell_type": "markdown",
      "metadata": {
        "id": "R39IIxJ11aDh"
      },
      "source": [
        "### Early stopping\n",
        "\n",
        "Stop training when validation loss does not improve any longer."
      ]
    },
    {
      "cell_type": "code",
      "metadata": {
        "colab": {
          "base_uri": "https://localhost:8080/"
        },
        "id": "eovyPXWhhSXj",
        "outputId": "f1c762cd-49a4-4a3f-99b5-f7ff22bb15a5"
      },
      "source": [
        "model = tf.keras.Sequential([\n",
        "    tf.keras.layers.Flatten(input_shape=(28, 28)),\n",
        "    tf.keras.layers.Dense(250, activation='relu'),\n",
        "    tf.keras.layers.Dense(10, activation='softmax')\n",
        "])\n",
        "\n",
        "\n",
        "model.compile(optimizer='adam',\n",
        "              loss=tf.keras.losses.SparseCategoricalCrossentropy(from_logits=False),\n",
        "              metrics=['accuracy'])\n",
        "\n",
        "\n",
        "\n",
        "# tensorboard settings to view plots\n",
        "logdir = \"logs/scalars/\" + datetime.now().strftime(\"%Y%m%d-%H%M%S\")\n",
        "tensorboard_callback = keras.callbacks.TensorBoard(log_dir=logdir)\n",
        "\n",
        "# This callback will stop the training when there is no improvement in\n",
        "# the loss for 5 consecutive epochs\n",
        "earlystopping = keras.callbacks.EarlyStopping(monitor='val_loss', mode='min', \n",
        "                                              verbose=1, patience=5)\n",
        "\n",
        "\n",
        "\n",
        "history = model.fit(train_images, train_labels, batch_size=1000, \n",
        "          epochs=100, callbacks=[earlystopping, tensorboard_callback], validation_split=0.2)\n",
        "\n",
        "# train_images = 48k (20% for validation)"
      ],
      "execution_count": 29,
      "outputs": [
        {
          "output_type": "stream",
          "name": "stdout",
          "text": [
            "Epoch 1/100\n",
            "48/48 [==============================] - 2s 27ms/step - loss: 0.7969 - accuracy: 0.7320 - val_loss: 0.5379 - val_accuracy: 0.8138\n",
            "Epoch 2/100\n",
            "48/48 [==============================] - 1s 23ms/step - loss: 0.4908 - accuracy: 0.8336 - val_loss: 0.4798 - val_accuracy: 0.8306\n",
            "Epoch 3/100\n",
            "48/48 [==============================] - 1s 23ms/step - loss: 0.4423 - accuracy: 0.8493 - val_loss: 0.4315 - val_accuracy: 0.8506\n",
            "Epoch 4/100\n",
            "48/48 [==============================] - 1s 23ms/step - loss: 0.4110 - accuracy: 0.8577 - val_loss: 0.4200 - val_accuracy: 0.8530\n",
            "Epoch 5/100\n",
            "48/48 [==============================] - 1s 23ms/step - loss: 0.3873 - accuracy: 0.8660 - val_loss: 0.3979 - val_accuracy: 0.8626\n",
            "Epoch 6/100\n",
            "48/48 [==============================] - 1s 23ms/step - loss: 0.3729 - accuracy: 0.8703 - val_loss: 0.3935 - val_accuracy: 0.8642\n",
            "Epoch 7/100\n",
            "48/48 [==============================] - 1s 23ms/step - loss: 0.3597 - accuracy: 0.8743 - val_loss: 0.3736 - val_accuracy: 0.8707\n",
            "Epoch 8/100\n",
            "48/48 [==============================] - 1s 23ms/step - loss: 0.3448 - accuracy: 0.8788 - val_loss: 0.3676 - val_accuracy: 0.8695\n",
            "Epoch 9/100\n",
            "48/48 [==============================] - 1s 23ms/step - loss: 0.3324 - accuracy: 0.8829 - val_loss: 0.3591 - val_accuracy: 0.8715\n",
            "Epoch 10/100\n",
            "48/48 [==============================] - 1s 23ms/step - loss: 0.3299 - accuracy: 0.8837 - val_loss: 0.3802 - val_accuracy: 0.8637\n",
            "Epoch 11/100\n",
            "48/48 [==============================] - 1s 23ms/step - loss: 0.3169 - accuracy: 0.8875 - val_loss: 0.3464 - val_accuracy: 0.8766\n",
            "Epoch 12/100\n",
            "48/48 [==============================] - 1s 23ms/step - loss: 0.3045 - accuracy: 0.8918 - val_loss: 0.3498 - val_accuracy: 0.8754\n",
            "Epoch 13/100\n",
            "48/48 [==============================] - 1s 23ms/step - loss: 0.3012 - accuracy: 0.8921 - val_loss: 0.3513 - val_accuracy: 0.8737\n",
            "Epoch 14/100\n",
            "48/48 [==============================] - 1s 23ms/step - loss: 0.2953 - accuracy: 0.8942 - val_loss: 0.3374 - val_accuracy: 0.8807\n",
            "Epoch 15/100\n",
            "48/48 [==============================] - 1s 23ms/step - loss: 0.2858 - accuracy: 0.8980 - val_loss: 0.3314 - val_accuracy: 0.8801\n",
            "Epoch 16/100\n",
            "48/48 [==============================] - 1s 22ms/step - loss: 0.2785 - accuracy: 0.9005 - val_loss: 0.3301 - val_accuracy: 0.8817\n",
            "Epoch 17/100\n",
            "48/48 [==============================] - 1s 23ms/step - loss: 0.2773 - accuracy: 0.9015 - val_loss: 0.3286 - val_accuracy: 0.8819\n",
            "Epoch 18/100\n",
            "48/48 [==============================] - 1s 22ms/step - loss: 0.2674 - accuracy: 0.9043 - val_loss: 0.3278 - val_accuracy: 0.8839\n",
            "Epoch 19/100\n",
            "48/48 [==============================] - 1s 23ms/step - loss: 0.2634 - accuracy: 0.9052 - val_loss: 0.3291 - val_accuracy: 0.8832\n",
            "Epoch 20/100\n",
            "48/48 [==============================] - 1s 22ms/step - loss: 0.2606 - accuracy: 0.9059 - val_loss: 0.3507 - val_accuracy: 0.8758\n",
            "Epoch 21/100\n",
            "48/48 [==============================] - 1s 23ms/step - loss: 0.2616 - accuracy: 0.9062 - val_loss: 0.3257 - val_accuracy: 0.8844\n",
            "Epoch 22/100\n",
            "48/48 [==============================] - 1s 23ms/step - loss: 0.2514 - accuracy: 0.9106 - val_loss: 0.3215 - val_accuracy: 0.8854\n",
            "Epoch 23/100\n",
            "48/48 [==============================] - 1s 23ms/step - loss: 0.2418 - accuracy: 0.9144 - val_loss: 0.3152 - val_accuracy: 0.8845\n",
            "Epoch 24/100\n",
            "48/48 [==============================] - 1s 24ms/step - loss: 0.2371 - accuracy: 0.9157 - val_loss: 0.3168 - val_accuracy: 0.8847\n",
            "Epoch 25/100\n",
            "48/48 [==============================] - 1s 22ms/step - loss: 0.2333 - accuracy: 0.9187 - val_loss: 0.3224 - val_accuracy: 0.8857\n",
            "Epoch 26/100\n",
            "48/48 [==============================] - 1s 23ms/step - loss: 0.2345 - accuracy: 0.9165 - val_loss: 0.3176 - val_accuracy: 0.8849\n",
            "Epoch 27/100\n",
            "48/48 [==============================] - 1s 23ms/step - loss: 0.2254 - accuracy: 0.9206 - val_loss: 0.3219 - val_accuracy: 0.8848\n",
            "Epoch 28/100\n",
            "48/48 [==============================] - 1s 24ms/step - loss: 0.2227 - accuracy: 0.9220 - val_loss: 0.3103 - val_accuracy: 0.8878\n",
            "Epoch 29/100\n",
            "48/48 [==============================] - 1s 22ms/step - loss: 0.2186 - accuracy: 0.9224 - val_loss: 0.3090 - val_accuracy: 0.8906\n",
            "Epoch 30/100\n",
            "48/48 [==============================] - 1s 22ms/step - loss: 0.2149 - accuracy: 0.9244 - val_loss: 0.3288 - val_accuracy: 0.8841\n",
            "Epoch 31/100\n",
            "48/48 [==============================] - 1s 23ms/step - loss: 0.2144 - accuracy: 0.9241 - val_loss: 0.3069 - val_accuracy: 0.8894\n",
            "Epoch 32/100\n",
            "48/48 [==============================] - 1s 23ms/step - loss: 0.2097 - accuracy: 0.9262 - val_loss: 0.3251 - val_accuracy: 0.8858\n",
            "Epoch 33/100\n",
            "48/48 [==============================] - 1s 23ms/step - loss: 0.2094 - accuracy: 0.9256 - val_loss: 0.3141 - val_accuracy: 0.8881\n",
            "Epoch 34/100\n",
            "48/48 [==============================] - 1s 22ms/step - loss: 0.2007 - accuracy: 0.9291 - val_loss: 0.3107 - val_accuracy: 0.8888\n",
            "Epoch 35/100\n",
            "48/48 [==============================] - 1s 23ms/step - loss: 0.1994 - accuracy: 0.9299 - val_loss: 0.3067 - val_accuracy: 0.8892\n",
            "Epoch 36/100\n",
            "48/48 [==============================] - 1s 23ms/step - loss: 0.1970 - accuracy: 0.9306 - val_loss: 0.3047 - val_accuracy: 0.8906\n",
            "Epoch 37/100\n",
            "48/48 [==============================] - 1s 23ms/step - loss: 0.1938 - accuracy: 0.9314 - val_loss: 0.3047 - val_accuracy: 0.8917\n",
            "Epoch 38/100\n",
            "48/48 [==============================] - 1s 23ms/step - loss: 0.1921 - accuracy: 0.9320 - val_loss: 0.3156 - val_accuracy: 0.8891\n",
            "Epoch 39/100\n",
            "48/48 [==============================] - 1s 24ms/step - loss: 0.1855 - accuracy: 0.9351 - val_loss: 0.3056 - val_accuracy: 0.8919\n",
            "Epoch 40/100\n",
            "48/48 [==============================] - 1s 24ms/step - loss: 0.1863 - accuracy: 0.9353 - val_loss: 0.3165 - val_accuracy: 0.8898\n",
            "Epoch 41/100\n",
            "48/48 [==============================] - 1s 23ms/step - loss: 0.1820 - accuracy: 0.9372 - val_loss: 0.3051 - val_accuracy: 0.8940\n",
            "Epoch 00041: early stopping\n"
          ]
        }
      ]
    },
    {
      "cell_type": "code",
      "metadata": {
        "colab": {
          "base_uri": "https://localhost:8080/",
          "height": 282
        },
        "id": "7BIraPc2iOLR",
        "outputId": "968d431c-71c8-4e5a-9bd1-67d0c4a93d05"
      },
      "source": [
        "plotter = tfdocs.plots.HistoryPlotter(metric = 'loss', smoothing_std=10)\n",
        "\n",
        "plotter.plot({'hist': history})"
      ],
      "execution_count": 30,
      "outputs": [
        {
          "output_type": "display_data",
          "data": {
            "image/png": "[encoded data removed]",
            "text/plain": [
              "<Figure size 432x288 with 1 Axes>"
            ]
          },
          "metadata": {
            "needs_background": "light"
          }
        }
      ]
    },
    {
      "cell_type": "code",
      "metadata": {
        "colab": {
          "base_uri": "https://localhost:8080/"
        },
        "id": "wnJlDPZfjBM-",
        "outputId": "a6f9116d-fa9a-4f39-f422-bf5bcd23fffd"
      },
      "source": [
        "test_loss, test_acc = model.evaluate(test_images,  test_labels, verbose=2)\n",
        "\n",
        "print('\\nTest accuracy:', test_acc)"
      ],
      "execution_count": 31,
      "outputs": [
        {
          "output_type": "stream",
          "name": "stdout",
          "text": [
            "313/313 - 1s - loss: 0.3300 - accuracy: 0.8894\n",
            "\n",
            "Test accuracy: 0.8894000053405762\n"
          ]
        }
      ]
    },
    {
      "cell_type": "markdown",
      "metadata": {
        "id": "MaF2WhV2D3jV"
      },
      "source": [
        "### Dropout"
      ]
    },
    {
      "cell_type": "code",
      "metadata": {
        "colab": {
          "base_uri": "https://localhost:8080/"
        },
        "id": "2ueUqI0yD2oM",
        "outputId": "62a151b2-99a4-4580-afd2-32c579a754be"
      },
      "source": [
        "model = tf.keras.Sequential([\n",
        "    tf.keras.layers.Flatten(input_shape=(28, 28)),\n",
        "    #tf.keras.layers.Dropout(0.1),\n",
        "    tf.keras.layers.Dense(250, activation='relu'),\n",
        "    tf.keras.layers.Dropout(0.3),\n",
        "    tf.keras.layers.Dense(10, activation='softmax')\n",
        "])\n",
        "\n",
        "model.compile(optimizer='adam',\n",
        "              loss=tf.keras.losses.SparseCategoricalCrossentropy(from_logits=False),\n",
        "              metrics=['accuracy'])\n",
        "\n",
        "\n",
        "\n",
        "# tensorboard settings to view plots\n",
        "logdir = \"logs/scalars/\" + datetime.now().strftime(\"%Y%m%d-%H%M%S\")\n",
        "tensorboard_callback = keras.callbacks.TensorBoard(log_dir=logdir)\n",
        "\n",
        "# This callback will stop the training when there is no improvement in\n",
        "# the loss for 5 consecutive epochs\n",
        "earlystopping = keras.callbacks.EarlyStopping(monitor='val_loss', mode='min', \n",
        "                                              verbose=1, patience=5)\n",
        "\n",
        "\n",
        "\n",
        "history = model.fit(train_images, train_labels, batch_size=1000, \n",
        "          epochs=100, callbacks=[earlystopping, tensorboard_callback], validation_split=0.2)\n",
        "\n",
        "# train_images = 48k (20% for validation)"
      ],
      "execution_count": 32,
      "outputs": [
        {
          "output_type": "stream",
          "name": "stdout",
          "text": [
            "Epoch 1/100\n",
            "48/48 [==============================] - 2s 28ms/step - loss: 0.8763 - accuracy: 0.6992 - val_loss: 0.5561 - val_accuracy: 0.8151\n",
            "Epoch 2/100\n",
            "48/48 [==============================] - 1s 26ms/step - loss: 0.5363 - accuracy: 0.8170 - val_loss: 0.4677 - val_accuracy: 0.8399\n",
            "Epoch 3/100\n",
            "48/48 [==============================] - 1s 26ms/step - loss: 0.4683 - accuracy: 0.8394 - val_loss: 0.4339 - val_accuracy: 0.8474\n",
            "Epoch 4/100\n",
            "48/48 [==============================] - 1s 25ms/step - loss: 0.4325 - accuracy: 0.8511 - val_loss: 0.4131 - val_accuracy: 0.8558\n",
            "Epoch 5/100\n",
            "48/48 [==============================] - 1s 25ms/step - loss: 0.4074 - accuracy: 0.8572 - val_loss: 0.3868 - val_accuracy: 0.8619\n",
            "Epoch 6/100\n",
            "48/48 [==============================] - 1s 26ms/step - loss: 0.3856 - accuracy: 0.8649 - val_loss: 0.3770 - val_accuracy: 0.8667\n",
            "Epoch 7/100\n",
            "48/48 [==============================] - 1s 26ms/step - loss: 0.3718 - accuracy: 0.8689 - val_loss: 0.3764 - val_accuracy: 0.8633\n",
            "Epoch 8/100\n",
            "48/48 [==============================] - 1s 25ms/step - loss: 0.3584 - accuracy: 0.8739 - val_loss: 0.3549 - val_accuracy: 0.8745\n",
            "Epoch 9/100\n",
            "48/48 [==============================] - 1s 25ms/step - loss: 0.3499 - accuracy: 0.8739 - val_loss: 0.3498 - val_accuracy: 0.8755\n",
            "Epoch 10/100\n",
            "48/48 [==============================] - 1s 25ms/step - loss: 0.3380 - accuracy: 0.8815 - val_loss: 0.3431 - val_accuracy: 0.8773\n",
            "Epoch 11/100\n",
            "48/48 [==============================] - 1s 25ms/step - loss: 0.3312 - accuracy: 0.8827 - val_loss: 0.3370 - val_accuracy: 0.8808\n",
            "Epoch 12/100\n",
            "48/48 [==============================] - 1s 24ms/step - loss: 0.3239 - accuracy: 0.8831 - val_loss: 0.3356 - val_accuracy: 0.8817\n",
            "Epoch 13/100\n",
            "48/48 [==============================] - 1s 25ms/step - loss: 0.3157 - accuracy: 0.8861 - val_loss: 0.3311 - val_accuracy: 0.8800\n",
            "Epoch 14/100\n",
            "48/48 [==============================] - 1s 25ms/step - loss: 0.3087 - accuracy: 0.8880 - val_loss: 0.3239 - val_accuracy: 0.8844\n",
            "Epoch 15/100\n",
            "48/48 [==============================] - 1s 25ms/step - loss: 0.3033 - accuracy: 0.8914 - val_loss: 0.3207 - val_accuracy: 0.8824\n",
            "Epoch 16/100\n",
            "48/48 [==============================] - 1s 25ms/step - loss: 0.2959 - accuracy: 0.8939 - val_loss: 0.3213 - val_accuracy: 0.8855\n",
            "Epoch 17/100\n",
            "48/48 [==============================] - 1s 24ms/step - loss: 0.2930 - accuracy: 0.8942 - val_loss: 0.3152 - val_accuracy: 0.8869\n",
            "Epoch 18/100\n",
            "48/48 [==============================] - 1s 25ms/step - loss: 0.2862 - accuracy: 0.8969 - val_loss: 0.3156 - val_accuracy: 0.8855\n",
            "Epoch 19/100\n",
            "48/48 [==============================] - 1s 26ms/step - loss: 0.2824 - accuracy: 0.8986 - val_loss: 0.3142 - val_accuracy: 0.8873\n",
            "Epoch 20/100\n",
            "48/48 [==============================] - 1s 25ms/step - loss: 0.2792 - accuracy: 0.8984 - val_loss: 0.3100 - val_accuracy: 0.8889\n",
            "Epoch 21/100\n",
            "48/48 [==============================] - 1s 25ms/step - loss: 0.2726 - accuracy: 0.8996 - val_loss: 0.3101 - val_accuracy: 0.8878\n",
            "Epoch 22/100\n",
            "48/48 [==============================] - 1s 25ms/step - loss: 0.2703 - accuracy: 0.9022 - val_loss: 0.3109 - val_accuracy: 0.8875\n",
            "Epoch 23/100\n",
            "48/48 [==============================] - 1s 24ms/step - loss: 0.2638 - accuracy: 0.9059 - val_loss: 0.3033 - val_accuracy: 0.8907\n",
            "Epoch 24/100\n",
            "48/48 [==============================] - 1s 25ms/step - loss: 0.2628 - accuracy: 0.9060 - val_loss: 0.3041 - val_accuracy: 0.8908\n",
            "Epoch 25/100\n",
            "48/48 [==============================] - 1s 25ms/step - loss: 0.2571 - accuracy: 0.9068 - val_loss: 0.2998 - val_accuracy: 0.8911\n",
            "Epoch 26/100\n",
            "48/48 [==============================] - 1s 25ms/step - loss: 0.2527 - accuracy: 0.9075 - val_loss: 0.2988 - val_accuracy: 0.8932\n",
            "Epoch 27/100\n",
            "48/48 [==============================] - 1s 25ms/step - loss: 0.2516 - accuracy: 0.9079 - val_loss: 0.3031 - val_accuracy: 0.8907\n",
            "Epoch 28/100\n",
            "48/48 [==============================] - 1s 26ms/step - loss: 0.2461 - accuracy: 0.9103 - val_loss: 0.3018 - val_accuracy: 0.8928\n",
            "Epoch 29/100\n",
            "48/48 [==============================] - 1s 24ms/step - loss: 0.2453 - accuracy: 0.9101 - val_loss: 0.2927 - val_accuracy: 0.8938\n",
            "Epoch 30/100\n",
            "48/48 [==============================] - 1s 25ms/step - loss: 0.2410 - accuracy: 0.9125 - val_loss: 0.3011 - val_accuracy: 0.8898\n",
            "Epoch 31/100\n",
            "48/48 [==============================] - 1s 25ms/step - loss: 0.2379 - accuracy: 0.9137 - val_loss: 0.2964 - val_accuracy: 0.8927\n",
            "Epoch 32/100\n",
            "48/48 [==============================] - 1s 25ms/step - loss: 0.2337 - accuracy: 0.9151 - val_loss: 0.2929 - val_accuracy: 0.8942\n",
            "Epoch 33/100\n",
            "48/48 [==============================] - 1s 25ms/step - loss: 0.2314 - accuracy: 0.9148 - val_loss: 0.2916 - val_accuracy: 0.8963\n",
            "Epoch 34/100\n",
            "48/48 [==============================] - 1s 25ms/step - loss: 0.2265 - accuracy: 0.9181 - val_loss: 0.2921 - val_accuracy: 0.8938\n",
            "Epoch 35/100\n",
            "48/48 [==============================] - 1s 25ms/step - loss: 0.2222 - accuracy: 0.9195 - val_loss: 0.2961 - val_accuracy: 0.8944\n",
            "Epoch 36/100\n",
            "48/48 [==============================] - 1s 25ms/step - loss: 0.2226 - accuracy: 0.9192 - val_loss: 0.2956 - val_accuracy: 0.8953\n",
            "Epoch 37/100\n",
            "48/48 [==============================] - 1s 25ms/step - loss: 0.2180 - accuracy: 0.9209 - val_loss: 0.2903 - val_accuracy: 0.8954\n",
            "Epoch 38/100\n",
            "48/48 [==============================] - 1s 26ms/step - loss: 0.2184 - accuracy: 0.9198 - val_loss: 0.2909 - val_accuracy: 0.8947\n",
            "Epoch 39/100\n",
            "48/48 [==============================] - 1s 24ms/step - loss: 0.2120 - accuracy: 0.9234 - val_loss: 0.2969 - val_accuracy: 0.8948\n",
            "Epoch 40/100\n",
            "48/48 [==============================] - 1s 26ms/step - loss: 0.2111 - accuracy: 0.9235 - val_loss: 0.2936 - val_accuracy: 0.8957\n",
            "Epoch 41/100\n",
            "48/48 [==============================] - 1s 25ms/step - loss: 0.2104 - accuracy: 0.9227 - val_loss: 0.3001 - val_accuracy: 0.8916\n",
            "Epoch 42/100\n",
            "48/48 [==============================] - 1s 25ms/step - loss: 0.2068 - accuracy: 0.9244 - val_loss: 0.2914 - val_accuracy: 0.8958\n",
            "Epoch 00042: early stopping\n"
          ]
        }
      ]
    },
    {
      "cell_type": "code",
      "metadata": {
        "colab": {
          "base_uri": "https://localhost:8080/",
          "height": 279
        },
        "id": "zpcKN7wHCLnW",
        "outputId": "dabf56e4-745a-40ac-ba30-63eb4ec8cfc9"
      },
      "source": [
        "plotter = tfdocs.plots.HistoryPlotter(metric = 'loss', smoothing_std=10)\n",
        "\n",
        "plotter.plot({'hist': history})"
      ],
      "execution_count": 33,
      "outputs": [
        {
          "output_type": "display_data",
          "data": {
            "image/png": "[encoded data removed]",
            "text/plain": [
              "<Figure size 432x288 with 1 Axes>"
            ]
          },
          "metadata": {
            "needs_background": "light"
          }
        }
      ]
    }
  ]
}