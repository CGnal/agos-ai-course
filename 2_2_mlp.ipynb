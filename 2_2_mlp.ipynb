{
 "cells": [
  {
   "cell_type": "markdown",
   "metadata": {
    "id": "gHseRI7Grvke"
   },
   "source": [
    "[![Open In Colab](https://colab.research.google.com/assets/colab-badge.svg)](https://colab.research.google.com/github/CGnal/agos-ai-course/blob/master/2_2_mlp.ipynb)"
   ]
  },
  {
   "cell_type": "markdown",
   "metadata": {
    "id": "ZTy9he_QklVq"
   },
   "source": [
    "# Install tensorflow"
   ]
  },
  {
   "cell_type": "code",
   "execution_count": null,
   "metadata": {
    "colab": {
     "base_uri": "https://localhost:8080/"
    },
    "executionInfo": {
     "elapsed": 13785,
     "status": "ok",
     "timestamp": 1637257800506,
     "user": {
      "displayName": "Salvatore Aiola",
      "photoUrl": "https://lh3.googleusercontent.com/a/default-user=s64",
      "userId": "13082271597599627032"
     },
     "user_tz": -60
    },
    "id": "eJHTVNDToHDW",
    "outputId": "9a5f3d9a-caa7-4ac8-c558-d25a3c351d93"
   },
   "outputs": [],
   "source": [
    "!pip install git+https://github.com/tensorflow/docs"
   ]
  },
  {
   "cell_type": "code",
   "execution_count": 1,
   "metadata": {
    "colab": {
     "base_uri": "https://localhost:8080/"
    },
    "executionInfo": {
     "elapsed": 70568,
     "status": "ok",
     "timestamp": 1637257784418,
     "user": {
      "displayName": "Salvatore Aiola",
      "photoUrl": "https://lh3.googleusercontent.com/a/default-user=s64",
      "userId": "13082271597599627032"
     },
     "user_tz": -60
    },
    "id": "y1IND-y0kycA",
    "outputId": "4d630426-b832-4c4b-96a9-d57214e4effb"
   },
   "outputs": [
    {
     "name": "stdout",
     "output_type": "stream",
     "text": [
      "Collecting tensorflow-gpu==2.6.2\n",
      "  Downloading tensorflow_gpu-2.6.2-cp37-cp37m-manylinux2010_x86_64.whl (458.3 MB)\n",
      "\u001b[K     |████████████████████████████████| 458.3 MB 12 kB/s \n",
      "\u001b[?25hCollecting tensorboard<2.7,>=2.6.0\n",
      "  Downloading tensorboard-2.6.0-py3-none-any.whl (5.6 MB)\n",
      "\u001b[K     |████████████████████████████████| 5.6 MB 23.9 MB/s \n",
      "\u001b[?25hRequirement already satisfied: astunparse~=1.6.3 in /usr/local/lib/python3.7/dist-packages (from tensorflow-gpu==2.6.2) (1.6.3)\n",
      "Collecting typing-extensions~=3.7.4\n",
      "  Downloading typing_extensions-3.7.4.3-py3-none-any.whl (22 kB)\n",
      "Requirement already satisfied: opt-einsum~=3.3.0 in /usr/local/lib/python3.7/dist-packages (from tensorflow-gpu==2.6.2) (3.3.0)\n",
      "Collecting tensorflow-estimator<2.7,>=2.6.0\n",
      "  Downloading tensorflow_estimator-2.6.0-py2.py3-none-any.whl (462 kB)\n",
      "\u001b[K     |████████████████████████████████| 462 kB 61.1 MB/s \n",
      "\u001b[?25hCollecting clang~=5.0\n",
      "  Downloading clang-5.0.tar.gz (30 kB)\n",
      "Requirement already satisfied: absl-py~=0.10 in /usr/local/lib/python3.7/dist-packages (from tensorflow-gpu==2.6.2) (0.12.0)\n",
      "Requirement already satisfied: keras-preprocessing~=1.1.2 in /usr/local/lib/python3.7/dist-packages (from tensorflow-gpu==2.6.2) (1.1.2)\n",
      "Collecting wrapt~=1.12.1\n",
      "  Downloading wrapt-1.12.1.tar.gz (27 kB)\n",
      "Collecting flatbuffers~=1.12.0\n",
      "  Downloading flatbuffers-1.12-py2.py3-none-any.whl (15 kB)\n",
      "Requirement already satisfied: termcolor~=1.1.0 in /usr/local/lib/python3.7/dist-packages (from tensorflow-gpu==2.6.2) (1.1.0)\n",
      "Requirement already satisfied: wheel~=0.35 in /usr/local/lib/python3.7/dist-packages (from tensorflow-gpu==2.6.2) (0.37.0)\n",
      "Requirement already satisfied: h5py~=3.1.0 in /usr/local/lib/python3.7/dist-packages (from tensorflow-gpu==2.6.2) (3.1.0)\n",
      "Requirement already satisfied: gast==0.4.0 in /usr/local/lib/python3.7/dist-packages (from tensorflow-gpu==2.6.2) (0.4.0)\n",
      "Requirement already satisfied: google-pasta~=0.2 in /usr/local/lib/python3.7/dist-packages (from tensorflow-gpu==2.6.2) (0.2.0)\n",
      "Requirement already satisfied: grpcio<2.0,>=1.37.0 in /usr/local/lib/python3.7/dist-packages (from tensorflow-gpu==2.6.2) (1.41.1)\n",
      "Requirement already satisfied: numpy~=1.19.2 in /usr/local/lib/python3.7/dist-packages (from tensorflow-gpu==2.6.2) (1.19.5)\n",
      "Requirement already satisfied: protobuf>=3.9.2 in /usr/local/lib/python3.7/dist-packages (from tensorflow-gpu==2.6.2) (3.17.3)\n",
      "Requirement already satisfied: six~=1.15.0 in /usr/local/lib/python3.7/dist-packages (from tensorflow-gpu==2.6.2) (1.15.0)\n",
      "Collecting keras<2.7,>=2.6.0\n",
      "  Downloading keras-2.6.0-py2.py3-none-any.whl (1.3 MB)\n",
      "\u001b[K     |████████████████████████████████| 1.3 MB 40.7 MB/s \n",
      "\u001b[?25hRequirement already satisfied: cached-property in /usr/local/lib/python3.7/dist-packages (from h5py~=3.1.0->tensorflow-gpu==2.6.2) (1.5.2)\n",
      "Requirement already satisfied: google-auth<2,>=1.6.3 in /usr/local/lib/python3.7/dist-packages (from tensorboard<2.7,>=2.6.0->tensorflow-gpu==2.6.2) (1.35.0)\n",
      "Requirement already satisfied: tensorboard-data-server<0.7.0,>=0.6.0 in /usr/local/lib/python3.7/dist-packages (from tensorboard<2.7,>=2.6.0->tensorflow-gpu==2.6.2) (0.6.1)\n",
      "Requirement already satisfied: tensorboard-plugin-wit>=1.6.0 in /usr/local/lib/python3.7/dist-packages (from tensorboard<2.7,>=2.6.0->tensorflow-gpu==2.6.2) (1.8.0)\n",
      "Requirement already satisfied: werkzeug>=0.11.15 in /usr/local/lib/python3.7/dist-packages (from tensorboard<2.7,>=2.6.0->tensorflow-gpu==2.6.2) (1.0.1)\n",
      "Requirement already satisfied: setuptools>=41.0.0 in /usr/local/lib/python3.7/dist-packages (from tensorboard<2.7,>=2.6.0->tensorflow-gpu==2.6.2) (57.4.0)\n",
      "Requirement already satisfied: markdown>=2.6.8 in /usr/local/lib/python3.7/dist-packages (from tensorboard<2.7,>=2.6.0->tensorflow-gpu==2.6.2) (3.3.4)\n",
      "Requirement already satisfied: google-auth-oauthlib<0.5,>=0.4.1 in /usr/local/lib/python3.7/dist-packages (from tensorboard<2.7,>=2.6.0->tensorflow-gpu==2.6.2) (0.4.6)\n",
      "Requirement already satisfied: requests<3,>=2.21.0 in /usr/local/lib/python3.7/dist-packages (from tensorboard<2.7,>=2.6.0->tensorflow-gpu==2.6.2) (2.23.0)\n",
      "Requirement already satisfied: rsa<5,>=3.1.4 in /usr/local/lib/python3.7/dist-packages (from google-auth<2,>=1.6.3->tensorboard<2.7,>=2.6.0->tensorflow-gpu==2.6.2) (4.7.2)\n",
      "Requirement already satisfied: pyasn1-modules>=0.2.1 in /usr/local/lib/python3.7/dist-packages (from google-auth<2,>=1.6.3->tensorboard<2.7,>=2.6.0->tensorflow-gpu==2.6.2) (0.2.8)\n",
      "Requirement already satisfied: cachetools<5.0,>=2.0.0 in /usr/local/lib/python3.7/dist-packages (from google-auth<2,>=1.6.3->tensorboard<2.7,>=2.6.0->tensorflow-gpu==2.6.2) (4.2.4)\n",
      "Requirement already satisfied: requests-oauthlib>=0.7.0 in /usr/local/lib/python3.7/dist-packages (from google-auth-oauthlib<0.5,>=0.4.1->tensorboard<2.7,>=2.6.0->tensorflow-gpu==2.6.2) (1.3.0)\n",
      "Requirement already satisfied: importlib-metadata in /usr/local/lib/python3.7/dist-packages (from markdown>=2.6.8->tensorboard<2.7,>=2.6.0->tensorflow-gpu==2.6.2) (4.8.2)\n",
      "Requirement already satisfied: pyasn1<0.5.0,>=0.4.6 in /usr/local/lib/python3.7/dist-packages (from pyasn1-modules>=0.2.1->google-auth<2,>=1.6.3->tensorboard<2.7,>=2.6.0->tensorflow-gpu==2.6.2) (0.4.8)\n",
      "Requirement already satisfied: urllib3!=1.25.0,!=1.25.1,<1.26,>=1.21.1 in /usr/local/lib/python3.7/dist-packages (from requests<3,>=2.21.0->tensorboard<2.7,>=2.6.0->tensorflow-gpu==2.6.2) (1.24.3)\n",
      "Requirement already satisfied: certifi>=2017.4.17 in /usr/local/lib/python3.7/dist-packages (from requests<3,>=2.21.0->tensorboard<2.7,>=2.6.0->tensorflow-gpu==2.6.2) (2021.10.8)\n",
      "Requirement already satisfied: chardet<4,>=3.0.2 in /usr/local/lib/python3.7/dist-packages (from requests<3,>=2.21.0->tensorboard<2.7,>=2.6.0->tensorflow-gpu==2.6.2) (3.0.4)\n",
      "Requirement already satisfied: idna<3,>=2.5 in /usr/local/lib/python3.7/dist-packages (from requests<3,>=2.21.0->tensorboard<2.7,>=2.6.0->tensorflow-gpu==2.6.2) (2.10)\n",
      "Requirement already satisfied: oauthlib>=3.0.0 in /usr/local/lib/python3.7/dist-packages (from requests-oauthlib>=0.7.0->google-auth-oauthlib<0.5,>=0.4.1->tensorboard<2.7,>=2.6.0->tensorflow-gpu==2.6.2) (3.1.1)\n",
      "Requirement already satisfied: zipp>=0.5 in /usr/local/lib/python3.7/dist-packages (from importlib-metadata->markdown>=2.6.8->tensorboard<2.7,>=2.6.0->tensorflow-gpu==2.6.2) (3.6.0)\n",
      "Building wheels for collected packages: clang, wrapt\n",
      "  Building wheel for clang (setup.py) ... \u001b[?25l\u001b[?25hdone\n",
      "  Created wheel for clang: filename=clang-5.0-py3-none-any.whl size=30692 sha256=1850f48f5fde5c764ce010635c422b7781c53d1e73864bc0b5f77f17ba0ae95b\n",
      "  Stored in directory: /root/.cache/pip/wheels/98/91/04/971b4c587cf47ae952b108949b46926f426c02832d120a082a\n",
      "  Building wheel for wrapt (setup.py) ... \u001b[?25l\u001b[?25hdone\n",
      "  Created wheel for wrapt: filename=wrapt-1.12.1-cp37-cp37m-linux_x86_64.whl size=68714 sha256=e49bb9c51cda5a4e2159427657be5c7a511a9c8fdb242c454ec5a5056a80958f\n",
      "  Stored in directory: /root/.cache/pip/wheels/62/76/4c/aa25851149f3f6d9785f6c869387ad82b3fd37582fa8147ac6\n",
      "Successfully built clang wrapt\n",
      "Installing collected packages: typing-extensions, wrapt, tensorflow-estimator, tensorboard, keras, flatbuffers, clang, tensorflow-gpu\n",
      "  Attempting uninstall: typing-extensions\n",
      "    Found existing installation: typing-extensions 3.10.0.2\n",
      "    Uninstalling typing-extensions-3.10.0.2:\n",
      "      Successfully uninstalled typing-extensions-3.10.0.2\n",
      "  Attempting uninstall: wrapt\n",
      "    Found existing installation: wrapt 1.13.3\n",
      "    Uninstalling wrapt-1.13.3:\n",
      "      Successfully uninstalled wrapt-1.13.3\n",
      "  Attempting uninstall: tensorflow-estimator\n",
      "    Found existing installation: tensorflow-estimator 2.7.0\n",
      "    Uninstalling tensorflow-estimator-2.7.0:\n",
      "      Successfully uninstalled tensorflow-estimator-2.7.0\n",
      "  Attempting uninstall: tensorboard\n",
      "    Found existing installation: tensorboard 2.7.0\n",
      "    Uninstalling tensorboard-2.7.0:\n",
      "      Successfully uninstalled tensorboard-2.7.0\n",
      "  Attempting uninstall: keras\n",
      "    Found existing installation: keras 2.7.0\n",
      "    Uninstalling keras-2.7.0:\n",
      "      Successfully uninstalled keras-2.7.0\n",
      "  Attempting uninstall: flatbuffers\n",
      "    Found existing installation: flatbuffers 2.0\n",
      "    Uninstalling flatbuffers-2.0:\n",
      "      Successfully uninstalled flatbuffers-2.0\n",
      "\u001b[31mERROR: pip's dependency resolver does not currently take into account all the packages that are installed. This behaviour is the source of the following dependency conflicts.\n",
      "tensorflow 2.7.0 requires keras<2.8,>=2.7.0rc0, but you have keras 2.6.0 which is incompatible.\n",
      "tensorflow 2.7.0 requires tensorflow-estimator<2.8,~=2.7.0rc0, but you have tensorflow-estimator 2.6.0 which is incompatible.\u001b[0m\n",
      "Successfully installed clang-5.0 flatbuffers-1.12 keras-2.6.0 tensorboard-2.6.0 tensorflow-estimator-2.6.0 tensorflow-gpu-2.6.2 typing-extensions-3.7.4.3 wrapt-1.12.1\n"
     ]
    }
   ],
   "source": [
    "!pip install tensorflow-gpu==2.6.2"
   ]
  },
  {
   "cell_type": "markdown",
   "metadata": {},
   "source": [
    "# Imports"
   ]
  },
  {
   "cell_type": "code",
   "execution_count": 1,
   "metadata": {
    "ExecuteTime": {
     "end_time": "2021-11-18T18:15:36.880902Z",
     "start_time": "2021-11-18T18:15:32.571757Z"
    },
    "executionInfo": {
     "elapsed": 2335,
     "status": "ok",
     "timestamp": 1637257786729,
     "user": {
      "displayName": "Salvatore Aiola",
      "photoUrl": "https://lh3.googleusercontent.com/a/default-user=s64",
      "userId": "13082271597599627032"
     },
     "user_tz": -60
    },
    "id": "GzKrUb3soCDi"
   },
   "outputs": [],
   "source": [
    "import tensorflow as tf\n",
    "from tensorflow import keras\n",
    "from tensorflow.keras import layers\n",
    "from keras.utils.vis_utils import plot_model\n",
    "import numpy as np "
   ]
  },
  {
   "cell_type": "code",
   "execution_count": 2,
   "metadata": {
    "ExecuteTime": {
     "end_time": "2021-11-18T18:15:36.913675Z",
     "start_time": "2021-11-18T18:15:36.886211Z"
    },
    "colab": {
     "base_uri": "https://localhost:8080/",
     "height": 35
    },
    "executionInfo": {
     "elapsed": 57,
     "status": "ok",
     "timestamp": 1637257786775,
     "user": {
      "displayName": "Salvatore Aiola",
      "photoUrl": "https://lh3.googleusercontent.com/a/default-user=s64",
      "userId": "13082271597599627032"
     },
     "user_tz": -60
    },
    "id": "H3e4AVxroDdK",
    "outputId": "bec84348-9df7-497e-cbb1-2a7ebd9ac573"
   },
   "outputs": [
    {
     "data": {
      "text/plain": [
       "'2.6.2'"
      ]
     },
     "execution_count": 2,
     "metadata": {},
     "output_type": "execute_result"
    }
   ],
   "source": [
    "tf.__version__"
   ]
  },
  {
   "cell_type": "code",
   "execution_count": 3,
   "metadata": {
    "ExecuteTime": {
     "end_time": "2021-11-18T18:15:36.950078Z",
     "start_time": "2021-11-18T18:15:36.926614Z"
    },
    "colab": {
     "base_uri": "https://localhost:8080/",
     "height": 35
    },
    "executionInfo": {
     "elapsed": 56,
     "status": "ok",
     "timestamp": 1637257786776,
     "user": {
      "displayName": "Salvatore Aiola",
      "photoUrl": "https://lh3.googleusercontent.com/a/default-user=s64",
      "userId": "13082271597599627032"
     },
     "user_tz": -60
    },
    "id": "dTIK4yTAoFG0",
    "outputId": "171af4a0-df65-48ab-a7b7-5cd13ae3e26a"
   },
   "outputs": [
    {
     "data": {
      "text/plain": [
       "'2.6.0'"
      ]
     },
     "execution_count": 3,
     "metadata": {},
     "output_type": "execute_result"
    }
   ],
   "source": [
    "%load_ext tensorboard\n",
    "import tensorboard\n",
    "tensorboard.__version__"
   ]
  },
  {
   "cell_type": "code",
   "execution_count": 4,
   "metadata": {
    "ExecuteTime": {
     "end_time": "2021-11-18T18:15:37.975411Z",
     "start_time": "2021-11-18T18:15:36.961199Z"
    },
    "colab": {
     "base_uri": "https://localhost:8080/"
    },
    "executionInfo": {
     "elapsed": 13785,
     "status": "ok",
     "timestamp": 1637257800506,
     "user": {
      "displayName": "Salvatore Aiola",
      "photoUrl": "https://lh3.googleusercontent.com/a/default-user=s64",
      "userId": "13082271597599627032"
     },
     "user_tz": -60
    },
    "id": "eJHTVNDToHDW",
    "outputId": "9a5f3d9a-caa7-4ac8-c558-d25a3c351d93"
   },
   "outputs": [],
   "source": [
    "import tensorflow_docs as tfdocs\n",
    "import tensorflow_docs.modeling\n",
    "import tensorflow_docs.plots"
   ]
  },
  {
   "cell_type": "markdown",
   "metadata": {
    "id": "EKKz-D_Ij2ZA"
   },
   "source": [
    "# Multi-Layer Fully Connected Networks\n",
    "\n",
    "1. Simply a stack of fully connected layers. \n",
    "2. Each fully connected layer is also called a Dense layer and is composed of multiple perceptron units.\n",
    "3. Each node in the image below is a perceptron\n",
    "\n",
    "\n",
    "![picture](https://drive.google.com/uc?id=1Eyg4RhUnkaEMsX-eTs6c2REZDPH-4tGS)\n"
   ]
  },
  {
   "cell_type": "markdown",
   "metadata": {
    "id": "koVNPt8lmWzd"
   },
   "source": [
    "## Create a simple feed forward neural network"
   ]
  },
  {
   "cell_type": "code",
   "execution_count": 5,
   "metadata": {
    "ExecuteTime": {
     "end_time": "2021-11-18T18:15:38.048469Z",
     "start_time": "2021-11-18T18:15:37.978059Z"
    },
    "executionInfo": {
     "elapsed": 244,
     "status": "ok",
     "timestamp": 1637257800733,
     "user": {
      "displayName": "Salvatore Aiola",
      "photoUrl": "https://lh3.googleusercontent.com/a/default-user=s64",
      "userId": "13082271597599627032"
     },
     "user_tz": -60
    },
    "id": "xMp1Y-k3mgAP"
   },
   "outputs": [
    {
     "name": "stderr",
     "output_type": "stream",
     "text": [
      "2021-11-18 19:15:37.995668: I tensorflow/core/platform/cpu_feature_guard.cc:142] This TensorFlow binary is optimized with oneAPI Deep Neural Network Library (oneDNN) to use the following CPU instructions in performance-critical operations:  AVX2 FMA\n",
      "To enable them in other operations, rebuild TensorFlow with the appropriate compiler flags.\n"
     ]
    }
   ],
   "source": [
    "# Define Sequential model with 2 layers\n",
    "model = keras.Sequential(\n",
    "    [\n",
    "        layers.Dense(4, activation=\"relu\", name=\"layer1\", input_shape=(10, 3)),\n",
    "        layers.Dense(2, name=\"layer2\"),\n",
    "    ]\n",
    ")"
   ]
  },
  {
   "cell_type": "code",
   "execution_count": 6,
   "metadata": {
    "ExecuteTime": {
     "end_time": "2021-11-18T18:15:38.830930Z",
     "start_time": "2021-11-18T18:15:38.053010Z"
    },
    "colab": {
     "base_uri": "https://localhost:8080/",
     "height": 312
    },
    "executionInfo": {
     "elapsed": 586,
     "status": "ok",
     "timestamp": 1637257801315,
     "user": {
      "displayName": "Salvatore Aiola",
      "photoUrl": "https://lh3.googleusercontent.com/a/default-user=s64",
      "userId": "13082271597599627032"
     },
     "user_tz": -60
    },
    "id": "FO4oibo93MuZ",
    "outputId": "e1acd41d-11da-4007-a309-f2c57cde01ae"
   },
   "outputs": [
    {
     "data": {
      "image/png": "[encoded data removed]",
      "text/plain": [
       "<IPython.core.display.Image object>"
      ]
     },
     "execution_count": 6,
     "metadata": {},
     "output_type": "execute_result"
    }
   ],
   "source": [
    "plot_model(model, show_shapes=True, show_layer_names=True)"
   ]
  },
  {
   "cell_type": "code",
   "execution_count": 7,
   "metadata": {
    "ExecuteTime": {
     "end_time": "2021-11-18T18:15:38.863424Z",
     "start_time": "2021-11-18T18:15:38.840124Z"
    },
    "colab": {
     "base_uri": "https://localhost:8080/"
    },
    "executionInfo": {
     "elapsed": 29,
     "status": "ok",
     "timestamp": 1637257801316,
     "user": {
      "displayName": "Salvatore Aiola",
      "photoUrl": "https://lh3.googleusercontent.com/a/default-user=s64",
      "userId": "13082271597599627032"
     },
     "user_tz": -60
    },
    "id": "wDAiFpunpIVN",
    "outputId": "db89baaf-5e9a-4243-d0d5-e043c9619131"
   },
   "outputs": [
    {
     "name": "stdout",
     "output_type": "stream",
     "text": [
      "Model: \"sequential\"\n",
      "_________________________________________________________________\n",
      "Layer (type)                 Output Shape              Param #   \n",
      "=================================================================\n",
      "layer1 (Dense)               (None, 10, 4)             16        \n",
      "_________________________________________________________________\n",
      "layer2 (Dense)               (None, 10, 2)             10        \n",
      "=================================================================\n",
      "Total params: 26\n",
      "Trainable params: 26\n",
      "Non-trainable params: 0\n",
      "_________________________________________________________________\n"
     ]
    }
   ],
   "source": [
    "model.summary()"
   ]
  },
  {
   "cell_type": "code",
   "execution_count": 8,
   "metadata": {
    "ExecuteTime": {
     "end_time": "2021-11-18T18:15:38.900339Z",
     "start_time": "2021-11-18T18:15:38.873619Z"
    },
    "colab": {
     "base_uri": "https://localhost:8080/"
    },
    "executionInfo": {
     "elapsed": 27,
     "status": "ok",
     "timestamp": 1637257801317,
     "user": {
      "displayName": "Salvatore Aiola",
      "photoUrl": "https://lh3.googleusercontent.com/a/default-user=s64",
      "userId": "13082271597599627032"
     },
     "user_tz": -60
    },
    "id": "w7AFIKWh549S",
    "outputId": "5a8a9972-e36c-45c9-acb4-2d1a75470aaf"
   },
   "outputs": [
    {
     "data": {
      "text/plain": [
       "[<tf.Variable 'layer1/kernel:0' shape=(3, 4) dtype=float32, numpy=\n",
       " array([[ 0.02725053, -0.28724456,  0.69863164, -0.16078568],\n",
       "        [-0.5783923 ,  0.73639345,  0.05808538, -0.17938393],\n",
       "        [ 0.0335359 ,  0.09730136, -0.44111976,  0.57144964]],\n",
       "       dtype=float32)>,\n",
       " <tf.Variable 'layer1/bias:0' shape=(4,) dtype=float32, numpy=array([0., 0., 0., 0.], dtype=float32)>,\n",
       " <tf.Variable 'layer2/kernel:0' shape=(4, 2) dtype=float32, numpy=\n",
       " array([[ 0.8627088 , -0.4286995 ],\n",
       "        [ 0.3064885 ,  0.8743613 ],\n",
       "        [ 0.10619736,  0.5681577 ],\n",
       "        [-0.8773055 ,  0.6026449 ]], dtype=float32)>,\n",
       " <tf.Variable 'layer2/bias:0' shape=(2,) dtype=float32, numpy=array([0., 0.], dtype=float32)>]"
      ]
     },
     "execution_count": 8,
     "metadata": {},
     "output_type": "execute_result"
    }
   ],
   "source": [
    "model.weights"
   ]
  },
  {
   "cell_type": "code",
   "execution_count": 9,
   "metadata": {
    "ExecuteTime": {
     "end_time": "2021-11-18T18:15:41.894144Z",
     "start_time": "2021-11-18T18:15:41.803639Z"
    },
    "executionInfo": {
     "elapsed": 24,
     "status": "ok",
     "timestamp": 1637257801317,
     "user": {
      "displayName": "Salvatore Aiola",
      "photoUrl": "https://lh3.googleusercontent.com/a/default-user=s64",
      "userId": "13082271597599627032"
     },
     "user_tz": -60
    },
    "id": "VgM413TXtguo"
   },
   "outputs": [],
   "source": [
    "# Call model on a test input\n",
    "x = tf.random.uniform((10, 3)) #10 samples 3 features \n",
    "y = model(x)"
   ]
  },
  {
   "cell_type": "code",
   "execution_count": 10,
   "metadata": {
    "ExecuteTime": {
     "end_time": "2021-11-18T18:15:42.147618Z",
     "start_time": "2021-11-18T18:15:42.137821Z"
    },
    "colab": {
     "base_uri": "https://localhost:8080/"
    },
    "executionInfo": {
     "elapsed": 25,
     "status": "ok",
     "timestamp": 1637257801318,
     "user": {
      "displayName": "Salvatore Aiola",
      "photoUrl": "https://lh3.googleusercontent.com/a/default-user=s64",
      "userId": "13082271597599627032"
     },
     "user_tz": -60
    },
    "id": "5sLCvBc2tvxn",
    "outputId": "1ac1f730-44a8-4bbc-9414-527aefb88d98"
   },
   "outputs": [
    {
     "data": {
      "text/plain": [
       "<tf.Tensor: shape=(10, 3), dtype=float32, numpy=\n",
       "array([[0.9371517 , 0.5403702 , 0.8948555 ],\n",
       "       [0.9236103 , 0.8185394 , 0.05560625],\n",
       "       [0.8715483 , 0.45246184, 0.26242173],\n",
       "       [0.11844921, 0.03884006, 0.4977759 ],\n",
       "       [0.7354622 , 0.45489013, 0.45862317],\n",
       "       [0.03829765, 0.45372593, 0.8197856 ],\n",
       "       [0.94701636, 0.90556157, 0.71497154],\n",
       "       [0.6792754 , 0.5011544 , 0.2129271 ],\n",
       "       [0.75536335, 0.77173805, 0.67502344],\n",
       "       [0.33537996, 0.13745892, 0.7490634 ]], dtype=float32)>"
      ]
     },
     "execution_count": 10,
     "metadata": {},
     "output_type": "execute_result"
    }
   ],
   "source": [
    "x"
   ]
  },
  {
   "cell_type": "code",
   "execution_count": 11,
   "metadata": {
    "ExecuteTime": {
     "end_time": "2021-11-18T18:15:45.274538Z",
     "start_time": "2021-11-18T18:15:45.147749Z"
    },
    "colab": {
     "base_uri": "https://localhost:8080/"
    },
    "executionInfo": {
     "elapsed": 23,
     "status": "ok",
     "timestamp": 1637257801319,
     "user": {
      "displayName": "Salvatore Aiola",
      "photoUrl": "https://lh3.googleusercontent.com/a/default-user=s64",
      "userId": "13082271597599627032"
     },
     "user_tz": -60
    },
    "id": "SlBEBYSF5yHC",
    "outputId": "994aca32-609e-405b-9d11-69e924843e9e"
   },
   "outputs": [
    {
     "data": {
      "text/plain": [
       "<tf.Tensor: shape=(10, 2), dtype=float32, numpy=\n",
       "array([[-0.1343053 ,  0.5131844 ],\n",
       "       [ 0.17605695,  0.67948526],\n",
       "       [ 0.08837643,  0.38986874],\n",
       "       [-0.21354963,  0.19335653],\n",
       "       [ 0.03289014,  0.37669468],\n",
       "       [-0.21070087,  0.58182603],\n",
       "       [ 0.10234101,  0.6892078 ],\n",
       "       [ 0.10317101,  0.4029923 ],\n",
       "       [ 0.04657825,  0.59658074],\n",
       "       [-0.28275535,  0.2786076 ]], dtype=float32)>"
      ]
     },
     "execution_count": 11,
     "metadata": {},
     "output_type": "execute_result"
    }
   ],
   "source": [
    "y"
   ]
  },
  {
   "cell_type": "markdown",
   "metadata": {
    "id": "68brdylCFjT9"
   },
   "source": [
    "## keras.Sequential and model object\n",
    "* `model`: model is core data structure of keras. It holds the stack of layers created for the model. \n",
    "\n",
    "* `keras.Sequential`: creates model object. Provides functions to fit the model and do predict on the model.\n"
   ]
  },
  {
   "cell_type": "markdown",
   "metadata": {
    "id": "PW7LkzF23vFF"
   },
   "source": [
    "# Sample problem : Fashion Mnist\n",
    "\n",
    "Train a neural network model to classify images of clothing, like sneakers and shirts.\n",
    "\n",
    "Here, 60,000 images are used to train the network and 10,000 images to evaluate how accurately the network learned to classify images. You can access the Fashion MNIST directly from TensorFlow. Import and load the Fashion MNIST data directly from TensorFlow:\n",
    "\n"
   ]
  },
  {
   "cell_type": "code",
   "execution_count": 13,
   "metadata": {
    "colab": {
     "base_uri": "https://localhost:8080/"
    },
    "executionInfo": {
     "elapsed": 537,
     "status": "ok",
     "timestamp": 1637257801836,
     "user": {
      "displayName": "Salvatore Aiola",
      "photoUrl": "https://lh3.googleusercontent.com/a/default-user=s64",
      "userId": "13082271597599627032"
     },
     "user_tz": -60
    },
    "id": "JNOCwULrqrNd",
    "outputId": "a39cfcd9-0dda-4fac-90f4-0e29bf361e87"
   },
   "outputs": [
    {
     "name": "stdout",
     "output_type": "stream",
     "text": [
      "Downloading data from https://storage.googleapis.com/tensorflow/tf-keras-datasets/train-labels-idx1-ubyte.gz\n",
      "32768/29515 [=================================] - 0s 0us/step\n",
      "40960/29515 [=========================================] - 0s 0us/step\n",
      "Downloading data from https://storage.googleapis.com/tensorflow/tf-keras-datasets/train-images-idx3-ubyte.gz\n",
      "26427392/26421880 [==============================] - 0s 0us/step\n",
      "26435584/26421880 [==============================] - 0s 0us/step\n",
      "Downloading data from https://storage.googleapis.com/tensorflow/tf-keras-datasets/t10k-labels-idx1-ubyte.gz\n",
      "16384/5148 [===============================================================================================] - 0s 0us/step\n",
      "Downloading data from https://storage.googleapis.com/tensorflow/tf-keras-datasets/t10k-images-idx3-ubyte.gz\n",
      "4423680/4422102 [==============================] - 0s 0us/step\n",
      "4431872/4422102 [==============================] - 0s 0us/step\n"
     ]
    }
   ],
   "source": [
    "fashion_mnist = tf.keras.datasets.fashion_mnist\n",
    "\n",
    "(train_images, train_labels), (test_images, test_labels) = fashion_mnist.load_data()\n"
   ]
  },
  {
   "cell_type": "markdown",
   "metadata": {
    "id": "VHM1wi2Crfn0"
   },
   "source": [
    "Loading the dataset returns four NumPy arrays:\n",
    "\n",
    "* The `train_images` and `train_labels` arrays are the *training set*—the data the model uses to learn.\n",
    "* The model is tested against the *test set*, the `test_images`, and `test_labels` arrays.\n",
    "\n",
    "The images are 28x28 NumPy arrays, with pixel values ranging from 0 to 255. The *labels* are an array of integers, ranging from 0 to 9. These correspond to the *class* of clothing the image represents:\n",
    "\n",
    "<table>\n",
    "  <tr>\n",
    "    <th>Label</th>\n",
    "    <th>Class</th>\n",
    "  </tr>\n",
    "  <tr>\n",
    "    <td>0</td>\n",
    "    <td>T-shirt/top</td>\n",
    "  </tr>\n",
    "  <tr>\n",
    "    <td>1</td>\n",
    "    <td>Trouser</td>\n",
    "  </tr>\n",
    "    <tr>\n",
    "    <td>2</td>\n",
    "    <td>Pullover</td>\n",
    "  </tr>\n",
    "    <tr>\n",
    "    <td>3</td>\n",
    "    <td>Dress</td>\n",
    "  </tr>\n",
    "    <tr>\n",
    "    <td>4</td>\n",
    "    <td>Coat</td>\n",
    "  </tr>\n",
    "    <tr>\n",
    "    <td>5</td>\n",
    "    <td>Sandal</td>\n",
    "  </tr>\n",
    "    <tr>\n",
    "    <td>6</td>\n",
    "    <td>Shirt</td>\n",
    "  </tr>\n",
    "    <tr>\n",
    "    <td>7</td>\n",
    "    <td>Sneaker</td>\n",
    "  </tr>\n",
    "    <tr>\n",
    "    <td>8</td>\n",
    "    <td>Bag</td>\n",
    "  </tr>\n",
    "    <tr>\n",
    "    <td>9</td>\n",
    "    <td>Ankle boot</td>\n",
    "  </tr>\n",
    "</table>\n",
    "\n",
    "Each image is mapped to a single label. Since the *class names* are not included with the dataset, store them here to use later when plotting the images:"
   ]
  },
  {
   "cell_type": "code",
   "execution_count": 14,
   "metadata": {
    "executionInfo": {
     "elapsed": 21,
     "status": "ok",
     "timestamp": 1637257801837,
     "user": {
      "displayName": "Salvatore Aiola",
      "photoUrl": "https://lh3.googleusercontent.com/a/default-user=s64",
      "userId": "13082271597599627032"
     },
     "user_tz": -60
    },
    "id": "ufH0IY0irnGO"
   },
   "outputs": [],
   "source": [
    "class_names = ['T-shirt/top', 'Trouser', 'Pullover', 'Dress', 'Coat',\n",
    "               'Sandal', 'Shirt', 'Sneaker', 'Bag', 'Ankle boot']"
   ]
  },
  {
   "cell_type": "markdown",
   "metadata": {
    "id": "mb5d5XCZruG6"
   },
   "source": [
    "## Explore the data\n",
    "Image shape : 60,000 x 28 x 28\n",
    "\n",
    "Each image is represented as a 2 dimensional matrix of 28 x 28"
   ]
  },
  {
   "cell_type": "code",
   "execution_count": 15,
   "metadata": {
    "colab": {
     "base_uri": "https://localhost:8080/"
    },
    "executionInfo": {
     "elapsed": 20,
     "status": "ok",
     "timestamp": 1637257801837,
     "user": {
      "displayName": "Salvatore Aiola",
      "photoUrl": "https://lh3.googleusercontent.com/a/default-user=s64",
      "userId": "13082271597599627032"
     },
     "user_tz": -60
    },
    "id": "XgG1w55JrwQn",
    "outputId": "4fdfb425-2722-4684-bf80-036c60fdd6f9"
   },
   "outputs": [
    {
     "data": {
      "text/plain": [
       "((60000, 28, 28), 60000)"
      ]
     },
     "execution_count": 15,
     "metadata": {},
     "output_type": "execute_result"
    }
   ],
   "source": [
    "train_images.shape,len(train_labels)\n"
   ]
  },
  {
   "cell_type": "code",
   "execution_count": 16,
   "metadata": {
    "colab": {
     "base_uri": "https://localhost:8080/"
    },
    "executionInfo": {
     "elapsed": 16,
     "status": "ok",
     "timestamp": 1637257801838,
     "user": {
      "displayName": "Salvatore Aiola",
      "photoUrl": "https://lh3.googleusercontent.com/a/default-user=s64",
      "userId": "13082271597599627032"
     },
     "user_tz": -60
    },
    "id": "yszF3KJBsDN-",
    "outputId": "9ec75836-6005-43a7-bb29-08dab10d6d4b"
   },
   "outputs": [
    {
     "data": {
      "text/plain": [
       "array([9, 0, 0, ..., 3, 0, 5], dtype=uint8)"
      ]
     },
     "execution_count": 16,
     "metadata": {},
     "output_type": "execute_result"
    }
   ],
   "source": [
    "train_labels"
   ]
  },
  {
   "cell_type": "code",
   "execution_count": 17,
   "metadata": {
    "colab": {
     "base_uri": "https://localhost:8080/"
    },
    "executionInfo": {
     "elapsed": 15,
     "status": "ok",
     "timestamp": 1637257801840,
     "user": {
      "displayName": "Salvatore Aiola",
      "photoUrl": "https://lh3.googleusercontent.com/a/default-user=s64",
      "userId": "13082271597599627032"
     },
     "user_tz": -60
    },
    "id": "Qkgk8WLAsHgS",
    "outputId": "57f124c8-aeaf-452a-851c-bc8e6e445277"
   },
   "outputs": [
    {
     "data": {
      "text/plain": [
       "((10000, 28, 28), 10000)"
      ]
     },
     "execution_count": 17,
     "metadata": {},
     "output_type": "execute_result"
    }
   ],
   "source": [
    "test_images.shape, len(test_labels)"
   ]
  },
  {
   "cell_type": "code",
   "execution_count": 18,
   "metadata": {
    "colab": {
     "base_uri": "https://localhost:8080/",
     "height": 265
    },
    "executionInfo": {
     "elapsed": 380,
     "status": "ok",
     "timestamp": 1637257802209,
     "user": {
      "displayName": "Salvatore Aiola",
      "photoUrl": "https://lh3.googleusercontent.com/a/default-user=s64",
      "userId": "13082271597599627032"
     },
     "user_tz": -60
    },
    "id": "uFiJ1fAMsdrj",
    "outputId": "8a4bc306-5c78-4af2-dc1d-7394e5fe3189"
   },
   "outputs": [
    {
     "data": {
      "image/png": "[encoded data removed]",
      "text/plain": [
       "<Figure size 432x288 with 2 Axes>"
      ]
     },
     "metadata": {
      "needs_background": "light"
     },
     "output_type": "display_data"
    }
   ],
   "source": [
    "plt.imshow(train_images[0], plt.cm.binary)\n",
    "plt.colorbar()\n",
    "plt.grid(False)\n",
    "plt.show()\n"
   ]
  },
  {
   "cell_type": "markdown",
   "metadata": {
    "id": "MsmP2X8lt3ZQ"
   },
   "source": [
    "## Preprocess images\n",
    "Normalize pixel values in the range [0, 1], i.e. divide by 255."
   ]
  },
  {
   "cell_type": "code",
   "execution_count": 19,
   "metadata": {
    "executionInfo": {
     "elapsed": 537,
     "status": "ok",
     "timestamp": 1637257802738,
     "user": {
      "displayName": "Salvatore Aiola",
      "photoUrl": "https://lh3.googleusercontent.com/a/default-user=s64",
      "userId": "13082271597599627032"
     },
     "user_tz": -60
    },
    "id": "8xDwuGDSt2iz"
   },
   "outputs": [],
   "source": [
    "# important to perform each processing step separately on train and test \n",
    "\n",
    "train_images = train_images / 255.0\n",
    "\n",
    "test_images = test_images / 255.0"
   ]
  },
  {
   "cell_type": "code",
   "execution_count": 20,
   "metadata": {
    "colab": {
     "base_uri": "https://localhost:8080/",
     "height": 541
    },
    "executionInfo": {
     "elapsed": 465,
     "status": "ok",
     "timestamp": 1637257803159,
     "user": {
      "displayName": "Salvatore Aiola",
      "photoUrl": "https://lh3.googleusercontent.com/a/default-user=s64",
      "userId": "13082271597599627032"
     },
     "user_tz": -60
    },
    "id": "5G2-rqN6uaSI",
    "outputId": "d4c82be6-5af4-4da2-ae91-5548cb132b54"
   },
   "outputs": [
    {
     "data": {
      "image/png": "[encoded data removed]",
      "text/plain": [
       "<Figure size 432x288 with 1 Axes>"
      ]
     },
     "metadata": {
      "needs_background": "light"
     },
     "output_type": "display_data"
    },
    {
     "data": {
      "image/png": "[encoded data removed]",
      "text/plain": [
       "<Figure size 432x288 with 1 Axes>"
      ]
     },
     "metadata": {
      "needs_background": "light"
     },
     "output_type": "display_data"
    }
   ],
   "source": [
    "plt.imshow(train_images[0], cmap=plt.cm.binary)\n",
    "plt.xlabel(class_names[train_labels[0]])\n",
    "plt.show()\n",
    "plt.imshow(train_images[1], cmap=plt.cm.binary)\n",
    "plt.xlabel(class_names[train_labels[1]])\n",
    "plt.show()\n"
   ]
  },
  {
   "cell_type": "markdown",
   "metadata": {
    "id": "KhAPvd5Hu4ug"
   },
   "source": [
    "## Build the model and pipeline using Sequential API\n",
    "\n",
    "## Setup layers\n",
    "\n",
    "Flatten -> Dense(128) -> Dense(10) \n",
    "\n",
    "Flatten : flatten images i.e. convert 28,28 to 28*28=784 vector\n",
    "\n",
    "Dense(250): Hidden layer with 250 units\n",
    "\n",
    "Dense(10): Dense layer with 10 outputs each corresponding to our class label"
   ]
  },
  {
   "cell_type": "code",
   "execution_count": 21,
   "metadata": {
    "executionInfo": {
     "elapsed": 12,
     "status": "ok",
     "timestamp": 1637257803160,
     "user": {
      "displayName": "Salvatore Aiola",
      "photoUrl": "https://lh3.googleusercontent.com/a/default-user=s64",
      "userId": "13082271597599627032"
     },
     "user_tz": -60
    },
    "id": "8tzrpQ0ku4ID"
   },
   "outputs": [],
   "source": [
    "model = tf.keras.Sequential([\n",
    "    tf.keras.layers.Flatten(input_shape=(28, 28)),\n",
    "    tf.keras.layers.Dense(250, activation='relu'),\n",
    "    tf.keras.layers.Dense(10, activation='softmax')\n",
    "])"
   ]
  },
  {
   "cell_type": "markdown",
   "metadata": {
    "id": "jeMpTjIWv70Z"
   },
   "source": [
    "## Compile the model\n",
    "\n",
    "Compiling the model means setting up the optimizer and loss function\n",
    "\n",
    "* **Loss function** —This measures how accurate the model is during training. You want to minimize this function to \"steer\" the model in the right direction.\n",
    "* **Optimizer** —This is how the model is updated based on the data it sees and its loss function.\n",
    "* **Metrics** —Used to monitor the training and testing steps. This example uses accuracy, the fraction of the images that are correctly classified."
   ]
  },
  {
   "cell_type": "code",
   "execution_count": 22,
   "metadata": {
    "colab": {
     "base_uri": "https://localhost:8080/"
    },
    "executionInfo": {
     "elapsed": 12,
     "status": "ok",
     "timestamp": 1637257803161,
     "user": {
      "displayName": "Salvatore Aiola",
      "photoUrl": "https://lh3.googleusercontent.com/a/default-user=s64",
      "userId": "13082271597599627032"
     },
     "user_tz": -60
    },
    "id": "SzxXzsOUwgPB",
    "outputId": "d7d5f12e-2ddc-4a7e-b358-7e2da78e1757"
   },
   "outputs": [
    {
     "name": "stdout",
     "output_type": "stream",
     "text": [
      "Model: \"sequential_1\"\n",
      "_________________________________________________________________\n",
      "Layer (type)                 Output Shape              Param #   \n",
      "=================================================================\n",
      "flatten (Flatten)            (None, 784)               0         \n",
      "_________________________________________________________________\n",
      "dense (Dense)                (None, 250)               196250    \n",
      "_________________________________________________________________\n",
      "dense_1 (Dense)              (None, 10)                2510      \n",
      "=================================================================\n",
      "Total params: 198,760\n",
      "Trainable params: 198,760\n",
      "Non-trainable params: 0\n",
      "_________________________________________________________________\n"
     ]
    }
   ],
   "source": [
    "model.compile(optimizer='adam',\n",
    "              loss=tf.keras.losses.SparseCategoricalCrossentropy(from_logits=False),\n",
    "              metrics=['accuracy'])\n",
    "model.summary()"
   ]
  },
  {
   "cell_type": "markdown",
   "metadata": {
    "id": "3lPdiH_Qx9ne"
   },
   "source": [
    "Categorical cross entropy : Use when class labels are one hot encoded\n",
    "\n",
    "Sparse categorical cross entropy : Use when class labels are integers"
   ]
  },
  {
   "cell_type": "markdown",
   "metadata": {
    "id": "6GFoFSPnzB8N"
   },
   "source": [
    "## Train the model\n",
    "Training the neural network model requires the following steps:\n",
    "\n",
    "1. Feed the training data to the model. In this example, the training data is in the train_images and train_labels arrays.\n",
    "2. The model learns to associate images and labels.\n",
    "3. You ask the model to make predictions about a test set—in this example, the test_images array.\n",
    "4. Verify that the predictions match the labels from the test_labels array."
   ]
  },
  {
   "cell_type": "code",
   "execution_count": 23,
   "metadata": {
    "colab": {
     "base_uri": "https://localhost:8080/"
    },
    "executionInfo": {
     "elapsed": 142262,
     "status": "ok",
     "timestamp": 1637257945415,
     "user": {
      "displayName": "Salvatore Aiola",
      "photoUrl": "https://lh3.googleusercontent.com/a/default-user=s64",
      "userId": "13082271597599627032"
     },
     "user_tz": -60
    },
    "id": "HrLm8lkdwlMG",
    "outputId": "b20537c9-a539-44b9-b156-1e47e8fc374a"
   },
   "outputs": [
    {
     "name": "stdout",
     "output_type": "stream",
     "text": [
      "Epoch 1/100\n",
      "48/48 [==============================] - 2s 26ms/step - loss: 0.8470 - accuracy: 0.7128 - val_loss: 0.5523 - val_accuracy: 0.8056\n",
      "Epoch 2/100\n",
      "48/48 [==============================] - 1s 22ms/step - loss: 0.5026 - accuracy: 0.8298 - val_loss: 0.4683 - val_accuracy: 0.8370\n",
      "Epoch 3/100\n",
      "48/48 [==============================] - 1s 23ms/step - loss: 0.4493 - accuracy: 0.8464 - val_loss: 0.4404 - val_accuracy: 0.8470\n",
      "Epoch 4/100\n",
      "48/48 [==============================] - 1s 22ms/step - loss: 0.4185 - accuracy: 0.8576 - val_loss: 0.4243 - val_accuracy: 0.8535\n",
      "Epoch 5/100\n",
      "48/48 [==============================] - 1s 22ms/step - loss: 0.3954 - accuracy: 0.8642 - val_loss: 0.4001 - val_accuracy: 0.8621\n",
      "Epoch 6/100\n",
      "48/48 [==============================] - 1s 21ms/step - loss: 0.3779 - accuracy: 0.8699 - val_loss: 0.3876 - val_accuracy: 0.8650\n",
      "Epoch 7/100\n",
      "48/48 [==============================] - 1s 22ms/step - loss: 0.3673 - accuracy: 0.8716 - val_loss: 0.3817 - val_accuracy: 0.8683\n",
      "Epoch 8/100\n",
      "48/48 [==============================] - 1s 21ms/step - loss: 0.3537 - accuracy: 0.8763 - val_loss: 0.3754 - val_accuracy: 0.8685\n",
      "Epoch 9/100\n",
      "48/48 [==============================] - 1s 23ms/step - loss: 0.3458 - accuracy: 0.8784 - val_loss: 0.3629 - val_accuracy: 0.8739\n",
      "Epoch 10/100\n",
      "48/48 [==============================] - 1s 21ms/step - loss: 0.3329 - accuracy: 0.8824 - val_loss: 0.3604 - val_accuracy: 0.8738\n",
      "Epoch 11/100\n",
      "48/48 [==============================] - 1s 21ms/step - loss: 0.3210 - accuracy: 0.8871 - val_loss: 0.3495 - val_accuracy: 0.8782\n",
      "Epoch 12/100\n",
      "48/48 [==============================] - 1s 22ms/step - loss: 0.3114 - accuracy: 0.8910 - val_loss: 0.3501 - val_accuracy: 0.8758\n",
      "Epoch 13/100\n",
      "48/48 [==============================] - 1s 22ms/step - loss: 0.3062 - accuracy: 0.8908 - val_loss: 0.3454 - val_accuracy: 0.8788\n",
      "Epoch 14/100\n",
      "48/48 [==============================] - 1s 21ms/step - loss: 0.2956 - accuracy: 0.8961 - val_loss: 0.3380 - val_accuracy: 0.8830\n",
      "Epoch 15/100\n",
      "48/48 [==============================] - 1s 22ms/step - loss: 0.2897 - accuracy: 0.8966 - val_loss: 0.3381 - val_accuracy: 0.8804\n",
      "Epoch 16/100\n",
      "48/48 [==============================] - 1s 22ms/step - loss: 0.2823 - accuracy: 0.9003 - val_loss: 0.3312 - val_accuracy: 0.8837\n",
      "Epoch 17/100\n",
      "48/48 [==============================] - 1s 21ms/step - loss: 0.2871 - accuracy: 0.8969 - val_loss: 0.3449 - val_accuracy: 0.8776\n",
      "Epoch 18/100\n",
      "48/48 [==============================] - 1s 22ms/step - loss: 0.2778 - accuracy: 0.9004 - val_loss: 0.3286 - val_accuracy: 0.8797\n",
      "Epoch 19/100\n",
      "48/48 [==============================] - 1s 22ms/step - loss: 0.2649 - accuracy: 0.9062 - val_loss: 0.3234 - val_accuracy: 0.8867\n",
      "Epoch 20/100\n",
      "48/48 [==============================] - 1s 22ms/step - loss: 0.2629 - accuracy: 0.9064 - val_loss: 0.3272 - val_accuracy: 0.8833\n",
      "Epoch 21/100\n",
      "48/48 [==============================] - 1s 21ms/step - loss: 0.2607 - accuracy: 0.9074 - val_loss: 0.3181 - val_accuracy: 0.8850\n",
      "Epoch 22/100\n",
      "48/48 [==============================] - 1s 22ms/step - loss: 0.2587 - accuracy: 0.9081 - val_loss: 0.3169 - val_accuracy: 0.8878\n",
      "Epoch 23/100\n",
      "48/48 [==============================] - 1s 22ms/step - loss: 0.2443 - accuracy: 0.9133 - val_loss: 0.3139 - val_accuracy: 0.8899\n",
      "Epoch 24/100\n",
      "48/48 [==============================] - 1s 22ms/step - loss: 0.2430 - accuracy: 0.9146 - val_loss: 0.3117 - val_accuracy: 0.8869\n",
      "Epoch 25/100\n",
      "48/48 [==============================] - 1s 22ms/step - loss: 0.2402 - accuracy: 0.9147 - val_loss: 0.3194 - val_accuracy: 0.8858\n",
      "Epoch 26/100\n",
      "48/48 [==============================] - 1s 22ms/step - loss: 0.2365 - accuracy: 0.9160 - val_loss: 0.3192 - val_accuracy: 0.8877\n",
      "Epoch 27/100\n",
      "48/48 [==============================] - 1s 22ms/step - loss: 0.2298 - accuracy: 0.9188 - val_loss: 0.3182 - val_accuracy: 0.8858\n",
      "Epoch 28/100\n",
      "48/48 [==============================] - 1s 23ms/step - loss: 0.2279 - accuracy: 0.9190 - val_loss: 0.3281 - val_accuracy: 0.8837\n",
      "Epoch 29/100\n",
      "48/48 [==============================] - 1s 22ms/step - loss: 0.2293 - accuracy: 0.9190 - val_loss: 0.3138 - val_accuracy: 0.8871\n",
      "Epoch 30/100\n",
      "48/48 [==============================] - 1s 21ms/step - loss: 0.2205 - accuracy: 0.9217 - val_loss: 0.3073 - val_accuracy: 0.8914\n",
      "Epoch 31/100\n",
      "48/48 [==============================] - 1s 22ms/step - loss: 0.2208 - accuracy: 0.9229 - val_loss: 0.3119 - val_accuracy: 0.8885\n",
      "Epoch 32/100\n",
      "48/48 [==============================] - 1s 23ms/step - loss: 0.2128 - accuracy: 0.9247 - val_loss: 0.3158 - val_accuracy: 0.8880\n",
      "Epoch 33/100\n",
      "48/48 [==============================] - 1s 21ms/step - loss: 0.2115 - accuracy: 0.9258 - val_loss: 0.3277 - val_accuracy: 0.8856\n",
      "Epoch 34/100\n",
      "48/48 [==============================] - 1s 21ms/step - loss: 0.2059 - accuracy: 0.9277 - val_loss: 0.3121 - val_accuracy: 0.8901\n",
      "Epoch 35/100\n",
      "48/48 [==============================] - 1s 21ms/step - loss: 0.2031 - accuracy: 0.9278 - val_loss: 0.3082 - val_accuracy: 0.8920\n",
      "Epoch 36/100\n",
      "48/48 [==============================] - 1s 21ms/step - loss: 0.1991 - accuracy: 0.9312 - val_loss: 0.3057 - val_accuracy: 0.8910\n",
      "Epoch 37/100\n",
      "48/48 [==============================] - 1s 22ms/step - loss: 0.1952 - accuracy: 0.9314 - val_loss: 0.3187 - val_accuracy: 0.8901\n",
      "Epoch 38/100\n",
      "48/48 [==============================] - 1s 23ms/step - loss: 0.1954 - accuracy: 0.9309 - val_loss: 0.3179 - val_accuracy: 0.8888\n",
      "Epoch 39/100\n",
      "48/48 [==============================] - 1s 21ms/step - loss: 0.1930 - accuracy: 0.9327 - val_loss: 0.3098 - val_accuracy: 0.8907\n",
      "Epoch 40/100\n",
      "48/48 [==============================] - 1s 21ms/step - loss: 0.1929 - accuracy: 0.9326 - val_loss: 0.3199 - val_accuracy: 0.8897\n",
      "Epoch 41/100\n",
      "48/48 [==============================] - 1s 21ms/step - loss: 0.1868 - accuracy: 0.9346 - val_loss: 0.3133 - val_accuracy: 0.8898\n",
      "Epoch 42/100\n",
      "48/48 [==============================] - 1s 23ms/step - loss: 0.1805 - accuracy: 0.9374 - val_loss: 0.3080 - val_accuracy: 0.8935\n",
      "Epoch 43/100\n",
      "48/48 [==============================] - 1s 22ms/step - loss: 0.1770 - accuracy: 0.9388 - val_loss: 0.3093 - val_accuracy: 0.8924\n",
      "Epoch 44/100\n",
      "48/48 [==============================] - 1s 22ms/step - loss: 0.1761 - accuracy: 0.9390 - val_loss: 0.3045 - val_accuracy: 0.8937\n",
      "Epoch 45/100\n",
      "48/48 [==============================] - 1s 22ms/step - loss: 0.1756 - accuracy: 0.9386 - val_loss: 0.3088 - val_accuracy: 0.8932\n",
      "Epoch 46/100\n",
      "48/48 [==============================] - 1s 22ms/step - loss: 0.1736 - accuracy: 0.9399 - val_loss: 0.3119 - val_accuracy: 0.8893\n",
      "Epoch 47/100\n",
      "48/48 [==============================] - 1s 22ms/step - loss: 0.1728 - accuracy: 0.9406 - val_loss: 0.3151 - val_accuracy: 0.8922\n",
      "Epoch 48/100\n",
      "48/48 [==============================] - 1s 23ms/step - loss: 0.1670 - accuracy: 0.9422 - val_loss: 0.3152 - val_accuracy: 0.8948\n",
      "Epoch 49/100\n",
      "48/48 [==============================] - 1s 22ms/step - loss: 0.1654 - accuracy: 0.9423 - val_loss: 0.3106 - val_accuracy: 0.8941\n",
      "Epoch 50/100\n",
      "48/48 [==============================] - 1s 22ms/step - loss: 0.1695 - accuracy: 0.9412 - val_loss: 0.3309 - val_accuracy: 0.8879\n",
      "Epoch 51/100\n",
      "48/48 [==============================] - 1s 22ms/step - loss: 0.1628 - accuracy: 0.9446 - val_loss: 0.3093 - val_accuracy: 0.8941\n",
      "Epoch 52/100\n",
      "48/48 [==============================] - 1s 22ms/step - loss: 0.1557 - accuracy: 0.9472 - val_loss: 0.3080 - val_accuracy: 0.8952\n",
      "Epoch 53/100\n",
      "48/48 [==============================] - 1s 21ms/step - loss: 0.1594 - accuracy: 0.9445 - val_loss: 0.3110 - val_accuracy: 0.8955\n",
      "Epoch 54/100\n",
      "48/48 [==============================] - 1s 22ms/step - loss: 0.1540 - accuracy: 0.9471 - val_loss: 0.3111 - val_accuracy: 0.8942\n",
      "Epoch 55/100\n",
      "48/48 [==============================] - 1s 22ms/step - loss: 0.1502 - accuracy: 0.9483 - val_loss: 0.3088 - val_accuracy: 0.8927\n",
      "Epoch 56/100\n",
      "48/48 [==============================] - 1s 22ms/step - loss: 0.1488 - accuracy: 0.9491 - val_loss: 0.3154 - val_accuracy: 0.8928\n",
      "Epoch 57/100\n",
      "48/48 [==============================] - 1s 23ms/step - loss: 0.1464 - accuracy: 0.9506 - val_loss: 0.3140 - val_accuracy: 0.8943\n",
      "Epoch 58/100\n",
      "48/48 [==============================] - 1s 23ms/step - loss: 0.1454 - accuracy: 0.9506 - val_loss: 0.3111 - val_accuracy: 0.8919\n",
      "Epoch 59/100\n",
      "48/48 [==============================] - 1s 22ms/step - loss: 0.1426 - accuracy: 0.9517 - val_loss: 0.3199 - val_accuracy: 0.8946\n",
      "Epoch 60/100\n",
      "48/48 [==============================] - 1s 23ms/step - loss: 0.1431 - accuracy: 0.9521 - val_loss: 0.3174 - val_accuracy: 0.8940\n",
      "Epoch 61/100\n",
      "48/48 [==============================] - 1s 22ms/step - loss: 0.1409 - accuracy: 0.9518 - val_loss: 0.3141 - val_accuracy: 0.8942\n",
      "Epoch 62/100\n",
      "48/48 [==============================] - 1s 22ms/step - loss: 0.1388 - accuracy: 0.9532 - val_loss: 0.3213 - val_accuracy: 0.8945\n",
      "Epoch 63/100\n",
      "48/48 [==============================] - 1s 21ms/step - loss: 0.1359 - accuracy: 0.9537 - val_loss: 0.3248 - val_accuracy: 0.8924\n",
      "Epoch 64/100\n",
      "48/48 [==============================] - 1s 22ms/step - loss: 0.1373 - accuracy: 0.9539 - val_loss: 0.3209 - val_accuracy: 0.8908\n",
      "Epoch 65/100\n",
      "48/48 [==============================] - 1s 22ms/step - loss: 0.1282 - accuracy: 0.9580 - val_loss: 0.3165 - val_accuracy: 0.8938\n",
      "Epoch 66/100\n",
      "48/48 [==============================] - 1s 22ms/step - loss: 0.1273 - accuracy: 0.9577 - val_loss: 0.3215 - val_accuracy: 0.8930\n",
      "Epoch 67/100\n",
      "48/48 [==============================] - 1s 22ms/step - loss: 0.1259 - accuracy: 0.9582 - val_loss: 0.3214 - val_accuracy: 0.8937\n",
      "Epoch 68/100\n",
      "48/48 [==============================] - 1s 21ms/step - loss: 0.1248 - accuracy: 0.9583 - val_loss: 0.3236 - val_accuracy: 0.8942\n",
      "Epoch 69/100\n",
      "48/48 [==============================] - 1s 22ms/step - loss: 0.1281 - accuracy: 0.9569 - val_loss: 0.3346 - val_accuracy: 0.8921\n",
      "Epoch 70/100\n",
      "48/48 [==============================] - 1s 22ms/step - loss: 0.1222 - accuracy: 0.9584 - val_loss: 0.3343 - val_accuracy: 0.8909\n",
      "Epoch 71/100\n",
      "48/48 [==============================] - 1s 22ms/step - loss: 0.1217 - accuracy: 0.9596 - val_loss: 0.3247 - val_accuracy: 0.8936\n",
      "Epoch 72/100\n",
      "48/48 [==============================] - 1s 22ms/step - loss: 0.1180 - accuracy: 0.9611 - val_loss: 0.3312 - val_accuracy: 0.8925\n",
      "Epoch 73/100\n",
      "48/48 [==============================] - 1s 22ms/step - loss: 0.1163 - accuracy: 0.9626 - val_loss: 0.3225 - val_accuracy: 0.8949\n",
      "Epoch 74/100\n",
      "48/48 [==============================] - 1s 22ms/step - loss: 0.1145 - accuracy: 0.9628 - val_loss: 0.3348 - val_accuracy: 0.8923\n",
      "Epoch 75/100\n",
      "48/48 [==============================] - 1s 22ms/step - loss: 0.1148 - accuracy: 0.9619 - val_loss: 0.3362 - val_accuracy: 0.8926\n",
      "Epoch 76/100\n",
      "48/48 [==============================] - 1s 22ms/step - loss: 0.1124 - accuracy: 0.9638 - val_loss: 0.3274 - val_accuracy: 0.8941\n",
      "Epoch 77/100\n",
      "48/48 [==============================] - 1s 23ms/step - loss: 0.1093 - accuracy: 0.9648 - val_loss: 0.3266 - val_accuracy: 0.8963\n",
      "Epoch 78/100\n",
      "48/48 [==============================] - 1s 21ms/step - loss: 0.1109 - accuracy: 0.9639 - val_loss: 0.3460 - val_accuracy: 0.8919\n",
      "Epoch 79/100\n",
      "48/48 [==============================] - 1s 23ms/step - loss: 0.1069 - accuracy: 0.9657 - val_loss: 0.3294 - val_accuracy: 0.8953\n",
      "Epoch 80/100\n",
      "48/48 [==============================] - 1s 22ms/step - loss: 0.1057 - accuracy: 0.9651 - val_loss: 0.3288 - val_accuracy: 0.8944\n",
      "Epoch 81/100\n",
      "48/48 [==============================] - 1s 22ms/step - loss: 0.1052 - accuracy: 0.9664 - val_loss: 0.3326 - val_accuracy: 0.8960\n",
      "Epoch 82/100\n",
      "48/48 [==============================] - 1s 22ms/step - loss: 0.1029 - accuracy: 0.9673 - val_loss: 0.3348 - val_accuracy: 0.8918\n",
      "Epoch 83/100\n",
      "48/48 [==============================] - 1s 22ms/step - loss: 0.1044 - accuracy: 0.9654 - val_loss: 0.3351 - val_accuracy: 0.8943\n",
      "Epoch 84/100\n",
      "48/48 [==============================] - 1s 23ms/step - loss: 0.0975 - accuracy: 0.9697 - val_loss: 0.3387 - val_accuracy: 0.8936\n",
      "Epoch 85/100\n",
      "48/48 [==============================] - 1s 22ms/step - loss: 0.0987 - accuracy: 0.9679 - val_loss: 0.3374 - val_accuracy: 0.8946\n",
      "Epoch 86/100\n",
      "48/48 [==============================] - 1s 22ms/step - loss: 0.0995 - accuracy: 0.9680 - val_loss: 0.3371 - val_accuracy: 0.8947\n",
      "Epoch 87/100\n",
      "48/48 [==============================] - 1s 23ms/step - loss: 0.0959 - accuracy: 0.9685 - val_loss: 0.3400 - val_accuracy: 0.8947\n",
      "Epoch 88/100\n",
      "48/48 [==============================] - 1s 22ms/step - loss: 0.0918 - accuracy: 0.9718 - val_loss: 0.3415 - val_accuracy: 0.8939\n",
      "Epoch 89/100\n",
      "48/48 [==============================] - 1s 22ms/step - loss: 0.0948 - accuracy: 0.9699 - val_loss: 0.3400 - val_accuracy: 0.8956\n",
      "Epoch 90/100\n",
      "48/48 [==============================] - 1s 22ms/step - loss: 0.0949 - accuracy: 0.9693 - val_loss: 0.3522 - val_accuracy: 0.8944\n",
      "Epoch 91/100\n",
      "48/48 [==============================] - 1s 23ms/step - loss: 0.0908 - accuracy: 0.9710 - val_loss: 0.3520 - val_accuracy: 0.8919\n",
      "Epoch 92/100\n",
      "48/48 [==============================] - 1s 22ms/step - loss: 0.0881 - accuracy: 0.9719 - val_loss: 0.3462 - val_accuracy: 0.8949\n",
      "Epoch 93/100\n",
      "48/48 [==============================] - 1s 22ms/step - loss: 0.0884 - accuracy: 0.9716 - val_loss: 0.3539 - val_accuracy: 0.8930\n",
      "Epoch 94/100\n",
      "48/48 [==============================] - 1s 21ms/step - loss: 0.0867 - accuracy: 0.9733 - val_loss: 0.3522 - val_accuracy: 0.8929\n",
      "Epoch 95/100\n",
      "48/48 [==============================] - 1s 22ms/step - loss: 0.0877 - accuracy: 0.9723 - val_loss: 0.3762 - val_accuracy: 0.8882\n",
      "Epoch 96/100\n",
      "48/48 [==============================] - 1s 22ms/step - loss: 0.0860 - accuracy: 0.9731 - val_loss: 0.3534 - val_accuracy: 0.8938\n",
      "Epoch 97/100\n",
      "48/48 [==============================] - 1s 22ms/step - loss: 0.0820 - accuracy: 0.9749 - val_loss: 0.3568 - val_accuracy: 0.8942\n",
      "Epoch 98/100\n",
      "48/48 [==============================] - 1s 23ms/step - loss: 0.0793 - accuracy: 0.9761 - val_loss: 0.3679 - val_accuracy: 0.8928\n",
      "Epoch 99/100\n",
      "48/48 [==============================] - 1s 21ms/step - loss: 0.0802 - accuracy: 0.9751 - val_loss: 0.3702 - val_accuracy: 0.8910\n",
      "Epoch 100/100\n",
      "48/48 [==============================] - 1s 22ms/step - loss: 0.0806 - accuracy: 0.9749 - val_loss: 0.3568 - val_accuracy: 0.8944\n"
     ]
    }
   ],
   "source": [
    "# tensorboard settings to view plots\n",
    "logdir = \"logs/scalars/\" + datetime.now().strftime(\"%Y%m%d-%H%M%S\")\n",
    "tensorboard_callback = keras.callbacks.TensorBoard(log_dir=logdir)\n",
    "\n",
    "history = model.fit(train_images, train_labels, epochs=100, batch_size=1000, shuffle=True, callbacks=[tensorboard_callback], validation_split=0.2)"
   ]
  },
  {
   "cell_type": "markdown",
   "metadata": {
    "id": "XVis46hYzW7o"
   },
   "source": [
    "## Evaluate the model on test set"
   ]
  },
  {
   "cell_type": "code",
   "execution_count": 24,
   "metadata": {
    "colab": {
     "base_uri": "https://localhost:8080/"
    },
    "executionInfo": {
     "elapsed": 606,
     "status": "ok",
     "timestamp": 1637257946001,
     "user": {
      "displayName": "Salvatore Aiola",
      "photoUrl": "https://lh3.googleusercontent.com/a/default-user=s64",
      "userId": "13082271597599627032"
     },
     "user_tz": -60
    },
    "id": "oAaA-zsEzpfB",
    "outputId": "c7f5a386-ad48-4c74-bda8-eafb950bc0be"
   },
   "outputs": [
    {
     "name": "stdout",
     "output_type": "stream",
     "text": [
      "313/313 - 1s - loss: 0.3907 - accuracy: 0.8907\n",
      "\n",
      "Test accuracy: 0.8906999826431274\n"
     ]
    }
   ],
   "source": [
    "test_loss, test_acc = model.evaluate(test_images,  test_labels, verbose=2)\n",
    "\n",
    "print('\\nTest accuracy:', test_acc)"
   ]
  },
  {
   "cell_type": "markdown",
   "metadata": {
    "id": "SkchY1ZTfT0L"
   },
   "source": [
    "## Visual check\n",
    "\n",
    "Correct labels : blue \n",
    "\n",
    "Incorrect labels : red"
   ]
  },
  {
   "cell_type": "code",
   "execution_count": 25,
   "metadata": {
    "executionInfo": {
     "elapsed": 7,
     "status": "ok",
     "timestamp": 1637257946002,
     "user": {
      "displayName": "Salvatore Aiola",
      "photoUrl": "https://lh3.googleusercontent.com/a/default-user=s64",
      "userId": "13082271597599627032"
     },
     "user_tz": -60
    },
    "id": "2mBkmyUepUzH"
   },
   "outputs": [],
   "source": [
    "def plot_image(i, predictions_array, true_label, img):\n",
    "  true_label, img = true_label[i], img[i]\n",
    "  plt.grid(False)\n",
    "  plt.xticks([])\n",
    "  plt.yticks([])\n",
    "\n",
    "  plt.imshow(img, cmap=plt.cm.binary)\n",
    "\n",
    "  predicted_label = np.argmax(predictions_array)\n",
    "  if predicted_label == true_label:\n",
    "    color = 'blue'\n",
    "  else:\n",
    "    color = 'red'\n",
    "\n",
    "  plt.xlabel(\"{} {:2.0f}% ({})\".format(class_names[predicted_label],\n",
    "                                100*np.max(predictions_array),\n",
    "                                class_names[true_label]),\n",
    "                                color=color)\n",
    "\n",
    "def plot_value_array(i, predictions_array, true_label):\n",
    "  true_label = true_label[i]\n",
    "  plt.grid(False)\n",
    "  plt.xticks(range(10))\n",
    "  plt.yticks([])\n",
    "  thisplot = plt.bar(range(10), predictions_array, color=\"#777777\")\n",
    "  plt.ylim([0, 1])\n",
    "  predicted_label = np.argmax(predictions_array)\n",
    "\n",
    "  thisplot[predicted_label].set_color('red')\n",
    "  thisplot[true_label].set_color('blue')"
   ]
  },
  {
   "cell_type": "code",
   "execution_count": 26,
   "metadata": {
    "colab": {
     "base_uri": "https://localhost:8080/",
     "height": 729
    },
    "executionInfo": {
     "elapsed": 3127,
     "status": "ok",
     "timestamp": 1637257949123,
     "user": {
      "displayName": "Salvatore Aiola",
      "photoUrl": "https://lh3.googleusercontent.com/a/default-user=s64",
      "userId": "13082271597599627032"
     },
     "user_tz": -60
    },
    "id": "NGVMjCtrOrt5",
    "outputId": "0c71c93f-f1f7-44c1-c963-8d203830e324"
   },
   "outputs": [
    {
     "data": {
      "image/png": "[encoded data removed]",
      "text/plain": [
       "<Figure size 864x720 with 30 Axes>"
      ]
     },
     "metadata": {
      "needs_background": "light"
     },
     "output_type": "display_data"
    }
   ],
   "source": [
    "predictions = model.predict(test_images)\n",
    "# Plot the first X test images, their predicted labels, and the true labels.\n",
    "# Color correct predictions in blue and incorrect predictions in red.\n",
    "num_rows = 5\n",
    "num_cols = 3\n",
    "num_images = num_rows*num_cols\n",
    "plt.figure(figsize=(2*2*num_cols, 2*num_rows))\n",
    "for i in range(num_images):\n",
    "  plt.subplot(num_rows, 2*num_cols, 2*i+1)\n",
    "  plot_image(i, predictions[i], test_labels, test_images)\n",
    "  plt.subplot(num_rows, 2*num_cols, 2*i+2)\n",
    "  plot_value_array(i, predictions[i], test_labels)\n",
    "plt.tight_layout()\n",
    "plt.show()"
   ]
  },
  {
   "cell_type": "markdown",
   "metadata": {
    "id": "33y9ql42z_43"
   },
   "source": [
    "## Overfitting? \n",
    "\n",
    "As a neural network gets deeper the tendency to overfit increases. How to debug if our model is overfitting? \n",
    "\n",
    "\n",
    "Does the validation loss rise after some epochs? And if validation loss is higher than the training loss its perfectly fine, your model is still learning. Naturally you can't have validation loss to be less than your training loss (it does become very close to your training loss if the model is deep enough ). But if validation loss rises and your training loss keeps decreasing then you are overfitting. Use early stopping to tackle overfitting."
   ]
  },
  {
   "cell_type": "code",
   "execution_count": 27,
   "metadata": {
    "colab": {
     "base_uri": "https://localhost:8080/",
     "height": 279
    },
    "executionInfo": {
     "elapsed": 14,
     "status": "ok",
     "timestamp": 1637257949125,
     "user": {
      "displayName": "Salvatore Aiola",
      "photoUrl": "https://lh3.googleusercontent.com/a/default-user=s64",
      "userId": "13082271597599627032"
     },
     "user_tz": -60
    },
    "id": "oYx6G_0L8wce",
    "outputId": "5c4f98b1-8a3d-4783-de46-7a17494a7f50"
   },
   "outputs": [
    {
     "data": {
      "image/png": "[encoded data removed]",
      "text/plain": [
       "<Figure size 432x288 with 1 Axes>"
      ]
     },
     "metadata": {
      "needs_background": "light"
     },
     "output_type": "display_data"
    }
   ],
   "source": [
    "plotter = tfdocs.plots.HistoryPlotter(metric = 'loss', smoothing_std=10)\n",
    "\n",
    "plotter.plot({'hist': history})"
   ]
  },
  {
   "cell_type": "markdown",
   "metadata": {
    "id": "R39IIxJ11aDh"
   },
   "source": [
    "### Early stopping\n",
    "\n",
    "Stop training when validation loss does not improve any longer."
   ]
  },
  {
   "cell_type": "code",
   "execution_count": 28,
   "metadata": {
    "colab": {
     "base_uri": "https://localhost:8080/"
    },
    "executionInfo": {
     "elapsed": 42485,
     "status": "ok",
     "timestamp": 1637257991600,
     "user": {
      "displayName": "Salvatore Aiola",
      "photoUrl": "https://lh3.googleusercontent.com/a/default-user=s64",
      "userId": "13082271597599627032"
     },
     "user_tz": -60
    },
    "id": "eovyPXWhhSXj",
    "outputId": "99496bac-0e61-4a76-d567-d2a44892ccf2"
   },
   "outputs": [
    {
     "name": "stdout",
     "output_type": "stream",
     "text": [
      "Epoch 1/100\n",
      "48/48 [==============================] - 2s 26ms/step - loss: 0.8204 - accuracy: 0.7243 - val_loss: 0.5357 - val_accuracy: 0.8184\n",
      "Epoch 2/100\n",
      "48/48 [==============================] - 1s 22ms/step - loss: 0.4944 - accuracy: 0.8324 - val_loss: 0.4724 - val_accuracy: 0.8353\n",
      "Epoch 3/100\n",
      "48/48 [==============================] - 1s 22ms/step - loss: 0.4443 - accuracy: 0.8470 - val_loss: 0.4332 - val_accuracy: 0.8503\n",
      "Epoch 4/100\n",
      "48/48 [==============================] - 1s 22ms/step - loss: 0.4149 - accuracy: 0.8571 - val_loss: 0.4173 - val_accuracy: 0.8553\n",
      "Epoch 5/100\n",
      "48/48 [==============================] - 1s 22ms/step - loss: 0.3921 - accuracy: 0.8637 - val_loss: 0.4005 - val_accuracy: 0.8592\n",
      "Epoch 6/100\n",
      "48/48 [==============================] - 1s 21ms/step - loss: 0.3788 - accuracy: 0.8688 - val_loss: 0.3901 - val_accuracy: 0.8668\n",
      "Epoch 7/100\n",
      "48/48 [==============================] - 1s 22ms/step - loss: 0.3576 - accuracy: 0.8750 - val_loss: 0.3745 - val_accuracy: 0.8695\n",
      "Epoch 8/100\n",
      "48/48 [==============================] - 1s 22ms/step - loss: 0.3470 - accuracy: 0.8779 - val_loss: 0.3655 - val_accuracy: 0.8706\n",
      "Epoch 9/100\n",
      "48/48 [==============================] - 1s 22ms/step - loss: 0.3362 - accuracy: 0.8815 - val_loss: 0.3607 - val_accuracy: 0.8730\n",
      "Epoch 10/100\n",
      "48/48 [==============================] - 1s 22ms/step - loss: 0.3258 - accuracy: 0.8850 - val_loss: 0.3537 - val_accuracy: 0.8753\n",
      "Epoch 11/100\n",
      "48/48 [==============================] - 1s 21ms/step - loss: 0.3166 - accuracy: 0.8879 - val_loss: 0.3501 - val_accuracy: 0.8753\n",
      "Epoch 12/100\n",
      "48/48 [==============================] - 1s 22ms/step - loss: 0.3106 - accuracy: 0.8886 - val_loss: 0.3442 - val_accuracy: 0.8784\n",
      "Epoch 13/100\n",
      "48/48 [==============================] - 1s 22ms/step - loss: 0.3015 - accuracy: 0.8930 - val_loss: 0.3417 - val_accuracy: 0.8791\n",
      "Epoch 14/100\n",
      "48/48 [==============================] - 1s 21ms/step - loss: 0.2976 - accuracy: 0.8934 - val_loss: 0.3332 - val_accuracy: 0.8825\n",
      "Epoch 15/100\n",
      "48/48 [==============================] - 1s 22ms/step - loss: 0.2867 - accuracy: 0.8975 - val_loss: 0.3372 - val_accuracy: 0.8785\n",
      "Epoch 16/100\n",
      "48/48 [==============================] - 1s 22ms/step - loss: 0.2815 - accuracy: 0.8996 - val_loss: 0.3376 - val_accuracy: 0.8802\n",
      "Epoch 17/100\n",
      "48/48 [==============================] - 1s 22ms/step - loss: 0.2809 - accuracy: 0.8996 - val_loss: 0.3321 - val_accuracy: 0.8791\n",
      "Epoch 18/100\n",
      "48/48 [==============================] - 1s 21ms/step - loss: 0.2710 - accuracy: 0.9029 - val_loss: 0.3272 - val_accuracy: 0.8819\n",
      "Epoch 19/100\n",
      "48/48 [==============================] - 1s 22ms/step - loss: 0.2652 - accuracy: 0.9051 - val_loss: 0.3237 - val_accuracy: 0.8842\n",
      "Epoch 20/100\n",
      "48/48 [==============================] - 1s 22ms/step - loss: 0.2588 - accuracy: 0.9077 - val_loss: 0.3202 - val_accuracy: 0.8855\n",
      "Epoch 21/100\n",
      "48/48 [==============================] - 1s 21ms/step - loss: 0.2579 - accuracy: 0.9078 - val_loss: 0.3259 - val_accuracy: 0.8840\n",
      "Epoch 22/100\n",
      "48/48 [==============================] - 1s 21ms/step - loss: 0.2523 - accuracy: 0.9095 - val_loss: 0.3163 - val_accuracy: 0.8859\n",
      "Epoch 23/100\n",
      "48/48 [==============================] - 1s 21ms/step - loss: 0.2433 - accuracy: 0.9128 - val_loss: 0.3191 - val_accuracy: 0.8868\n",
      "Epoch 24/100\n",
      "48/48 [==============================] - 1s 22ms/step - loss: 0.2487 - accuracy: 0.9110 - val_loss: 0.3112 - val_accuracy: 0.8890\n",
      "Epoch 25/100\n",
      "48/48 [==============================] - 1s 22ms/step - loss: 0.2395 - accuracy: 0.9147 - val_loss: 0.3241 - val_accuracy: 0.8849\n",
      "Epoch 26/100\n",
      "48/48 [==============================] - 1s 21ms/step - loss: 0.2351 - accuracy: 0.9169 - val_loss: 0.3118 - val_accuracy: 0.8877\n",
      "Epoch 27/100\n",
      "48/48 [==============================] - 1s 23ms/step - loss: 0.2284 - accuracy: 0.9191 - val_loss: 0.3086 - val_accuracy: 0.8902\n",
      "Epoch 28/100\n",
      "48/48 [==============================] - 1s 21ms/step - loss: 0.2285 - accuracy: 0.9187 - val_loss: 0.3109 - val_accuracy: 0.8879\n",
      "Epoch 29/100\n",
      "48/48 [==============================] - 1s 22ms/step - loss: 0.2202 - accuracy: 0.9222 - val_loss: 0.3160 - val_accuracy: 0.8864\n",
      "Epoch 30/100\n",
      "48/48 [==============================] - 1s 22ms/step - loss: 0.2197 - accuracy: 0.9219 - val_loss: 0.3107 - val_accuracy: 0.8892\n",
      "Epoch 31/100\n",
      "48/48 [==============================] - 1s 22ms/step - loss: 0.2148 - accuracy: 0.9254 - val_loss: 0.3055 - val_accuracy: 0.8902\n",
      "Epoch 32/100\n",
      "48/48 [==============================] - 1s 21ms/step - loss: 0.2101 - accuracy: 0.9268 - val_loss: 0.3106 - val_accuracy: 0.8893\n",
      "Epoch 33/100\n",
      "48/48 [==============================] - 1s 22ms/step - loss: 0.2129 - accuracy: 0.9236 - val_loss: 0.3113 - val_accuracy: 0.8889\n",
      "Epoch 34/100\n",
      "48/48 [==============================] - 1s 21ms/step - loss: 0.2070 - accuracy: 0.9269 - val_loss: 0.3107 - val_accuracy: 0.8908\n",
      "Epoch 35/100\n",
      "48/48 [==============================] - 1s 21ms/step - loss: 0.2082 - accuracy: 0.9255 - val_loss: 0.3034 - val_accuracy: 0.8915\n",
      "Epoch 36/100\n",
      "48/48 [==============================] - 1s 23ms/step - loss: 0.2019 - accuracy: 0.9286 - val_loss: 0.3073 - val_accuracy: 0.8913\n",
      "Epoch 37/100\n",
      "48/48 [==============================] - 1s 21ms/step - loss: 0.2026 - accuracy: 0.9284 - val_loss: 0.3263 - val_accuracy: 0.8875\n",
      "Epoch 38/100\n",
      "48/48 [==============================] - 1s 21ms/step - loss: 0.1959 - accuracy: 0.9310 - val_loss: 0.3088 - val_accuracy: 0.8945\n",
      "Epoch 39/100\n",
      "48/48 [==============================] - 1s 21ms/step - loss: 0.1929 - accuracy: 0.9321 - val_loss: 0.3283 - val_accuracy: 0.8856\n",
      "Epoch 40/100\n",
      "48/48 [==============================] - 1s 21ms/step - loss: 0.1944 - accuracy: 0.9315 - val_loss: 0.3085 - val_accuracy: 0.8920\n",
      "Epoch 00040: early stopping\n"
     ]
    }
   ],
   "source": [
    "model = tf.keras.Sequential([\n",
    "    tf.keras.layers.Flatten(input_shape=(28, 28)),\n",
    "    tf.keras.layers.Dense(250, activation='relu'),\n",
    "    tf.keras.layers.Dense(10, activation='softmax')\n",
    "])\n",
    "\n",
    "\n",
    "model.compile(optimizer='adam',\n",
    "              loss=tf.keras.losses.SparseCategoricalCrossentropy(from_logits=False),\n",
    "              metrics=['accuracy'])\n",
    "\n",
    "\n",
    "\n",
    "# tensorboard settings to view plots\n",
    "logdir = \"logs/scalars/\" + datetime.now().strftime(\"%Y%m%d-%H%M%S\")\n",
    "tensorboard_callback = keras.callbacks.TensorBoard(log_dir=logdir)\n",
    "\n",
    "# This callback will stop the training when there is no improvement in\n",
    "# the loss for 5 consecutive epochs\n",
    "earlystopping = keras.callbacks.EarlyStopping(monitor='val_loss', mode='min', \n",
    "                                              verbose=1, patience=5)\n",
    "\n",
    "\n",
    "\n",
    "history = model.fit(train_images, train_labels, batch_size=1000, \n",
    "          epochs=100, callbacks=[earlystopping, tensorboard_callback], validation_split=0.2)\n",
    "\n",
    "# train_images = 48k (20% for validation)"
   ]
  },
  {
   "cell_type": "code",
   "execution_count": 29,
   "metadata": {
    "colab": {
     "base_uri": "https://localhost:8080/",
     "height": 279
    },
    "executionInfo": {
     "elapsed": 25,
     "status": "ok",
     "timestamp": 1637257991601,
     "user": {
      "displayName": "Salvatore Aiola",
      "photoUrl": "https://lh3.googleusercontent.com/a/default-user=s64",
      "userId": "13082271597599627032"
     },
     "user_tz": -60
    },
    "id": "7BIraPc2iOLR",
    "outputId": "55679d70-b633-472b-97a6-328bb1bf7b17"
   },
   "outputs": [
    {
     "data": {
      "image/png": "[encoded data removed]",
      "text/plain": [
       "<Figure size 432x288 with 1 Axes>"
      ]
     },
     "metadata": {
      "needs_background": "light"
     },
     "output_type": "display_data"
    }
   ],
   "source": [
    "plotter = tfdocs.plots.HistoryPlotter(metric = 'loss', smoothing_std=10)\n",
    "\n",
    "plotter.plot({'hist': history})"
   ]
  },
  {
   "cell_type": "code",
   "execution_count": 30,
   "metadata": {
    "colab": {
     "base_uri": "https://localhost:8080/"
    },
    "executionInfo": {
     "elapsed": 1032,
     "status": "ok",
     "timestamp": 1637257992610,
     "user": {
      "displayName": "Salvatore Aiola",
      "photoUrl": "https://lh3.googleusercontent.com/a/default-user=s64",
      "userId": "13082271597599627032"
     },
     "user_tz": -60
    },
    "id": "wnJlDPZfjBM-",
    "outputId": "6cb45d2d-a0c4-4ffe-dcc3-14d77ec95954"
   },
   "outputs": [
    {
     "name": "stdout",
     "output_type": "stream",
     "text": [
      "313/313 - 1s - loss: 0.3327 - accuracy: 0.8852\n",
      "\n",
      "Test accuracy: 0.885200023651123\n"
     ]
    }
   ],
   "source": [
    "test_loss, test_acc = model.evaluate(test_images,  test_labels, verbose=2)\n",
    "\n",
    "print('\\nTest accuracy:', test_acc)"
   ]
  },
  {
   "cell_type": "markdown",
   "metadata": {
    "id": "MaF2WhV2D3jV"
   },
   "source": [
    "### Dropout"
   ]
  },
  {
   "cell_type": "code",
   "execution_count": 31,
   "metadata": {
    "colab": {
     "base_uri": "https://localhost:8080/"
    },
    "executionInfo": {
     "elapsed": 55609,
     "status": "ok",
     "timestamp": 1637258048214,
     "user": {
      "displayName": "Salvatore Aiola",
      "photoUrl": "https://lh3.googleusercontent.com/a/default-user=s64",
      "userId": "13082271597599627032"
     },
     "user_tz": -60
    },
    "id": "2ueUqI0yD2oM",
    "outputId": "a21ac541-2f21-4682-d476-b26c5162cf9e"
   },
   "outputs": [
    {
     "name": "stdout",
     "output_type": "stream",
     "text": [
      "Epoch 1/100\n",
      "48/48 [==============================] - 2s 29ms/step - loss: 0.8706 - accuracy: 0.6995 - val_loss: 0.5498 - val_accuracy: 0.8110\n",
      "Epoch 2/100\n",
      "48/48 [==============================] - 1s 24ms/step - loss: 0.5430 - accuracy: 0.8149 - val_loss: 0.4698 - val_accuracy: 0.8401\n",
      "Epoch 3/100\n",
      "48/48 [==============================] - 1s 24ms/step - loss: 0.4760 - accuracy: 0.8372 - val_loss: 0.4375 - val_accuracy: 0.8477\n",
      "Epoch 4/100\n",
      "48/48 [==============================] - 1s 24ms/step - loss: 0.4379 - accuracy: 0.8493 - val_loss: 0.4102 - val_accuracy: 0.8579\n",
      "Epoch 5/100\n",
      "48/48 [==============================] - 1s 24ms/step - loss: 0.4153 - accuracy: 0.8560 - val_loss: 0.3973 - val_accuracy: 0.8597\n",
      "Epoch 6/100\n",
      "48/48 [==============================] - 1s 25ms/step - loss: 0.3933 - accuracy: 0.8631 - val_loss: 0.3806 - val_accuracy: 0.8672\n",
      "Epoch 7/100\n",
      "48/48 [==============================] - 1s 25ms/step - loss: 0.3768 - accuracy: 0.8675 - val_loss: 0.3713 - val_accuracy: 0.8684\n",
      "Epoch 8/100\n",
      "48/48 [==============================] - 1s 25ms/step - loss: 0.3591 - accuracy: 0.8724 - val_loss: 0.3586 - val_accuracy: 0.8723\n",
      "Epoch 9/100\n",
      "48/48 [==============================] - 1s 24ms/step - loss: 0.3498 - accuracy: 0.8750 - val_loss: 0.3591 - val_accuracy: 0.8729\n",
      "Epoch 10/100\n",
      "48/48 [==============================] - 1s 23ms/step - loss: 0.3411 - accuracy: 0.8776 - val_loss: 0.3449 - val_accuracy: 0.8757\n",
      "Epoch 11/100\n",
      "48/48 [==============================] - 1s 24ms/step - loss: 0.3295 - accuracy: 0.8819 - val_loss: 0.3387 - val_accuracy: 0.8787\n",
      "Epoch 12/100\n",
      "48/48 [==============================] - 1s 24ms/step - loss: 0.3284 - accuracy: 0.8811 - val_loss: 0.3416 - val_accuracy: 0.8762\n",
      "Epoch 13/100\n",
      "48/48 [==============================] - 1s 23ms/step - loss: 0.3147 - accuracy: 0.8879 - val_loss: 0.3310 - val_accuracy: 0.8807\n",
      "Epoch 14/100\n",
      "48/48 [==============================] - 1s 24ms/step - loss: 0.3116 - accuracy: 0.8872 - val_loss: 0.3270 - val_accuracy: 0.8822\n",
      "Epoch 15/100\n",
      "48/48 [==============================] - 1s 23ms/step - loss: 0.3053 - accuracy: 0.8899 - val_loss: 0.3211 - val_accuracy: 0.8832\n",
      "Epoch 16/100\n",
      "48/48 [==============================] - 1s 24ms/step - loss: 0.3026 - accuracy: 0.8905 - val_loss: 0.3224 - val_accuracy: 0.8834\n",
      "Epoch 17/100\n",
      "48/48 [==============================] - 1s 24ms/step - loss: 0.2957 - accuracy: 0.8927 - val_loss: 0.3279 - val_accuracy: 0.8825\n",
      "Epoch 18/100\n",
      "48/48 [==============================] - 1s 24ms/step - loss: 0.2895 - accuracy: 0.8940 - val_loss: 0.3120 - val_accuracy: 0.8874\n",
      "Epoch 19/100\n",
      "48/48 [==============================] - 1s 24ms/step - loss: 0.2833 - accuracy: 0.8965 - val_loss: 0.3226 - val_accuracy: 0.8839\n",
      "Epoch 20/100\n",
      "48/48 [==============================] - 1s 25ms/step - loss: 0.2792 - accuracy: 0.8992 - val_loss: 0.3097 - val_accuracy: 0.8878\n",
      "Epoch 21/100\n",
      "48/48 [==============================] - 1s 24ms/step - loss: 0.2731 - accuracy: 0.9013 - val_loss: 0.3101 - val_accuracy: 0.8880\n",
      "Epoch 22/100\n",
      "48/48 [==============================] - 1s 24ms/step - loss: 0.2711 - accuracy: 0.9034 - val_loss: 0.3067 - val_accuracy: 0.8889\n",
      "Epoch 23/100\n",
      "48/48 [==============================] - 1s 24ms/step - loss: 0.2656 - accuracy: 0.9043 - val_loss: 0.3068 - val_accuracy: 0.8894\n",
      "Epoch 24/100\n",
      "48/48 [==============================] - 1s 24ms/step - loss: 0.2599 - accuracy: 0.9059 - val_loss: 0.3064 - val_accuracy: 0.8918\n",
      "Epoch 25/100\n",
      "48/48 [==============================] - 1s 24ms/step - loss: 0.2570 - accuracy: 0.9069 - val_loss: 0.3021 - val_accuracy: 0.8898\n",
      "Epoch 26/100\n",
      "48/48 [==============================] - 1s 24ms/step - loss: 0.2545 - accuracy: 0.9066 - val_loss: 0.2987 - val_accuracy: 0.8913\n",
      "Epoch 27/100\n",
      "48/48 [==============================] - 1s 24ms/step - loss: 0.2520 - accuracy: 0.9083 - val_loss: 0.2997 - val_accuracy: 0.8896\n",
      "Epoch 28/100\n",
      "48/48 [==============================] - 1s 24ms/step - loss: 0.2467 - accuracy: 0.9089 - val_loss: 0.2965 - val_accuracy: 0.8911\n",
      "Epoch 29/100\n",
      "48/48 [==============================] - 1s 24ms/step - loss: 0.2440 - accuracy: 0.9104 - val_loss: 0.3015 - val_accuracy: 0.8907\n",
      "Epoch 30/100\n",
      "48/48 [==============================] - 1s 25ms/step - loss: 0.2417 - accuracy: 0.9121 - val_loss: 0.2964 - val_accuracy: 0.8938\n",
      "Epoch 31/100\n",
      "48/48 [==============================] - 1s 24ms/step - loss: 0.2371 - accuracy: 0.9142 - val_loss: 0.3013 - val_accuracy: 0.8912\n",
      "Epoch 32/100\n",
      "48/48 [==============================] - 1s 24ms/step - loss: 0.2368 - accuracy: 0.9126 - val_loss: 0.2909 - val_accuracy: 0.8949\n",
      "Epoch 33/100\n",
      "48/48 [==============================] - 1s 25ms/step - loss: 0.2342 - accuracy: 0.9144 - val_loss: 0.2948 - val_accuracy: 0.8935\n",
      "Epoch 34/100\n",
      "48/48 [==============================] - 1s 24ms/step - loss: 0.2302 - accuracy: 0.9158 - val_loss: 0.2980 - val_accuracy: 0.8919\n",
      "Epoch 35/100\n",
      "48/48 [==============================] - 1s 25ms/step - loss: 0.2251 - accuracy: 0.9186 - val_loss: 0.2922 - val_accuracy: 0.8945\n",
      "Epoch 36/100\n",
      "48/48 [==============================] - 1s 24ms/step - loss: 0.2233 - accuracy: 0.9179 - val_loss: 0.2914 - val_accuracy: 0.8938\n",
      "Epoch 37/100\n",
      "48/48 [==============================] - 1s 24ms/step - loss: 0.2231 - accuracy: 0.9173 - val_loss: 0.2900 - val_accuracy: 0.8932\n",
      "Epoch 38/100\n",
      "48/48 [==============================] - 1s 24ms/step - loss: 0.2192 - accuracy: 0.9204 - val_loss: 0.2926 - val_accuracy: 0.8950\n",
      "Epoch 39/100\n",
      "48/48 [==============================] - 1s 24ms/step - loss: 0.2173 - accuracy: 0.9221 - val_loss: 0.2892 - val_accuracy: 0.8956\n",
      "Epoch 40/100\n",
      "48/48 [==============================] - 1s 24ms/step - loss: 0.2137 - accuracy: 0.9218 - val_loss: 0.2908 - val_accuracy: 0.8951\n",
      "Epoch 41/100\n",
      "48/48 [==============================] - 1s 24ms/step - loss: 0.2093 - accuracy: 0.9239 - val_loss: 0.2883 - val_accuracy: 0.8956\n",
      "Epoch 42/100\n",
      "48/48 [==============================] - 1s 24ms/step - loss: 0.2079 - accuracy: 0.9243 - val_loss: 0.2864 - val_accuracy: 0.8967\n",
      "Epoch 43/100\n",
      "48/48 [==============================] - 1s 25ms/step - loss: 0.2065 - accuracy: 0.9254 - val_loss: 0.2900 - val_accuracy: 0.8953\n",
      "Epoch 44/100\n",
      "48/48 [==============================] - 1s 25ms/step - loss: 0.2051 - accuracy: 0.9260 - val_loss: 0.2892 - val_accuracy: 0.8959\n",
      "Epoch 45/100\n",
      "48/48 [==============================] - 1s 24ms/step - loss: 0.2022 - accuracy: 0.9259 - val_loss: 0.2943 - val_accuracy: 0.8953\n",
      "Epoch 46/100\n",
      "48/48 [==============================] - 1s 24ms/step - loss: 0.1986 - accuracy: 0.9274 - val_loss: 0.2913 - val_accuracy: 0.8986\n",
      "Epoch 47/100\n",
      "48/48 [==============================] - 1s 25ms/step - loss: 0.1985 - accuracy: 0.9272 - val_loss: 0.2893 - val_accuracy: 0.8956\n",
      "Epoch 00047: early stopping\n"
     ]
    }
   ],
   "source": [
    "model = tf.keras.Sequential([\n",
    "    tf.keras.layers.Flatten(input_shape=(28, 28)),\n",
    "    #tf.keras.layers.Dropout(0.1),\n",
    "    tf.keras.layers.Dense(250, activation='relu'),\n",
    "    tf.keras.layers.Dropout(0.3),\n",
    "    tf.keras.layers.Dense(10, activation='softmax')\n",
    "])\n",
    "\n",
    "model.compile(optimizer='adam',\n",
    "              loss=tf.keras.losses.SparseCategoricalCrossentropy(from_logits=False),\n",
    "              metrics=['accuracy'])\n",
    "\n",
    "\n",
    "\n",
    "# tensorboard settings to view plots\n",
    "logdir = \"logs/scalars/\" + datetime.now().strftime(\"%Y%m%d-%H%M%S\")\n",
    "tensorboard_callback = keras.callbacks.TensorBoard(log_dir=logdir)\n",
    "\n",
    "# This callback will stop the training when there is no improvement in\n",
    "# the loss for 5 consecutive epochs\n",
    "earlystopping = keras.callbacks.EarlyStopping(monitor='val_loss', mode='min', \n",
    "                                              verbose=1, patience=5)\n",
    "\n",
    "\n",
    "\n",
    "history = model.fit(train_images, train_labels, batch_size=1000, \n",
    "          epochs=100, callbacks=[earlystopping, tensorboard_callback], validation_split=0.2)\n",
    "\n",
    "# train_images = 48k (20% for validation)"
   ]
  },
  {
   "cell_type": "code",
   "execution_count": 32,
   "metadata": {
    "colab": {
     "base_uri": "https://localhost:8080/",
     "height": 279
    },
    "executionInfo": {
     "elapsed": 862,
     "status": "ok",
     "timestamp": 1637258483533,
     "user": {
      "displayName": "Salvatore Aiola",
      "photoUrl": "https://lh3.googleusercontent.com/a/default-user=s64",
      "userId": "13082271597599627032"
     },
     "user_tz": -60
    },
    "id": "zpcKN7wHCLnW",
    "outputId": "f97c79a3-df77-4b6f-9a06-c56c5353aebf"
   },
   "outputs": [
    {
     "data": {
      "image/png": "[encoded data removed]",
      "text/plain": [
       "<Figure size 432x288 with 1 Axes>"
      ]
     },
     "metadata": {
      "needs_background": "light"
     },
     "output_type": "display_data"
    }
   ],
   "source": [
    "plotter = tfdocs.plots.HistoryPlotter(metric = 'loss', smoothing_std=10)\n",
    "\n",
    "plotter.plot({'hist': history})"
   ]
  }
 ],
 "metadata": {
  "colab": {
   "collapsed_sections": [
    "ZTy9he_QklVq",
    "EKKz-D_Ij2ZA",
    "koVNPt8lmWzd",
    "mb5d5XCZruG6",
    "MsmP2X8lt3ZQ",
    "KhAPvd5Hu4ug",
    "jeMpTjIWv70Z",
    "6GFoFSPnzB8N",
    "XVis46hYzW7o",
    "LrmPsPNFoQsS",
    "SkchY1ZTfT0L",
    "R39IIxJ11aDh",
    "MaF2WhV2D3jV",
    "_vr4jtSNE0Gv"
   ],
   "name": "2_2_mlp.ipynb",
   "provenance": [
    {
     "file_id": "1D-91UU6-LShAmawQrNr31ygoCtfhM4Hy",
     "timestamp": 1637232706044
    }
   ],
   "toc_visible": true
  },
  "kernelspec": {
   "display_name": "Python 3 (ipykernel)",
   "language": "python",
   "name": "python3"
  },
  "language_info": {
   "codemirror_mode": {
    "name": "ipython",
    "version": 3
   },
   "file_extension": ".py",
   "mimetype": "text/x-python",
   "name": "python",
   "nbconvert_exporter": "python",
   "pygments_lexer": "ipython3",
   "version": "3.7.12"
  }
 },
 "nbformat": 4,
 "nbformat_minor": 1
}
