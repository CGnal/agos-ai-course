{
  "nbformat": 4,
  "nbformat_minor": 0,
  "metadata": {
    "colab": {
      "name": "2_1_introduction_tensorflow.ipynb",
      "provenance": [],
      "collapsed_sections": [
        "IWqXejIgMsRD",
        "TEFMAKD9g_0i",
        "IlnOEq1BsgRB",
        "wi6tjoZK34pE"
      ],
      "toc_visible": true,
      "include_colab_link": true
    },
    "kernelspec": {
      "name": "python3",
      "display_name": "Python 3"
    },
    "language_info": {
      "name": "python"
    }
  },
  "cells": [
    {
      "cell_type": "markdown",
      "metadata": {
        "id": "view-in-github",
        "colab_type": "text"
      },
      "source": [
        "<a href=\"https://colab.research.google.com/github/CGnal/agos-ai-course/blob/master/2_1_introduction_tensorflow.ipynb\" target=\"_parent\"><img src=\"https://colab.research.google.com/assets/colab-badge.svg\" alt=\"Open In Colab\"/></a>"
      ]
    },
    {
      "cell_type": "code",
      "metadata": {
        "id": "NWIcI31z_uWM",
        "colab": {
          "base_uri": "https://localhost:8080/"
        },
        "outputId": "2d711225-1c76-4688-8ff0-3d4b39e35c24"
      },
      "source": [
        "!pip install tensorflow==2.6.2"
      ],
      "execution_count": null,
      "outputs": [
        {
          "output_type": "stream",
          "name": "stdout",
          "text": [
            "Collecting tensorflow==2.6.2\n",
            "  Downloading tensorflow-2.6.2-cp37-cp37m-manylinux2010_x86_64.whl (458.3 MB)\n",
            "\u001b[K     |████████████████████████████████| 458.3 MB 2.3 kB/s \n",
            "\u001b[?25hRequirement already satisfied: termcolor~=1.1.0 in /usr/local/lib/python3.7/dist-packages (from tensorflow==2.6.2) (1.1.0)\n",
            "Requirement already satisfied: grpcio<2.0,>=1.37.0 in /usr/local/lib/python3.7/dist-packages (from tensorflow==2.6.2) (1.41.1)\n",
            "Collecting tensorflow-estimator<2.7,>=2.6.0\n",
            "  Downloading tensorflow_estimator-2.6.0-py2.py3-none-any.whl (462 kB)\n",
            "\u001b[K     |████████████████████████████████| 462 kB 58.1 MB/s \n",
            "\u001b[?25hCollecting keras<2.7,>=2.6.0\n",
            "  Downloading keras-2.6.0-py2.py3-none-any.whl (1.3 MB)\n",
            "\u001b[K     |████████████████████████████████| 1.3 MB 58.8 MB/s \n",
            "\u001b[?25hRequirement already satisfied: protobuf>=3.9.2 in /usr/local/lib/python3.7/dist-packages (from tensorflow==2.6.2) (3.17.3)\n",
            "Requirement already satisfied: gast==0.4.0 in /usr/local/lib/python3.7/dist-packages (from tensorflow==2.6.2) (0.4.0)\n",
            "Collecting wrapt~=1.12.1\n",
            "  Downloading wrapt-1.12.1.tar.gz (27 kB)\n",
            "Requirement already satisfied: h5py~=3.1.0 in /usr/local/lib/python3.7/dist-packages (from tensorflow==2.6.2) (3.1.0)\n",
            "Requirement already satisfied: astunparse~=1.6.3 in /usr/local/lib/python3.7/dist-packages (from tensorflow==2.6.2) (1.6.3)\n",
            "Requirement already satisfied: opt-einsum~=3.3.0 in /usr/local/lib/python3.7/dist-packages (from tensorflow==2.6.2) (3.3.0)\n",
            "Requirement already satisfied: wheel~=0.35 in /usr/local/lib/python3.7/dist-packages (from tensorflow==2.6.2) (0.37.0)\n",
            "Collecting tensorboard<2.7,>=2.6.0\n",
            "  Downloading tensorboard-2.6.0-py3-none-any.whl (5.6 MB)\n",
            "\u001b[K     |████████████████████████████████| 5.6 MB 54.7 MB/s \n",
            "\u001b[?25hCollecting typing-extensions~=3.7.4\n",
            "  Downloading typing_extensions-3.7.4.3-py3-none-any.whl (22 kB)\n",
            "Requirement already satisfied: numpy~=1.19.2 in /usr/local/lib/python3.7/dist-packages (from tensorflow==2.6.2) (1.19.5)\n",
            "Requirement already satisfied: six~=1.15.0 in /usr/local/lib/python3.7/dist-packages (from tensorflow==2.6.2) (1.15.0)\n",
            "Collecting clang~=5.0\n",
            "  Downloading clang-5.0.tar.gz (30 kB)\n",
            "Requirement already satisfied: absl-py~=0.10 in /usr/local/lib/python3.7/dist-packages (from tensorflow==2.6.2) (0.12.0)\n",
            "Collecting flatbuffers~=1.12.0\n",
            "  Downloading flatbuffers-1.12-py2.py3-none-any.whl (15 kB)\n",
            "Requirement already satisfied: keras-preprocessing~=1.1.2 in /usr/local/lib/python3.7/dist-packages (from tensorflow==2.6.2) (1.1.2)\n",
            "Requirement already satisfied: google-pasta~=0.2 in /usr/local/lib/python3.7/dist-packages (from tensorflow==2.6.2) (0.2.0)\n",
            "Requirement already satisfied: cached-property in /usr/local/lib/python3.7/dist-packages (from h5py~=3.1.0->tensorflow==2.6.2) (1.5.2)\n",
            "Requirement already satisfied: requests<3,>=2.21.0 in /usr/local/lib/python3.7/dist-packages (from tensorboard<2.7,>=2.6.0->tensorflow==2.6.2) (2.23.0)\n",
            "Requirement already satisfied: google-auth<2,>=1.6.3 in /usr/local/lib/python3.7/dist-packages (from tensorboard<2.7,>=2.6.0->tensorflow==2.6.2) (1.35.0)\n",
            "Requirement already satisfied: markdown>=2.6.8 in /usr/local/lib/python3.7/dist-packages (from tensorboard<2.7,>=2.6.0->tensorflow==2.6.2) (3.3.4)\n",
            "Requirement already satisfied: werkzeug>=0.11.15 in /usr/local/lib/python3.7/dist-packages (from tensorboard<2.7,>=2.6.0->tensorflow==2.6.2) (1.0.1)\n",
            "Requirement already satisfied: tensorboard-plugin-wit>=1.6.0 in /usr/local/lib/python3.7/dist-packages (from tensorboard<2.7,>=2.6.0->tensorflow==2.6.2) (1.8.0)\n",
            "Requirement already satisfied: setuptools>=41.0.0 in /usr/local/lib/python3.7/dist-packages (from tensorboard<2.7,>=2.6.0->tensorflow==2.6.2) (57.4.0)\n",
            "Requirement already satisfied: google-auth-oauthlib<0.5,>=0.4.1 in /usr/local/lib/python3.7/dist-packages (from tensorboard<2.7,>=2.6.0->tensorflow==2.6.2) (0.4.6)\n",
            "Requirement already satisfied: tensorboard-data-server<0.7.0,>=0.6.0 in /usr/local/lib/python3.7/dist-packages (from tensorboard<2.7,>=2.6.0->tensorflow==2.6.2) (0.6.1)\n",
            "Requirement already satisfied: cachetools<5.0,>=2.0.0 in /usr/local/lib/python3.7/dist-packages (from google-auth<2,>=1.6.3->tensorboard<2.7,>=2.6.0->tensorflow==2.6.2) (4.2.4)\n",
            "Requirement already satisfied: pyasn1-modules>=0.2.1 in /usr/local/lib/python3.7/dist-packages (from google-auth<2,>=1.6.3->tensorboard<2.7,>=2.6.0->tensorflow==2.6.2) (0.2.8)\n",
            "Requirement already satisfied: rsa<5,>=3.1.4 in /usr/local/lib/python3.7/dist-packages (from google-auth<2,>=1.6.3->tensorboard<2.7,>=2.6.0->tensorflow==2.6.2) (4.7.2)\n",
            "Requirement already satisfied: requests-oauthlib>=0.7.0 in /usr/local/lib/python3.7/dist-packages (from google-auth-oauthlib<0.5,>=0.4.1->tensorboard<2.7,>=2.6.0->tensorflow==2.6.2) (1.3.0)\n",
            "Requirement already satisfied: importlib-metadata in /usr/local/lib/python3.7/dist-packages (from markdown>=2.6.8->tensorboard<2.7,>=2.6.0->tensorflow==2.6.2) (4.8.2)\n",
            "Requirement already satisfied: pyasn1<0.5.0,>=0.4.6 in /usr/local/lib/python3.7/dist-packages (from pyasn1-modules>=0.2.1->google-auth<2,>=1.6.3->tensorboard<2.7,>=2.6.0->tensorflow==2.6.2) (0.4.8)\n",
            "Requirement already satisfied: idna<3,>=2.5 in /usr/local/lib/python3.7/dist-packages (from requests<3,>=2.21.0->tensorboard<2.7,>=2.6.0->tensorflow==2.6.2) (2.10)\n",
            "Requirement already satisfied: chardet<4,>=3.0.2 in /usr/local/lib/python3.7/dist-packages (from requests<3,>=2.21.0->tensorboard<2.7,>=2.6.0->tensorflow==2.6.2) (3.0.4)\n",
            "Requirement already satisfied: urllib3!=1.25.0,!=1.25.1,<1.26,>=1.21.1 in /usr/local/lib/python3.7/dist-packages (from requests<3,>=2.21.0->tensorboard<2.7,>=2.6.0->tensorflow==2.6.2) (1.24.3)\n",
            "Requirement already satisfied: certifi>=2017.4.17 in /usr/local/lib/python3.7/dist-packages (from requests<3,>=2.21.0->tensorboard<2.7,>=2.6.0->tensorflow==2.6.2) (2021.10.8)\n",
            "Requirement already satisfied: oauthlib>=3.0.0 in /usr/local/lib/python3.7/dist-packages (from requests-oauthlib>=0.7.0->google-auth-oauthlib<0.5,>=0.4.1->tensorboard<2.7,>=2.6.0->tensorflow==2.6.2) (3.1.1)\n",
            "Requirement already satisfied: zipp>=0.5 in /usr/local/lib/python3.7/dist-packages (from importlib-metadata->markdown>=2.6.8->tensorboard<2.7,>=2.6.0->tensorflow==2.6.2) (3.6.0)\n",
            "Building wheels for collected packages: clang, wrapt\n",
            "  Building wheel for clang (setup.py) ... \u001b[?25l\u001b[?25hdone\n",
            "  Created wheel for clang: filename=clang-5.0-py3-none-any.whl size=30692 sha256=77345b10fedb58c3fc17f354fd391dede887c8e1da0dffcca351ff3a3f4ca325\n",
            "  Stored in directory: /root/.cache/pip/wheels/98/91/04/971b4c587cf47ae952b108949b46926f426c02832d120a082a\n",
            "  Building wheel for wrapt (setup.py) ... \u001b[?25l\u001b[?25hdone\n",
            "  Created wheel for wrapt: filename=wrapt-1.12.1-cp37-cp37m-linux_x86_64.whl size=68717 sha256=706619a8be7d898c74a5fa06b1f5dfc7239d6feb1d69a6d818428fd0dbed8e5e\n",
            "  Stored in directory: /root/.cache/pip/wheels/62/76/4c/aa25851149f3f6d9785f6c869387ad82b3fd37582fa8147ac6\n",
            "Successfully built clang wrapt\n",
            "Installing collected packages: typing-extensions, wrapt, tensorflow-estimator, tensorboard, keras, flatbuffers, clang, tensorflow\n",
            "  Attempting uninstall: typing-extensions\n",
            "    Found existing installation: typing-extensions 3.10.0.2\n",
            "    Uninstalling typing-extensions-3.10.0.2:\n",
            "      Successfully uninstalled typing-extensions-3.10.0.2\n",
            "  Attempting uninstall: wrapt\n",
            "    Found existing installation: wrapt 1.13.3\n",
            "    Uninstalling wrapt-1.13.3:\n",
            "      Successfully uninstalled wrapt-1.13.3\n",
            "  Attempting uninstall: tensorflow-estimator\n",
            "    Found existing installation: tensorflow-estimator 2.7.0\n",
            "    Uninstalling tensorflow-estimator-2.7.0:\n",
            "      Successfully uninstalled tensorflow-estimator-2.7.0\n",
            "  Attempting uninstall: tensorboard\n",
            "    Found existing installation: tensorboard 2.7.0\n",
            "    Uninstalling tensorboard-2.7.0:\n",
            "      Successfully uninstalled tensorboard-2.7.0\n",
            "  Attempting uninstall: keras\n",
            "    Found existing installation: keras 2.7.0\n",
            "    Uninstalling keras-2.7.0:\n",
            "      Successfully uninstalled keras-2.7.0\n",
            "  Attempting uninstall: flatbuffers\n",
            "    Found existing installation: flatbuffers 2.0\n",
            "    Uninstalling flatbuffers-2.0:\n",
            "      Successfully uninstalled flatbuffers-2.0\n",
            "  Attempting uninstall: tensorflow\n",
            "    Found existing installation: tensorflow 2.7.0\n",
            "    Uninstalling tensorflow-2.7.0:\n",
            "      Successfully uninstalled tensorflow-2.7.0\n",
            "Successfully installed clang-5.0 flatbuffers-1.12 keras-2.6.0 tensorboard-2.6.0 tensorflow-2.6.2 tensorflow-estimator-2.6.0 typing-extensions-3.7.4.3 wrapt-1.12.1\n"
          ]
        }
      ]
    },
    {
      "cell_type": "code",
      "metadata": {
        "id": "tM3ryjulLVPy"
      },
      "source": [
        "import tensorflow as tf\n",
        "from tensorflow import keras\n",
        "from tensorflow.keras import layers\n",
        "\n",
        "from keras.utils.vis_utils import plot_model\n",
        "import matplotlib.pyplot as plt\n",
        "from datetime import datetime\n",
        "import numpy as np \n",
        "import pandas as pd "
      ],
      "execution_count": null,
      "outputs": []
    },
    {
      "cell_type": "code",
      "metadata": {
        "colab": {
          "base_uri": "https://localhost:8080/",
          "height": 35
        },
        "id": "pYn3ZfHILadu",
        "outputId": "d7d815af-479c-4f55-d4a9-b4bd7cb931e7"
      },
      "source": [
        "tf.__version__"
      ],
      "execution_count": null,
      "outputs": [
        {
          "output_type": "execute_result",
          "data": {
            "application/vnd.google.colaboratory.intrinsic+json": {
              "type": "string"
            },
            "text/plain": [
              "'2.6.2'"
            ]
          },
          "metadata": {},
          "execution_count": 3
        }
      ]
    },
    {
      "cell_type": "markdown",
      "metadata": {
        "id": "IWqXejIgMsRD"
      },
      "source": [
        "# Tensors\n",
        "\n",
        "A static numerical representation\n",
        "\n",
        "\n",
        "1. Tensors are multi-dimensional arrays with a uniform type (called a dtype). You can see all supported dtypes at tf.dtypes.Dtype\n",
        "2. Kind of like numpy.arrays()\n",
        "3. All tensors are immutable like Python numbers and strings: you can never update the contents of a tensor, only create a new one.\n",
        "4. Can be a **scalar, vector, 2 dimensional matrix or even an n-dimensional matrix**\n",
        "5. Can be **floats of different kinds, Boolean, ints of all sorts, complex numbers, strings**\n",
        "\n",
        "\n",
        "\n"
      ]
    },
    {
      "cell_type": "markdown",
      "metadata": {
        "id": "3vVHiGifbLLU"
      },
      "source": [
        "![picture](https://drive.google.com/uc?id=1eJlVeRhnNXWhB3kqXG4MWUK2GwE8BNPB)\n",
        "![picture](https://drive.google.com/uc?id=1Pydas_Zw4Ddgbfz9GRan7TVpFyN1wpsh)\n",
        "![picture](https://drive.google.com/uc?id=1NfllkuHE1jZXQEJr9R0SfTmxelN_hEqa)\n",
        "![picture](https://drive.google.com/uc?id=1jW8srKRlMR5RDmz-iSzPKveF5nRMsL9R)\n",
        "![picture](https://drive.google.com/uc?id=1ZIl-UAHgO7UYKOMPeu2ivRVCFqu5e_fa)\n",
        "\n"
      ]
    },
    {
      "cell_type": "code",
      "metadata": {
        "colab": {
          "base_uri": "https://localhost:8080/"
        },
        "id": "RmkWU61COKFO",
        "collapsed": true,
        "cellView": "form",
        "outputId": "207e489e-6cda-413a-8190-c832a0d0349f"
      },
      "source": [
        "#@title\n",
        "%%html\n",
        "<iframe src=\"https://drive.google.com/file/d/1eJlVeRhnNXWhB3kqXG4MWUK2GwE8BNPB/preview\" width=\"200\" height=\"200\" allow=\"autoplay\"></iframe>\n",
        "<iframe src=\"https://drive.google.com/file/d/1Pydas_Zw4Ddgbfz9GRan7TVpFyN1wpsh/preview\" width=\"200\" height=\"200\" allow=\"autoplay\"></iframe>\n",
        "<iframe src=\"https://drive.google.com/file/d/1NfllkuHE1jZXQEJr9R0SfTmxelN_hEqa/preview\" width=\"200\" height=\"200\" allow=\"autoplay\"></iframe>\n",
        "<iframe src=\"https://drive.google.com/file/d/1jW8srKRlMR5RDmz-iSzPKveF5nRMsL9R/preview\" width=\"200\" height=\"200\" allow=\"autoplay\"></iframe>\n",
        "<iframe src=\"https://drive.google.com/file/d/1ZIl-UAHgO7UYKOMPeu2ivRVCFqu5e_fa/preview\" width=\"200\" height=\"200\" allow=\"autoplay\"></iframe>\n"
      ],
      "execution_count": null,
      "outputs": [
        {
          "output_type": "display_data",
          "data": {
            "text/html": [
              "<iframe src=\"https://drive.google.com/file/d/1eJlVeRhnNXWhB3kqXG4MWUK2GwE8BNPB/preview\" width=\"200\" height=\"200\" allow=\"autoplay\"></iframe>\n",
              "<iframe src=\"https://drive.google.com/file/d/1Pydas_Zw4Ddgbfz9GRan7TVpFyN1wpsh/preview\" width=\"200\" height=\"200\" allow=\"autoplay\"></iframe>\n",
              "<iframe src=\"https://drive.google.com/file/d/1NfllkuHE1jZXQEJr9R0SfTmxelN_hEqa/preview\" width=\"200\" height=\"200\" allow=\"autoplay\"></iframe>\n",
              "<iframe src=\"https://drive.google.com/file/d/1jW8srKRlMR5RDmz-iSzPKveF5nRMsL9R/preview\" width=\"200\" height=\"200\" allow=\"autoplay\"></iframe>\n",
              "<iframe src=\"https://drive.google.com/file/d/1ZIl-UAHgO7UYKOMPeu2ivRVCFqu5e_fa/preview\" width=\"200\" height=\"200\" allow=\"autoplay\"></iframe>"
            ],
            "text/plain": [
              "<IPython.core.display.HTML object>"
            ]
          },
          "metadata": {}
        }
      ]
    },
    {
      "cell_type": "code",
      "metadata": {
        "colab": {
          "base_uri": "https://localhost:8080/"
        },
        "id": "Xz38K1MzaNzB",
        "outputId": "01550d0a-c1fc-4f77-861c-f27a98b4923e"
      },
      "source": [
        "# This will be an int32 tensor by default; see \"dtypes\" below.\n",
        "rank_0_tensor = tf.constant(4)\n",
        "print(rank_0_tensor)\n",
        "\n",
        "\n",
        "# Let's make this a float tensor.\n",
        "rank_1_tensor = tf.constant([2.0, 3.0, 4.0])\n",
        "print(rank_1_tensor)\n",
        "\n",
        "\n",
        "# If you want to be specific, you can set the dtype (see below) at creation time\n",
        "rank_2_tensor = tf.constant([[1, 2],\n",
        "                             [3, 4],\n",
        "                             [5, 6]], dtype=tf.float16)\n",
        "print(rank_2_tensor)\n"
      ],
      "execution_count": null,
      "outputs": [
        {
          "output_type": "stream",
          "name": "stdout",
          "text": [
            "tf.Tensor(4, shape=(), dtype=int32)\n",
            "tf.Tensor([2. 3. 4.], shape=(3,), dtype=float32)\n",
            "tf.Tensor(\n",
            "[[1. 2.]\n",
            " [3. 4.]\n",
            " [5. 6.]], shape=(3, 2), dtype=float16)\n"
          ]
        }
      ]
    },
    {
      "cell_type": "code",
      "metadata": {
        "colab": {
          "base_uri": "https://localhost:8080/"
        },
        "id": "scRYDq8Wa7pm",
        "outputId": "2abb8225-1d95-4310-c40b-fbabcfb9c6f3"
      },
      "source": [
        "# There can be an arbitrary number of\n",
        "# axes (sometimes called \"dimensions\")\n",
        "rank_3_tensor = tf.constant([\n",
        "  [[0, 1, 2, 3, 4],\n",
        "   [5, 6, 7, 8, 9]],\n",
        "  [[10, 11, 12, 13, 14],\n",
        "   [15, 16, 17, 18, 19]],\n",
        "  [[20, 21, 22, 23, 24],\n",
        "   [25, 26, 27, 28, 29]],])\n",
        "\n",
        "print(rank_3_tensor)"
      ],
      "execution_count": null,
      "outputs": [
        {
          "output_type": "stream",
          "name": "stdout",
          "text": [
            "tf.Tensor(\n",
            "[[[ 0  1  2  3  4]\n",
            "  [ 5  6  7  8  9]]\n",
            "\n",
            " [[10 11 12 13 14]\n",
            "  [15 16 17 18 19]]\n",
            "\n",
            " [[20 21 22 23 24]\n",
            "  [25 26 27 28 29]]], shape=(3, 2, 5), dtype=int32)\n"
          ]
        }
      ]
    },
    {
      "cell_type": "code",
      "metadata": {
        "colab": {
          "base_uri": "https://localhost:8080/"
        },
        "id": "6cDIfDzhbJL2",
        "outputId": "ed5892d5-efde-4fa5-9bc3-33b77357ae43"
      },
      "source": [
        "# we can easily use numpy operations on tensorflow tensors\n",
        "np.array(rank_2_tensor)\n"
      ],
      "execution_count": null,
      "outputs": [
        {
          "output_type": "execute_result",
          "data": {
            "text/plain": [
              "array([[1., 2.],\n",
              "       [3., 4.],\n",
              "       [5., 6.]], dtype=float16)"
            ]
          },
          "metadata": {},
          "execution_count": 7
        }
      ]
    },
    {
      "cell_type": "markdown",
      "metadata": {
        "id": "NDl_ubHUc0qQ"
      },
      "source": [
        "## Tensor can be complex numbers too"
      ]
    },
    {
      "cell_type": "code",
      "metadata": {
        "colab": {
          "base_uri": "https://localhost:8080/"
        },
        "id": "rfgrihe8b2R2",
        "outputId": "94bfe532-1f17-4536-98e8-dbd9512c85e3"
      },
      "source": [
        "complex_vec = tf.complex(real=1., imag=1.)\n",
        "print(complex_vec)\n",
        "tf.abs(complex_vec).numpy() # sqrt(1**2 + 1**2)\n"
      ],
      "execution_count": null,
      "outputs": [
        {
          "output_type": "stream",
          "name": "stdout",
          "text": [
            "tf.Tensor((1+1j), shape=(), dtype=complex64)\n"
          ]
        },
        {
          "output_type": "execute_result",
          "data": {
            "text/plain": [
              "1.4142135"
            ]
          },
          "metadata": {},
          "execution_count": 8
        }
      ]
    },
    {
      "cell_type": "markdown",
      "metadata": {
        "id": "4W0NzjXfdTRe"
      },
      "source": [
        "## Basic Math Operations"
      ]
    },
    {
      "cell_type": "code",
      "metadata": {
        "colab": {
          "base_uri": "https://localhost:8080/"
        },
        "id": "bwv7sE1pddCw",
        "outputId": "15a1302f-422c-43c2-96c0-a5410558ba33"
      },
      "source": [
        "a = tf.constant([[1, 2],\n",
        "                 [3, 4]])\n",
        "b = tf.constant([[1, 1],\n",
        "                 [1, 1]]) # Could have also said `tf.ones([2,2])`\n",
        "\n",
        "print(tf.add(a, b), \"\\n\")\n",
        "print(tf.multiply(a, b), \"\\n\")\n",
        "print(tf.matmul(a, b), \"\\n\")\n",
        "\n",
        "\n",
        "\n",
        "print(a + b, \"\\n\") # element-wise addition\n",
        "print(a * b, \"\\n\") # element-wise multiplication\n",
        "print(a @ b, \"\\n\") # matrix multiplication"
      ],
      "execution_count": null,
      "outputs": [
        {
          "output_type": "stream",
          "name": "stdout",
          "text": [
            "tf.Tensor(\n",
            "[[2 3]\n",
            " [4 5]], shape=(2, 2), dtype=int32) \n",
            "\n",
            "tf.Tensor(\n",
            "[[1 2]\n",
            " [3 4]], shape=(2, 2), dtype=int32) \n",
            "\n",
            "tf.Tensor(\n",
            "[[3 3]\n",
            " [7 7]], shape=(2, 2), dtype=int32) \n",
            "\n",
            "tf.Tensor(\n",
            "[[2 3]\n",
            " [4 5]], shape=(2, 2), dtype=int32) \n",
            "\n",
            "tf.Tensor(\n",
            "[[1 2]\n",
            " [3 4]], shape=(2, 2), dtype=int32) \n",
            "\n",
            "tf.Tensor(\n",
            "[[3 3]\n",
            " [7 7]], shape=(2, 2), dtype=int32) \n",
            "\n"
          ]
        }
      ]
    },
    {
      "cell_type": "code",
      "metadata": {
        "colab": {
          "base_uri": "https://localhost:8080/"
        },
        "id": "VM0ebV2wdsi8",
        "outputId": "4c9d5c6f-9ffd-4c3b-c132-5fbb763643cc"
      },
      "source": [
        "c = tf.constant([[4.0, 5.0], [10.0, 1.0]])\n",
        "\n",
        "# Find the largest value\n",
        "print(tf.reduce_max(c))\n",
        "# Find the index of the largest value\n",
        "print(tf.argmax(c))\n",
        "# Compute the softmax\n",
        "print(tf.nn.softmax(c))"
      ],
      "execution_count": null,
      "outputs": [
        {
          "output_type": "stream",
          "name": "stdout",
          "text": [
            "tf.Tensor(10.0, shape=(), dtype=float32)\n",
            "tf.Tensor([1 0], shape=(2,), dtype=int64)\n",
            "tf.Tensor(\n",
            "[[2.6894143e-01 7.3105860e-01]\n",
            " [9.9987662e-01 1.2339458e-04]], shape=(2, 2), dtype=float32)\n"
          ]
        }
      ]
    },
    {
      "cell_type": "markdown",
      "metadata": {
        "id": "_GLoLOGhfDTf"
      },
      "source": [
        "## Tensor attributes\n",
        "\n",
        "1. **Shape**: The length (number of elements) of each of the axes of a tensor.\n",
        "2. **Rank**: Number of tensor axes. A scalar has rank 0, a vector has rank 1, a matrix is rank 2.\n",
        "3. **Axis or Dimension**: A particular dimension of a tensor.\n",
        "4. **Size**: The total number of items in the tensor, the product shape vector.\n",
        "\n",
        "More info :https://www.tensorflow.org/guide/tensor"
      ]
    },
    {
      "cell_type": "markdown",
      "metadata": {
        "id": "T7Rq9EY-dTQG"
      },
      "source": [
        "![picture](https://drive.google.com/uc?id=1P389nGYZEPewQiECMdOk-huxxv99zMrw)\n",
        "![picture](https://drive.google.com/uc?id=1ZMxJKjIK8CmdiHgQZbG27h-M3GSmAkDe)\n",
        "![picture](https://drive.google.com/uc?id=1lXchHqo2HFSUy08EhC50PXB-FLqqvNim)\n"
      ]
    },
    {
      "cell_type": "code",
      "metadata": {
        "colab": {
          "base_uri": "https://localhost:8080/"
        },
        "id": "E2oqeZDQge7O",
        "cellView": "form",
        "collapsed": true,
        "outputId": "b34bda06-b478-4bb5-aa0e-06bd00dfbac2"
      },
      "source": [
        "#@title\n",
        "%%html \n",
        "<iframe src=\"https://drive.google.com/file/d/1P389nGYZEPewQiECMdOk-huxxv99zMrw/preview\" width=\"300\" height=\"300\" allow=\"autoplay\"></iframe>\n",
        "<iframe src=\"https://drive.google.com/file/d/1ZMxJKjIK8CmdiHgQZbG27h-M3GSmAkDe/preview\" width=\"300\" height=\"300\" allow=\"autoplay\"></iframe>\n",
        "<iframe src=\"https://drive.google.com/file/d/1lXchHqo2HFSUy08EhC50PXB-FLqqvNim/preview\" width=\"300\" height=\"300\" allow=\"autoplay\"></iframe>"
      ],
      "execution_count": null,
      "outputs": [
        {
          "output_type": "display_data",
          "data": {
            "text/html": [
              "<iframe src=\"https://drive.google.com/file/d/1P389nGYZEPewQiECMdOk-huxxv99zMrw/preview\" width=\"300\" height=\"300\" allow=\"autoplay\"></iframe>\n",
              "<iframe src=\"https://drive.google.com/file/d/1ZMxJKjIK8CmdiHgQZbG27h-M3GSmAkDe/preview\" width=\"300\" height=\"300\" allow=\"autoplay\"></iframe>\n",
              "<iframe src=\"https://drive.google.com/file/d/1lXchHqo2HFSUy08EhC50PXB-FLqqvNim/preview\" width=\"300\" height=\"300\" allow=\"autoplay\"></iframe>"
            ],
            "text/plain": [
              "<IPython.core.display.HTML object>"
            ]
          },
          "metadata": {}
        }
      ]
    },
    {
      "cell_type": "code",
      "metadata": {
        "colab": {
          "base_uri": "https://localhost:8080/"
        },
        "id": "yblkai3_fj7s",
        "outputId": "d2dbeb69-6f9f-41d5-e6ac-dfc6afc163e9"
      },
      "source": [
        "rank_4_tensor = tf.zeros([3, 2, 4, 5])\n",
        "\n",
        "print(\"Type of every element:\", rank_4_tensor.dtype)\n",
        "print(\"Number of axes:\", rank_4_tensor.ndim)\n",
        "print(\"Shape of tensor:\", rank_4_tensor.shape)\n",
        "print(\"Elements along axis 0 of tensor:\", rank_4_tensor.shape[0])\n",
        "print(\"Elements along the last axis of tensor:\", rank_4_tensor.shape[-1])\n",
        "print(\"Total number of elements (3*2*4*5): \", tf.size(rank_4_tensor).numpy())\n",
        "print(\"Rank of tensor: \", tf.rank(rank_4_tensor).numpy())"
      ],
      "execution_count": null,
      "outputs": [
        {
          "output_type": "stream",
          "name": "stdout",
          "text": [
            "Type of every element: <dtype: 'float32'>\n",
            "Number of axes: 4\n",
            "Shape of tensor: (3, 2, 4, 5)\n",
            "Elements along axis 0 of tensor: 3\n",
            "Elements along the last axis of tensor: 5\n",
            "Total number of elements (3*2*4*5):  120\n",
            "Rank of tensor:  4\n"
          ]
        }
      ]
    },
    {
      "cell_type": "markdown",
      "metadata": {
        "id": "TEFMAKD9g_0i"
      },
      "source": [
        "# Variables\n",
        "\n",
        "Where you store your changes\n",
        "\n",
        "1. Variables are created and tracked via the tf.Variable class. \n",
        "2. A tf.Variable represents a tensor whose value can be changed by running ops on it. \n",
        "3. Specific ops allow you to read and modify the values of this tensor. Higher level libraries like tf.keras use tf.Variable to store model parameters."
      ]
    },
    {
      "cell_type": "code",
      "metadata": {
        "id": "mt1liGZMmuye"
      },
      "source": [
        "my_tensor = tf.constant([[1.0, 2.0], [3.0, 4.0]])\n",
        "my_variable = tf.Variable(my_tensor)\n",
        "\n",
        "# Variables can be all kinds of types, just like tensors\n",
        "bool_variable = tf.Variable([False, False, False, True])\n",
        "complex_variable = tf.Variable([5 + 4j, 6 + 1j])"
      ],
      "execution_count": null,
      "outputs": []
    },
    {
      "cell_type": "code",
      "metadata": {
        "colab": {
          "base_uri": "https://localhost:8080/"
        },
        "id": "Pxc6t410ry2R",
        "outputId": "42774b33-6dbe-44ee-f84a-1346656f8a10"
      },
      "source": [
        "# variable uses a tensor behind\n",
        "print(\"Shape: \", my_variable.shape)\n",
        "print(\"DType: \", my_variable.dtype)\n",
        "print(\"As NumPy: \", my_variable.numpy())"
      ],
      "execution_count": null,
      "outputs": [
        {
          "output_type": "stream",
          "name": "stdout",
          "text": [
            "Shape:  (2, 2)\n",
            "DType:  <dtype: 'float32'>\n",
            "As NumPy:  [[1. 2.]\n",
            " [3. 4.]]\n"
          ]
        }
      ]
    },
    {
      "cell_type": "markdown",
      "metadata": {
        "id": "IlnOEq1BsgRB"
      },
      "source": [
        "## Updating a Variable\n",
        "\n",
        "1. Variables are backed by tensors. \n",
        "2. You can reassign the tensor using tf.Variable.assign. \n",
        "3. Calling assign does not (usually) allocate a new tensor; instead, the existing tensor's memory is reused.\n",
        "4. cant reshape an existing tensor"
      ]
    },
    {
      "cell_type": "code",
      "metadata": {
        "colab": {
          "base_uri": "https://localhost:8080/"
        },
        "id": "4PMAUPS2stkE",
        "outputId": "dad74a7a-a478-4662-b358-d40fc5eea976"
      },
      "source": [
        "# This creates a new tensor; it does not reshape the variable.\n",
        "print(\"\\nCopying and reshaping: \", tf.reshape(my_variable, [1,4]))\n",
        "\n",
        "\n",
        "\n",
        "a = tf.Variable([2.0, 3.0])\n",
        "print(a)\n",
        "# This will keep the same dtype, float32\n",
        "a.assign([1, 2]) \n",
        "print(a)\n",
        "\n",
        "# Not allowed as it resizes the variable: \n",
        "try:\n",
        "  a.assign([1.0, 2.0, 3.0])\n",
        "except Exception as e:\n",
        "  print(f\"{type(e).__name__}: {e}\")"
      ],
      "execution_count": null,
      "outputs": [
        {
          "output_type": "stream",
          "name": "stdout",
          "text": [
            "\n",
            "Copying and reshaping:  tf.Tensor([[1. 2. 3. 4.]], shape=(1, 4), dtype=float32)\n",
            "<tf.Variable 'Variable:0' shape=(2,) dtype=float32, numpy=array([2., 3.], dtype=float32)>\n",
            "<tf.Variable 'Variable:0' shape=(2,) dtype=float32, numpy=array([1., 2.], dtype=float32)>\n",
            "ValueError: Cannot assign to variable Variable:0 due to variable shape (2,) and value shape (3,) are incompatible\n"
          ]
        }
      ]
    },
    {
      "cell_type": "code",
      "metadata": {
        "colab": {
          "base_uri": "https://localhost:8080/"
        },
        "id": "S5MBrk52tYFa",
        "outputId": "229f8edf-8e5c-4fed-c3b9-8510f90425d6"
      },
      "source": [
        "# Creating new variables from existing variables duplicates the backing tensors.\n",
        "# Two variables will not share the same memory.\n",
        "\n",
        "\n",
        "a = tf.Variable([2.0, 3.0])\n",
        "# Create b based on the value of a\n",
        "b = tf.Variable(a)\n",
        "a.assign([5, 6])\n",
        "\n",
        "# a and b are different\n",
        "print(a.numpy())\n",
        "print(b.numpy())\n",
        "\n",
        "# There are other versions of assign\n",
        "print(a.assign_add([2,3]).numpy())  # [7. 9.]\n",
        "print(a.assign_sub([7,9]).numpy())  # [0. 0.]\n",
        "\n",
        "\n",
        "#variables can be renamed too just pass the name parameter\n",
        "tf.Variable([2.0, 3.0], name='myvar')"
      ],
      "execution_count": null,
      "outputs": [
        {
          "output_type": "stream",
          "name": "stdout",
          "text": [
            "[5. 6.]\n",
            "[2. 3.]\n",
            "[7. 9.]\n",
            "[0. 0.]\n"
          ]
        },
        {
          "output_type": "execute_result",
          "data": {
            "text/plain": [
              "<tf.Variable 'myvar:0' shape=(2,) dtype=float32, numpy=array([2., 3.], dtype=float32)>"
            ]
          },
          "metadata": {},
          "execution_count": 16
        }
      ]
    },
    {
      "cell_type": "markdown",
      "metadata": {
        "id": "A8MXfLJ7ulAx"
      },
      "source": [
        "## Placing variables and tensors\n",
        "\n",
        "1. Directly place tensors and variables on a given device\n",
        "2. Ofcourse gpu is faster than cpu if available\n",
        "\n"
      ]
    },
    {
      "cell_type": "code",
      "metadata": {
        "colab": {
          "base_uri": "https://localhost:8080/"
        },
        "id": "LVYGgPu5u9iB",
        "outputId": "12ce442b-f88c-43ec-fb05-78badabec5f1"
      },
      "source": [
        "tf.debugging.set_log_device_placement(True)\n",
        "\n",
        "with tf.device('CPU:0'):\n",
        "\n",
        "  # Create some tensors\n",
        "  a = tf.Variable([[1.0, 2.0, 3.0], [4.0, 5.0, 6.0]])\n",
        "  b = tf.constant([[1.0, 2.0], [3.0, 4.0], [5.0, 6.0]])\n",
        "  c = tf.matmul(a, b)\n",
        "print(c)"
      ],
      "execution_count": null,
      "outputs": [
        {
          "output_type": "stream",
          "name": "stdout",
          "text": [
            "tf.Tensor(\n",
            "[[22. 28.]\n",
            " [49. 64.]], shape=(2, 2), dtype=float32)\n"
          ]
        }
      ]
    },
    {
      "cell_type": "code",
      "metadata": {
        "colab": {
          "base_uri": "https://localhost:8080/"
        },
        "id": "wWZ8X3oLvK-G",
        "outputId": "852be905-5da2-4094-b311-235186a80461"
      },
      "source": [
        "# runtime needs to be changed to GPU to place vars on gpu\n",
        "tf.debugging.set_log_device_placement(True)\n",
        "with tf.device('GPU:0'):\n",
        "\n",
        "  # Create some tensors\n",
        "  a = tf.Variable([[1.0, 2.0, 3.0], [4.0, 5.0, 6.0]])\n",
        "  b = tf.constant([[1.0, 2.0], [3.0, 4.0], [5.0, 6.0]])\n",
        "  c = tf.matmul(a, b)\n",
        "\n",
        "print(c)"
      ],
      "execution_count": null,
      "outputs": [
        {
          "output_type": "stream",
          "name": "stdout",
          "text": [
            "tf.Tensor(\n",
            "[[22. 28.]\n",
            " [49. 64.]], shape=(2, 2), dtype=float32)\n"
          ]
        }
      ]
    },
    {
      "cell_type": "markdown",
      "metadata": {
        "id": "SmbDmkT8v_P_"
      },
      "source": [
        "# Automatic Differentiation\n",
        "Calculus it is !\n",
        "\n",
        "1. To do any kind of machine learning we need gradients\n",
        "2. Gradients are very important especially in neural networks. \n",
        "3. We need gradients to do things like gradient descent\n",
        "\n",
        "\n"
      ]
    },
    {
      "cell_type": "markdown",
      "metadata": {
        "id": "ExJHuqbBzRHM"
      },
      "source": [
        "## Computing gradients in tensorflow : Gradient Tape\n",
        "\n",
        "1. We want Tensorflow to calculate gradients for us automatically. \n",
        "2. Tensorflow does it in a smart way by building a computational graph and recording the list of operations and variables. \n",
        "\n",
        "3. **Forward mode** : TensorFlow needs to remember what operations happen in what order during the forward pass. \n",
        "\n",
        "4. **Reverse mode** : Then, during the backward pass, TensorFlow traverses this list of operations in reverse order to compute gradients.\n",
        "\n",
        "![picture](https://drive.google.com/uc?id=1732JqqKcWbfSWw7Bd9zHXX_NffrPflN7)\n",
        "![picture](https://drive.google.com/uc?id=1Sk7swUKnXPJscdCoO23Mh_tpmMLK4oOn)\n"
      ]
    },
    {
      "cell_type": "code",
      "metadata": {
        "colab": {
          "base_uri": "https://localhost:8080/",
          "height": 225
        },
        "id": "umzYnAya2MzS",
        "cellView": "form",
        "collapsed": true,
        "outputId": "3202234f-9de4-4b2a-ba5a-c76bb1b3decb"
      },
      "source": [
        "#@title\n",
        "%%html\n",
        "<iframe src=\"https://drive.google.com/file/d/1732JqqKcWbfSWw7Bd9zHXX_NffrPflN7/preview\" width=\"650\" height=\"200\" allow=\"autoplay\"></iframe>\n",
        "\n",
        "<iframe src=\"https://drive.google.com/file/d/1Sk7swUKnXPJscdCoO23Mh_tpmMLK4oOn/preview\" width=\"650\" height=\"200\" allow=\"autoplay\"></iframe>"
      ],
      "execution_count": null,
      "outputs": [
        {
          "output_type": "display_data",
          "data": {
            "text/html": [
              "<iframe src=\"https://drive.google.com/file/d/1732JqqKcWbfSWw7Bd9zHXX_NffrPflN7/preview\" width=\"650\" height=\"200\" allow=\"autoplay\"></iframe>\n",
              "\n",
              "<iframe src=\"https://drive.google.com/file/d/1Sk7swUKnXPJscdCoO23Mh_tpmMLK4oOn/preview\" width=\"650\" height=\"200\" allow=\"autoplay\"></iframe>"
            ],
            "text/plain": [
              "<IPython.core.display.HTML object>"
            ]
          },
          "metadata": {}
        }
      ]
    },
    {
      "cell_type": "code",
      "metadata": {
        "colab": {
          "base_uri": "https://localhost:8080/"
        },
        "id": "E89m19Yi2z7b",
        "outputId": "fe47f8a6-6d18-48eb-b082-f37e07a09827"
      },
      "source": [
        "x = tf.Variable(3.0)\n",
        "\n",
        "# use a tape object to record all the operations on the given tensor\n",
        "with tf.GradientTape() as tape:\n",
        "  y = x**2\n",
        "\n",
        "\n",
        "# dy = 2x * dx\n",
        "dy_dx = tape.gradient(y, x)\n",
        "dy_dx.numpy()\n",
        "\n"
      ],
      "execution_count": null,
      "outputs": [
        {
          "output_type": "execute_result",
          "data": {
            "text/plain": [
              "6.0"
            ]
          },
          "metadata": {},
          "execution_count": 20
        }
      ]
    },
    {
      "cell_type": "markdown",
      "metadata": {
        "id": "Kf29Z14q3pML"
      },
      "source": [
        "## Some calculus operations using Gradient Tape\n",
        "\n",
        "x = \\{x1, x2, x3, x4}\n",
        "\n",
        "y = Σx\n",
        "\n",
        "z = y**2"
      ]
    },
    {
      "cell_type": "code",
      "metadata": {
        "colab": {
          "base_uri": "https://localhost:8080/"
        },
        "id": "LLevckwL3QLq",
        "outputId": "b67708ca-64de-4745-88be-10557c85ba2f"
      },
      "source": [
        "x = tf.ones((2, 2))\n",
        "  \n",
        "\n",
        "# use a tape object to record all the operations on the given tensor\n",
        "with tf.GradientTape() as t:\n",
        "  t.watch(x) #ensures that the tensor is being traced\n",
        "  y = tf.reduce_sum(x) #operation simply sum of elements of the tensor along an axis and outputs a scalar\n",
        "  z = tf.multiply(y, y) #another tensor operation\n",
        "  print(z)\n",
        "\n",
        "\n",
        "# Derivative of z with respect to the original input tensor x\n",
        "dz_dx = t.gradient(z, x)\n",
        "\n",
        "# Since the input tensor is of shape 2,2 we expect the gradient to have 4 components i.e. 4 partial derivative components\n",
        "print(dz_dx)\n",
        "for i in [0, 1]:\n",
        "  for j in [0, 1]:\n",
        "    assert dz_dx[i][j].numpy() == 8.0"
      ],
      "execution_count": null,
      "outputs": [
        {
          "output_type": "stream",
          "name": "stdout",
          "text": [
            "tf.Tensor(16.0, shape=(), dtype=float32)\n",
            "tf.Tensor(\n",
            "[[8. 8.]\n",
            " [8. 8.]], shape=(2, 2), dtype=float32)\n"
          ]
        }
      ]
    },
    {
      "cell_type": "markdown",
      "metadata": {
        "id": "wi6tjoZK34pE"
      },
      "source": [
        "## Get gradient of output with respect to intermediate values \n",
        "### **dz/dx** = **dz/dy**  **dy/dx** \n",
        "\n",
        "Remark : \n",
        "The tape object is destroyed once **tape.gradient** method is called. Use persistent=True to do further operations on the same tape object"
      ]
    },
    {
      "cell_type": "code",
      "metadata": {
        "colab": {
          "base_uri": "https://localhost:8080/"
        },
        "id": "lYTprCbM4IyT",
        "outputId": "6b06fdf1-99bb-4967-a984-96b4d67efb22"
      },
      "source": [
        "x = tf.constant(3.)\n",
        "  \n",
        "\n",
        "# persistent=True allows multiple operations on the same tape \n",
        "\n",
        "with tf.GradientTape(persistent=True) as t:\n",
        "  t.watch(x) \n",
        "  y = x*x # y=x**2\n",
        "  z = y*y # z=y*y=x**4\n",
        "\n",
        "\n",
        "dz_dy = t.gradient(z, y)\n",
        "print(\"2y:\", dz_dy)\n",
        "\n",
        "dy_dx = t.gradient(y, x)\n",
        "print(\"2x:\", dy_dx)\n",
        "\n",
        "dz_dx = t.gradient(z, x)\n",
        "print(\"4x**3:\", dz_dx)\n",
        "\n",
        "assert dz_dx.numpy()==dy_dx.numpy()*dz_dy.numpy()\n"
      ],
      "execution_count": null,
      "outputs": [
        {
          "output_type": "stream",
          "name": "stdout",
          "text": [
            "2y: tf.Tensor(18.0, shape=(), dtype=float32)\n",
            "2x: tf.Tensor(6.0, shape=(), dtype=float32)\n",
            "4x**3: tf.Tensor(108.0, shape=(), dtype=float32)\n"
          ]
        }
      ]
    },
    {
      "cell_type": "markdown",
      "metadata": {
        "id": "_MUU_O64R_it"
      },
      "source": [
        "## Gradients with respect to a model\n",
        "\n",
        "Easy to calculate gradients with respect to a layer or a model's trainable variables "
      ]
    },
    {
      "cell_type": "code",
      "metadata": {
        "id": "7Ghxrr9oSFD4"
      },
      "source": [
        "layer = tf.keras.layers.Dense(2, activation='relu')\n",
        "x = tf.constant([[1., 2., 3.]])\n",
        "\n",
        "with tf.GradientTape() as tape:\n",
        "  # Forward pass\n",
        "  y = layer(x)\n",
        "  loss = tf.reduce_mean(y**2)\n",
        "\n",
        "# Calculate gradients with respect to every trainable variable\n",
        "grad = tape.gradient(loss, layer.trainable_variables)"
      ],
      "execution_count": null,
      "outputs": []
    },
    {
      "cell_type": "code",
      "metadata": {
        "colab": {
          "base_uri": "https://localhost:8080/"
        },
        "id": "QFgAgNSzSRBz",
        "outputId": "b1d453c9-6948-4be1-a91a-b8e3adf5e9d6"
      },
      "source": [
        "layer.trainable_variables"
      ],
      "execution_count": null,
      "outputs": [
        {
          "output_type": "execute_result",
          "data": {
            "text/plain": [
              "[<tf.Variable 'dense/kernel:0' shape=(3, 2) dtype=float32, numpy=\n",
              " array([[ 0.6094804 ,  0.48982775],\n",
              "        [-0.9519953 , -1.0793213 ],\n",
              "        [ 0.81474316,  0.1840086 ]], dtype=float32)>,\n",
              " <tf.Variable 'dense/bias:0' shape=(2,) dtype=float32, numpy=array([0., 0.], dtype=float32)>]"
            ]
          },
          "metadata": {},
          "execution_count": 24
        }
      ]
    },
    {
      "cell_type": "code",
      "metadata": {
        "colab": {
          "base_uri": "https://localhost:8080/"
        },
        "id": "UFpHxWAtSeGm",
        "outputId": "29327742-3187-46ff-e354-bf33ac661e56"
      },
      "source": [
        "grad"
      ],
      "execution_count": null,
      "outputs": [
        {
          "output_type": "execute_result",
          "data": {
            "text/plain": [
              "[<tf.Tensor: shape=(3, 2), dtype=float32, numpy=\n",
              " array([[1.1497194, 0.       ],\n",
              "        [2.2994387, 0.       ],\n",
              "        [3.4491582, 0.       ]], dtype=float32)>,\n",
              " <tf.Tensor: shape=(2,), dtype=float32, numpy=array([1.1497194, 0.       ], dtype=float32)>]"
            ]
          },
          "metadata": {},
          "execution_count": 25
        }
      ]
    },
    {
      "cell_type": "code",
      "metadata": {
        "colab": {
          "base_uri": "https://localhost:8080/"
        },
        "id": "xZ8Qg8ICSbQz",
        "outputId": "1e94c8c2-957b-410b-a32f-55f304a73da7"
      },
      "source": [
        "for var, g in zip(layer.trainable_variables, grad):\n",
        "  print(f'{var.name}, shape: {g.shape}')\n",
        "\n",
        "\n",
        "# gradients same shape as the variable \n",
        "# so thats how gradient tape lets us compute gradients with respect to any layer of our neural net"
      ],
      "execution_count": null,
      "outputs": [
        {
          "output_type": "stream",
          "name": "stdout",
          "text": [
            "dense/kernel:0, shape: (3, 2)\n",
            "dense/bias:0, shape: (2,)\n"
          ]
        }
      ]
    },
    {
      "cell_type": "markdown",
      "metadata": {
        "id": "2kxC_QogYFL6"
      },
      "source": [
        "## Some more things about Gradient Tape \n",
        "\n",
        "1. If else inside gradient tapes ? \n",
        "```python\n",
        "x = tf.constant(1.0)\n",
        "v0 = tf.Variable(2.0)\n",
        "v1 = tf.Variable(2.0)\n",
        "with tf.GradientTape(persistent=True) as tape:\n",
        "  tape.watch(x)\n",
        "  if x > 0.0:\n",
        "    result = v0\n",
        "  else:\n",
        "    result = v1**2 \n",
        "dv0, dv1 = tape.gradient(result, [v0, v1])\n",
        "print(dv0) #tf.Tensor(1.0, shape=(), dtype=float32)\n",
        "print(dv1) #None\n",
        "```\n",
        "\n",
        "## Common errors\n",
        "1. Replacing tf.Variable with a tf.Tensor\n",
        "```python\n",
        "x = tf.Variable(2.0)\n",
        "for epoch in range(2):\n",
        "  with tf.GradientTape() as tape:\n",
        "    y = x+1\n",
        "  print(type(x).__name__, \":\", tape.gradient(y, x))\n",
        "  x = x + 1   # This should be `x.assign_add(1)`\n",
        "#ResourceVariable : tf.Tensor(1.0, shape=(), dtype=float32)\n",
        "#EagerTensor : None\n",
        "```\n",
        "\n",
        "2. Calculations outside of TensorFlow\n",
        "The tape can't record the gradient path if the calculation exits TensorFlow. For example:\n",
        "\n",
        "```python\n",
        "x = tf.Variable([[1.0, 2.0],\n",
        "                 [3.0, 4.0]], dtype=tf.float32)\n",
        "\n",
        "with tf.GradientTape() as tape:\n",
        "  x2 = x**2\n",
        "\n",
        "  # This step is calculated with NumPy\n",
        "  y = np.mean(x2, axis=0)\n",
        "\n",
        "  # Like most ops, reduce_mean will cast the NumPy array to a constant tensor\n",
        "  # using `tf.convert_to_tensor`.\n",
        "  y = tf.reduce_mean(y, axis=0)\n",
        "\n",
        "print(tape.gradient(y, x))\n",
        "# None\n",
        "```\n",
        "\n",
        "3. Typo when decalaring a tensor\n",
        "\n",
        "```python\n",
        "x = tf.constant(10)\n",
        "\n",
        "with tf.GradientTape() as g:\n",
        "  g.watch(x)\n",
        "  y = x * x\n",
        "\n",
        "print(g.gradient(y, x))\n",
        "```"
      ]
    },
    {
      "cell_type": "markdown",
      "metadata": {
        "id": "BOh0xXSITCEZ"
      },
      "source": [
        "## Final thoughts on Gradient Tape\n",
        "\n",
        "1. Tape stores all info regarding a trainable variable tf.Variable that it sees.\n",
        "\n",
        "2. Records forward pass operations \n",
        "3. Calculates gradients in backward pass using recorded forward pass operations. \n",
        "4. Tape holds all intermediate outputs (we dont need to care actually) \n",
        "5. Most common use case: calculate gradient of a loss function with respect to all trainable vars of a model\n",
        "6. In higher level APIs like Keras we don't need to explicity call gradient tape anywhere\n",
        "7. But its pretty useful when building custom models"
      ]
    },
    {
      "cell_type": "markdown",
      "metadata": {
        "id": "0wh9kYNlrlkb"
      },
      "source": [
        "### tf.modules \n",
        "1. Helps to build models in tensorflow. \n",
        "2. All keras layers inherit from tf.modules\n",
        "3. Any custom layer or model in tensorflow must inherit from this class.\n",
        "4. But we will use tf.keras models to build our models\n"
      ]
    },
    {
      "cell_type": "markdown",
      "metadata": {
        "id": "D5C4SchSZv-A"
      },
      "source": [
        "# Next steps ? \n",
        "\n",
        "1. We know some basic components of a graph\n",
        "2. How do we build models ? \n",
        "\n",
        "### Now we can proceed on to keras to build some models \n"
      ]
    }
  ]
}